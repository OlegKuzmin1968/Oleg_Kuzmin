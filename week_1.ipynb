{
  "nbformat": 4,
  "nbformat_minor": 0,
  "metadata": {
    "colab": {
      "provenance": [],
      "collapsed_sections": [
        "ICOjquI_kv1c",
        "oCItIn7BFwfA",
        "L6hnjvAmGVFc",
        "gWLz0T5GhXAq",
        "AaI6-B4FYH_A"
      ],
      "toc_visible": true,
      "mount_file_id": "16ecQZ5LfiKUGq9jDPUI_obTPmU3NAL3X",
      "authorship_tag": "ABX9TyOzWyB0SJmL2tV2hgFhnzxp",
      "include_colab_link": true
    },
    "kernelspec": {
      "name": "python3",
      "display_name": "Python 3"
    },
    "language_info": {
      "name": "python"
    }
  },
  "cells": [
    {
      "cell_type": "markdown",
      "metadata": {
        "id": "view-in-github",
        "colab_type": "text"
      },
      "source": [
        "<a href=\"https://colab.research.google.com/github/OlegKuzmin1968/Oleg_Kuzmin/blob/main/week_1.ipynb\" target=\"_parent\"><img src=\"https://colab.research.google.com/assets/colab-badge.svg\" alt=\"Open In Colab\"/></a>"
      ]
    },
    {
      "cell_type": "markdown",
      "source": [
        "**\"Разработка модели классификации патологий по снимкам\"**\n",
        "\n",
        "Кузьмин Олег 2023.12.06 - 2023.09.13 (01-я неделя).\n",
        "\n",
        "  \n",
        "\n"
      ],
      "metadata": {
        "id": "r7BHroZbjxS6"
      }
    },
    {
      "cell_type": "markdown",
      "source": [
        "### Техническое задание"
      ],
      "metadata": {
        "id": "ICOjquI_kv1c"
      }
    },
    {
      "cell_type": "markdown",
      "source": [
        "Техническое Задание для проекта стажировки\n",
        "1. Введение\n",
        "Цель проекта - создание продукта с использованием искусственного интеллекта для диагностики и лечения заболеваний ВНЧС, с использованием методов машинного обучения и нейронных сетей.\n",
        "2. Задачи проекта\n",
        "2.1. Обработка и анализ КЛКТ и МРТ снимков\n",
        "- С использованием библиотеки Pydicom, провести загрузку и обработку КЛКТ и МРТ снимков в формате DICOM.\n",
        "- Применив модели машинного обучения и базу TensorFlow и Keras для выявления патологий челюстных костей на основе анализа данных снимков.\n",
        "2.2. Создание системы классификации и фреймворка предсказания\n",
        "- Сформировать модель классификации патологий, основанную на архитектуре сверточных нейронных сетей с использованием Keras.\n",
        "- Разработать механизм определения геометрии патологий с использованием анализа изображений OpenCV.\n",
        "2.3. Разработка системы представления результатов\n",
        "- Создание простого веб-интерфейса с помощью FastAPI или развертывание телеграм-бота для взаимодействия пользователя с системой и получения результатов анализа КЛКТ и МРТ снимков.\n",
        "2.4. Интеграция разработанной системы в рабочий процесс клиники\n",
        "- Интегрировать разработанное решение в привычный рабочий процесс клиники с использованием библиотек для обслуживания модели.\n",
        "3. Методы разметки\n",
        " - labelImg, Roboflow, CVAT AI, Labelbox, VGG Image Annotator (VIA), COCO Annotator, Supervise.ly,\n",
        "4. Время и среда работы\n",
        "- Длительность проекта: 3 месяца.\n",
        "- Среда разработки: Google Colaboratory\n",
        "5. Заключение\n",
        "Разработанный продукт должен обеспечивать эффективную аналитику снимков для диагностики заболеваний ВНЧС и формировать дальнейший план действий для изготовления последнего элайнера, используя взаимодействие ИИ и человеческого специалиста.\n",
        "\n",
        "Ссылка на ТЗ от клиники:\n",
        "https://docs.google.com/presentation/d/17oEmE4xG3jhlg64gDHrHICy1_i2XjoUn/edit?usp=sharing&ouid=104431004874051483278&rtpof=true&sd=true"
      ],
      "metadata": {
        "id": "JiE4SuMQk2MU"
      }
    },
    {
      "cell_type": "markdown",
      "source": [
        "## Загрузка приложений"
      ],
      "metadata": {
        "id": "z9onJGQjxA3b"
      }
    },
    {
      "cell_type": "code",
      "metadata": {
        "id": "co9Q1s42SciM"
      },
      "source": [
        "import numpy as np # Подключаем библиотеку numpy\n",
        "import pandas as pd\n",
        "\n",
        "from tensorflow import keras\n",
        "from tensorflow.keras import layers\n",
        "from tensorflow.keras.datasets import mnist                                     # pагрузка базы ч/б картинок размером 28х28 пикселей с названием Mnist/KERAS\n",
        "from tensorflow.keras.datasets import mnist, fashion_mnist                      # загружаем готовые базы mnist\n",
        "\n",
        "from tensorflow.keras import utils                                              # eтилиты для to_categorical\n",
        "from sklearn.model_selection import train_test_split                            # модуль разбивки выборки на тренировочную/тестовую\n",
        "from sklearn.preprocessing import StandardScaler                                # модуль стандартизации данных\n",
        "\n",
        "from tensorflow.keras.models import Model, Sequential                           # подлючаем модуль создания модели НС Sequential и Modsl\n",
        "from tensorflow.keras.layers import Dense, Flatten, Reshape, Input, Conv2DTranspose, concatenate, Activation, MaxPooling2D, Conv2D, BatchNormalization\n",
        "                                                                                # подключаем модуль создания полносвязных слоев Dense\n",
        "from tensorflow.keras.optimizers import Adam                                    # подключаем оптимизатор Adam\n",
        "\n",
        "from tensorflow.keras.preprocessing import image                                # для отрисовки изображения\n",
        "import pylab                                                                    # модуль построения графиков\n",
        "from mpl_toolkits.mplot3d import Axes3D                                         # модуль трехмерной графики\n",
        "import matplotlib.pyplot as plt                                                 # отрисовка изображений\n",
        "from PIL import Image                                                           # отрисовка изображений\n",
        "import seaborn as sns\n",
        "sns.set_style('darkgrid')\n",
        "%matplotlib inline\n",
        "                                                                                # отрисовывать изображения в ноутбуке, а не в консоль или файk\n",
        "\n",
        "import os\n",
        "from google.colab import files                                                  # для загрузки своей картинки\n",
        "from tensorflow.keras import backend as K                                       # подтягиваем базовые керасовские функции\n",
        "from tensorflow.keras.callbacks import LambdaCallback\n",
        "from google.colab import drive                                                  # модуль для работы с google диском\n",
        "import time, random\n",
        "import zipfile                      # Для начала нам нужно импортировать модуль zipfile:"
      ],
      "execution_count": 2,
      "outputs": []
    },
    {
      "cell_type": "code",
      "source": [
        "p_list"
      ],
      "metadata": {
        "colab": {
          "base_uri": "https://localhost:8080/"
        },
        "id": "Ni9u2tFVp86p",
        "outputId": "b227f1e7-0552-49d3-d68b-4a1ed7c6f2ad"
      },
      "execution_count": 13,
      "outputs": [
        {
          "output_type": "execute_result",
          "data": {
            "text/plain": [
              "array(['PR1_norm', 'PR1_later', 'PR1_medial', 'PR2_norm', 'PR2_kompres',\n",
              "       'PR2_distrak', 'PR2_dictal', 'PR2_mezial', 'PR3_norm',\n",
              "       'PR3_kompres', 'PR3_distrak', 'PR3_later', 'PR3_medial'],\n",
              "      dtype=object)"
            ]
          },
          "metadata": {},
          "execution_count": 13
        }
      ]
    },
    {
      "cell_type": "code",
      "source": [
        "PR_dist = {'PR1_norm':'Центральное положение суставной головки Нормально',\n",
        "          'PR1_later':'Латеральное положение суставной головки ',\n",
        "          'PR1_medial':'Медиальное положение суставной головки',\n",
        "          'PR2_norm':'Центральное положение суставной головки Нормально',\n",
        "          'PR2_kompres':'Компрессия. Сужение суставной щели',\n",
        "          'PR2_distrak':'Дистракция. Расширение суставной щели',\n",
        "          'PR2_dictal':'Дистальное положение суставной головки',\n",
        "          'PR2_mezial': 'Мезиальное положение суставной головки',\n",
        "          'PR3_norm':'Центральное положение суставной головки Нормально',\n",
        "          'PR3_kompres': 'Компрессия. Сужение суставной щели',\n",
        "          'PR3_distrak':'Дистракция. Расширение суставной щели ',\n",
        "          'PR3_later':'Лотеральное положение суставной головки',\n",
        "          'PR3_medial':'Медиальное положение суставной головки'}"
      ],
      "metadata": {
        "id": "FqTURTfUno4o"
      },
      "execution_count": 18,
      "outputs": []
    },
    {
      "cell_type": "code",
      "source": [
        "LaPa = ['l<', 'l>', 'l^', 'lv', 'p<', 'p>', 'p^', 'pv']"
      ],
      "metadata": {
        "id": "Vz9axfao0r72"
      },
      "execution_count": 38,
      "outputs": []
    },
    {
      "cell_type": "markdown",
      "source": [
        "## PR1 Аксиальная проекция"
      ],
      "metadata": {
        "id": "oCItIn7BFwfA"
      }
    },
    {
      "cell_type": "markdown",
      "source": [
        "### Центральное положение суставной головки. Норма"
      ],
      "metadata": {
        "id": "nziBwxKmENrg"
      }
    },
    {
      "cell_type": "code",
      "source": [
        "zip_file = '/content/drive/MyDrive/BD/PR1_norm.zip'             # путь к архиву\n",
        "norm = zipfile.ZipFile(zip_file, 'r')                           # откроем ZIP-архив с помощью функции ZipFile и сохранить его в переменную:\n",
        "norm.extractall('/content/drive/MyDrive/BD/PR1_norm/')          # достаем все файлы из архива и пишем в папку PR1_norm\n",
        "norm_list = os.listdir('/content/drive/MyDrive/BD/PR1_norm')    # составим список всех файлов в папке PR1_norm\n",
        "print('Кол-во файлов в папке', len(norm_list))\n",
        "#norm_list\n"
      ],
      "metadata": {
        "id": "-wwhrvc3Z161",
        "colab": {
          "base_uri": "https://localhost:8080/"
        },
        "outputId": "518fbefd-b285-42e7-eda3-576c6faee3cb"
      },
      "execution_count": null,
      "outputs": [
        {
          "output_type": "stream",
          "name": "stdout",
          "text": [
            "Кол-во файлов в папке 224\n"
          ]
        }
      ]
    },
    {
      "cell_type": "code",
      "source": [
        "norm_list[97:116]"
      ],
      "metadata": {
        "colab": {
          "base_uri": "https://localhost:8080/"
        },
        "id": "EPdFgPZheYhy",
        "outputId": "99672320-c3c3-449e-caab-78344b7df690"
      },
      "execution_count": null,
      "outputs": [
        {
          "output_type": "execute_result",
          "data": {
            "text/plain": [
              "['è99ïá.jpg',\n",
              " 'è100ïá.jpg',\n",
              " 'è100Åá.jpg',\n",
              " 'è101ïá.jpg',\n",
              " 'è102ïá.jpg',\n",
              " 'è103ïá.jpg',\n",
              " 'è104Åá.jpg',\n",
              " 'è105Åá.jpg',\n",
              " 'è106ïá.jpg',\n",
              " 'è106Åá.jpg',\n",
              " 'è107ïá.jpg',\n",
              " 'è107Åá.jpg',\n",
              " 'è108ïá.jpg',\n",
              " 'è108Åá.jpg',\n",
              " 'è109ïá.jpg',\n",
              " 'è109Åá.jpg',\n",
              " 'è110ïá.jpg',\n",
              " 'è110Åá.jpg',\n",
              " 'è111ïá.jpg']"
            ]
          },
          "metadata": {},
          "execution_count": 7
        }
      ]
    },
    {
      "cell_type": "markdown",
      "source": [
        "### Латеральное положение суставной головки"
      ],
      "metadata": {
        "id": "JFCIbckRC5Xv"
      }
    },
    {
      "cell_type": "code",
      "source": [
        "zip_file = '/content/drive/MyDrive/BD/PR1_later.zip'             # путь к архиву\n",
        "later = zipfile.ZipFile(zip_file, 'r')                           # откроем ZIP-архив с помощью функции ZipFile и сохранить его в переменную:\n",
        "later.extractall('/content/drive/MyDrive/BD/PR1_later/')          # достаем все файлы из архива и пишем в папку PR1_later\n",
        "later_list = os.listdir('/content/drive/MyDrive/BD/PR1_later')    # составим список всех файлов в папке PR1_later\n",
        "print('Кол-во файлов в папке', len(later_list))\n",
        "#later_list\n"
      ],
      "metadata": {
        "colab": {
          "base_uri": "https://localhost:8080/"
        },
        "outputId": "d01b802e-eaa8-4e23-df9d-c4042c0f9c0b",
        "id": "UrewIULkCz14"
      },
      "execution_count": null,
      "outputs": [
        {
          "output_type": "stream",
          "name": "stdout",
          "text": [
            "Кол-во файлов в папке 225\n"
          ]
        }
      ]
    },
    {
      "cell_type": "code",
      "source": [
        "later_list[76:81]"
      ],
      "metadata": {
        "colab": {
          "base_uri": "https://localhost:8080/"
        },
        "outputId": "54b39791-5340-4fc4-db7c-6ef4c64c7c70",
        "id": "R-YVA5WFCz18"
      },
      "execution_count": null,
      "outputs": [
        {
          "output_type": "execute_result",
          "data": {
            "text/plain": [
              "['è99Åá.jpg',\n",
              " 'è101Åá.jpg',\n",
              " 'è104ïá.jpg',\n",
              " 'è105ïá.jpg',\n",
              " 'è113ïá.jpg']"
            ]
          },
          "metadata": {},
          "execution_count": 14
        }
      ]
    },
    {
      "cell_type": "markdown",
      "source": [
        "### Медиальное положение суставной головки"
      ],
      "metadata": {
        "id": "9SWjIBYHC2-R"
      }
    },
    {
      "cell_type": "code",
      "source": [
        "zip_file = '/content/drive/MyDrive/BD/PR1_media.zip'             # путь к архиву\n",
        "media = zipfile.ZipFile(zip_file, 'r')                           # откроем ZIP-архив с помощью функции ZipFile и сохранить его в переменную:\n",
        "media.extractall('/content/drive/MyDrive/BD/PR1_media/')          # достаем все файлы из архива и пишем в папку PR1_media\n",
        "media_list = os.listdir('/content/drive/MyDrive/BD/PR1_media')    # составим список всех файлов в папке PR1_media\n",
        "print('Кол-во файлов в папке', len(media_list))\n",
        "#media_list\n"
      ],
      "metadata": {
        "colab": {
          "base_uri": "https://localhost:8080/"
        },
        "outputId": "b99b966d-af57-4603-b745-e57aeb15aec4",
        "id": "zcGAVNfoC1GY"
      },
      "execution_count": null,
      "outputs": [
        {
          "output_type": "stream",
          "name": "stdout",
          "text": [
            "Кол-во файлов в папке 54\n"
          ]
        }
      ]
    },
    {
      "cell_type": "code",
      "source": [
        "media_list[30:34]"
      ],
      "metadata": {
        "colab": {
          "base_uri": "https://localhost:8080/"
        },
        "outputId": "c3a469df-c124-4de9-8a7f-886af90347f6",
        "id": "DTGQjYTJC1Ga"
      },
      "execution_count": null,
      "outputs": [
        {
          "output_type": "execute_result",
          "data": {
            "text/plain": [
              "['è92ïá.jpg', 'è102Åá.jpg', 'è103Åá.jpg', 'è116ïá.jpg']"
            ]
          },
          "metadata": {},
          "execution_count": 21
        }
      ]
    },
    {
      "cell_type": "markdown",
      "source": [
        "## PR2 Сагитальная проекция"
      ],
      "metadata": {
        "id": "L6hnjvAmGVFc"
      }
    },
    {
      "cell_type": "markdown",
      "source": [
        "### Центральное положение суставной головки. Норма"
      ],
      "metadata": {
        "id": "9M0jYAzeGVFd"
      }
    },
    {
      "cell_type": "code",
      "source": [
        "zip_file = '/content/drive/MyDrive/BD/PR2_norm.zip'             # путь к архиву\n",
        "norm = zipfile.ZipFile(zip_file, 'r')                           # откроем ZIP-архив с помощью функции ZipFile и сохранить его в переменную:\n",
        "norm.extractall('/content/drive/MyDrive/BD/PR2_norm/')          # достаем все файлы из архива и пишем в папку PR1_norm\n",
        "norm_list = os.listdir('/content/drive/MyDrive/BD/PR2_norm')    # составим список всех файлов в папке PR1_norm\n",
        "print('Кол-во файлов в папке /BD/PR2_norm/', len(norm_list))\n",
        "#norm_list\n"
      ],
      "metadata": {
        "colab": {
          "base_uri": "https://localhost:8080/"
        },
        "outputId": "2640e661-e55d-4255-c6b5-a471618bf8c3",
        "id": "uMlE-4IxGVFd"
      },
      "execution_count": null,
      "outputs": [
        {
          "output_type": "stream",
          "name": "stdout",
          "text": [
            "Кол-во файлов в папке /BD/PR2_norm/ 69\n"
          ]
        }
      ]
    },
    {
      "cell_type": "code",
      "source": [
        "norm_list[30:35]"
      ],
      "metadata": {
        "colab": {
          "base_uri": "https://localhost:8080/"
        },
        "outputId": "68a4cac7-8f4c-4742-bdd8-4e13761fc69e",
        "id": "1rUKK8ASGVFf"
      },
      "execution_count": null,
      "outputs": [
        {
          "output_type": "execute_result",
          "data": {
            "text/plain": [
              "['è99ïß.jpg', 'è104ïß.jpg', 'è104Åß.jpg', 'è110ïß.jpg', 'è111ïß.jpg']"
            ]
          },
          "metadata": {},
          "execution_count": 27
        }
      ]
    },
    {
      "cell_type": "markdown",
      "source": [
        "### Компрессия. Сужение суставной щели"
      ],
      "metadata": {
        "id": "2-FJjiV8GVFg"
      }
    },
    {
      "cell_type": "code",
      "source": [
        "zip_file = '/content/drive/MyDrive/BD/PR2_kompres.zip'                # путь к архиву\n",
        "kompres = zipfile.ZipFile(zip_file, 'r')                              # откроем ZIP-архив с помощью функции ZipFile и сохранить его в переменную:\n",
        "kompres.extractall('/content/drive/MyDrive/BD/PR2_kompres/')          # достаем все файлы из архива и пишем в папку PR1_kompres\n",
        "kompres_list = os.listdir('/content/drive/MyDrive/BD/PR2_kompres')    # составим список всех файлов в папке PR2_kompres\n",
        "print('Кол-во файлов в папке', len(kompres_list))\n",
        "#kompres_list\n"
      ],
      "metadata": {
        "colab": {
          "base_uri": "https://localhost:8080/"
        },
        "outputId": "0dd05d57-2ad4-49ed-9a6d-8c394665205f",
        "id": "KFEHN_rpGVFh"
      },
      "execution_count": null,
      "outputs": [
        {
          "output_type": "stream",
          "name": "stdout",
          "text": [
            "Кол-во файлов в папке 231\n"
          ]
        }
      ]
    },
    {
      "cell_type": "code",
      "source": [
        "kompres_list[92:106]"
      ],
      "metadata": {
        "colab": {
          "base_uri": "https://localhost:8080/"
        },
        "outputId": "ab3f4d44-07b6-4589-e806-6b5a574ffe0a",
        "id": "zKbxu6HBGVFh"
      },
      "execution_count": null,
      "outputs": [
        {
          "output_type": "execute_result",
          "data": {
            "text/plain": [
              "['è99Åß.jpg',\n",
              " 'è100ïß.jpg',\n",
              " 'è100Åß.jpg',\n",
              " 'è101Åß.jpg',\n",
              " 'è102ïß.jpg',\n",
              " 'è102Åß.jpg',\n",
              " 'è103ïß.jpg',\n",
              " 'è103Åß.jpg',\n",
              " 'è108ïß.jpg',\n",
              " 'è108Åß.jpg',\n",
              " 'è109ïß.jpg',\n",
              " 'è109Åß.jpg',\n",
              " 'è110Åß.jpg',\n",
              " 'è112ïß.jpg']"
            ]
          },
          "metadata": {},
          "execution_count": 73
        }
      ]
    },
    {
      "cell_type": "markdown",
      "source": [
        "### Дистракция. Расширение суставной щели"
      ],
      "metadata": {
        "id": "pyNhZWcnGVFi"
      }
    },
    {
      "cell_type": "code",
      "source": [
        "#zip_file = '/content/drive/MyDrive/BD/PR2_distrak.zip'             # путь к архиву\n",
        "#distrak = zipfile.ZipFile(zip_file, 'r')                           # откроем ZIP-архив с помощью функции ZipFile и сохранить его в переменную:\n",
        "#distrak.extractall('/content/drive/MyDrive/BD/PR2_distrak/')          # достаем все файлы из архива и пишем в папку PR1_distrak\n",
        "distrak_list = os.listdir('/content/drive/MyDrive/BD/PR2_distrak')    # составим список всех файлов в папке PR2_distrak\n",
        "print('Кол-во файлов в папке', len(distrak_list))\n",
        "#distrak_list\n"
      ],
      "metadata": {
        "colab": {
          "base_uri": "https://localhost:8080/"
        },
        "outputId": "3951f42e-6bdc-4afe-bef4-aacd5a57480e",
        "id": "NrtgBUhvGVFj"
      },
      "execution_count": null,
      "outputs": [
        {
          "output_type": "stream",
          "name": "stdout",
          "text": [
            "Кол-во файлов в папке 67\n"
          ]
        }
      ]
    },
    {
      "cell_type": "code",
      "source": [
        "print('Нет пациентов с номерами от 100 до 110')"
      ],
      "metadata": {
        "colab": {
          "base_uri": "https://localhost:8080/"
        },
        "outputId": "6e2cabc9-d9bf-440b-e7e5-b5341ea89d85",
        "id": "-q7xciDOGVFk"
      },
      "execution_count": null,
      "outputs": [
        {
          "output_type": "stream",
          "name": "stdout",
          "text": [
            "Нет пациентов с номерами от 100 до 110\n"
          ]
        }
      ]
    },
    {
      "cell_type": "markdown",
      "source": [
        "### Дистальное положение суставной головки."
      ],
      "metadata": {
        "id": "1eOF1n_WQytN"
      }
    },
    {
      "cell_type": "code",
      "source": [
        "zip_file = '/content/drive/MyDrive/BD/PR2_dictal.zip'                # путь к архиву\n",
        "dictal = zipfile.ZipFile(zip_file, 'r')                              # откроем ZIP-архив с помощью функции ZipFile и сохранить его в переменную:\n",
        "dictal.extractall('/content/drive/MyDrive/BD/PR2_dictal/')          # достаем все файлы из архива и пишем в папку PR1_dictal\n",
        "dictal_list = os.listdir('/content/drive/MyDrive/BD/PR2_dictal')    # составим список всех файлов в папке PR2_dictal\n",
        "print('Кол-во файлов в папке', len(dictal_list))\n",
        "#dictal_list\n"
      ],
      "metadata": {
        "colab": {
          "base_uri": "https://localhost:8080/"
        },
        "outputId": "dd24a823-bc1a-48b8-976c-ec0c66d4be2c",
        "id": "b4rW5kXgQytO"
      },
      "execution_count": null,
      "outputs": [
        {
          "output_type": "stream",
          "name": "stdout",
          "text": [
            "Кол-во файлов в папке 199\n"
          ]
        }
      ]
    },
    {
      "cell_type": "code",
      "source": [
        "dictal_list[60:70]"
      ],
      "metadata": {
        "colab": {
          "base_uri": "https://localhost:8080/"
        },
        "outputId": "bb70bed8-4c3b-4ca5-e154-3d4c668a5e1a",
        "id": "N1TzUl4MQytP"
      },
      "execution_count": null,
      "outputs": [
        {
          "output_type": "execute_result",
          "data": {
            "text/plain": [
              "['è95Åß.jpg',\n",
              " 'è101ïß.jpg',\n",
              " 'è101Åß.jpg',\n",
              " 'è103ïß.jpg',\n",
              " 'è103Åß.jpg',\n",
              " 'è105ïß.jpg',\n",
              " 'è105Åß.jpg',\n",
              " 'è106ïß.jpg',\n",
              " 'è106Åß.jpg',\n",
              " 'è116ïß.jpg']"
            ]
          },
          "metadata": {},
          "execution_count": 53
        }
      ]
    },
    {
      "cell_type": "markdown",
      "source": [
        "### Мезиальное положение суставной головки."
      ],
      "metadata": {
        "id": "uiQL9GHMQzlP"
      }
    },
    {
      "cell_type": "code",
      "source": [
        "zip_file = '/content/drive/MyDrive/BD/PR2_mezial.zip'                # путь к архиву\n",
        "mezial = zipfile.ZipFile(zip_file, 'r')                              # откроем ZIP-архив с помощью функции ZipFile и сохранить его в переменную:\n",
        "mezial.extractall('/content/drive/MyDrive/BD/PR2_mezial/')          # достаем все файлы из архива и пишем в папку PR1_mezial\n",
        "mezial_list = os.listdir('/content/drive/MyDrive/BD/PR2_mezial')    # составим список всех файлов в папке PR2_mezial\n",
        "print('Кол-во файлов в папке', len(mezial_list))\n",
        "#mezial_list\n"
      ],
      "metadata": {
        "colab": {
          "base_uri": "https://localhost:8080/"
        },
        "outputId": "3b3fc086-2d4b-4d42-abb8-0fe6f4784f3a",
        "id": "GJx0T5lQQzlR"
      },
      "execution_count": null,
      "outputs": [
        {
          "output_type": "stream",
          "name": "stdout",
          "text": [
            "Кол-во файлов в папке 102\n"
          ]
        }
      ]
    },
    {
      "cell_type": "code",
      "source": [
        "mezial_list[41:45]"
      ],
      "metadata": {
        "colab": {
          "base_uri": "https://localhost:8080/"
        },
        "outputId": "9a60d412-8452-42ec-ed33-cd64ba438cc1",
        "id": "tI_btdTQQzlT"
      },
      "execution_count": null,
      "outputs": [
        {
          "output_type": "execute_result",
          "data": {
            "text/plain": [
              "['è97Åß.jpg', 'è107ïß.jpg', 'è107Åß.jpg', 'è115ïß.jpg']"
            ]
          },
          "metadata": {},
          "execution_count": 62
        }
      ]
    },
    {
      "cell_type": "markdown",
      "source": [
        "## PR3 Корональная проекция"
      ],
      "metadata": {
        "id": "gWLz0T5GhXAq"
      }
    },
    {
      "cell_type": "markdown",
      "source": [
        "### Центральное положение суставной головки. Норма"
      ],
      "metadata": {
        "id": "vx1A-PlqhXAt"
      }
    },
    {
      "cell_type": "code",
      "source": [
        "zip_file = '/content/drive/MyDrive/BD/PR3_norm.zip'             # путь к архиву\n",
        "norm = zipfile.ZipFile(zip_file, 'r')                           # откроем ZIP-архив с помощью функции ZipFile и сохранить его в переменную:\n",
        "norm.extractall('/content/drive/MyDrive/BD/PR3_norm/')          # достаем все файлы из архива и пишем в папку PR3_norm\n",
        "norm_list = os.listdir('/content/drive/MyDrive/BD/PR3_norm')    # составим список всех файлов в папке PR3_norm\n",
        "print('Кол-во файлов в папке /BD/PR3_norm/', len(norm_list))\n",
        "#norm_list\n"
      ],
      "metadata": {
        "colab": {
          "base_uri": "https://localhost:8080/"
        },
        "outputId": "3758e3c9-fdb3-4ac3-fb32-5c97dcee5151",
        "id": "c8ln1E1AhXAu"
      },
      "execution_count": null,
      "outputs": [
        {
          "output_type": "stream",
          "name": "stdout",
          "text": [
            "Кол-во файлов в папке /BD/PR3_norm/ 161\n"
          ]
        }
      ]
    },
    {
      "cell_type": "code",
      "source": [
        "norm_list[67:80]"
      ],
      "metadata": {
        "colab": {
          "base_uri": "https://localhost:8080/"
        },
        "outputId": "02088ba0-b1ad-4c28-89d8-7c59225c1f61",
        "id": "zO4eKlIBhXAw"
      },
      "execution_count": null,
      "outputs": [
        {
          "output_type": "execute_result",
          "data": {
            "text/plain": [
              "['è99Å¬.jpg',\n",
              " 'è100ï¬.jpg',\n",
              " 'è102ï¬.jpg',\n",
              " 'è102Å¬.jpg',\n",
              " 'è103ï¬.jpg',\n",
              " 'è103Å¬.jpg',\n",
              " 'è104Å¬.jpg',\n",
              " 'è106ï¬.jpg',\n",
              " 'è107ï¬.jpg',\n",
              " 'è107Å¬.jpg',\n",
              " 'è109ï¬.jpg',\n",
              " 'è110ï¬.jpg',\n",
              " 'è111ï¬.jpg']"
            ]
          },
          "metadata": {},
          "execution_count": 7
        }
      ]
    },
    {
      "cell_type": "markdown",
      "source": [
        "### Компрессия. Сужение суставной щели"
      ],
      "metadata": {
        "id": "nL1DmSlLhXAx"
      }
    },
    {
      "cell_type": "code",
      "source": [
        "zip_file = '/content/drive/MyDrive/BD/PR3_kompres.zip'                # путь к архиву\n",
        "kompres = zipfile.ZipFile(zip_file, 'r')                              # откроем ZIP-архив с помощью функции ZipFile и сохранить его в переменную:\n",
        "kompres.extractall('/content/drive/MyDrive/BD/PR3_kompres/')          # достаем все файлы из архива и пишем в папку PR3_kompres\n",
        "kompres_list = os.listdir('/content/drive/MyDrive/BD/PR3_kompres')    # составим список всех файлов в папке PR3_kompres\n",
        "print('Кол-во файлов в папке', len(kompres_list))\n",
        "#kompres_list\n"
      ],
      "metadata": {
        "colab": {
          "base_uri": "https://localhost:8080/"
        },
        "outputId": "75456343-9d72-4fcf-d0e1-43764240a9ce",
        "id": "NxuT_XVLhXAz"
      },
      "execution_count": null,
      "outputs": [
        {
          "output_type": "stream",
          "name": "stdout",
          "text": [
            "Кол-во файлов в папке 132\n"
          ]
        }
      ]
    },
    {
      "cell_type": "code",
      "source": [
        "kompres_list[44:52]"
      ],
      "metadata": {
        "colab": {
          "base_uri": "https://localhost:8080/"
        },
        "outputId": "626f21dd-fac1-4c6d-a623-19911926c734",
        "id": "LPV_9ZlxhXA0"
      },
      "execution_count": null,
      "outputs": [
        {
          "output_type": "execute_result",
          "data": {
            "text/plain": [
              "['è95Å¬.jpg',\n",
              " 'è100Å¬.jpg',\n",
              " 'è104ï¬.jpg',\n",
              " 'è108ï¬.jpg',\n",
              " 'è108Å¬.jpg',\n",
              " 'è109Å¬.jpg',\n",
              " 'è110Å¬.jpg',\n",
              " 'è114Å¬.jpg']"
            ]
          },
          "metadata": {},
          "execution_count": 16
        }
      ]
    },
    {
      "cell_type": "markdown",
      "source": [
        "### Дистракция. Расширение суставной щели"
      ],
      "metadata": {
        "id": "E_A1CBgrhXA1"
      }
    },
    {
      "cell_type": "code",
      "source": [
        "zip_file = '/content/drive/MyDrive/BD/PR3_distrak.zip'             # путь к архиву\n",
        "distrak = zipfile.ZipFile(zip_file, 'r')                           # откроем ZIP-архив с помощью функции ZipFile и сохранить его в переменную:\n",
        "distrak.extractall('/content/drive/MyDrive/BD/PR3_distrak/')          # достаем все файлы из архива и пишем в папку PR3_distrak\n",
        "distrak_list = os.listdir('/content/drive/MyDrive/BD/PR3_distrak')    # составим список всех файлов в папке PR3_distrak\n",
        "print('Кол-во файлов в папке', len(distrak_list))\n",
        "#distrak_list\n"
      ],
      "metadata": {
        "colab": {
          "base_uri": "https://localhost:8080/"
        },
        "outputId": "15d86dc2-9e21-4764-bdea-9ca92d444efe",
        "id": "XfCX-p_RhXA2"
      },
      "execution_count": null,
      "outputs": [
        {
          "output_type": "stream",
          "name": "stdout",
          "text": [
            "Кол-во файлов в папке 46\n"
          ]
        }
      ]
    },
    {
      "cell_type": "code",
      "source": [
        "print('Нет пациентов с номерами от 100 до 110')"
      ],
      "metadata": {
        "colab": {
          "base_uri": "https://localhost:8080/"
        },
        "outputId": "ec2fd3a9-3549-4901-c679-75054ad2dede",
        "id": "yI5PipJRhXA3"
      },
      "execution_count": null,
      "outputs": [
        {
          "output_type": "stream",
          "name": "stdout",
          "text": [
            "Нет пациентов с номерами от 100 до 110\n"
          ]
        }
      ]
    },
    {
      "cell_type": "markdown",
      "source": [
        "### Латеральное положение суставной головки."
      ],
      "metadata": {
        "id": "Y4qxKyqHhXA6"
      }
    },
    {
      "cell_type": "code",
      "source": [
        "zip_file = '/content/drive/MyDrive/BD/PR3_later.zip'                # путь к архиву\n",
        "later = zipfile.ZipFile(zip_file, 'r')                              # откроем ZIP-архив с помощью функции ZipFile и сохранить его в переменную:\n",
        "later.extractall('/content/drive/MyDrive/BD/PR3_later/')          # достаем все файлы из архива и пишем в папку PR3_later\n",
        "later_list = os.listdir('/content/drive/MyDrive/BD/PR3_later')    # составим список всех файлов в папке PR3_later\n",
        "print('Кол-во файлов в папке', len(later_list))\n",
        "#later_list\n"
      ],
      "metadata": {
        "colab": {
          "base_uri": "https://localhost:8080/"
        },
        "outputId": "bf5f1bd8-47c8-44f8-bbc1-cbd0cc51aa95",
        "id": "zkU30sv2hXA7"
      },
      "execution_count": null,
      "outputs": [
        {
          "output_type": "stream",
          "name": "stdout",
          "text": [
            "Кол-во файлов в папке 205\n"
          ]
        }
      ]
    },
    {
      "cell_type": "code",
      "source": [
        "later_list[102:107]"
      ],
      "metadata": {
        "colab": {
          "base_uri": "https://localhost:8080/"
        },
        "outputId": "a8585d7c-b0ca-4634-9f16-5ef80732704e",
        "id": "AfN0SPcthXA8"
      },
      "execution_count": null,
      "outputs": [
        {
          "output_type": "execute_result",
          "data": {
            "text/plain": [
              "['è97Å¬.jpg', 'è101ï¬.jpg', 'è105ï¬.jpg', 'è105Å¬.jpg', 'è115ï¬.jpg']"
            ]
          },
          "metadata": {},
          "execution_count": 28
        }
      ]
    },
    {
      "cell_type": "markdown",
      "source": [
        "### Мезиальное положение суставной головки."
      ],
      "metadata": {
        "id": "aYApI68QhXA9"
      }
    },
    {
      "cell_type": "code",
      "source": [
        "zip_file = '/content/drive/MyDrive/BD/PR3_medial.zip'                # путь к архиву\n",
        "medial = zipfile.ZipFile(zip_file, 'r')                              # откроем ZIP-архив с помощью функции ZipFile и сохранить его в переменную:\n",
        "medial.extractall('/content/drive/MyDrive/BD/PR3_medial/')          # достаем все файлы из архива и пишем в папку PR3_medial\n",
        "medial_list = os.listdir('/content/drive/MyDrive/BD/PR3_medial')    # составим список всех файлов в папке PR3_medial\n",
        "print('Кол-во файлов в папке', len(medial_list))\n",
        "#medial_list\n"
      ],
      "metadata": {
        "colab": {
          "base_uri": "https://localhost:8080/"
        },
        "outputId": "0dc20848-c394-4005-ef7c-89c4385dff07",
        "id": "1cf4bOKthXA-"
      },
      "execution_count": null,
      "outputs": [
        {
          "output_type": "stream",
          "name": "stdout",
          "text": [
            "Кол-во файлов в папке 25\n"
          ]
        }
      ]
    },
    {
      "cell_type": "code",
      "source": [
        "medial_list[4:7]"
      ],
      "metadata": {
        "colab": {
          "base_uri": "https://localhost:8080/"
        },
        "outputId": "8a91c210-22d4-47bf-c618-8f98e3c6ca7c",
        "id": "w6aiE_uNhXA_"
      },
      "execution_count": null,
      "outputs": [
        {
          "output_type": "execute_result",
          "data": {
            "text/plain": [
              "['è60Å¬.jpg', 'è106Å¬.jpg', 'è117Å¬.jpg']"
            ]
          },
          "metadata": {},
          "execution_count": 33
        }
      ]
    },
    {
      "cell_type": "markdown",
      "source": [
        "## Загрузка снимков jpg"
      ],
      "metadata": {
        "id": "AaI6-B4FYH_A"
      }
    },
    {
      "cell_type": "markdown",
      "source": [
        "Код из словаря операторов"
      ],
      "metadata": {
        "id": "Z6F40cAj-OWs"
      }
    },
    {
      "cell_type": "code",
      "source": [
        "#zip_file = '/content/drive/MyDrive/Colab Notebooks/ДЗ 16 Автокодировщики /facez.zip'             # путь к архиву\n",
        "#norm = zipfile.ZipFile(zip_file, 'r')                        # откроем ZIP-архив с помощью функции ZipFile и сохранить его в переменную:\n",
        "#norm.extractall('/content/drive/MyDrive/BD/--------/')       # достаем все файлы из архива и пишем в папку Facez\n",
        "\n",
        "images_dir = '/content/drive/MyDrive/BD/PR1_norm'             # зададим имя папки в которую распоковали изображения\n",
        "norm_list = os.listdir('/content/drive/MyDrive/BD/PR1_norm')  # составим список всех файлов в папке PR1_norm\n",
        "print('Кол-во файлов в папке', len(norm_list))\n",
        "#norm_list\n",
        "\n"
      ],
      "metadata": {
        "colab": {
          "base_uri": "https://localhost:8080/"
        },
        "id": "9DFp4iUt-L72",
        "outputId": "25de23cf-f076-4ab2-c448-6bafbfa2e446"
      },
      "execution_count": null,
      "outputs": [
        {
          "output_type": "stream",
          "name": "stdout",
          "text": [
            "Кол-во файлов в папке 224\n"
          ]
        }
      ]
    },
    {
      "cell_type": "code",
      "source": [
        "print('Смотрим название файла из списка', norm_list[211])\n",
        "print('Переводим файл из jpg формата в np массив')\n",
        "pch = os.path.join(images_dir, norm_list[211])                       # Соберем полный путь к очередному файлу\n",
        "wq = image.load_img('/content/drive/MyDrive/BD/PR1_norm/è240Åá.jpg') # Загружаем изображение с помощью image.load_img()\n",
        "wq_np = image.img_to_array(wq)                                       # переводим изображение в numpy массив\n",
        "print('Тип переменной', type(wq_np))\n",
        "print('Размер np-изображения',wq_np.shape)"
      ],
      "metadata": {
        "colab": {
          "base_uri": "https://localhost:8080/"
        },
        "id": "GQsCti72ZmW3",
        "outputId": "a763aabd-062e-423f-e310-fb863f069ff7"
      },
      "execution_count": null,
      "outputs": [
        {
          "output_type": "stream",
          "name": "stdout",
          "text": [
            "Смотрим название файла из списка è240Åá.jpg\n",
            "Переводим файл из jpg формата в np массив\n",
            "Тип переменной <class 'numpy.ndarray'>\n",
            "Размер np-изображения (603, 976, 3)\n"
          ]
        }
      ]
    },
    {
      "cell_type": "code",
      "source": [
        "img_height = 603                                              # зададим высоту изображений\n",
        "img_width = 976                                               # зададим ширину избражений\n",
        "\n",
        "def load_images(norm_list, img_height, img_width):\n",
        "  ''' Функция загрузки изображений\n",
        "      Вход: передаем список распакованых в папку Facez файлов из zip архива\n",
        "      высоту и ширину картинки к которой будут преобразованы загружаемые изображения\n",
        "  '''\n",
        "  list_images = []                                           # создаем пустой список в который будем загружать изображения\n",
        "  for img in norm_list:                                      # цикл по списку распакованных файлов\n",
        "    pch = os.path.join(images_dir, img)                      # соберем полный путь к очередному файлу\n",
        "\n",
        "    wq = image.load_img(pch, target_size=(img_height, img_width), color_mode='grayscale') # Загружаем изображение с помощью image.load_img(), конвертируя его в нужный формат\n",
        "                                                                                          # подаем на вход: 1. путь к файлу 2. размер получаемой картинки. 3.цветовую гамму\n",
        "    list_images.append(image.img_to_array(wq)/255)           # нормируем изображение в диапазон от 0 до 1 и записываем в список\n",
        "    norm_np =  np.array(list_images)                         # переводим список изображений в numpy массив\n",
        "\n",
        "  return norm_np                                             # возвращаем numpy массив загруженных избражений"
      ],
      "metadata": {
        "id": "r0UpAoWpbwaP"
      },
      "execution_count": null,
      "outputs": []
    },
    {
      "cell_type": "markdown",
      "source": [
        "Переведем все файлы из списка в np массив"
      ],
      "metadata": {
        "id": "Ut3nmSZCmuMO"
      }
    },
    {
      "cell_type": "code",
      "metadata": {
        "id": "35JtFoZnLblk",
        "colab": {
          "base_uri": "https://localhost:8080/"
        },
        "outputId": "062a8b10-25f1-4906-e8b1-56f4e7efd2ec"
      },
      "source": [
        "cur_time = time.time()\n",
        "xTrain_imag = load_images(norm_list, img_height, img_width)  # загрузим избражения лиц с задаными размерами картинки\n",
        "print ('Время загрузки: ', round(time.time()-cur_time, 2), 'с', sep='')\n",
        "print('Размерность массива', xTrain_imag.shape)              # выведем размерность массива"
      ],
      "execution_count": null,
      "outputs": [
        {
          "output_type": "stream",
          "name": "stdout",
          "text": [
            "Время загрузки: 30.47с\n",
            "Размерность массива (224, 603, 976, 1)\n"
          ]
        }
      ]
    },
    {
      "cell_type": "code",
      "metadata": {
        "id": "-DeR2fUtQA-V",
        "colab": {
          "base_uri": "https://localhost:8080/",
          "height": 372
        },
        "outputId": "d6116dfb-a97f-45d8-f738-e9dca7a41812"
      },
      "source": [
        "plt.imshow(xTrain_imag[np.random.randint(0, xTrain_imag.shape[0])].reshape(img_height,img_width), cmap='gray') # выведем случайное изображение\n",
        "plt.show()"
      ],
      "execution_count": null,
      "outputs": [
        {
          "output_type": "display_data",
          "data": {
            "text/plain": [
              "<Figure size 640x480 with 1 Axes>"
            ],
            "image/png": "[encoded data removed]"
          },
          "metadata": {}
        }
      ]
    },
    {
      "cell_type": "markdown",
      "source": [
        "# Работа с табличными данными\n"
      ],
      "metadata": {
        "id": "dhPDoln5RRCu"
      }
    },
    {
      "cell_type": "markdown",
      "source": [
        "## таблица пациентов\n"
      ],
      "metadata": {
        "id": "ETnYKPJqpJTo"
      }
    },
    {
      "cell_type": "code",
      "source": [
        "# Укажим путь к файлу с данными на моем диске\n",
        "way = '/content/drive/MyDrive/Стажировка 3/Пациенты.xlsx'\n",
        "df_pac = pd.read_excel(way)  # Чтение данных из файла excel в pandas.DataFrame\n",
        "pac_list = df_pac.columns.to_list()\n",
        "print(pac_list)\n",
        "print(df_pac.shape)\n",
        "df_pac[99:111]"
      ],
      "metadata": {
        "colab": {
          "base_uri": "https://localhost:8080/",
          "height": 461
        },
        "id": "Z4X2thpApOD0",
        "outputId": "b36169e0-0534-45dd-dd9c-444fb49fa2e6"
      },
      "execution_count": 21,
      "outputs": [
        {
          "output_type": "stream",
          "name": "stdout",
          "text": [
            "['ID', 'Пациенты', 'Доктор']\n",
            "(310, 3)\n"
          ]
        },
        {
          "output_type": "execute_result",
          "data": {
            "text/plain": [
              "       ID                   Пациенты    Доктор\n",
              "99   К100              Кобелева М.И.    Алина \n",
              "100  К101    Смирнов Б.С. 23.01.2023      Инга\n",
              "101  К102   Созыкина Е.С. 02.04.2023      Инга\n",
              "102  К103   Созыкина Е.С. 15.09.2023      Инга\n",
              "103  К104               Соколов Э.С.      Инга\n",
              "104  К105             Бобрышева Л.В.  Кристина\n",
              "105  К106   Богданов Р.С. 22.12.2022  Кристина\n",
              "106  К107               Кобцев  А.А.    Алина \n",
              "107  К108  Ковнацкий С.А. 15.10.2023    Алина \n",
              "108  К109  Ковнацкий С.А. 24.08.2023    Алина \n",
              "109  К110    Когтева Л.М. 09.10.2021    Алина \n",
              "110  К111    Когтева Л.М. 24.10.2022    Алина "
            ],
            "text/html": [
              "\n",
              "  <div id=\"df-abe97c93-c97f-4183-80e4-08ce72417cc8\" class=\"colab-df-container\">\n",
              "    <div>\n",
              "<style scoped>\n",
              "    .dataframe tbody tr th:only-of-type {\n",
              "        vertical-align: middle;\n",
              "    }\n",
              "\n",
              "    .dataframe tbody tr th {\n",
              "        vertical-align: top;\n",
              "    }\n",
              "\n",
              "    .dataframe thead th {\n",
              "        text-align: right;\n",
              "    }\n",
              "</style>\n",
              "<table border=\"1\" class=\"dataframe\">\n",
              "  <thead>\n",
              "    <tr style=\"text-align: right;\">\n",
              "      <th></th>\n",
              "      <th>ID</th>\n",
              "      <th>Пациенты</th>\n",
              "      <th>Доктор</th>\n",
              "    </tr>\n",
              "  </thead>\n",
              "  <tbody>\n",
              "    <tr>\n",
              "      <th>99</th>\n",
              "      <td>К100</td>\n",
              "      <td>Кобелева М.И.</td>\n",
              "      <td>Алина</td>\n",
              "    </tr>\n",
              "    <tr>\n",
              "      <th>100</th>\n",
              "      <td>К101</td>\n",
              "      <td>Смирнов Б.С. 23.01.2023</td>\n",
              "      <td>Инга</td>\n",
              "    </tr>\n",
              "    <tr>\n",
              "      <th>101</th>\n",
              "      <td>К102</td>\n",
              "      <td>Созыкина Е.С. 02.04.2023</td>\n",
              "      <td>Инга</td>\n",
              "    </tr>\n",
              "    <tr>\n",
              "      <th>102</th>\n",
              "      <td>К103</td>\n",
              "      <td>Созыкина Е.С. 15.09.2023</td>\n",
              "      <td>Инга</td>\n",
              "    </tr>\n",
              "    <tr>\n",
              "      <th>103</th>\n",
              "      <td>К104</td>\n",
              "      <td>Соколов Э.С.</td>\n",
              "      <td>Инга</td>\n",
              "    </tr>\n",
              "    <tr>\n",
              "      <th>104</th>\n",
              "      <td>К105</td>\n",
              "      <td>Бобрышева Л.В.</td>\n",
              "      <td>Кристина</td>\n",
              "    </tr>\n",
              "    <tr>\n",
              "      <th>105</th>\n",
              "      <td>К106</td>\n",
              "      <td>Богданов Р.С. 22.12.2022</td>\n",
              "      <td>Кристина</td>\n",
              "    </tr>\n",
              "    <tr>\n",
              "      <th>106</th>\n",
              "      <td>К107</td>\n",
              "      <td>Кобцев  А.А.</td>\n",
              "      <td>Алина</td>\n",
              "    </tr>\n",
              "    <tr>\n",
              "      <th>107</th>\n",
              "      <td>К108</td>\n",
              "      <td>Ковнацкий С.А. 15.10.2023</td>\n",
              "      <td>Алина</td>\n",
              "    </tr>\n",
              "    <tr>\n",
              "      <th>108</th>\n",
              "      <td>К109</td>\n",
              "      <td>Ковнацкий С.А. 24.08.2023</td>\n",
              "      <td>Алина</td>\n",
              "    </tr>\n",
              "    <tr>\n",
              "      <th>109</th>\n",
              "      <td>К110</td>\n",
              "      <td>Когтева Л.М. 09.10.2021</td>\n",
              "      <td>Алина</td>\n",
              "    </tr>\n",
              "    <tr>\n",
              "      <th>110</th>\n",
              "      <td>К111</td>\n",
              "      <td>Когтева Л.М. 24.10.2022</td>\n",
              "      <td>Алина</td>\n",
              "    </tr>\n",
              "  </tbody>\n",
              "</table>\n",
              "</div>\n",
              "    <div class=\"colab-df-buttons\">\n",
              "\n",
              "  <div class=\"colab-df-container\">\n",
              "    <button class=\"colab-df-convert\" onclick=\"convertToInteractive('df-abe97c93-c97f-4183-80e4-08ce72417cc8')\"\n",
              "            title=\"Convert this dataframe to an interactive table.\"\n",
              "            style=\"display:none;\">\n",
              "\n",
              "  <svg xmlns=\"http://www.w3.org/2000/svg\" height=\"24px\" viewBox=\"0 -960 960 960\">\n",
              "    <path d=\"M120-120v-720h720v720H120Zm60-500h600v-160H180v160Zm220 220h160v-160H400v160Zm0 220h160v-160H400v160ZM180-400h160v-160H180v160Zm440 0h160v-160H620v160ZM180-180h160v-160H180v160Zm440 0h160v-160H620v160Z\"/>\n",
              "  </svg>\n",
              "    </button>\n",
              "\n",
              "  <style>\n",
              "    .colab-df-container {\n",
              "      display:flex;\n",
              "      gap: 12px;\n",
              "    }\n",
              "\n",
              "    .colab-df-convert {\n",
              "      background-color: #E8F0FE;\n",
              "      border: none;\n",
              "      border-radius: 50%;\n",
              "      cursor: pointer;\n",
              "      display: none;\n",
              "      fill: #1967D2;\n",
              "      height: 32px;\n",
              "      padding: 0 0 0 0;\n",
              "      width: 32px;\n",
              "    }\n",
              "\n",
              "    .colab-df-convert:hover {\n",
              "      background-color: #E2EBFA;\n",
              "      box-shadow: 0px 1px 2px rgba(60, 64, 67, 0.3), 0px 1px 3px 1px rgba(60, 64, 67, 0.15);\n",
              "      fill: #174EA6;\n",
              "    }\n",
              "\n",
              "    .colab-df-buttons div {\n",
              "      margin-bottom: 4px;\n",
              "    }\n",
              "\n",
              "    [theme=dark] .colab-df-convert {\n",
              "      background-color: #3B4455;\n",
              "      fill: #D2E3FC;\n",
              "    }\n",
              "\n",
              "    [theme=dark] .colab-df-convert:hover {\n",
              "      background-color: #434B5C;\n",
              "      box-shadow: 0px 1px 3px 1px rgba(0, 0, 0, 0.15);\n",
              "      filter: drop-shadow(0px 1px 2px rgba(0, 0, 0, 0.3));\n",
              "      fill: #FFFFFF;\n",
              "    }\n",
              "  </style>\n",
              "\n",
              "    <script>\n",
              "      const buttonEl =\n",
              "        document.querySelector('#df-abe97c93-c97f-4183-80e4-08ce72417cc8 button.colab-df-convert');\n",
              "      buttonEl.style.display =\n",
              "        google.colab.kernel.accessAllowed ? 'block' : 'none';\n",
              "\n",
              "      async function convertToInteractive(key) {\n",
              "        const element = document.querySelector('#df-abe97c93-c97f-4183-80e4-08ce72417cc8');\n",
              "        const dataTable =\n",
              "          await google.colab.kernel.invokeFunction('convertToInteractive',\n",
              "                                                    [key], {});\n",
              "        if (!dataTable) return;\n",
              "\n",
              "        const docLinkHtml = 'Like what you see? Visit the ' +\n",
              "          '<a target=\"_blank\" href=https://colab.research.google.com/notebooks/data_table.ipynb>data table notebook</a>'\n",
              "          + ' to learn more about interactive tables.';\n",
              "        element.innerHTML = '';\n",
              "        dataTable['output_type'] = 'display_data';\n",
              "        await google.colab.output.renderOutput(dataTable, element);\n",
              "        const docLink = document.createElement('div');\n",
              "        docLink.innerHTML = docLinkHtml;\n",
              "        element.appendChild(docLink);\n",
              "      }\n",
              "    </script>\n",
              "  </div>\n",
              "\n",
              "\n",
              "<div id=\"df-0d434fa5-3cba-4677-9ebf-c460f492ebe0\">\n",
              "  <button class=\"colab-df-quickchart\" onclick=\"quickchart('df-0d434fa5-3cba-4677-9ebf-c460f492ebe0')\"\n",
              "            title=\"Suggest charts\"\n",
              "            style=\"display:none;\">\n",
              "\n",
              "<svg xmlns=\"http://www.w3.org/2000/svg\" height=\"24px\"viewBox=\"0 0 24 24\"\n",
              "     width=\"24px\">\n",
              "    <g>\n",
              "        <path d=\"M19 3H5c-1.1 0-2 .9-2 2v14c0 1.1.9 2 2 2h14c1.1 0 2-.9 2-2V5c0-1.1-.9-2-2-2zM9 17H7v-7h2v7zm4 0h-2V7h2v10zm4 0h-2v-4h2v4z\"/>\n",
              "    </g>\n",
              "</svg>\n",
              "  </button>\n",
              "\n",
              "<style>\n",
              "  .colab-df-quickchart {\n",
              "      --bg-color: #E8F0FE;\n",
              "      --fill-color: #1967D2;\n",
              "      --hover-bg-color: #E2EBFA;\n",
              "      --hover-fill-color: #174EA6;\n",
              "      --disabled-fill-color: #AAA;\n",
              "      --disabled-bg-color: #DDD;\n",
              "  }\n",
              "\n",
              "  [theme=dark] .colab-df-quickchart {\n",
              "      --bg-color: #3B4455;\n",
              "      --fill-color: #D2E3FC;\n",
              "      --hover-bg-color: #434B5C;\n",
              "      --hover-fill-color: #FFFFFF;\n",
              "      --disabled-bg-color: #3B4455;\n",
              "      --disabled-fill-color: #666;\n",
              "  }\n",
              "\n",
              "  .colab-df-quickchart {\n",
              "    background-color: var(--bg-color);\n",
              "    border: none;\n",
              "    border-radius: 50%;\n",
              "    cursor: pointer;\n",
              "    display: none;\n",
              "    fill: var(--fill-color);\n",
              "    height: 32px;\n",
              "    padding: 0;\n",
              "    width: 32px;\n",
              "  }\n",
              "\n",
              "  .colab-df-quickchart:hover {\n",
              "    background-color: var(--hover-bg-color);\n",
              "    box-shadow: 0 1px 2px rgba(60, 64, 67, 0.3), 0 1px 3px 1px rgba(60, 64, 67, 0.15);\n",
              "    fill: var(--button-hover-fill-color);\n",
              "  }\n",
              "\n",
              "  .colab-df-quickchart-complete:disabled,\n",
              "  .colab-df-quickchart-complete:disabled:hover {\n",
              "    background-color: var(--disabled-bg-color);\n",
              "    fill: var(--disabled-fill-color);\n",
              "    box-shadow: none;\n",
              "  }\n",
              "\n",
              "  .colab-df-spinner {\n",
              "    border: 2px solid var(--fill-color);\n",
              "    border-color: transparent;\n",
              "    border-bottom-color: var(--fill-color);\n",
              "    animation:\n",
              "      spin 1s steps(1) infinite;\n",
              "  }\n",
              "\n",
              "  @keyframes spin {\n",
              "    0% {\n",
              "      border-color: transparent;\n",
              "      border-bottom-color: var(--fill-color);\n",
              "      border-left-color: var(--fill-color);\n",
              "    }\n",
              "    20% {\n",
              "      border-color: transparent;\n",
              "      border-left-color: var(--fill-color);\n",
              "      border-top-color: var(--fill-color);\n",
              "    }\n",
              "    30% {\n",
              "      border-color: transparent;\n",
              "      border-left-color: var(--fill-color);\n",
              "      border-top-color: var(--fill-color);\n",
              "      border-right-color: var(--fill-color);\n",
              "    }\n",
              "    40% {\n",
              "      border-color: transparent;\n",
              "      border-right-color: var(--fill-color);\n",
              "      border-top-color: var(--fill-color);\n",
              "    }\n",
              "    60% {\n",
              "      border-color: transparent;\n",
              "      border-right-color: var(--fill-color);\n",
              "    }\n",
              "    80% {\n",
              "      border-color: transparent;\n",
              "      border-right-color: var(--fill-color);\n",
              "      border-bottom-color: var(--fill-color);\n",
              "    }\n",
              "    90% {\n",
              "      border-color: transparent;\n",
              "      border-bottom-color: var(--fill-color);\n",
              "    }\n",
              "  }\n",
              "</style>\n",
              "\n",
              "  <script>\n",
              "    async function quickchart(key) {\n",
              "      const quickchartButtonEl =\n",
              "        document.querySelector('#' + key + ' button');\n",
              "      quickchartButtonEl.disabled = true;  // To prevent multiple clicks.\n",
              "      quickchartButtonEl.classList.add('colab-df-spinner');\n",
              "      try {\n",
              "        const charts = await google.colab.kernel.invokeFunction(\n",
              "            'suggestCharts', [key], {});\n",
              "      } catch (error) {\n",
              "        console.error('Error during call to suggestCharts:', error);\n",
              "      }\n",
              "      quickchartButtonEl.classList.remove('colab-df-spinner');\n",
              "      quickchartButtonEl.classList.add('colab-df-quickchart-complete');\n",
              "    }\n",
              "    (() => {\n",
              "      let quickchartButtonEl =\n",
              "        document.querySelector('#df-0d434fa5-3cba-4677-9ebf-c460f492ebe0 button');\n",
              "      quickchartButtonEl.style.display =\n",
              "        google.colab.kernel.accessAllowed ? 'block' : 'none';\n",
              "    })();\n",
              "  </script>\n",
              "</div>\n",
              "    </div>\n",
              "  </div>\n"
            ]
          },
          "metadata": {},
          "execution_count": 21
        }
      ]
    },
    {
      "cell_type": "code",
      "source": [
        "pac_list"
      ],
      "metadata": {
        "colab": {
          "base_uri": "https://localhost:8080/"
        },
        "id": "edM-ygegAbK_",
        "outputId": "bae7f516-894b-4c53-caa0-c9231c89d225"
      },
      "execution_count": 22,
      "outputs": [
        {
          "output_type": "execute_result",
          "data": {
            "text/plain": [
              "['ID', 'Пациенты', 'Доктор']"
            ]
          },
          "metadata": {},
          "execution_count": 22
        }
      ]
    },
    {
      "cell_type": "code",
      "source": [
        "ka = 'К100'\n",
        "a = df_pac.loc[df_pac.ID == ka, 'Пациенты']\n",
        "b = df_pac.loc[df_pac.ID == ka, 'Доктор']\n",
        "#print('a', a)\n",
        "#print(a[99])\n",
        "print('Пациент', a.iloc[0])\n",
        "print('Доктор ', b.iloc[0])"
      ],
      "metadata": {
        "colab": {
          "base_uri": "https://localhost:8080/"
        },
        "id": "0CYk1ONTucUO",
        "outputId": "0963418c-9080-475b-862f-ce4cba09c7dc"
      },
      "execution_count": 25,
      "outputs": [
        {
          "output_type": "stream",
          "name": "stdout",
          "text": [
            "Пациент Кобелева М.И.\n",
            "Доктор  Алина \n"
          ]
        }
      ]
    },
    {
      "cell_type": "markdown",
      "source": [
        "## obraz"
      ],
      "metadata": {
        "id": "r7Q7J-VKt015"
      }
    },
    {
      "cell_type": "code",
      "source": [
        "# Укажим путь к файлу с данными на моем диске\n",
        "way = '/content/drive/MyDrive/Стажировка 3/obraz.xlsx'\n",
        "df_com = pd.read_excel(way)  # Чтение данных из файла excel в pandas.DataFrame\n",
        "print(df_com.shape)\n",
        "df_com"
      ],
      "metadata": {
        "colab": {
          "base_uri": "https://localhost:8080/",
          "height": 286
        },
        "id": "vsMlJWMsQqBT",
        "outputId": "7cbd4ed2-02f7-4f26-e32d-f497c115d28d"
      },
      "execution_count": 26,
      "outputs": [
        {
          "output_type": "stream",
          "name": "stdout",
          "text": [
            "(7, 9)\n"
          ]
        },
        {
          "output_type": "execute_result",
          "data": {
            "text/plain": [
              "     ID   PR1_norm_La<  PR1_norm_La>  PR1_norm_La^  PR1_norm_Lav  \\\n",
              "0  КА100           4.5           1.9           3.1           1.5   \n",
              "1  КА101           3.1           2.1           NaN           NaN   \n",
              "2  КА102           1.4           1.7           NaN           NaN   \n",
              "3  КА103           1.6           2.2           NaN           NaN   \n",
              "4  КА104           NaN           NaN           NaN           NaN   \n",
              "5  КА105           NaN           NaN           NaN           NaN   \n",
              "6  КА106           2.7           1.8           NaN           NaN   \n",
              "\n",
              "   PR1_norm_Pa<  PR1_norm_Pa>  PR1_norm_Pa^  PR1_norm_Pav  \n",
              "0           2.1           4.5           4.0           1.8  \n",
              "1           NaN           NaN           NaN           NaN  \n",
              "2           NaN           NaN           NaN           NaN  \n",
              "3           NaN           NaN           NaN           NaN  \n",
              "4           1.2           2.3           NaN           NaN  \n",
              "5           2.9           3.3           NaN           NaN  \n",
              "6           3.3           3.1           NaN           NaN  "
            ],
            "text/html": [
              "\n",
              "  <div id=\"df-fdb6f574-5a2a-41ea-9946-c0dbe071b215\" class=\"colab-df-container\">\n",
              "    <div>\n",
              "<style scoped>\n",
              "    .dataframe tbody tr th:only-of-type {\n",
              "        vertical-align: middle;\n",
              "    }\n",
              "\n",
              "    .dataframe tbody tr th {\n",
              "        vertical-align: top;\n",
              "    }\n",
              "\n",
              "    .dataframe thead th {\n",
              "        text-align: right;\n",
              "    }\n",
              "</style>\n",
              "<table border=\"1\" class=\"dataframe\">\n",
              "  <thead>\n",
              "    <tr style=\"text-align: right;\">\n",
              "      <th></th>\n",
              "      <th>ID</th>\n",
              "      <th>PR1_norm_La&lt;</th>\n",
              "      <th>PR1_norm_La&gt;</th>\n",
              "      <th>PR1_norm_La^</th>\n",
              "      <th>PR1_norm_Lav</th>\n",
              "      <th>PR1_norm_Pa&lt;</th>\n",
              "      <th>PR1_norm_Pa&gt;</th>\n",
              "      <th>PR1_norm_Pa^</th>\n",
              "      <th>PR1_norm_Pav</th>\n",
              "    </tr>\n",
              "  </thead>\n",
              "  <tbody>\n",
              "    <tr>\n",
              "      <th>0</th>\n",
              "      <td>КА100</td>\n",
              "      <td>4.5</td>\n",
              "      <td>1.9</td>\n",
              "      <td>3.1</td>\n",
              "      <td>1.5</td>\n",
              "      <td>2.1</td>\n",
              "      <td>4.5</td>\n",
              "      <td>4.0</td>\n",
              "      <td>1.8</td>\n",
              "    </tr>\n",
              "    <tr>\n",
              "      <th>1</th>\n",
              "      <td>КА101</td>\n",
              "      <td>3.1</td>\n",
              "      <td>2.1</td>\n",
              "      <td>NaN</td>\n",
              "      <td>NaN</td>\n",
              "      <td>NaN</td>\n",
              "      <td>NaN</td>\n",
              "      <td>NaN</td>\n",
              "      <td>NaN</td>\n",
              "    </tr>\n",
              "    <tr>\n",
              "      <th>2</th>\n",
              "      <td>КА102</td>\n",
              "      <td>1.4</td>\n",
              "      <td>1.7</td>\n",
              "      <td>NaN</td>\n",
              "      <td>NaN</td>\n",
              "      <td>NaN</td>\n",
              "      <td>NaN</td>\n",
              "      <td>NaN</td>\n",
              "      <td>NaN</td>\n",
              "    </tr>\n",
              "    <tr>\n",
              "      <th>3</th>\n",
              "      <td>КА103</td>\n",
              "      <td>1.6</td>\n",
              "      <td>2.2</td>\n",
              "      <td>NaN</td>\n",
              "      <td>NaN</td>\n",
              "      <td>NaN</td>\n",
              "      <td>NaN</td>\n",
              "      <td>NaN</td>\n",
              "      <td>NaN</td>\n",
              "    </tr>\n",
              "    <tr>\n",
              "      <th>4</th>\n",
              "      <td>КА104</td>\n",
              "      <td>NaN</td>\n",
              "      <td>NaN</td>\n",
              "      <td>NaN</td>\n",
              "      <td>NaN</td>\n",
              "      <td>1.2</td>\n",
              "      <td>2.3</td>\n",
              "      <td>NaN</td>\n",
              "      <td>NaN</td>\n",
              "    </tr>\n",
              "    <tr>\n",
              "      <th>5</th>\n",
              "      <td>КА105</td>\n",
              "      <td>NaN</td>\n",
              "      <td>NaN</td>\n",
              "      <td>NaN</td>\n",
              "      <td>NaN</td>\n",
              "      <td>2.9</td>\n",
              "      <td>3.3</td>\n",
              "      <td>NaN</td>\n",
              "      <td>NaN</td>\n",
              "    </tr>\n",
              "    <tr>\n",
              "      <th>6</th>\n",
              "      <td>КА106</td>\n",
              "      <td>2.7</td>\n",
              "      <td>1.8</td>\n",
              "      <td>NaN</td>\n",
              "      <td>NaN</td>\n",
              "      <td>3.3</td>\n",
              "      <td>3.1</td>\n",
              "      <td>NaN</td>\n",
              "      <td>NaN</td>\n",
              "    </tr>\n",
              "  </tbody>\n",
              "</table>\n",
              "</div>\n",
              "    <div class=\"colab-df-buttons\">\n",
              "\n",
              "  <div class=\"colab-df-container\">\n",
              "    <button class=\"colab-df-convert\" onclick=\"convertToInteractive('df-fdb6f574-5a2a-41ea-9946-c0dbe071b215')\"\n",
              "            title=\"Convert this dataframe to an interactive table.\"\n",
              "            style=\"display:none;\">\n",
              "\n",
              "  <svg xmlns=\"http://www.w3.org/2000/svg\" height=\"24px\" viewBox=\"0 -960 960 960\">\n",
              "    <path d=\"M120-120v-720h720v720H120Zm60-500h600v-160H180v160Zm220 220h160v-160H400v160Zm0 220h160v-160H400v160ZM180-400h160v-160H180v160Zm440 0h160v-160H620v160ZM180-180h160v-160H180v160Zm440 0h160v-160H620v160Z\"/>\n",
              "  </svg>\n",
              "    </button>\n",
              "\n",
              "  <style>\n",
              "    .colab-df-container {\n",
              "      display:flex;\n",
              "      gap: 12px;\n",
              "    }\n",
              "\n",
              "    .colab-df-convert {\n",
              "      background-color: #E8F0FE;\n",
              "      border: none;\n",
              "      border-radius: 50%;\n",
              "      cursor: pointer;\n",
              "      display: none;\n",
              "      fill: #1967D2;\n",
              "      height: 32px;\n",
              "      padding: 0 0 0 0;\n",
              "      width: 32px;\n",
              "    }\n",
              "\n",
              "    .colab-df-convert:hover {\n",
              "      background-color: #E2EBFA;\n",
              "      box-shadow: 0px 1px 2px rgba(60, 64, 67, 0.3), 0px 1px 3px 1px rgba(60, 64, 67, 0.15);\n",
              "      fill: #174EA6;\n",
              "    }\n",
              "\n",
              "    .colab-df-buttons div {\n",
              "      margin-bottom: 4px;\n",
              "    }\n",
              "\n",
              "    [theme=dark] .colab-df-convert {\n",
              "      background-color: #3B4455;\n",
              "      fill: #D2E3FC;\n",
              "    }\n",
              "\n",
              "    [theme=dark] .colab-df-convert:hover {\n",
              "      background-color: #434B5C;\n",
              "      box-shadow: 0px 1px 3px 1px rgba(0, 0, 0, 0.15);\n",
              "      filter: drop-shadow(0px 1px 2px rgba(0, 0, 0, 0.3));\n",
              "      fill: #FFFFFF;\n",
              "    }\n",
              "  </style>\n",
              "\n",
              "    <script>\n",
              "      const buttonEl =\n",
              "        document.querySelector('#df-fdb6f574-5a2a-41ea-9946-c0dbe071b215 button.colab-df-convert');\n",
              "      buttonEl.style.display =\n",
              "        google.colab.kernel.accessAllowed ? 'block' : 'none';\n",
              "\n",
              "      async function convertToInteractive(key) {\n",
              "        const element = document.querySelector('#df-fdb6f574-5a2a-41ea-9946-c0dbe071b215');\n",
              "        const dataTable =\n",
              "          await google.colab.kernel.invokeFunction('convertToInteractive',\n",
              "                                                    [key], {});\n",
              "        if (!dataTable) return;\n",
              "\n",
              "        const docLinkHtml = 'Like what you see? Visit the ' +\n",
              "          '<a target=\"_blank\" href=https://colab.research.google.com/notebooks/data_table.ipynb>data table notebook</a>'\n",
              "          + ' to learn more about interactive tables.';\n",
              "        element.innerHTML = '';\n",
              "        dataTable['output_type'] = 'display_data';\n",
              "        await google.colab.output.renderOutput(dataTable, element);\n",
              "        const docLink = document.createElement('div');\n",
              "        docLink.innerHTML = docLinkHtml;\n",
              "        element.appendChild(docLink);\n",
              "      }\n",
              "    </script>\n",
              "  </div>\n",
              "\n",
              "\n",
              "<div id=\"df-652f53c0-96ea-4e78-9e7d-a97a6ca6d774\">\n",
              "  <button class=\"colab-df-quickchart\" onclick=\"quickchart('df-652f53c0-96ea-4e78-9e7d-a97a6ca6d774')\"\n",
              "            title=\"Suggest charts\"\n",
              "            style=\"display:none;\">\n",
              "\n",
              "<svg xmlns=\"http://www.w3.org/2000/svg\" height=\"24px\"viewBox=\"0 0 24 24\"\n",
              "     width=\"24px\">\n",
              "    <g>\n",
              "        <path d=\"M19 3H5c-1.1 0-2 .9-2 2v14c0 1.1.9 2 2 2h14c1.1 0 2-.9 2-2V5c0-1.1-.9-2-2-2zM9 17H7v-7h2v7zm4 0h-2V7h2v10zm4 0h-2v-4h2v4z\"/>\n",
              "    </g>\n",
              "</svg>\n",
              "  </button>\n",
              "\n",
              "<style>\n",
              "  .colab-df-quickchart {\n",
              "      --bg-color: #E8F0FE;\n",
              "      --fill-color: #1967D2;\n",
              "      --hover-bg-color: #E2EBFA;\n",
              "      --hover-fill-color: #174EA6;\n",
              "      --disabled-fill-color: #AAA;\n",
              "      --disabled-bg-color: #DDD;\n",
              "  }\n",
              "\n",
              "  [theme=dark] .colab-df-quickchart {\n",
              "      --bg-color: #3B4455;\n",
              "      --fill-color: #D2E3FC;\n",
              "      --hover-bg-color: #434B5C;\n",
              "      --hover-fill-color: #FFFFFF;\n",
              "      --disabled-bg-color: #3B4455;\n",
              "      --disabled-fill-color: #666;\n",
              "  }\n",
              "\n",
              "  .colab-df-quickchart {\n",
              "    background-color: var(--bg-color);\n",
              "    border: none;\n",
              "    border-radius: 50%;\n",
              "    cursor: pointer;\n",
              "    display: none;\n",
              "    fill: var(--fill-color);\n",
              "    height: 32px;\n",
              "    padding: 0;\n",
              "    width: 32px;\n",
              "  }\n",
              "\n",
              "  .colab-df-quickchart:hover {\n",
              "    background-color: var(--hover-bg-color);\n",
              "    box-shadow: 0 1px 2px rgba(60, 64, 67, 0.3), 0 1px 3px 1px rgba(60, 64, 67, 0.15);\n",
              "    fill: var(--button-hover-fill-color);\n",
              "  }\n",
              "\n",
              "  .colab-df-quickchart-complete:disabled,\n",
              "  .colab-df-quickchart-complete:disabled:hover {\n",
              "    background-color: var(--disabled-bg-color);\n",
              "    fill: var(--disabled-fill-color);\n",
              "    box-shadow: none;\n",
              "  }\n",
              "\n",
              "  .colab-df-spinner {\n",
              "    border: 2px solid var(--fill-color);\n",
              "    border-color: transparent;\n",
              "    border-bottom-color: var(--fill-color);\n",
              "    animation:\n",
              "      spin 1s steps(1) infinite;\n",
              "  }\n",
              "\n",
              "  @keyframes spin {\n",
              "    0% {\n",
              "      border-color: transparent;\n",
              "      border-bottom-color: var(--fill-color);\n",
              "      border-left-color: var(--fill-color);\n",
              "    }\n",
              "    20% {\n",
              "      border-color: transparent;\n",
              "      border-left-color: var(--fill-color);\n",
              "      border-top-color: var(--fill-color);\n",
              "    }\n",
              "    30% {\n",
              "      border-color: transparent;\n",
              "      border-left-color: var(--fill-color);\n",
              "      border-top-color: var(--fill-color);\n",
              "      border-right-color: var(--fill-color);\n",
              "    }\n",
              "    40% {\n",
              "      border-color: transparent;\n",
              "      border-right-color: var(--fill-color);\n",
              "      border-top-color: var(--fill-color);\n",
              "    }\n",
              "    60% {\n",
              "      border-color: transparent;\n",
              "      border-right-color: var(--fill-color);\n",
              "    }\n",
              "    80% {\n",
              "      border-color: transparent;\n",
              "      border-right-color: var(--fill-color);\n",
              "      border-bottom-color: var(--fill-color);\n",
              "    }\n",
              "    90% {\n",
              "      border-color: transparent;\n",
              "      border-bottom-color: var(--fill-color);\n",
              "    }\n",
              "  }\n",
              "</style>\n",
              "\n",
              "  <script>\n",
              "    async function quickchart(key) {\n",
              "      const quickchartButtonEl =\n",
              "        document.querySelector('#' + key + ' button');\n",
              "      quickchartButtonEl.disabled = true;  // To prevent multiple clicks.\n",
              "      quickchartButtonEl.classList.add('colab-df-spinner');\n",
              "      try {\n",
              "        const charts = await google.colab.kernel.invokeFunction(\n",
              "            'suggestCharts', [key], {});\n",
              "      } catch (error) {\n",
              "        console.error('Error during call to suggestCharts:', error);\n",
              "      }\n",
              "      quickchartButtonEl.classList.remove('colab-df-spinner');\n",
              "      quickchartButtonEl.classList.add('colab-df-quickchart-complete');\n",
              "    }\n",
              "    (() => {\n",
              "      let quickchartButtonEl =\n",
              "        document.querySelector('#df-652f53c0-96ea-4e78-9e7d-a97a6ca6d774 button');\n",
              "      quickchartButtonEl.style.display =\n",
              "        google.colab.kernel.accessAllowed ? 'block' : 'none';\n",
              "    })();\n",
              "  </script>\n",
              "</div>\n",
              "    </div>\n",
              "  </div>\n"
            ]
          },
          "metadata": {},
          "execution_count": 26
        }
      ]
    },
    {
      "cell_type": "code",
      "source": [
        "df_list = df_com.columns.to_list()\n",
        "df_list"
      ],
      "metadata": {
        "colab": {
          "base_uri": "https://localhost:8080/"
        },
        "id": "m4idm-4kR313",
        "outputId": "39202eb0-c3e2-41ee-808a-edfc1088de3f"
      },
      "execution_count": 27,
      "outputs": [
        {
          "output_type": "execute_result",
          "data": {
            "text/plain": [
              "['ID ',\n",
              " 'PR1_norm_La<',\n",
              " 'PR1_norm_La>',\n",
              " 'PR1_norm_La^',\n",
              " 'PR1_norm_Lav',\n",
              " 'PR1_norm_Pa<',\n",
              " 'PR1_norm_Pa>',\n",
              " 'PR1_norm_Pa^',\n",
              " 'PR1_norm_Pav']"
            ]
          },
          "metadata": {},
          "execution_count": 27
        }
      ]
    },
    {
      "cell_type": "markdown",
      "source": [
        "## karta ID"
      ],
      "metadata": {
        "id": "IuNwURFGt5jb"
      }
    },
    {
      "cell_type": "code",
      "source": [
        "# Укажим путь к файлу с данными на моем диске\n",
        "way = '/content/drive/MyDrive/Стажировка 3/Karta_ID.xlsx'\n",
        "df_karta = pd.read_excel(way)  # Чтение данных из файла excel в pandas.DataFrame\n",
        "print(df_karta.shape)\n",
        "p_list = df_karta['proekc'].unique()\n",
        "print('p_list',p_list)\n",
        "k_list = df_karta.columns.to_list()\n",
        "df_karta"
      ],
      "metadata": {
        "colab": {
          "base_uri": "https://localhost:8080/",
          "height": 527
        },
        "id": "wF5T9NfSt_CN",
        "outputId": "b1650460-aba8-4d89-91ca-c55e778f786d"
      },
      "execution_count": 28,
      "outputs": [
        {
          "output_type": "stream",
          "name": "stdout",
          "text": [
            "(13, 11)\n",
            "p_list ['PR1_norm' 'PR1_later' 'PR1_medial' 'PR2_norm' 'PR2_kompres'\n",
            " 'PR2_distrak' 'PR2_dictal' 'PR2_mezial' 'PR3_norm' 'PR3_kompres'\n",
            " 'PR3_distrak' 'PR3_later' 'PR3_medial']\n"
          ]
        },
        {
          "output_type": "execute_result",
          "data": {
            "text/plain": [
              "      ID        proekc    l/p   l<   l>   l^   lv   p<   p>   p^   pv\n",
              "0   КА100     PR1_norm  La/Pa  4.5  1.9  3.1  1.5  2.1  4.5  4.0  1.8\n",
              "1   КА100    PR1_later  La/Pa  NaN  NaN  NaN  NaN  NaN  NaN  NaN  NaN\n",
              "2   КА100   PR1_medial  La/Pa  NaN  NaN  NaN  NaN  NaN  NaN  NaN  NaN\n",
              "3   КА100     PR2_norm  Lc/Pc  NaN  NaN  NaN  NaN  NaN  NaN  NaN  NaN\n",
              "4   КА100  PR2_kompres  Lc/Pc  2.3  1.9  2.2  NaN  1.8  1.9  1.9  NaN\n",
              "5   КА100  PR2_distrak  Lc/Pc  NaN  NaN  NaN  NaN  NaN  NaN  NaN  NaN\n",
              "6   КА100   PR2_dictal  Lc/Pc  NaN  NaN  NaN  NaN  NaN  NaN  NaN  NaN\n",
              "7   КА100   PR2_mezial  Lc/Pc  NaN  NaN  NaN  NaN  NaN  NaN  NaN  NaN\n",
              "8   КА100     PR3_norm  Lk/Pk  2.0  1.1  1.8  NaN  NaN  NaN  NaN  NaN\n",
              "9   КА100  PR3_kompres  Lk/Pk  NaN  NaN  NaN  NaN  1.0  3.0  2.0  NaN\n",
              "10  КА100  PR3_distrak  Lk/Pk  NaN  NaN  NaN  NaN  NaN  NaN  NaN  NaN\n",
              "11  КА100    PR3_later  Lk/Pk  NaN  NaN  NaN  NaN  NaN  NaN  NaN  NaN\n",
              "12  КА100   PR3_medial  Lk/Pk  NaN  NaN  NaN  NaN  NaN  NaN  NaN  NaN"
            ],
            "text/html": [
              "\n",
              "  <div id=\"df-75301379-6d51-4f54-b5e9-96e23afd82ad\" class=\"colab-df-container\">\n",
              "    <div>\n",
              "<style scoped>\n",
              "    .dataframe tbody tr th:only-of-type {\n",
              "        vertical-align: middle;\n",
              "    }\n",
              "\n",
              "    .dataframe tbody tr th {\n",
              "        vertical-align: top;\n",
              "    }\n",
              "\n",
              "    .dataframe thead th {\n",
              "        text-align: right;\n",
              "    }\n",
              "</style>\n",
              "<table border=\"1\" class=\"dataframe\">\n",
              "  <thead>\n",
              "    <tr style=\"text-align: right;\">\n",
              "      <th></th>\n",
              "      <th>ID</th>\n",
              "      <th>proekc</th>\n",
              "      <th>l/p</th>\n",
              "      <th>l&lt;</th>\n",
              "      <th>l&gt;</th>\n",
              "      <th>l^</th>\n",
              "      <th>lv</th>\n",
              "      <th>p&lt;</th>\n",
              "      <th>p&gt;</th>\n",
              "      <th>p^</th>\n",
              "      <th>pv</th>\n",
              "    </tr>\n",
              "  </thead>\n",
              "  <tbody>\n",
              "    <tr>\n",
              "      <th>0</th>\n",
              "      <td>КА100</td>\n",
              "      <td>PR1_norm</td>\n",
              "      <td>La/Pa</td>\n",
              "      <td>4.5</td>\n",
              "      <td>1.9</td>\n",
              "      <td>3.1</td>\n",
              "      <td>1.5</td>\n",
              "      <td>2.1</td>\n",
              "      <td>4.5</td>\n",
              "      <td>4.0</td>\n",
              "      <td>1.8</td>\n",
              "    </tr>\n",
              "    <tr>\n",
              "      <th>1</th>\n",
              "      <td>КА100</td>\n",
              "      <td>PR1_later</td>\n",
              "      <td>La/Pa</td>\n",
              "      <td>NaN</td>\n",
              "      <td>NaN</td>\n",
              "      <td>NaN</td>\n",
              "      <td>NaN</td>\n",
              "      <td>NaN</td>\n",
              "      <td>NaN</td>\n",
              "      <td>NaN</td>\n",
              "      <td>NaN</td>\n",
              "    </tr>\n",
              "    <tr>\n",
              "      <th>2</th>\n",
              "      <td>КА100</td>\n",
              "      <td>PR1_medial</td>\n",
              "      <td>La/Pa</td>\n",
              "      <td>NaN</td>\n",
              "      <td>NaN</td>\n",
              "      <td>NaN</td>\n",
              "      <td>NaN</td>\n",
              "      <td>NaN</td>\n",
              "      <td>NaN</td>\n",
              "      <td>NaN</td>\n",
              "      <td>NaN</td>\n",
              "    </tr>\n",
              "    <tr>\n",
              "      <th>3</th>\n",
              "      <td>КА100</td>\n",
              "      <td>PR2_norm</td>\n",
              "      <td>Lc/Pc</td>\n",
              "      <td>NaN</td>\n",
              "      <td>NaN</td>\n",
              "      <td>NaN</td>\n",
              "      <td>NaN</td>\n",
              "      <td>NaN</td>\n",
              "      <td>NaN</td>\n",
              "      <td>NaN</td>\n",
              "      <td>NaN</td>\n",
              "    </tr>\n",
              "    <tr>\n",
              "      <th>4</th>\n",
              "      <td>КА100</td>\n",
              "      <td>PR2_kompres</td>\n",
              "      <td>Lc/Pc</td>\n",
              "      <td>2.3</td>\n",
              "      <td>1.9</td>\n",
              "      <td>2.2</td>\n",
              "      <td>NaN</td>\n",
              "      <td>1.8</td>\n",
              "      <td>1.9</td>\n",
              "      <td>1.9</td>\n",
              "      <td>NaN</td>\n",
              "    </tr>\n",
              "    <tr>\n",
              "      <th>5</th>\n",
              "      <td>КА100</td>\n",
              "      <td>PR2_distrak</td>\n",
              "      <td>Lc/Pc</td>\n",
              "      <td>NaN</td>\n",
              "      <td>NaN</td>\n",
              "      <td>NaN</td>\n",
              "      <td>NaN</td>\n",
              "      <td>NaN</td>\n",
              "      <td>NaN</td>\n",
              "      <td>NaN</td>\n",
              "      <td>NaN</td>\n",
              "    </tr>\n",
              "    <tr>\n",
              "      <th>6</th>\n",
              "      <td>КА100</td>\n",
              "      <td>PR2_dictal</td>\n",
              "      <td>Lc/Pc</td>\n",
              "      <td>NaN</td>\n",
              "      <td>NaN</td>\n",
              "      <td>NaN</td>\n",
              "      <td>NaN</td>\n",
              "      <td>NaN</td>\n",
              "      <td>NaN</td>\n",
              "      <td>NaN</td>\n",
              "      <td>NaN</td>\n",
              "    </tr>\n",
              "    <tr>\n",
              "      <th>7</th>\n",
              "      <td>КА100</td>\n",
              "      <td>PR2_mezial</td>\n",
              "      <td>Lc/Pc</td>\n",
              "      <td>NaN</td>\n",
              "      <td>NaN</td>\n",
              "      <td>NaN</td>\n",
              "      <td>NaN</td>\n",
              "      <td>NaN</td>\n",
              "      <td>NaN</td>\n",
              "      <td>NaN</td>\n",
              "      <td>NaN</td>\n",
              "    </tr>\n",
              "    <tr>\n",
              "      <th>8</th>\n",
              "      <td>КА100</td>\n",
              "      <td>PR3_norm</td>\n",
              "      <td>Lk/Pk</td>\n",
              "      <td>2.0</td>\n",
              "      <td>1.1</td>\n",
              "      <td>1.8</td>\n",
              "      <td>NaN</td>\n",
              "      <td>NaN</td>\n",
              "      <td>NaN</td>\n",
              "      <td>NaN</td>\n",
              "      <td>NaN</td>\n",
              "    </tr>\n",
              "    <tr>\n",
              "      <th>9</th>\n",
              "      <td>КА100</td>\n",
              "      <td>PR3_kompres</td>\n",
              "      <td>Lk/Pk</td>\n",
              "      <td>NaN</td>\n",
              "      <td>NaN</td>\n",
              "      <td>NaN</td>\n",
              "      <td>NaN</td>\n",
              "      <td>1.0</td>\n",
              "      <td>3.0</td>\n",
              "      <td>2.0</td>\n",
              "      <td>NaN</td>\n",
              "    </tr>\n",
              "    <tr>\n",
              "      <th>10</th>\n",
              "      <td>КА100</td>\n",
              "      <td>PR3_distrak</td>\n",
              "      <td>Lk/Pk</td>\n",
              "      <td>NaN</td>\n",
              "      <td>NaN</td>\n",
              "      <td>NaN</td>\n",
              "      <td>NaN</td>\n",
              "      <td>NaN</td>\n",
              "      <td>NaN</td>\n",
              "      <td>NaN</td>\n",
              "      <td>NaN</td>\n",
              "    </tr>\n",
              "    <tr>\n",
              "      <th>11</th>\n",
              "      <td>КА100</td>\n",
              "      <td>PR3_later</td>\n",
              "      <td>Lk/Pk</td>\n",
              "      <td>NaN</td>\n",
              "      <td>NaN</td>\n",
              "      <td>NaN</td>\n",
              "      <td>NaN</td>\n",
              "      <td>NaN</td>\n",
              "      <td>NaN</td>\n",
              "      <td>NaN</td>\n",
              "      <td>NaN</td>\n",
              "    </tr>\n",
              "    <tr>\n",
              "      <th>12</th>\n",
              "      <td>КА100</td>\n",
              "      <td>PR3_medial</td>\n",
              "      <td>Lk/Pk</td>\n",
              "      <td>NaN</td>\n",
              "      <td>NaN</td>\n",
              "      <td>NaN</td>\n",
              "      <td>NaN</td>\n",
              "      <td>NaN</td>\n",
              "      <td>NaN</td>\n",
              "      <td>NaN</td>\n",
              "      <td>NaN</td>\n",
              "    </tr>\n",
              "  </tbody>\n",
              "</table>\n",
              "</div>\n",
              "    <div class=\"colab-df-buttons\">\n",
              "\n",
              "  <div class=\"colab-df-container\">\n",
              "    <button class=\"colab-df-convert\" onclick=\"convertToInteractive('df-75301379-6d51-4f54-b5e9-96e23afd82ad')\"\n",
              "            title=\"Convert this dataframe to an interactive table.\"\n",
              "            style=\"display:none;\">\n",
              "\n",
              "  <svg xmlns=\"http://www.w3.org/2000/svg\" height=\"24px\" viewBox=\"0 -960 960 960\">\n",
              "    <path d=\"M120-120v-720h720v720H120Zm60-500h600v-160H180v160Zm220 220h160v-160H400v160Zm0 220h160v-160H400v160ZM180-400h160v-160H180v160Zm440 0h160v-160H620v160ZM180-180h160v-160H180v160Zm440 0h160v-160H620v160Z\"/>\n",
              "  </svg>\n",
              "    </button>\n",
              "\n",
              "  <style>\n",
              "    .colab-df-container {\n",
              "      display:flex;\n",
              "      gap: 12px;\n",
              "    }\n",
              "\n",
              "    .colab-df-convert {\n",
              "      background-color: #E8F0FE;\n",
              "      border: none;\n",
              "      border-radius: 50%;\n",
              "      cursor: pointer;\n",
              "      display: none;\n",
              "      fill: #1967D2;\n",
              "      height: 32px;\n",
              "      padding: 0 0 0 0;\n",
              "      width: 32px;\n",
              "    }\n",
              "\n",
              "    .colab-df-convert:hover {\n",
              "      background-color: #E2EBFA;\n",
              "      box-shadow: 0px 1px 2px rgba(60, 64, 67, 0.3), 0px 1px 3px 1px rgba(60, 64, 67, 0.15);\n",
              "      fill: #174EA6;\n",
              "    }\n",
              "\n",
              "    .colab-df-buttons div {\n",
              "      margin-bottom: 4px;\n",
              "    }\n",
              "\n",
              "    [theme=dark] .colab-df-convert {\n",
              "      background-color: #3B4455;\n",
              "      fill: #D2E3FC;\n",
              "    }\n",
              "\n",
              "    [theme=dark] .colab-df-convert:hover {\n",
              "      background-color: #434B5C;\n",
              "      box-shadow: 0px 1px 3px 1px rgba(0, 0, 0, 0.15);\n",
              "      filter: drop-shadow(0px 1px 2px rgba(0, 0, 0, 0.3));\n",
              "      fill: #FFFFFF;\n",
              "    }\n",
              "  </style>\n",
              "\n",
              "    <script>\n",
              "      const buttonEl =\n",
              "        document.querySelector('#df-75301379-6d51-4f54-b5e9-96e23afd82ad button.colab-df-convert');\n",
              "      buttonEl.style.display =\n",
              "        google.colab.kernel.accessAllowed ? 'block' : 'none';\n",
              "\n",
              "      async function convertToInteractive(key) {\n",
              "        const element = document.querySelector('#df-75301379-6d51-4f54-b5e9-96e23afd82ad');\n",
              "        const dataTable =\n",
              "          await google.colab.kernel.invokeFunction('convertToInteractive',\n",
              "                                                    [key], {});\n",
              "        if (!dataTable) return;\n",
              "\n",
              "        const docLinkHtml = 'Like what you see? Visit the ' +\n",
              "          '<a target=\"_blank\" href=https://colab.research.google.com/notebooks/data_table.ipynb>data table notebook</a>'\n",
              "          + ' to learn more about interactive tables.';\n",
              "        element.innerHTML = '';\n",
              "        dataTable['output_type'] = 'display_data';\n",
              "        await google.colab.output.renderOutput(dataTable, element);\n",
              "        const docLink = document.createElement('div');\n",
              "        docLink.innerHTML = docLinkHtml;\n",
              "        element.appendChild(docLink);\n",
              "      }\n",
              "    </script>\n",
              "  </div>\n",
              "\n",
              "\n",
              "<div id=\"df-099b45ed-6226-47f1-87cd-0d66e8cfd3a9\">\n",
              "  <button class=\"colab-df-quickchart\" onclick=\"quickchart('df-099b45ed-6226-47f1-87cd-0d66e8cfd3a9')\"\n",
              "            title=\"Suggest charts\"\n",
              "            style=\"display:none;\">\n",
              "\n",
              "<svg xmlns=\"http://www.w3.org/2000/svg\" height=\"24px\"viewBox=\"0 0 24 24\"\n",
              "     width=\"24px\">\n",
              "    <g>\n",
              "        <path d=\"M19 3H5c-1.1 0-2 .9-2 2v14c0 1.1.9 2 2 2h14c1.1 0 2-.9 2-2V5c0-1.1-.9-2-2-2zM9 17H7v-7h2v7zm4 0h-2V7h2v10zm4 0h-2v-4h2v4z\"/>\n",
              "    </g>\n",
              "</svg>\n",
              "  </button>\n",
              "\n",
              "<style>\n",
              "  .colab-df-quickchart {\n",
              "      --bg-color: #E8F0FE;\n",
              "      --fill-color: #1967D2;\n",
              "      --hover-bg-color: #E2EBFA;\n",
              "      --hover-fill-color: #174EA6;\n",
              "      --disabled-fill-color: #AAA;\n",
              "      --disabled-bg-color: #DDD;\n",
              "  }\n",
              "\n",
              "  [theme=dark] .colab-df-quickchart {\n",
              "      --bg-color: #3B4455;\n",
              "      --fill-color: #D2E3FC;\n",
              "      --hover-bg-color: #434B5C;\n",
              "      --hover-fill-color: #FFFFFF;\n",
              "      --disabled-bg-color: #3B4455;\n",
              "      --disabled-fill-color: #666;\n",
              "  }\n",
              "\n",
              "  .colab-df-quickchart {\n",
              "    background-color: var(--bg-color);\n",
              "    border: none;\n",
              "    border-radius: 50%;\n",
              "    cursor: pointer;\n",
              "    display: none;\n",
              "    fill: var(--fill-color);\n",
              "    height: 32px;\n",
              "    padding: 0;\n",
              "    width: 32px;\n",
              "  }\n",
              "\n",
              "  .colab-df-quickchart:hover {\n",
              "    background-color: var(--hover-bg-color);\n",
              "    box-shadow: 0 1px 2px rgba(60, 64, 67, 0.3), 0 1px 3px 1px rgba(60, 64, 67, 0.15);\n",
              "    fill: var(--button-hover-fill-color);\n",
              "  }\n",
              "\n",
              "  .colab-df-quickchart-complete:disabled,\n",
              "  .colab-df-quickchart-complete:disabled:hover {\n",
              "    background-color: var(--disabled-bg-color);\n",
              "    fill: var(--disabled-fill-color);\n",
              "    box-shadow: none;\n",
              "  }\n",
              "\n",
              "  .colab-df-spinner {\n",
              "    border: 2px solid var(--fill-color);\n",
              "    border-color: transparent;\n",
              "    border-bottom-color: var(--fill-color);\n",
              "    animation:\n",
              "      spin 1s steps(1) infinite;\n",
              "  }\n",
              "\n",
              "  @keyframes spin {\n",
              "    0% {\n",
              "      border-color: transparent;\n",
              "      border-bottom-color: var(--fill-color);\n",
              "      border-left-color: var(--fill-color);\n",
              "    }\n",
              "    20% {\n",
              "      border-color: transparent;\n",
              "      border-left-color: var(--fill-color);\n",
              "      border-top-color: var(--fill-color);\n",
              "    }\n",
              "    30% {\n",
              "      border-color: transparent;\n",
              "      border-left-color: var(--fill-color);\n",
              "      border-top-color: var(--fill-color);\n",
              "      border-right-color: var(--fill-color);\n",
              "    }\n",
              "    40% {\n",
              "      border-color: transparent;\n",
              "      border-right-color: var(--fill-color);\n",
              "      border-top-color: var(--fill-color);\n",
              "    }\n",
              "    60% {\n",
              "      border-color: transparent;\n",
              "      border-right-color: var(--fill-color);\n",
              "    }\n",
              "    80% {\n",
              "      border-color: transparent;\n",
              "      border-right-color: var(--fill-color);\n",
              "      border-bottom-color: var(--fill-color);\n",
              "    }\n",
              "    90% {\n",
              "      border-color: transparent;\n",
              "      border-bottom-color: var(--fill-color);\n",
              "    }\n",
              "  }\n",
              "</style>\n",
              "\n",
              "  <script>\n",
              "    async function quickchart(key) {\n",
              "      const quickchartButtonEl =\n",
              "        document.querySelector('#' + key + ' button');\n",
              "      quickchartButtonEl.disabled = true;  // To prevent multiple clicks.\n",
              "      quickchartButtonEl.classList.add('colab-df-spinner');\n",
              "      try {\n",
              "        const charts = await google.colab.kernel.invokeFunction(\n",
              "            'suggestCharts', [key], {});\n",
              "      } catch (error) {\n",
              "        console.error('Error during call to suggestCharts:', error);\n",
              "      }\n",
              "      quickchartButtonEl.classList.remove('colab-df-spinner');\n",
              "      quickchartButtonEl.classList.add('colab-df-quickchart-complete');\n",
              "    }\n",
              "    (() => {\n",
              "      let quickchartButtonEl =\n",
              "        document.querySelector('#df-099b45ed-6226-47f1-87cd-0d66e8cfd3a9 button');\n",
              "      quickchartButtonEl.style.display =\n",
              "        google.colab.kernel.accessAllowed ? 'block' : 'none';\n",
              "    })();\n",
              "  </script>\n",
              "</div>\n",
              "    </div>\n",
              "  </div>\n"
            ]
          },
          "metadata": {},
          "execution_count": 28
        }
      ]
    },
    {
      "cell_type": "code",
      "source": [
        "k_list   # смотрим список столбцов карты пациента"
      ],
      "metadata": {
        "colab": {
          "base_uri": "https://localhost:8080/"
        },
        "id": "DFEkpgNoYJnv",
        "outputId": "8e44b306-fc3f-4077-c483-95928622badb"
      },
      "execution_count": 29,
      "outputs": [
        {
          "output_type": "execute_result",
          "data": {
            "text/plain": [
              "['ID ', 'proekc', 'l/p', 'l<', 'l>', 'l^', 'lv', 'p<', 'p>', 'p^', 'pv']"
            ]
          },
          "metadata": {},
          "execution_count": 29
        }
      ]
    },
    {
      "cell_type": "markdown",
      "source": [
        "## 2.3 Разработка системы представления результатов"
      ],
      "metadata": {
        "id": "lmWmp2HDmqL0"
      }
    },
    {
      "cell_type": "code",
      "source": [
        "rem_mns = df_karta.dropna(axis=0, how='all', subset=k_list[3:])\n",
        "                                      #  axis = 0 - удаляем построчно,\n",
        "                                      #  axis = 1 выкидываем столбец;\n",
        "                                      #  how ='any' - выкидываем, если есть хотя бы одна ячейка пустая.\n",
        "                                      #  how = 'all' - выкидываем, если есть полностью пустая строка или столбец\n",
        "\n",
        "rem_mns"
      ],
      "metadata": {
        "colab": {
          "base_uri": "https://localhost:8080/",
          "height": 175
        },
        "id": "ejS1JAnkYS8V",
        "outputId": "745a8577-6cf8-4e74-8656-3a7d325c7fc8"
      },
      "execution_count": 30,
      "outputs": [
        {
          "output_type": "execute_result",
          "data": {
            "text/plain": [
              "     ID        proekc    l/p   l<   l>   l^   lv   p<   p>   p^   pv\n",
              "0  КА100     PR1_norm  La/Pa  4.5  1.9  3.1  1.5  2.1  4.5  4.0  1.8\n",
              "4  КА100  PR2_kompres  Lc/Pc  2.3  1.9  2.2  NaN  1.8  1.9  1.9  NaN\n",
              "8  КА100     PR3_norm  Lk/Pk  2.0  1.1  1.8  NaN  NaN  NaN  NaN  NaN\n",
              "9  КА100  PR3_kompres  Lk/Pk  NaN  NaN  NaN  NaN  1.0  3.0  2.0  NaN"
            ],
            "text/html": [
              "\n",
              "  <div id=\"df-e880c7dd-23cf-4cc0-a2dd-ad409bc59a33\" class=\"colab-df-container\">\n",
              "    <div>\n",
              "<style scoped>\n",
              "    .dataframe tbody tr th:only-of-type {\n",
              "        vertical-align: middle;\n",
              "    }\n",
              "\n",
              "    .dataframe tbody tr th {\n",
              "        vertical-align: top;\n",
              "    }\n",
              "\n",
              "    .dataframe thead th {\n",
              "        text-align: right;\n",
              "    }\n",
              "</style>\n",
              "<table border=\"1\" class=\"dataframe\">\n",
              "  <thead>\n",
              "    <tr style=\"text-align: right;\">\n",
              "      <th></th>\n",
              "      <th>ID</th>\n",
              "      <th>proekc</th>\n",
              "      <th>l/p</th>\n",
              "      <th>l&lt;</th>\n",
              "      <th>l&gt;</th>\n",
              "      <th>l^</th>\n",
              "      <th>lv</th>\n",
              "      <th>p&lt;</th>\n",
              "      <th>p&gt;</th>\n",
              "      <th>p^</th>\n",
              "      <th>pv</th>\n",
              "    </tr>\n",
              "  </thead>\n",
              "  <tbody>\n",
              "    <tr>\n",
              "      <th>0</th>\n",
              "      <td>КА100</td>\n",
              "      <td>PR1_norm</td>\n",
              "      <td>La/Pa</td>\n",
              "      <td>4.5</td>\n",
              "      <td>1.9</td>\n",
              "      <td>3.1</td>\n",
              "      <td>1.5</td>\n",
              "      <td>2.1</td>\n",
              "      <td>4.5</td>\n",
              "      <td>4.0</td>\n",
              "      <td>1.8</td>\n",
              "    </tr>\n",
              "    <tr>\n",
              "      <th>4</th>\n",
              "      <td>КА100</td>\n",
              "      <td>PR2_kompres</td>\n",
              "      <td>Lc/Pc</td>\n",
              "      <td>2.3</td>\n",
              "      <td>1.9</td>\n",
              "      <td>2.2</td>\n",
              "      <td>NaN</td>\n",
              "      <td>1.8</td>\n",
              "      <td>1.9</td>\n",
              "      <td>1.9</td>\n",
              "      <td>NaN</td>\n",
              "    </tr>\n",
              "    <tr>\n",
              "      <th>8</th>\n",
              "      <td>КА100</td>\n",
              "      <td>PR3_norm</td>\n",
              "      <td>Lk/Pk</td>\n",
              "      <td>2.0</td>\n",
              "      <td>1.1</td>\n",
              "      <td>1.8</td>\n",
              "      <td>NaN</td>\n",
              "      <td>NaN</td>\n",
              "      <td>NaN</td>\n",
              "      <td>NaN</td>\n",
              "      <td>NaN</td>\n",
              "    </tr>\n",
              "    <tr>\n",
              "      <th>9</th>\n",
              "      <td>КА100</td>\n",
              "      <td>PR3_kompres</td>\n",
              "      <td>Lk/Pk</td>\n",
              "      <td>NaN</td>\n",
              "      <td>NaN</td>\n",
              "      <td>NaN</td>\n",
              "      <td>NaN</td>\n",
              "      <td>1.0</td>\n",
              "      <td>3.0</td>\n",
              "      <td>2.0</td>\n",
              "      <td>NaN</td>\n",
              "    </tr>\n",
              "  </tbody>\n",
              "</table>\n",
              "</div>\n",
              "    <div class=\"colab-df-buttons\">\n",
              "\n",
              "  <div class=\"colab-df-container\">\n",
              "    <button class=\"colab-df-convert\" onclick=\"convertToInteractive('df-e880c7dd-23cf-4cc0-a2dd-ad409bc59a33')\"\n",
              "            title=\"Convert this dataframe to an interactive table.\"\n",
              "            style=\"display:none;\">\n",
              "\n",
              "  <svg xmlns=\"http://www.w3.org/2000/svg\" height=\"24px\" viewBox=\"0 -960 960 960\">\n",
              "    <path d=\"M120-120v-720h720v720H120Zm60-500h600v-160H180v160Zm220 220h160v-160H400v160Zm0 220h160v-160H400v160ZM180-400h160v-160H180v160Zm440 0h160v-160H620v160ZM180-180h160v-160H180v160Zm440 0h160v-160H620v160Z\"/>\n",
              "  </svg>\n",
              "    </button>\n",
              "\n",
              "  <style>\n",
              "    .colab-df-container {\n",
              "      display:flex;\n",
              "      gap: 12px;\n",
              "    }\n",
              "\n",
              "    .colab-df-convert {\n",
              "      background-color: #E8F0FE;\n",
              "      border: none;\n",
              "      border-radius: 50%;\n",
              "      cursor: pointer;\n",
              "      display: none;\n",
              "      fill: #1967D2;\n",
              "      height: 32px;\n",
              "      padding: 0 0 0 0;\n",
              "      width: 32px;\n",
              "    }\n",
              "\n",
              "    .colab-df-convert:hover {\n",
              "      background-color: #E2EBFA;\n",
              "      box-shadow: 0px 1px 2px rgba(60, 64, 67, 0.3), 0px 1px 3px 1px rgba(60, 64, 67, 0.15);\n",
              "      fill: #174EA6;\n",
              "    }\n",
              "\n",
              "    .colab-df-buttons div {\n",
              "      margin-bottom: 4px;\n",
              "    }\n",
              "\n",
              "    [theme=dark] .colab-df-convert {\n",
              "      background-color: #3B4455;\n",
              "      fill: #D2E3FC;\n",
              "    }\n",
              "\n",
              "    [theme=dark] .colab-df-convert:hover {\n",
              "      background-color: #434B5C;\n",
              "      box-shadow: 0px 1px 3px 1px rgba(0, 0, 0, 0.15);\n",
              "      filter: drop-shadow(0px 1px 2px rgba(0, 0, 0, 0.3));\n",
              "      fill: #FFFFFF;\n",
              "    }\n",
              "  </style>\n",
              "\n",
              "    <script>\n",
              "      const buttonEl =\n",
              "        document.querySelector('#df-e880c7dd-23cf-4cc0-a2dd-ad409bc59a33 button.colab-df-convert');\n",
              "      buttonEl.style.display =\n",
              "        google.colab.kernel.accessAllowed ? 'block' : 'none';\n",
              "\n",
              "      async function convertToInteractive(key) {\n",
              "        const element = document.querySelector('#df-e880c7dd-23cf-4cc0-a2dd-ad409bc59a33');\n",
              "        const dataTable =\n",
              "          await google.colab.kernel.invokeFunction('convertToInteractive',\n",
              "                                                    [key], {});\n",
              "        if (!dataTable) return;\n",
              "\n",
              "        const docLinkHtml = 'Like what you see? Visit the ' +\n",
              "          '<a target=\"_blank\" href=https://colab.research.google.com/notebooks/data_table.ipynb>data table notebook</a>'\n",
              "          + ' to learn more about interactive tables.';\n",
              "        element.innerHTML = '';\n",
              "        dataTable['output_type'] = 'display_data';\n",
              "        await google.colab.output.renderOutput(dataTable, element);\n",
              "        const docLink = document.createElement('div');\n",
              "        docLink.innerHTML = docLinkHtml;\n",
              "        element.appendChild(docLink);\n",
              "      }\n",
              "    </script>\n",
              "  </div>\n",
              "\n",
              "\n",
              "<div id=\"df-75097f07-51fd-44b8-8c48-83f721006bbe\">\n",
              "  <button class=\"colab-df-quickchart\" onclick=\"quickchart('df-75097f07-51fd-44b8-8c48-83f721006bbe')\"\n",
              "            title=\"Suggest charts\"\n",
              "            style=\"display:none;\">\n",
              "\n",
              "<svg xmlns=\"http://www.w3.org/2000/svg\" height=\"24px\"viewBox=\"0 0 24 24\"\n",
              "     width=\"24px\">\n",
              "    <g>\n",
              "        <path d=\"M19 3H5c-1.1 0-2 .9-2 2v14c0 1.1.9 2 2 2h14c1.1 0 2-.9 2-2V5c0-1.1-.9-2-2-2zM9 17H7v-7h2v7zm4 0h-2V7h2v10zm4 0h-2v-4h2v4z\"/>\n",
              "    </g>\n",
              "</svg>\n",
              "  </button>\n",
              "\n",
              "<style>\n",
              "  .colab-df-quickchart {\n",
              "      --bg-color: #E8F0FE;\n",
              "      --fill-color: #1967D2;\n",
              "      --hover-bg-color: #E2EBFA;\n",
              "      --hover-fill-color: #174EA6;\n",
              "      --disabled-fill-color: #AAA;\n",
              "      --disabled-bg-color: #DDD;\n",
              "  }\n",
              "\n",
              "  [theme=dark] .colab-df-quickchart {\n",
              "      --bg-color: #3B4455;\n",
              "      --fill-color: #D2E3FC;\n",
              "      --hover-bg-color: #434B5C;\n",
              "      --hover-fill-color: #FFFFFF;\n",
              "      --disabled-bg-color: #3B4455;\n",
              "      --disabled-fill-color: #666;\n",
              "  }\n",
              "\n",
              "  .colab-df-quickchart {\n",
              "    background-color: var(--bg-color);\n",
              "    border: none;\n",
              "    border-radius: 50%;\n",
              "    cursor: pointer;\n",
              "    display: none;\n",
              "    fill: var(--fill-color);\n",
              "    height: 32px;\n",
              "    padding: 0;\n",
              "    width: 32px;\n",
              "  }\n",
              "\n",
              "  .colab-df-quickchart:hover {\n",
              "    background-color: var(--hover-bg-color);\n",
              "    box-shadow: 0 1px 2px rgba(60, 64, 67, 0.3), 0 1px 3px 1px rgba(60, 64, 67, 0.15);\n",
              "    fill: var(--button-hover-fill-color);\n",
              "  }\n",
              "\n",
              "  .colab-df-quickchart-complete:disabled,\n",
              "  .colab-df-quickchart-complete:disabled:hover {\n",
              "    background-color: var(--disabled-bg-color);\n",
              "    fill: var(--disabled-fill-color);\n",
              "    box-shadow: none;\n",
              "  }\n",
              "\n",
              "  .colab-df-spinner {\n",
              "    border: 2px solid var(--fill-color);\n",
              "    border-color: transparent;\n",
              "    border-bottom-color: var(--fill-color);\n",
              "    animation:\n",
              "      spin 1s steps(1) infinite;\n",
              "  }\n",
              "\n",
              "  @keyframes spin {\n",
              "    0% {\n",
              "      border-color: transparent;\n",
              "      border-bottom-color: var(--fill-color);\n",
              "      border-left-color: var(--fill-color);\n",
              "    }\n",
              "    20% {\n",
              "      border-color: transparent;\n",
              "      border-left-color: var(--fill-color);\n",
              "      border-top-color: var(--fill-color);\n",
              "    }\n",
              "    30% {\n",
              "      border-color: transparent;\n",
              "      border-left-color: var(--fill-color);\n",
              "      border-top-color: var(--fill-color);\n",
              "      border-right-color: var(--fill-color);\n",
              "    }\n",
              "    40% {\n",
              "      border-color: transparent;\n",
              "      border-right-color: var(--fill-color);\n",
              "      border-top-color: var(--fill-color);\n",
              "    }\n",
              "    60% {\n",
              "      border-color: transparent;\n",
              "      border-right-color: var(--fill-color);\n",
              "    }\n",
              "    80% {\n",
              "      border-color: transparent;\n",
              "      border-right-color: var(--fill-color);\n",
              "      border-bottom-color: var(--fill-color);\n",
              "    }\n",
              "    90% {\n",
              "      border-color: transparent;\n",
              "      border-bottom-color: var(--fill-color);\n",
              "    }\n",
              "  }\n",
              "</style>\n",
              "\n",
              "  <script>\n",
              "    async function quickchart(key) {\n",
              "      const quickchartButtonEl =\n",
              "        document.querySelector('#' + key + ' button');\n",
              "      quickchartButtonEl.disabled = true;  // To prevent multiple clicks.\n",
              "      quickchartButtonEl.classList.add('colab-df-spinner');\n",
              "      try {\n",
              "        const charts = await google.colab.kernel.invokeFunction(\n",
              "            'suggestCharts', [key], {});\n",
              "      } catch (error) {\n",
              "        console.error('Error during call to suggestCharts:', error);\n",
              "      }\n",
              "      quickchartButtonEl.classList.remove('colab-df-spinner');\n",
              "      quickchartButtonEl.classList.add('colab-df-quickchart-complete');\n",
              "    }\n",
              "    (() => {\n",
              "      let quickchartButtonEl =\n",
              "        document.querySelector('#df-75097f07-51fd-44b8-8c48-83f721006bbe button');\n",
              "      quickchartButtonEl.style.display =\n",
              "        google.colab.kernel.accessAllowed ? 'block' : 'none';\n",
              "    })();\n",
              "  </script>\n",
              "</div>\n",
              "    </div>\n",
              "  </div>\n"
            ]
          },
          "metadata": {},
          "execution_count": 30
        }
      ]
    },
    {
      "cell_type": "code",
      "source": [
        "list_rem_mns = rem_mns ['proekc'].unique()\n",
        "list_rem_mns"
      ],
      "metadata": {
        "colab": {
          "base_uri": "https://localhost:8080/"
        },
        "id": "O0kz99enJnhP",
        "outputId": "e51a37f8-b975-4ef4-a565-5661fbf00771"
      },
      "execution_count": 31,
      "outputs": [
        {
          "output_type": "execute_result",
          "data": {
            "text/plain": [
              "array(['PR1_norm', 'PR2_kompres', 'PR3_norm', 'PR3_kompres'], dtype=object)"
            ]
          },
          "metadata": {},
          "execution_count": 31
        }
      ]
    },
    {
      "cell_type": "code",
      "source": [
        "list_proekc = rem_mns ['proekc'].unique()\n",
        "list_proekc"
      ],
      "metadata": {
        "colab": {
          "base_uri": "https://localhost:8080/"
        },
        "id": "REFSXXhbMGRz",
        "outputId": "ba9230f6-720e-4539-ca83-cf5fc8f9cd6d"
      },
      "execution_count": 32,
      "outputs": [
        {
          "output_type": "execute_result",
          "data": {
            "text/plain": [
              "array(['PR1_norm', 'PR2_kompres', 'PR3_norm', 'PR3_kompres'], dtype=object)"
            ]
          },
          "metadata": {},
          "execution_count": 32
        }
      ]
    },
    {
      "cell_type": "markdown",
      "source": [
        "## Результаты анализа КЛКТ и МРТ снимков"
      ],
      "metadata": {
        "id": "tK39xw9lmYnk"
      }
    },
    {
      "cell_type": "code",
      "source": [
        "def rez (df_pac, rem_mns, list_rem_mns):\n",
        "  a = df_pac.loc[df_pac.ID == ka, 'Пациенты']\n",
        "  b = df_pac.loc[df_pac.ID == ka, 'Доктор']\n",
        "  print('Пациент', a.iloc[0])\n",
        "  print('Доктор ', b.iloc[0])\n",
        "  print('Результаты анализа КЛКТ и МРТ снимков')\n",
        "  print('Список столбцов - замеров',' '*23,LaPa)\n",
        "  #print(list_rem_mns)\n",
        "  for i in list_proekc:\n",
        "    #print(i)\n",
        "    PR = i\n",
        "    c = rem_mns.loc[rem_mns.proekc == PR, ['l<', 'l>', 'l^', 'lv', 'p<', 'p>', 'p^', 'pv']]\n",
        "    C = c.iloc[0,:]\n",
        "    list_C = list(C)\n",
        "    #print(PR_dist[i])\n",
        "    print(PR_dist[i],list_C)\n",
        "    #print(list_C)\n",
        "  #print(list_C )\n",
        "  return"
      ],
      "metadata": {
        "id": "cPdExQfVtjkG"
      },
      "execution_count": 59,
      "outputs": []
    },
    {
      "cell_type": "code",
      "source": [
        "rez (df_pac, rem_mns, list_rem_mns)"
      ],
      "metadata": {
        "colab": {
          "base_uri": "https://localhost:8080/"
        },
        "id": "reyH8X1yM-0U",
        "outputId": "09e22a37-d3ff-4bfb-c9e6-db6944ad2399"
      },
      "execution_count": 60,
      "outputs": [
        {
          "output_type": "stream",
          "name": "stdout",
          "text": [
            "Пациент Кобелева М.И.\n",
            "Доктор  Алина \n",
            "Результаты анализа КЛКТ и МРТ снимков\n",
            "Список столбцов - замеров                         ['l<', 'l>', 'l^', 'lv', 'p<', 'p>', 'p^', 'pv']\n",
            "Центральное положение суставной головки Нормально [4.5, 1.9, 3.1, 1.5, 2.1, 4.5, 4.0, 1.8]\n",
            "Компрессия. Сужение суставной щели [2.3, 1.9, 2.2, nan, 1.8, 1.9, 1.9, nan]\n",
            "Центральное положение суставной головки Нормально [2.0, 1.1, 1.8, nan, nan, nan, nan, nan]\n",
            "Компрессия. Сужение суставной щели [nan, nan, nan, nan, 1.0, 3.0, 2.0, nan]\n"
          ]
        }
      ]
    }
  ]
}