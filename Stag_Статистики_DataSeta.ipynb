{
  "nbformat": 4,
  "nbformat_minor": 0,
  "metadata": {
    "colab": {
      "provenance": [],
      "gpuType": "T4",
      "collapsed_sections": [
        "gQfDwJ_Qftfo"
      ],
      "toc_visible": true,
      "include_colab_link": true
    },
    "kernelspec": {
      "name": "python3",
      "display_name": "Python 3"
    },
    "language_info": {
      "name": "python"
    },
    "gpuClass": "standard"
  },
  "cells": [
    {
      "cell_type": "markdown",
      "metadata": {
        "id": "view-in-github",
        "colab_type": "text"
      },
      "source": [
        "<a href=\"https://colab.research.google.com/github/OlegKuzmin1968/Oleg_Kuzmin/blob/main/Stag_%D0%A1%D1%82%D0%B0%D1%82%D0%B8%D1%81%D1%82%D0%B8%D0%BA%D0%B8_DataSeta.ipynb\" target=\"_parent\"><img src=\"https://colab.research.google.com/assets/colab-badge.svg\" alt=\"Open In Colab\"/></a>"
      ]
    },
    {
      "cell_type": "markdown",
      "source": [
        "# Стажировка"
      ],
      "metadata": {
        "id": "MJKR3qf-_XXV"
      }
    },
    {
      "cell_type": "code",
      "source": [
        "from google.colab import drive\n",
        "drive.mount('/content/drive')"
      ],
      "metadata": {
        "colab": {
          "base_uri": "https://localhost:8080/"
        },
        "id": "YE6R0Ub78I0Y",
        "outputId": "a7065d3f-0bab-49ac-b06f-f094328a8ff8"
      },
      "execution_count": 2,
      "outputs": [
        {
          "output_type": "stream",
          "name": "stdout",
          "text": [
            "Mounted at /content/drive\n"
          ]
        }
      ]
    },
    {
      "cell_type": "markdown",
      "metadata": {
        "id": "d_qXycKuUA51"
      },
      "source": [
        "# *Статистика исходных данных*\n",
        "\n",
        "**из TG** стоп я правильно понимаю?\n",
        "1. Сегментация грудной клетки\n",
        "2. Сегментация плеврального выпота\n",
        "3. Соответствующие исходные изображения КТ (DICOM)\n",
        "\n",
        "это наш весь дата сет?"
      ]
    },
    {
      "cell_type": "markdown",
      "source": [
        "# Загрузка"
      ],
      "metadata": {
        "id": "cjafllTSGW2O"
      }
    },
    {
      "cell_type": "code",
      "source": [
        "from nibabel.viewers import OrthoSlicer3D\n",
        "from nibabel import nifti1\n",
        "import nibabel as nib\n",
        "from matplotlib import pylab as plt\n",
        "import matplotlib\n",
        "import numpy as np\n",
        "import os\n",
        "from matplotlib import pyplot, cm\n",
        "from PIL import Image # Синтаксис и описание функции Image.open():"
      ],
      "metadata": {
        "id": "S5QsYH53bO0n"
      },
      "execution_count": 3,
      "outputs": []
    },
    {
      "cell_type": "markdown",
      "source": [
        "# Размещение DS на GooglDiske"
      ],
      "metadata": {
        "id": "Z1-mbKs90PEk"
      }
    },
    {
      "cell_type": "code",
      "source": [
        "# https://drive.google.com/drive/folders/15Qu0AyxLmbwcy7Nfka785C24GQ53jSuh\n",
        "# ссылка на googl disk Дмитрия Черемисова где находится весь ДС\n",
        "# https://drive.google.com/drive/folders/15Qu0AyxLmbwcy7Nfka785C24GQ53jSuh?usp=sharing"
      ],
      "metadata": {
        "id": "6crFXBg7n3gf"
      },
      "execution_count": null,
      "outputs": []
    },
    {
      "cell_type": "markdown",
      "source": [
        "**Очень важная команда - УДАЛЕНИЕ НЕПУСТОЙ ПАПКИ В COLABE**"
      ],
      "metadata": {
        "id": "LXLSSL_QVNAj"
      }
    },
    {
      "cell_type": "code",
      "source": [
        "#!rm -R /content/drive/MyDrive/Baza/Stag_1/Effusions_Directory/LUNG1-420 # УДАЛЕНИЕ НЕПУСТОЙ ПАПКИ В COLABE"
      ],
      "metadata": {
        "id": "KBST_T7rUyNQ"
      },
      "execution_count": null,
      "outputs": []
    },
    {
      "cell_type": "markdown",
      "source": [
        "**Распаковка zip файла сегментации преврального выпота**"
      ],
      "metadata": {
        "id": "OJy1l24DfhmX"
      }
    },
    {
      "cell_type": "code",
      "source": [
        "#  -q - не выводить на экран информацию о ходе процесса\n",
        "#  -d - /.../ куда разместить распакованные данные\n",
        "#  '/ '  - путь к файлу zip\n",
        "\n",
        "#!unzip -q '/content/drive/MyDrive/Baza/Stag_1/Effusions_Directory/PleThora Effusions June 2020.zip' -d /content/drive/MyDrive/Baza/Stag_1/\n",
        "#!unzip -q '/content/drive/MyDrive/Baza/Stag_1/Thoracic_Directory/PleThora Thoracic_Cavities June 2020.zip' -d /content/drive/MyDrive/Baza/Stag_1/"
      ],
      "metadata": {
        "id": "oNUs_4eZTgm4"
      },
      "execution_count": null,
      "outputs": []
    },
    {
      "cell_type": "markdown",
      "source": [
        "Места для хранения:\n",
        "\n",
        "Файл zip сегментированных выпотов - /content/drive/MyDrive/Baza/Stag_1/Effusions_Directory\n",
        "\n",
        "Файлы сегментированного выпота пациентов - /content/drive/MyDrive/Baza/Stag_1/Effusions\n",
        "\n",
        "Файлы с np-массивами сегментированных выпотов для каждого пациента - /content/drive/MyDrive/Baza/Stag_1/Effusions_np\n",
        "\n",
        "Файл zip оригинальных снимков - /content/drive/MyDrive/Baza/Stag_1/Original_Directory\n",
        "\n",
        "Файлы со снимками пациентов (несколько) - /content/drive/MyDrive/Baza/Stag_1/Original_Directory/NSCLC-Radiomics/LUNG1_090\n",
        "\n",
        "Файлы с np-массивами оригинальных снимков нескольких пациентов - /content/drive/MyDrive/Baza/Stag_1/Original_np"
      ],
      "metadata": {
        "id": "OTfvtXxd05jd"
      }
    },
    {
      "cell_type": "markdown",
      "source": [
        "**Содержание zip файла сегментированых выпотов из предоставленного заказчиком Data Seta**\n",
        "\n",
        "Pleural Effusion Segmentations (NIfTI, 1.7 MB zip)\n",
        "\n",
        " - PleThora Effusions June 2020.zip\n",
        "\n",
        "    - Effusions\n",
        "\n",
        "       - LUNG1-(001 - 420)\n",
        "\n",
        "         - LUNG1-420_effusion_third_reviewer.nii.gz   # Загружаем этот файл\n",
        "\n",
        "                - LUNG1-420_effusion_third_reviewer.nii\n",
        "\n"
      ],
      "metadata": {
        "id": "S-xtjf0s0gMn"
      }
    },
    {
      "cell_type": "markdown",
      "source": [
        "\n",
        "# **Список пациентов для которых сделана сегментации преврального выпота:**"
      ],
      "metadata": {
        "id": "CPk1ylIjxWi9"
      }
    },
    {
      "cell_type": "code",
      "source": [
        "Effusions_list = os.listdir('/content/drive/MyDrive/Baza/Stag_1/Effusions')\n",
        "\n",
        "print ('Список пациентов для которых сделана сегментации преврального выпота: ', type (Effusions_list))\n",
        "print ('Количество пациентов в списке: ', len(Effusions_list))\n",
        "print ('Сам список: ', Effusions_list)"
      ],
      "metadata": {
        "colab": {
          "base_uri": "https://localhost:8080/"
        },
        "id": "Jiyv1E8jhdye",
        "outputId": "e87a2d76-5b6b-4e0f-f5db-810f7122e099"
      },
      "execution_count": 4,
      "outputs": [
        {
          "output_type": "stream",
          "name": "stdout",
          "text": [
            "Список пациентов для которых сделана сегментации преврального выпота:  <class 'list'>\n",
            "Количество пациентов в списке:  78\n",
            "Сам список:  ['LUNG1-001', 'LUNG1-002', 'LUNG1-005', 'LUNG1-008', 'LUNG1-013', 'LUNG1-016', 'LUNG1-018', 'LUNG1-024', 'LUNG1-026', 'LUNG1-028', 'LUNG1-035', 'LUNG1-038', 'LUNG1-042', 'LUNG1-046', 'LUNG1-050', 'LUNG1-051', 'LUNG1-053', 'LUNG1-060', 'LUNG1-065', 'LUNG1-068', 'LUNG1-088', 'LUNG1-091', 'LUNG1-093', 'LUNG1-095', 'LUNG1-097', 'LUNG1-104', 'LUNG1-107', 'LUNG1-113', 'LUNG1-115', 'LUNG1-117', 'LUNG1-128', 'LUNG1-133', 'LUNG1-143', 'LUNG1-148', 'LUNG1-149', 'LUNG1-156', 'LUNG1-168', 'LUNG1-170', 'LUNG1-177', 'LUNG1-186', 'LUNG1-195', 'LUNG1-196', 'LUNG1-205', 'LUNG1-229', 'LUNG1-242', 'LUNG1-249', 'LUNG1-252', 'LUNG1-253', 'LUNG1-277', 'LUNG1-285', 'LUNG1-286', 'LUNG1-291', 'LUNG1-296', 'LUNG1-299', 'LUNG1-301', 'LUNG1-303', 'LUNG1-307', 'LUNG1-312', 'LUNG1-314', 'LUNG1-320', 'LUNG1-325', 'LUNG1-331', 'LUNG1-336', 'LUNG1-340', 'LUNG1-343', 'LUNG1-348', 'LUNG1-361', 'LUNG1-362', 'LUNG1-366', 'LUNG1-367', 'LUNG1-376', 'LUNG1-377', 'LUNG1-381', 'LUNG1-387', 'LUNG1-396', 'LUNG1-416', 'LUNG1-418', 'LUNG1-420']\n"
          ]
        }
      ]
    },
    {
      "cell_type": "markdown",
      "source": [
        "## **Список исследований каждого пациента, для которого сделана сегментации преврального выпота:**"
      ],
      "metadata": {
        "id": "i5hI-5OXw1eo"
      }
    },
    {
      "cell_type": "code",
      "source": [
        "LUNG1_001 = os.listdir('/content/drive/MyDrive/Baza/Stag_1/Effusions/LUNG1-001')\n",
        "print ('Список исследований пациентов для которых сделана сегментации преврального выпота: ', type (LUNG1_001))\n",
        "print ('Количество исследований в списке: ', len(LUNG1_001))\n",
        "print ('Сам список исследований: ', LUNG1_001)"
      ],
      "metadata": {
        "colab": {
          "base_uri": "https://localhost:8080/"
        },
        "id": "2dQm9SSovQCr",
        "outputId": "c2224a4c-1a84-45d5-b88f-a71fd0fc87e5"
      },
      "execution_count": 5,
      "outputs": [
        {
          "output_type": "stream",
          "name": "stdout",
          "text": [
            "Список исследований пациентов для которых сделана сегментации преврального выпота:  <class 'list'>\n",
            "Количество исследований в списке:  2\n",
            "Сам список исследований:  ['LUNG1-001_effusion_first_reviewer.nii.gz', 'LUNG1-001_effusion_second_reviewer.nii.gz']\n"
          ]
        }
      ]
    },
    {
      "cell_type": "markdown",
      "source": [
        "# **Список пациентов c оригинальными снимками:**"
      ],
      "metadata": {
        "id": "ut94Ho-1CnSA"
      }
    },
    {
      "cell_type": "markdown",
      "source": [
        "## **Получим список всех имеющихся в папке Original_Directory/NSCLC-Radiomics  пациентов**\n",
        "\n",
        "(код для моего диска в Colab) По хорошему, здесь должен быть код для чтения такой же папки по ссылке с общим доступом.)"
      ],
      "metadata": {
        "id": "shQr6H2Nna9_"
      }
    },
    {
      "cell_type": "code",
      "source": [
        "# Присвоим переменной q путь к папке где хранятся все снимки\n",
        "q = '/content/drive/MyDrive/Baza/Stag_1/Original_Directory/NSCLC-Radiomics'\n",
        "print (' q-', q,'\\n','Тип переменной q -', type(q))"
      ],
      "metadata": {
        "colab": {
          "base_uri": "https://localhost:8080/"
        },
        "id": "TXuvcEk6UalB",
        "outputId": "8723ec98-2ed2-4c63-9036-9af0911d84d1"
      },
      "execution_count": 6,
      "outputs": [
        {
          "output_type": "stream",
          "name": "stdout",
          "text": [
            " q- /content/drive/MyDrive/Baza/Stag_1/Original_Directory/NSCLC-Radiomics \n",
            " Тип переменной q - <class 'str'>\n"
          ]
        }
      ]
    },
    {
      "cell_type": "code",
      "source": [
        "# Получим список пациентов с оригинальными снимками\n",
        "\n",
        "Original_list = os.listdir(q) # занесем всех пациентов с оригинальными снимками в список\n",
        "Original_list.sort()          # отсортируем список\n",
        "print ('Список всех имеющихся в папке Original_Directory/NSCLC-Radiomics пациентов: ', type (Original_list))\n",
        "print ('Количество пациентов в списке: ', len(Original_list))\n",
        "print ('Сам список: ', Original_list)"
      ],
      "metadata": {
        "id": "QsXWu2kJKoHB",
        "colab": {
          "base_uri": "https://localhost:8080/"
        },
        "outputId": "7542d099-748e-4b73-d5bf-1af00e974fad"
      },
      "execution_count": 7,
      "outputs": [
        {
          "output_type": "stream",
          "name": "stdout",
          "text": [
            "Список всех имеющихся в папке Original_Directory/NSCLC-Radiomics пациентов:  <class 'list'>\n",
            "Количество пациентов в списке:  12\n",
            "Сам список:  ['LUNG1_090', 'LUNG1_091', 'LUNG1_092', 'LUNG1_093', 'LUNG1_094', 'LUNG1_096', 'LUNG1_097', 'LUNG1_098', 'LUNG1_099', 'LUNG1_396', 'LUNG1_397', 'LUNG1_400']\n"
          ]
        }
      ]
    },
    {
      "cell_type": "markdown",
      "source": [
        "## **Получим список пациентов у которых нет оригинальных снимков**\n",
        "\n",
        "(порядковые номера этих пациентов отсутствуют в папке оригинальных снимков). Такое построение DS мне не совсем нравиться из-за того, что в дальнейшей работе используется множество различных счетчиков и ссылок и в их работе возможны некие сбои. Для того чтобы исключить подобные моменты и получать более правильную статистику, я бы не стал нарушать сквозную нумерацию пациентов. Что касается причины, подобных пропусков (058,059,060,___,062,063), то она понятна: у пациента 061 снимок оказался некачественный, и его тупо del.    "
      ],
      "metadata": {
        "id": "cd5Xst58aJKQ"
      }
    },
    {
      "cell_type": "code",
      "source": [
        "# Получим список пациентов у которых нет оригинальных снимков\n",
        "\n",
        "Original_list_none = ['LUNG1_003','LUNG1_014','LUNG1_021','LUNG1_031','LUNG1_058','LUNG1_061','LUNG1_069','LUNG1_074','LUNG1_083','LUNG1_085','LUNG1_095','LUNG1_137','LUNG1_180','LUNG1_194','LUNG1_201','LUNG1_207','LUNG1_209','LUNG1_228','LUNG1_246','LUNG1_272']\n",
        "print ('Количество пациентов у которых нет оригинальных снимков: ', len(Original_list_none))\n",
        "print ('Пациенты без оригинальных снимков: ', Original_list_none)\n"
      ],
      "metadata": {
        "colab": {
          "base_uri": "https://localhost:8080/"
        },
        "id": "tO71dAKhoz9k",
        "outputId": "4d92b6e9-288e-414e-dddd-c18c9d4a7702"
      },
      "execution_count": 12,
      "outputs": [
        {
          "output_type": "stream",
          "name": "stdout",
          "text": [
            "Количество пациентов у которых нет оригинальных снимков:  20\n",
            "Пациенты без оригинальных снимков:  ['LUNG1_003', 'LUNG1_014', 'LUNG1_021', 'LUNG1_031', 'LUNG1_058', 'LUNG1_061', 'LUNG1_069', 'LUNG1_074', 'LUNG1_083', 'LUNG1_085', 'LUNG1_095', 'LUNG1_137', 'LUNG1_180', 'LUNG1_194', 'LUNG1_201', 'LUNG1_207', 'LUNG1_209', 'LUNG1_228', 'LUNG1_246', 'LUNG1_272']\n"
          ]
        }
      ]
    },
    {
      "cell_type": "markdown",
      "source": [
        "## **Список пациентов с нестандартными снимками:**\n",
        "\n",
        "(информация от других участников проекта)\n"
      ],
      "metadata": {
        "id": "T7gs_vVhVmye"
      }
    },
    {
      "cell_type": "code",
      "source": [
        "Original_list_nonstandart = ['LUNG1_111','LUNG1_396']\n",
        "print ('Количество пациентов с нестандартными снимками: ', len(Original_list_nonstandart))\n",
        "print ('Список пациентов с нестандартными снимками: ', Original_list_nonstandart)"
      ],
      "metadata": {
        "colab": {
          "base_uri": "https://localhost:8080/"
        },
        "id": "zJxsUSt2V80W",
        "outputId": "e72aa61a-50d1-46c9-aec1-369616cdc44d"
      },
      "execution_count": 13,
      "outputs": [
        {
          "output_type": "stream",
          "name": "stdout",
          "text": [
            "Количество пациентов с нестандартными снимками:  2\n",
            "Список пациентов с нестандартными снимками:  ['LUNG1_111', 'LUNG1_396']\n"
          ]
        }
      ]
    },
    {
      "cell_type": "markdown",
      "source": [
        "## **Список пациентов у которых, предположительно, нет заболевания**\n",
        "\n",
        "Предположение основано на факте отсутствия файла сегментированного выпота."
      ],
      "metadata": {
        "id": "6cfcSorncaes"
      }
    },
    {
      "cell_type": "code",
      "source": [
        "# Для получения списка здоровых пациентов сделаем следующее:\n",
        "#      1. Добавим к списку пациентов с выпотом список нестандартных файлов\n",
        "\n",
        "Exclusion_list = []\n",
        "Exclusion_list.extend(Effusions_list)\n",
        "Exclusion_list.extend(Original_list_none)\n",
        "print ('Количество пациентов в листе исключения: ', len(Exclusion_list))\n",
        "print ('Срез списка пациентов в листе исключения: ', Exclusion_list[-6:])\n",
        "\n",
        "#      2. Удалим из общего списка список, полученный в первом пункте.\n",
        "\n",
        "healthy_list = [item for item in Original_list if item not in Exclusion_list]\n",
        "print ('Количество здоровых пациентов для формирования x_train( на моем диске): ', len(healthy_list))\n",
        "print ('Список здоровых пациентов для формирования x_train: ', healthy_list [-3:])\n"
      ],
      "metadata": {
        "colab": {
          "base_uri": "https://localhost:8080/"
        },
        "id": "m4b3OdJjc93V",
        "outputId": "157d7c0f-b4ec-4b19-a4e5-16e081953912"
      },
      "execution_count": 10,
      "outputs": [
        {
          "output_type": "stream",
          "name": "stdout",
          "text": [
            "Количество пациентов в листе исключения:  80\n",
            "Срез списка пациентов в листе исключения:  ['LUNG1-396', 'LUNG1-416', 'LUNG1-418', 'LUNG1-420', 'LUNG1_111', 'LUNG1_396']\n",
            "Количество здоровых пациентов для формирования x_train( на моем диске):  11\n",
            "Список здоровых пациентов для формирования x_train:  ['LUNG1_099', 'LUNG1_397', 'LUNG1_400']\n"
          ]
        }
      ]
    },
    {
      "cell_type": "markdown",
      "source": [
        "# Вывод по первой части"
      ],
      "metadata": {
        "id": "nJQ6iZOlwhLM"
      }
    },
    {
      "cell_type": "markdown",
      "source": [
        "*У нас есть список ID пациентов для которых сделана сегментация выпота. Всего, пациентов с оригинальными снимками в DS было 422-а пациента. Из них файлы отсутствуют для 20-ти пациентов. Примем в качестве условия для формирования y_Train то, что у всех остальных пациентов, не вошедших в список с сегментацией выпота, болезнь не обнаружена. Таких пациентов будет, около 344.*"
      ],
      "metadata": {
        "id": "uCmk8lGNlPgB"
      }
    },
    {
      "cell_type": "code",
      "source": [
        "print ('Список всех имеющихся в папке Original_Directory/NSCLC-Radiomics пациентов: ', len(Original_list))\n",
        "print ('Отсутствуют пациенты в списке оригинальных снимков: ', len(Original_list_none))\n",
        "print ('Список пациентов для которых сделана сегментации преврального выпота: ', len(Effusions_list))\n",
        "\n",
        "print ('Количество пациентов с нестандартными снимками: ', len(Original_list_nonstandart))\n",
        "print ('Количество пациентов в листе исключения: ', len(Exclusion_list))\n",
        "print ('Количество здоровых пациентов для формирования x_train( на моем диске): ', len(healthy_list))\n"
      ],
      "metadata": {
        "colab": {
          "base_uri": "https://localhost:8080/"
        },
        "id": "nBej72qawnlt",
        "outputId": "7e29cadb-6ac9-474f-9d0d-a93f9711a94c"
      },
      "execution_count": 14,
      "outputs": [
        {
          "output_type": "stream",
          "name": "stdout",
          "text": [
            "Список всех имеющихся в папке Original_Directory/NSCLC-Radiomics пациентов:  12\n",
            "Отсутствуют пациенты в списке оригинальных снимков:  20\n",
            "Список пациентов для которых сделана сегментации преврального выпота:  78\n",
            "Количество пациентов с нестандартными снимками:  2\n",
            "Количество пациентов в листе исключения:  80\n",
            "Количество здоровых пациентов для формирования x_train( на моем диске):  11\n"
          ]
        }
      ]
    },
    {
      "cell_type": "markdown",
      "source": [
        "# Размещение DS на GooglDiske"
      ],
      "metadata": {
        "id": "gQfDwJ_Qftfo"
      }
    },
    {
      "cell_type": "code",
      "source": [
        "path = '/content/drive/MyDrive/Baza/Stag_1'\n",
        "print('Путь к датасету', path)\n"
      ],
      "metadata": {
        "colab": {
          "base_uri": "https://localhost:8080/"
        },
        "id": "q0lfCGa0heCV",
        "outputId": "09be62b9-ec59-4268-ebb7-71b07aa92bb0"
      },
      "execution_count": null,
      "outputs": [
        {
          "output_type": "stream",
          "name": "stdout",
          "text": [
            "Путь к датасету /content/drive/MyDrive/Baza/Stag_1\n"
          ]
        }
      ]
    },
    {
      "cell_type": "code",
      "source": [
        "# Установка параметров\n",
        "DataSetPath = os.path.join(os.getcwd(), path +'/')   #'lungs\\\\PNGDatasePart10Copy','lungs') #Путь к датасету\n",
        "print (DataSetPath)\n",
        "Original_Directory = 'Originals'      # Папка в которой лежат оригиналы\n",
        "Effusions_Directory = 'Effusions' #_Directory     # Папка в которй лежат сегментированные выпоты\n",
        "Thoracic_Directory = 'Thoracic'       # Папка в которой лежат сегментированные грудные полости\n",
        "\n",
        "OriginalPath=os.path.join(DataSetPath,Original_Directory)\n",
        "EffusionsPath =os.path.join(DataSetPath,Effusions_Directory)\n",
        "ThoracicPath=os.path.join(DataSetPath,Thoracic_Directory)\n",
        "\n",
        "\n",
        "print(OriginalPath) # 'D:\\\\Лёгкое\\\\lungs\\\\Matveev\\\\lungs\\\\PNGDatasePart10Copy\\\\lungs\\\\Originals'\n",
        "print(EffusionsPath)"
      ],
      "metadata": {
        "colab": {
          "base_uri": "https://localhost:8080/"
        },
        "id": "oNNihX44c81H",
        "outputId": "ef4b3e3e-e9df-4562-9e5f-dff8e4907993"
      },
      "execution_count": null,
      "outputs": [
        {
          "output_type": "stream",
          "name": "stdout",
          "text": [
            "/content/drive/MyDrive/Baza/Stag_1/\n",
            "/content/drive/MyDrive/Baza/Stag_1/Originals\n",
            "/content/drive/MyDrive/Baza/Stag_1/Effusions\n"
          ]
        }
      ]
    },
    {
      "cell_type": "code",
      "source": [
        "\n",
        "#rr = os.listdir (DataSetPath)\n",
        "#print (rr)\n",
        "r = os.listdir('/content/drive/MyDrive/Baza/Stag_1/Effusions')\n",
        "print (r)                      # .ipynb_checkpoints - контрольные точки"
      ],
      "metadata": {
        "colab": {
          "base_uri": "https://localhost:8080/"
        },
        "id": "slFzVlAm0Rh3",
        "outputId": "d6106ca0-c6b5-4270-8bb6-5594dec0952e"
      },
      "execution_count": null,
      "outputs": [
        {
          "output_type": "stream",
          "name": "stdout",
          "text": [
            "['LUNG1-001', 'LUNG1-002', 'LUNG1-005', 'LUNG1-008', 'LUNG1-013', 'LUNG1-016', 'LUNG1-018', 'LUNG1-024', 'LUNG1-026', 'LUNG1-028', 'LUNG1-035', 'LUNG1-038', 'LUNG1-042', 'LUNG1-046', 'LUNG1-050', 'LUNG1-051', 'LUNG1-053', 'LUNG1-060', 'LUNG1-065', 'LUNG1-068', 'LUNG1-088', 'LUNG1-091', 'LUNG1-093', 'LUNG1-095', 'LUNG1-097', 'LUNG1-104', 'LUNG1-107', 'LUNG1-113', 'LUNG1-115', 'LUNG1-117', 'LUNG1-128', 'LUNG1-133', 'LUNG1-143', 'LUNG1-148', 'LUNG1-149', 'LUNG1-156', 'LUNG1-168', 'LUNG1-170', 'LUNG1-177', 'LUNG1-186', 'LUNG1-195', 'LUNG1-196', 'LUNG1-205', 'LUNG1-229', 'LUNG1-242', 'LUNG1-249', 'LUNG1-252', 'LUNG1-253', 'LUNG1-277', 'LUNG1-285', 'LUNG1-286', 'LUNG1-291', 'LUNG1-296', 'LUNG1-299', 'LUNG1-301', 'LUNG1-303', 'LUNG1-307', 'LUNG1-312', 'LUNG1-314', 'LUNG1-320', 'LUNG1-325', 'LUNG1-331', 'LUNG1-336', 'LUNG1-340', 'LUNG1-343', 'LUNG1-348', 'LUNG1-361', 'LUNG1-362', 'LUNG1-366', 'LUNG1-367', 'LUNG1-376', 'LUNG1-377', 'LUNG1-381', 'LUNG1-387', 'LUNG1-396', 'LUNG1-416', 'LUNG1-418', 'LUNG1-420']\n"
          ]
        }
      ]
    },
    {
      "cell_type": "code",
      "source": [
        "#Возвращает список полных путей к файлам с оригинальными изображениями\n",
        "def get_original_full_paths(OriginalPath=OriginalPath):\n",
        "  OriginalFileList=[]\n",
        "  if SourceType=='PNG':\n",
        "    OriginalFileList=os.listdir(OriginalPath)\n",
        "    for index,FileName in enumerate(OriginalFileList):\n",
        "      OriginalFileList[index] = os.path.join(OriginalPath,FileName)\n",
        "  return OriginalFileList"
      ],
      "metadata": {
        "id": "6QihCiEEbth-"
      },
      "execution_count": null,
      "outputs": []
    },
    {
      "cell_type": "code",
      "source": [
        "OriginalFileList=get_original_full_paths()#Получили список путей к файлам\n",
        "print (f'Всего оригинальных изображений: {len(OriginalFileList)}')\n",
        "\n",
        "# Всего оригинальных изображений: 1003"
      ],
      "metadata": {
        "id": "02CayOwbb_vu"
      },
      "execution_count": null,
      "outputs": []
    }
  ]
}