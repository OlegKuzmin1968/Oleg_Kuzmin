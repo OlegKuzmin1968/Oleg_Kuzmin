{
  "nbformat": 4,
  "nbformat_minor": 0,
  "metadata": {
    "colab": {
      "provenance": [],
      "gpuType": "T4",
      "include_colab_link": true
    },
    "kernelspec": {
      "name": "python3",
      "display_name": "Python 3"
    },
    "language_info": {
      "name": "python"
    },
    "gpuClass": "standard"
  },
  "cells": [
    {
      "cell_type": "markdown",
      "metadata": {
        "id": "view-in-github",
        "colab_type": "text"
      },
      "source": [
        "<a href=\"https://colab.research.google.com/github/OlegKuzmin1968/Oleg_Kuzmin/blob/main/Stag_%D0%A7%D1%82%D0%B5%D0%BD%D0%B8%D0%B5_NIfTI.ipynb\" target=\"_parent\"><img src=\"https://colab.research.google.com/assets/colab-badge.svg\" alt=\"Open In Colab\"/></a>"
      ]
    },
    {
      "cell_type": "markdown",
      "source": [
        "# Стажировка"
      ],
      "metadata": {
        "id": "MJKR3qf-_XXV"
      }
    },
    {
      "cell_type": "code",
      "source": [
        "from google.colab import drive\n",
        "drive.mount('/content/drive')"
      ],
      "metadata": {
        "colab": {
          "base_uri": "https://localhost:8080/"
        },
        "id": "YE6R0Ub78I0Y",
        "outputId": "7b66600e-495d-4626-e430-44ef65033ea4"
      },
      "execution_count": 3,
      "outputs": [
        {
          "output_type": "stream",
          "name": "stdout",
          "text": [
            "Drive already mounted at /content/drive; to attempt to forcibly remount, call drive.mount(\"/content/drive\", force_remount=True).\n"
          ]
        }
      ]
    },
    {
      "cell_type": "markdown",
      "metadata": {
        "id": "d_qXycKuUA51"
      },
      "source": [
        "# *Обработка Python. NII-файла (nifti) и DICOM-файла*"
      ]
    },
    {
      "cell_type": "markdown",
      "source": [
        "# Загрузка"
      ],
      "metadata": {
        "id": "cjafllTSGW2O"
      }
    },
    {
      "cell_type": "code",
      "source": [
        "from nibabel.viewers import OrthoSlicer3D\n",
        "from nibabel import nifti1\n",
        "import nibabel as nib\n",
        "from matplotlib import pylab as plt\n",
        "import matplotlib\n",
        "import numpy as np\n",
        "from matplotlib import pyplot, cm\n",
        "import os"
      ],
      "metadata": {
        "id": "S5QsYH53bO0n"
      },
      "execution_count": null,
      "outputs": []
    },
    {
      "cell_type": "code",
      "source": [
        "from PIL import Image # Синтаксис и описание функции Image.open():"
      ],
      "metadata": {
        "id": "JvzJKKAfwGUB"
      },
      "execution_count": null,
      "outputs": []
    },
    {
      "cell_type": "code",
      "source": [
        "img.dataobj?"
      ],
      "metadata": {
        "id": "6crFXBg7n3gf"
      },
      "execution_count": null,
      "outputs": []
    },
    {
      "cell_type": "markdown",
      "source": [
        "# Сегментация плеврального выпота (NIfTI)"
      ],
      "metadata": {
        "id": "ptj-M8ATFGgT"
      }
    },
    {
      "cell_type": "markdown",
      "source": [
        "Файл из предоставленного заказчиком Data Seta\n",
        "\n",
        "**Pleural Effusion Segmentations (NIfTI, 1.7 MB zip)**\n",
        "\n",
        "     - PleThora Effusions June 2020\n",
        "\n",
        "        - Effusions\n",
        "\n",
        "           - LUNG1-420\n",
        "\n",
        "             - LUNG1-420_effusion_third_reviewer.nii.gz   # Загружаем этот файл\n",
        "\n",
        "                    - LUNG1-420_effusion_third_reviewer.nii"
      ],
      "metadata": {
        "id": "ZsS9DlQNFlkb"
      }
    },
    {
      "cell_type": "markdown",
      "source": [
        "## Читаем информацию и выводим несколько изображений из файла ххх/nii.gz"
      ],
      "metadata": {
        "id": "gU5pxjYVMo8J"
      }
    },
    {
      "cell_type": "code",
      "source": [
        "# Разместил файл у себя на Google диске\n",
        "# Укажим путь и имя файла nii.gz, который хотим посмотреть\n",
        "example_filename = '/content/drive/MyDrive/Stag/LUNG1-420_effusion_third_reviewer.nii.gz'\n",
        "img = nib.load(example_filename)     # Загружаем файл в переменную\n",
        "\n",
        "\n",
        " # Смотрим что загрузили\n",
        "print('что это? ', img, '\\n' )            # выдаем много информации\n",
        "print('смотрим размерность ', img.shape)  # смотрим размерность\n",
        "print('это:  ', img.dataobj.shape)        # смотрим размерность\n",
        "\n",
        " # Печатаем только три параметра размерности\n",
        "width, height, queue = img.dataobj.shape\n",
        "print('width', width)\n",
        "print('height', height)\n",
        "print('queue', queue)\n",
        "\n",
        " # Показать 3D -изображение\n",
        "# OrthoSlicer3D(img.dataobj).show()  # выводит пустое окно ???\n",
        "\n",
        "\n",
        " # Рассчет, количества окон на экране для размещения всех срезов\n",
        "x = int((queue/10) ** 0.5) + 1   # выводим каждый 10-й слайс\n",
        "num = 1                          # порядковый номер картинки\n",
        "\n",
        " # Выводим в цикле каждый 10-й слайс, из всех имеющихся queue. Отображаем 2D -изображение.\n",
        "for i in range(0, queue, 10):\n",
        "  img_arr = img.dataobj[:, :, i]\n",
        "  plt.subplot(x, x, num)\n",
        "  plt.imshow(img_arr, cmap='gray')\n",
        "  num += 1\n",
        "\n",
        "\n",
        "plt.show()"
      ],
      "metadata": {
        "colab": {
          "base_uri": "https://localhost:8080/",
          "height": 1000
        },
        "id": "U7OImFgycJgw",
        "outputId": "979f8c52-b690-4827-e993-a02055c30568"
      },
      "execution_count": null,
      "outputs": [
        {
          "output_type": "stream",
          "name": "stdout",
          "text": [
            "что это?  <class 'nibabel.nifti1.Nifti1Image'>\n",
            "data shape (512, 512, 134)\n",
            "affine: \n",
            "[[  -0.9765625    -0.            0.          249.51171875]\n",
            " [  -0.            0.9765625    -0.          -51.51171875]\n",
            " [   0.            0.            3.         -709.        ]\n",
            " [   0.            0.            0.            1.        ]]\n",
            "metadata:\n",
            "<class 'nibabel.nifti1.Nifti1Header'> object, endian='<'\n",
            "sizeof_hdr      : 348\n",
            "data_type       : b''\n",
            "db_name         : b''\n",
            "extents         : 0\n",
            "session_error   : 0\n",
            "regular         : b'r'\n",
            "dim_info        : 0\n",
            "dim             : [  3 512 512 134   1   1   1   1]\n",
            "intent_p1       : 0.0\n",
            "intent_p2       : 0.0\n",
            "intent_p3       : 0.0\n",
            "intent_code     : none\n",
            "datatype        : uint16\n",
            "bitpix          : 16\n",
            "slice_start     : 0\n",
            "pixdim          : [-1.         0.9765625  0.9765625  3.         0.         0.\n",
            "  0.         0.       ]\n",
            "vox_offset      : 0.0\n",
            "scl_slope       : nan\n",
            "scl_inter       : nan\n",
            "slice_end       : 0\n",
            "slice_code      : unknown\n",
            "xyzt_units      : 2\n",
            "cal_max         : 0.0\n",
            "cal_min         : 0.0\n",
            "slice_duration  : 0.0\n",
            "toffset         : 0.0\n",
            "glmax           : 0\n",
            "glmin           : 0\n",
            "descrip         : b''\n",
            "aux_file        : b''\n",
            "qform_code      : aligned\n",
            "sform_code      : scanner\n",
            "quatern_b       : -0.0\n",
            "quatern_c       : 1.0\n",
            "quatern_d       : 0.0\n",
            "qoffset_x       : 249.51172\n",
            "qoffset_y       : -51.51172\n",
            "qoffset_z       : -709.0\n",
            "srow_x          : [ -0.9765625  -0.          0.        249.51172  ]\n",
            "srow_y          : [ -0.          0.9765625  -0.        -51.51172  ]\n",
            "srow_z          : [   0.    0.    3. -709.]\n",
            "intent_name     : b''\n",
            "magic           : b'n+1' \n",
            "\n",
            "смотрим размерность  (512, 512, 134)\n",
            "это:   (512, 512, 134)\n",
            "width 512\n",
            "height 512\n",
            "queue 134\n"
          ]
        },
        {
          "output_type": "display_data",
          "data": {
            "text/plain": [
              "<Figure size 640x480 with 14 Axes>"
            ],
            "image/png": "[encoded data removed]"
          },
          "metadata": {}
        }
      ]
    },
    {
      "cell_type": "markdown",
      "source": [
        "## Выводим один из слайсов файла ххх/nii.gz"
      ],
      "metadata": {
        "id": "8DQQ0CAnNbhq"
      }
    },
    {
      "cell_type": "code",
      "source": [
        "type (img)"
      ],
      "metadata": {
        "colab": {
          "base_uri": "https://localhost:8080/"
        },
        "id": "Zi8Xj0OAoD4v",
        "outputId": "06caa5a5-5a6c-4de6-a1b1-c7618e02bc69"
      },
      "execution_count": null,
      "outputs": [
        {
          "output_type": "execute_result",
          "data": {
            "text/plain": [
              "nibabel.nifti1.Nifti1Image"
            ]
          },
          "metadata": {},
          "execution_count": 101
        }
      ]
    },
    {
      "cell_type": "code",
      "source": [
        "w = img[:,:,45]  # Невозможно нарезать объекты изображений;\n",
        "# рассмотрите возможность использования `img.slicer[slice]`\n",
        "# для создания нарезанного изображения (смотрите документацию для предостережений)\n",
        "# или нарезки данных массива изображений с помощью `img.dataobj[slice]`\n",
        "# или `img.get_fdata()[slice]`"
      ],
      "metadata": {
        "id": "H1uYPkUFoUAd"
      },
      "execution_count": null,
      "outputs": []
    },
    {
      "cell_type": "code",
      "source": [
        "w = img.dataobj[:,:,44]                         # вытаскиваем из img - переменной, которая содержит 134 слайса, один 44\n",
        "print('Размер переменной w.shape', w.shape)\n",
        "\n",
        "plt.imshow (w, cmap='gray')\n",
        "plt.show()"
      ],
      "metadata": {
        "colab": {
          "base_uri": "https://localhost:8080/",
          "height": 453
        },
        "id": "V7p8kRHopKwa",
        "outputId": "4110abb4-fbee-4a82-9289-e63f59365aa6"
      },
      "execution_count": null,
      "outputs": [
        {
          "output_type": "stream",
          "name": "stdout",
          "text": [
            "Размер переменной w.shape (512, 512)\n"
          ]
        },
        {
          "output_type": "display_data",
          "data": {
            "text/plain": [
              "<Figure size 640x480 with 1 Axes>"
            ],
            "image/png": "[encoded data removed]"
          },
          "metadata": {}
        }
      ]
    },
    {
      "cell_type": "markdown",
      "source": [
        "## Преобразуем  **class 'nibabel.nifti1.Nifti1Image'** в np-массив"
      ],
      "metadata": {
        "id": "QopHhEPG2nuZ"
      }
    },
    {
      "cell_type": "code",
      "source": [
        "print('Тип переменной одного слайса -',type (img))\n",
        "print('Переводим его в np-массив')\n",
        "w_np = np.array (w)\n",
        "print('Новый тип переменной', type(w_np), 'Размерность', w_np.shape)"
      ],
      "metadata": {
        "colab": {
          "base_uri": "https://localhost:8080/"
        },
        "id": "QE8EhiOFsUVB",
        "outputId": "ea18c95f-94fa-45f1-eed1-b7a82077cdaa"
      },
      "execution_count": null,
      "outputs": [
        {
          "output_type": "stream",
          "name": "stdout",
          "text": [
            "Тип переменной одного слайса - <class 'nibabel.nifti1.Nifti1Image'>\n",
            "Переводим его в np-массив\n",
            "Новый тип переменной <class 'numpy.ndarray'> Размерность (512, 512)\n"
          ]
        }
      ]
    },
    {
      "cell_type": "code",
      "source": [
        "# Добавим размерность для подачи в НС\n",
        "w_np3 = np.reshape (w_np,[512,512,1])\n",
        "print('Тип переменной-',type(w_np3), 'Размер-', w_np3.shape)"
      ],
      "metadata": {
        "colab": {
          "base_uri": "https://localhost:8080/"
        },
        "id": "jVL40GlJs-_r",
        "outputId": "85ee5ab9-2aed-4697-df00-45b4f5fe7706"
      },
      "execution_count": null,
      "outputs": [
        {
          "output_type": "stream",
          "name": "stdout",
          "text": [
            "Тип переменной- <class 'numpy.ndarray'> Размер- (512, 512, 1)\n"
          ]
        }
      ]
    },
    {
      "cell_type": "markdown",
      "source": [
        "### Запись и чтение массива на GooglDick\n"
      ],
      "metadata": {
        "id": "S_s7CAImaB9E"
      }
    },
    {
      "cell_type": "code",
      "source": [
        "a = np.array([1, 2, 3, 4, 5,6]) # создаем массив\n",
        "\n",
        "with open('/content/drive/MyDrive/Baza/Stag_1/np/array.txt', 'w') as f: # Оператор with создает диспетчер контекста в Пайтоне,\n",
        "                                                                        # который автоматически закрывает файл для вас, по окончанию работы в нем.\n",
        "  np.savetxt(f, a)\n"
      ],
      "metadata": {
        "id": "eQMhEDJJaPQI"
      },
      "execution_count": null,
      "outputs": []
    },
    {
      "cell_type": "code",
      "source": [
        "# Чтения массива в NB colab d gthtvtyye. np_array:\n",
        "\n",
        "with open('/content/drive/MyDrive/Baza/Stag_1/np/array.txt', 'r') as f:\n",
        "  a = np.loadtxt(f)\n",
        "  print('a', a, type(a), a.shape)"
      ],
      "metadata": {
        "colab": {
          "base_uri": "https://localhost:8080/"
        },
        "id": "m0SmS1PSdW3E",
        "outputId": "66bdeaa5-cdfd-42da-b862-21304af7d682"
      },
      "execution_count": null,
      "outputs": [
        {
          "output_type": "stream",
          "name": "stdout",
          "text": [
            "a [1. 2. 3. 4. 5. 6.] <class 'numpy.ndarray'> (6,)\n"
          ]
        }
      ]
    },
    {
      "cell_type": "markdown",
      "source": [
        "### Технология сборки слайсов в один 3D np-массив"
      ],
      "metadata": {
        "id": "7nqSWL-kF1Rg"
      }
    },
    {
      "cell_type": "code",
      "metadata": {
        "id": "W3sf1oMKWq3k",
        "outputId": "eed42f95-6aa4-4b0a-ba05-7de1ae6e1b3e",
        "colab": {
          "base_uri": "https://localhost:8080/"
        }
      },
      "source": [
        "mas1 = np.random.randint(1,5, (1,2,2))\n",
        "print (mas1, mas1.shape)"
      ],
      "execution_count": null,
      "outputs": [
        {
          "output_type": "stream",
          "name": "stdout",
          "text": [
            "[[[2 1]\n",
            "  [2 4]]] (1, 2, 2)\n"
          ]
        }
      ]
    },
    {
      "cell_type": "code",
      "source": [
        "mas2 = np.random.randint(5,10, (1,2,2))\n",
        "print (mas2, mas2.shape)"
      ],
      "metadata": {
        "colab": {
          "base_uri": "https://localhost:8080/"
        },
        "id": "vvIPQKqy7IMq",
        "outputId": "3bdc8bfe-dd5b-4d03-a584-4e6f6f0b32cf"
      },
      "execution_count": null,
      "outputs": [
        {
          "output_type": "stream",
          "name": "stdout",
          "text": [
            "[[[8 8]\n",
            "  [5 5]]] (1, 2, 2)\n"
          ]
        }
      ]
    },
    {
      "cell_type": "code",
      "source": [
        "mas3 = np.random.randint(10,15, (1,2,2))\n",
        "print (mas3, mas3.shape)"
      ],
      "metadata": {
        "colab": {
          "base_uri": "https://localhost:8080/"
        },
        "id": "cQlbvUHRCiKU",
        "outputId": "7eaa462d-10ea-4162-aa14-ff59283d59ed"
      },
      "execution_count": null,
      "outputs": [
        {
          "output_type": "stream",
          "name": "stdout",
          "text": [
            "[[[10 13]\n",
            "  [14 14]]] (1, 2, 2)\n"
          ]
        }
      ]
    },
    {
      "cell_type": "code",
      "source": [
        "a = np.append (mas1, mas2, axis=0)\n",
        "print(a.shape)\n",
        "a"
      ],
      "metadata": {
        "colab": {
          "base_uri": "https://localhost:8080/"
        },
        "id": "PEheaa6XA7tk",
        "outputId": "a6fe3d33-c4d6-4654-cc7d-df996b3d7f05"
      },
      "execution_count": null,
      "outputs": [
        {
          "output_type": "stream",
          "name": "stdout",
          "text": [
            "(2, 2, 2)\n"
          ]
        },
        {
          "output_type": "execute_result",
          "data": {
            "text/plain": [
              "array([[[2, 1],\n",
              "        [2, 4]],\n",
              "\n",
              "       [[8, 8],\n",
              "        [5, 5]]])"
            ]
          },
          "metadata": {},
          "execution_count": 6
        }
      ]
    },
    {
      "cell_type": "code",
      "source": [
        "a = np.append (a, mas3, axis=0)\n",
        "print(a.shape)\n",
        "a"
      ],
      "metadata": {
        "colab": {
          "base_uri": "https://localhost:8080/"
        },
        "id": "yGTnee1lCpoj",
        "outputId": "a905712c-3362-4d55-84e0-2907b6e23ff0"
      },
      "execution_count": null,
      "outputs": [
        {
          "output_type": "stream",
          "name": "stdout",
          "text": [
            "(3, 2, 2)\n"
          ]
        },
        {
          "output_type": "execute_result",
          "data": {
            "text/plain": [
              "array([[[ 2,  1],\n",
              "        [ 2,  4]],\n",
              "\n",
              "       [[ 8,  8],\n",
              "        [ 5,  5]],\n",
              "\n",
              "       [[10, 13],\n",
              "        [14, 14]]])"
            ]
          },
          "metadata": {},
          "execution_count": 7
        }
      ]
    },
    {
      "cell_type": "code",
      "source": [
        "a[0]"
      ],
      "metadata": {
        "colab": {
          "base_uri": "https://localhost:8080/"
        },
        "id": "_y4OLGczDCvY",
        "outputId": "b0b2713e-4506-4fbc-90b7-a617df35cfa1"
      },
      "execution_count": null,
      "outputs": [
        {
          "output_type": "execute_result",
          "data": {
            "text/plain": [
              "array([[2, 1],\n",
              "       [2, 4]])"
            ]
          },
          "metadata": {},
          "execution_count": 8
        }
      ]
    },
    {
      "cell_type": "code",
      "source": [
        "a[1]"
      ],
      "metadata": {
        "colab": {
          "base_uri": "https://localhost:8080/"
        },
        "id": "sKYI_1aeC7r4",
        "outputId": "1797f112-f00a-4a49-c535-62eb0f2242bf"
      },
      "execution_count": null,
      "outputs": [
        {
          "output_type": "execute_result",
          "data": {
            "text/plain": [
              "array([[8, 8],\n",
              "       [5, 5]])"
            ]
          },
          "metadata": {},
          "execution_count": 9
        }
      ]
    },
    {
      "cell_type": "code",
      "source": [
        "a[2]"
      ],
      "metadata": {
        "colab": {
          "base_uri": "https://localhost:8080/"
        },
        "id": "SnwjymOoEeBS",
        "outputId": "8ac42f8a-b253-4511-d158-ef468028ea0d"
      },
      "execution_count": null,
      "outputs": [
        {
          "output_type": "execute_result",
          "data": {
            "text/plain": [
              "array([[10, 13],\n",
              "       [14, 14]])"
            ]
          },
          "metadata": {},
          "execution_count": 10
        }
      ]
    },
    {
      "cell_type": "code",
      "source": [
        "a[0,:1]"
      ],
      "metadata": {
        "colab": {
          "base_uri": "https://localhost:8080/"
        },
        "id": "dw8iF9SMDL1k",
        "outputId": "509a1443-ac7a-423a-ba7c-4be706cbb357"
      },
      "execution_count": null,
      "outputs": [
        {
          "output_type": "execute_result",
          "data": {
            "text/plain": [
              "array([[2, 1]])"
            ]
          },
          "metadata": {},
          "execution_count": 11
        }
      ]
    },
    {
      "cell_type": "code",
      "source": [
        "a[0,0,1]"
      ],
      "metadata": {
        "colab": {
          "base_uri": "https://localhost:8080/"
        },
        "id": "mTKhafmKDbML",
        "outputId": "dd8e56a4-7f1f-4c5c-a3be-f7560c9ca42a"
      },
      "execution_count": null,
      "outputs": [
        {
          "output_type": "execute_result",
          "data": {
            "text/plain": [
              "1"
            ]
          },
          "metadata": {},
          "execution_count": 12
        }
      ]
    },
    {
      "cell_type": "code",
      "source": [
        "a[:,0,0]"
      ],
      "metadata": {
        "colab": {
          "base_uri": "https://localhost:8080/"
        },
        "id": "Aloh-c-TE04R",
        "outputId": "dd1f0448-ce5a-47cf-ff3c-7320c25f424b"
      },
      "execution_count": null,
      "outputs": [
        {
          "output_type": "execute_result",
          "data": {
            "text/plain": [
              "array([ 2,  8, 10])"
            ]
          },
          "metadata": {},
          "execution_count": 13
        }
      ]
    },
    {
      "cell_type": "markdown",
      "source": [
        "### Сделаем три среза данных\n",
        "из разных областей картинки, примерно оценив их координаты. Цель - посмотреть значения пикселя."
      ],
      "metadata": {
        "id": "JRklmUTjDCXu"
      }
    },
    {
      "cell_type": "code",
      "source": [
        "# Координаты правого легкого - \"белого\" участка картинки\n",
        "print(w_np3[300,100:200,0])\n",
        "print('Значение 1 соответствует белому цвету на картинке')\n",
        "print('Черный фон имеет значение пикселя 0')"
      ],
      "metadata": {
        "colab": {
          "base_uri": "https://localhost:8080/"
        },
        "id": "yUt-bn3Ht65E",
        "outputId": "5794183e-31d5-4453-c130-4cc35de02d5c"
      },
      "execution_count": null,
      "outputs": [
        {
          "output_type": "stream",
          "name": "stdout",
          "text": [
            "[0 0 0 0 0 0 0 0 0 0 0 0 0 0 0 0 0 0 0 0 0 0 0 0 0 0 0 0 0 0 0 0 0 0 0 0 0\n",
            " 0 0 0 0 0 0 0 0 0 0 0 0 0 0 0 0 0 0 0 0 0 1 1 1 1 1 1 1 1 1 1 1 1 1 1 1 1\n",
            " 0 0 0 0 0 0 0 0 0 0 0 0 0 0 0 0 0 0 0 0 0 0 0 0 0 0]\n",
            "Значение 1 соответствует белому цвету на картинке\n",
            "Черный фон имеет значение пикселя 0\n"
          ]
        }
      ]
    },
    {
      "cell_type": "markdown",
      "source": [
        "# Сегментация грудной клетки (NIfTI)"
      ],
      "metadata": {
        "id": "ZRutKZckP0HM"
      }
    },
    {
      "cell_type": "markdown",
      "source": [
        "## Читаем информацию и выводим несколько изображений из файла ххх/nii"
      ],
      "metadata": {
        "id": "ETwUb5GrPolb"
      }
    },
    {
      "cell_type": "code",
      "source": [
        "# Разместил файл у себя на Google диске\n",
        "# Укажим путь и имя файла nii, который хотим посмотреть\n",
        "example_filename = '/content/drive/MyDrive/Stag/LUNG1-422_thor_cav_primary_reviewer.nii'\n",
        "img = nib.load(example_filename)\n",
        "\n",
        "\n",
        " # Смотрим что загрузили\n",
        "print('что это? ', img, '\\n')            # выдаем много информации\n",
        "print('смотрим размерность ', img.shape)  # смотрим размерность\n",
        "print('это:  ', img.dataobj.shape)        # смотрим размерность\n",
        "\n",
        " # Печатаем только три параметра размерности\n",
        "width, height, queue = img.dataobj.shape\n",
        "print('width', width)\n",
        "print('height', height)\n",
        "print('queue', queue)\n",
        "\n",
        " # Показать 3D -изображение\n",
        "# OrthoSlicer3D(img.dataobj).show()  # выводит пустое окно ???\n",
        "\n",
        "\n",
        " # Рассчет, количества окон на экране для размещения всех срезов\n",
        "x = int((queue/10) ** 0.5) + 1   # выводим каждый 10-й слайс\n",
        "num = 1                          # порядковый номер картинки\n",
        "\n",
        " # Выводим в цикле каждый 10-й слайс, из всех имеющихся queue. Отображаем 2D -изображение.\n",
        "for i in range(0, queue, 10):\n",
        "  img_arr = img.dataobj[:, :, i]\n",
        "  plt.subplot(x, x, num)\n",
        "  plt.imshow(img_arr, cmap='gray')\n",
        "  num += 1\n",
        "\n",
        "plt.show()"
      ],
      "metadata": {
        "colab": {
          "base_uri": "https://localhost:8080/",
          "height": 1000
        },
        "id": "wzSuHMzEkbhV",
        "outputId": "d040a994-e529-4492-8855-b6a84643aa6e"
      },
      "execution_count": null,
      "outputs": [
        {
          "output_type": "stream",
          "name": "stdout",
          "text": [
            "что это?  <class 'nibabel.nifti1.Nifti1Image'>\n",
            "data shape (512, 512, 116)\n",
            "affine: \n",
            "[[  -0.9765625     0.            0.          249.51171875]\n",
            " [   0.            0.9765625     0.          -59.51171875]\n",
            " [   0.            0.            3.         -619.        ]\n",
            " [   0.            0.            0.            1.        ]]\n",
            "metadata:\n",
            "<class 'nibabel.nifti1.Nifti1Header'> object, endian='<'\n",
            "sizeof_hdr      : 348\n",
            "data_type       : b''\n",
            "db_name         : b''\n",
            "extents         : 0\n",
            "session_error   : 0\n",
            "regular         : b'r'\n",
            "dim_info        : 0\n",
            "dim             : [  3 512 512 116   1   1   1   1]\n",
            "intent_p1       : 0.0\n",
            "intent_p2       : 0.0\n",
            "intent_p3       : 0.0\n",
            "intent_code     : none\n",
            "datatype        : uint16\n",
            "bitpix          : 16\n",
            "slice_start     : 0\n",
            "pixdim          : [-1.         0.9765625  0.9765625  3.         0.         0.\n",
            "  0.         0.       ]\n",
            "vox_offset      : 0.0\n",
            "scl_slope       : nan\n",
            "scl_inter       : nan\n",
            "slice_end       : 0\n",
            "slice_code      : unknown\n",
            "xyzt_units      : 2\n",
            "cal_max         : 0.0\n",
            "cal_min         : 0.0\n",
            "slice_duration  : 0.0\n",
            "toffset         : 0.0\n",
            "glmax           : 0\n",
            "glmin           : 0\n",
            "descrip         : b''\n",
            "aux_file        : b''\n",
            "qform_code      : scanner\n",
            "sform_code      : unknown\n",
            "quatern_b       : -0.0\n",
            "quatern_c       : 1.0\n",
            "quatern_d       : 0.0\n",
            "qoffset_x       : 249.51172\n",
            "qoffset_y       : -59.51172\n",
            "qoffset_z       : -619.0\n",
            "srow_x          : [0. 0. 0. 0.]\n",
            "srow_y          : [0. 0. 0. 0.]\n",
            "srow_z          : [0. 0. 0. 0.]\n",
            "intent_name     : b''\n",
            "magic           : b'n+1' \n",
            "\n",
            "смотрим размерность  (512, 512, 116)\n",
            "это:   (512, 512, 116)\n",
            "width 512\n",
            "height 512\n",
            "queue 116\n"
          ]
        },
        {
          "output_type": "display_data",
          "data": {
            "text/plain": [
              "<Figure size 640x480 with 12 Axes>"
            ],
            "image/png": "[encoded data removed]"
          },
          "metadata": {}
        }
      ]
    },
    {
      "cell_type": "markdown",
      "source": [
        "## Выводим один из слайсов файла ххх/nii"
      ],
      "metadata": {
        "id": "lfCbcQhdR2SM"
      }
    },
    {
      "cell_type": "code",
      "source": [
        "type (img)"
      ],
      "metadata": {
        "colab": {
          "base_uri": "https://localhost:8080/"
        },
        "outputId": "4c08c20f-282b-4eb0-a78c-7a83f968d3d3",
        "id": "yIcJXhW6R2SQ"
      },
      "execution_count": null,
      "outputs": [
        {
          "output_type": "execute_result",
          "data": {
            "text/plain": [
              "nibabel.nifti1.Nifti1Image"
            ]
          },
          "metadata": {},
          "execution_count": 93
        }
      ]
    },
    {
      "cell_type": "code",
      "source": [
        "w = img.dataobj[:,:,44]                         # вытаскиваем из img - переменной, которая содержит 134 слайса, один 44\n",
        "print('Размер переменной w.shape', w.shape)\n",
        "\n",
        "plt.imshow (w, cmap='gray')\n",
        "plt.show()"
      ],
      "metadata": {
        "colab": {
          "base_uri": "https://localhost:8080/",
          "height": 453
        },
        "outputId": "7d6efb2f-425d-46d4-d701-af2613414f8e",
        "id": "HO_sMV4RR2SU"
      },
      "execution_count": null,
      "outputs": [
        {
          "output_type": "stream",
          "name": "stdout",
          "text": [
            "Размер переменной w.shape (512, 512)\n"
          ]
        },
        {
          "output_type": "display_data",
          "data": {
            "text/plain": [
              "<Figure size 640x480 with 1 Axes>"
            ],
            "image/png": "[encoded data removed]"
          },
          "metadata": {}
        }
      ]
    },
    {
      "cell_type": "markdown",
      "source": [
        "## Преобразуем  **class 'nibabel.nifti1.Nifti1Image'** в np-массив"
      ],
      "metadata": {
        "id": "BQU3sCMISOrr"
      }
    },
    {
      "cell_type": "code",
      "source": [
        "print('Тип переменной одного слайса -',type (img))\n",
        "print('Переводим его в np-массив')\n",
        "w_np = np.array (w)\n",
        "print('Новый тип переменной', type(w_np), 'Размерность', w_np.shape)"
      ],
      "metadata": {
        "colab": {
          "base_uri": "https://localhost:8080/"
        },
        "outputId": "1ec6f565-9c17-4a60-b3ce-22b15c8df3ff",
        "id": "QrDufX5ESOru"
      },
      "execution_count": null,
      "outputs": [
        {
          "output_type": "stream",
          "name": "stdout",
          "text": [
            "Тип переменной одного слайса - <class 'nibabel.nifti1.Nifti1Image'>\n",
            "Переводим его в np-массив\n",
            "Новый тип переменной <class 'numpy.ndarray'> Размерность (512, 512)\n"
          ]
        }
      ]
    },
    {
      "cell_type": "code",
      "source": [
        "# Добавим размерность для подачи в НС\n",
        "w_np3 = np.reshape (w_np,[512,512,1])\n",
        "print('Тип переменной-',type(w_np3), 'Размер-', w_np3.shape)"
      ],
      "metadata": {
        "colab": {
          "base_uri": "https://localhost:8080/"
        },
        "outputId": "c813fe39-68d5-4bcc-fd85-cf31db564c2b",
        "id": "tnn1Sp64SOrv"
      },
      "execution_count": null,
      "outputs": [
        {
          "output_type": "stream",
          "name": "stdout",
          "text": [
            "Тип переменной- <class 'numpy.ndarray'> Размер- (512, 512, 1)\n"
          ]
        }
      ]
    },
    {
      "cell_type": "markdown",
      "source": [
        "## Сделаем три среза данных\n",
        "из разных областей картинки, примерно оценив их координаты. Цель - посмотреть значения пикселя."
      ],
      "metadata": {
        "id": "bn1W0PQLSZZB"
      }
    },
    {
      "cell_type": "code",
      "source": [
        "# Координаты правого легкого - \"белого\" участка картинки\n",
        "print(w_np3[200:210,200:210,0])\n",
        "print('Значение 2 соответствует белому цвету на картинке')"
      ],
      "metadata": {
        "colab": {
          "base_uri": "https://localhost:8080/"
        },
        "outputId": "8afcea37-5c6c-4427-884d-f542a9bf1b99",
        "id": "kqL84cOzSZZF"
      },
      "execution_count": null,
      "outputs": [
        {
          "output_type": "stream",
          "name": "stdout",
          "text": [
            "[[2 2 2 2 2 2 2 2 2 2]\n",
            " [2 2 2 2 2 2 2 2 2 2]\n",
            " [2 2 2 2 2 2 2 2 2 2]\n",
            " [2 2 2 2 2 2 2 2 2 2]\n",
            " [2 2 2 2 2 2 2 2 2 2]\n",
            " [2 2 2 2 2 2 2 2 2 2]\n",
            " [2 2 2 2 2 2 2 2 2 2]\n",
            " [2 2 2 2 2 2 2 2 2 2]\n",
            " [2 2 2 2 2 2 2 2 2 2]\n",
            " [2 2 2 2 2 2 2 2 2 2]]\n",
            "Значение 2 соответствует белому цвету на картинке\n"
          ]
        }
      ]
    },
    {
      "cell_type": "code",
      "source": [
        "# Координаты первого \"фона\" на картинке\n",
        "print (w_np3[0:10,0:10,0])\n",
        "print('Значение 0 соответствует церному цвету на картинке')"
      ],
      "metadata": {
        "colab": {
          "base_uri": "https://localhost:8080/"
        },
        "outputId": "03c063c9-9b94-4707-d175-96b3bdaa5f77",
        "id": "zuq3ot3wSZZH"
      },
      "execution_count": null,
      "outputs": [
        {
          "output_type": "stream",
          "name": "stdout",
          "text": [
            "[[0 0 0 0 0 0 0 0 0 0]\n",
            " [0 0 0 0 0 0 0 0 0 0]\n",
            " [0 0 0 0 0 0 0 0 0 0]\n",
            " [0 0 0 0 0 0 0 0 0 0]\n",
            " [0 0 0 0 0 0 0 0 0 0]\n",
            " [0 0 0 0 0 0 0 0 0 0]\n",
            " [0 0 0 0 0 0 0 0 0 0]\n",
            " [0 0 0 0 0 0 0 0 0 0]\n",
            " [0 0 0 0 0 0 0 0 0 0]\n",
            " [0 0 0 0 0 0 0 0 0 0]]\n",
            "Значение 0 соответствует церному цвету на картинке\n"
          ]
        }
      ]
    },
    {
      "cell_type": "code",
      "source": [
        "# Координаты левого легкого - \"серого\" участка картинки\n",
        "print (w_np3[300:310,200:210,0])\n",
        "print('Значение 1 соответствует \"серому\" цвету на картинке - левое легкое')"
      ],
      "metadata": {
        "colab": {
          "base_uri": "https://localhost:8080/"
        },
        "outputId": "4a3601bb-dd01-452d-b1a0-2a30582ca854",
        "id": "EuTH_fglSZZJ"
      },
      "execution_count": null,
      "outputs": [
        {
          "output_type": "stream",
          "name": "stdout",
          "text": [
            "[[1 1 1 1 1 1 1 1 1 1]\n",
            " [1 1 1 1 1 1 1 1 1 1]\n",
            " [1 1 1 1 1 1 1 1 1 1]\n",
            " [1 1 1 1 1 1 1 1 1 1]\n",
            " [1 1 1 1 1 1 1 1 1 1]\n",
            " [1 1 1 1 1 1 1 1 1 1]\n",
            " [1 1 1 1 1 1 1 1 1 1]\n",
            " [1 1 1 1 1 1 1 1 1 1]\n",
            " [1 1 1 1 1 1 1 1 1 1]\n",
            " [1 1 1 1 1 1 1 1 1 1]]\n",
            "Значение 1 соответствует \"серому\" цвету на картинке - левое легкое\n"
          ]
        }
      ]
    },
    {
      "cell_type": "markdown",
      "source": [
        "# Просмотр изображений DICOM с помощью pydicom и matplotlib"
      ],
      "metadata": {
        "id": "65ydplUkg8jV"
      }
    },
    {
      "cell_type": "markdown",
      "source": [
        "## Загрузки библиотек для работы с DICOM"
      ],
      "metadata": {
        "id": "OUyEo0SRiplU"
      }
    },
    {
      "cell_type": "code",
      "source": [
        "!pip install pydicom"
      ],
      "metadata": {
        "colab": {
          "base_uri": "https://localhost:8080/"
        },
        "id": "Janu4gV0ZZT2",
        "outputId": "fee56b63-4b8d-42e6-d6d8-1b76058136b0"
      },
      "execution_count": null,
      "outputs": [
        {
          "output_type": "stream",
          "name": "stdout",
          "text": [
            "Looking in indexes: https://pypi.org/simple, https://us-python.pkg.dev/colab-wheels/public/simple/\n",
            "Collecting pydicom\n",
            "  Downloading pydicom-2.4.0-py3-none-any.whl (1.8 MB)\n",
            "\u001b[2K     \u001b[90m━━━━━━━━━━━━━━━━━━━━━━━━━━━━━━━━━━━━━━━━\u001b[0m \u001b[32m1.8/1.8 MB\u001b[0m \u001b[31m22.4 MB/s\u001b[0m eta \u001b[36m0:00:00\u001b[0m\n",
            "\u001b[?25hInstalling collected packages: pydicom\n",
            "Successfully installed pydicom-2.4.0\n"
          ]
        }
      ]
    },
    {
      "cell_type": "code",
      "source": [
        "# Единственный интересный момент здесь заключается в том, как я упоминал в разделе \"Пакет pydicom\",\n",
        "# что пакет pydicom импортируется как dicom, поэтому будьте осторожны с этим.\n",
        "\n",
        "import pydicom           # запустился так\n",
        "import pydicom.data      # + metod"
      ],
      "metadata": {
        "id": "6hCWeoq9atkr"
      },
      "execution_count": null,
      "outputs": []
    },
    {
      "cell_type": "markdown",
      "source": [
        "## Путь к каталогу с файлами DICOM"
      ],
      "metadata": {
        "id": "jbzYnpC3i9cb"
      }
    },
    {
      "cell_type": "markdown",
      "source": [
        "**базовая версия кода**"
      ],
      "metadata": {
        "id": "Rtm41vtp3JSv"
      }
    },
    {
      "cell_type": "code",
      "source": [
        "# Вызов локального файла dicom\n",
        "folder_path = r\"D:\\Files\\Data\\Materials\"\n",
        "file_name = \"PA1_0001.dcm\"\n",
        "file_path = os.path.join(folder_path,file_name)\n",
        "ds = pydicom.dcmread(file_path)"
      ],
      "metadata": {
        "id": "C7yKgVO622rU"
      },
      "execution_count": null,
      "outputs": []
    },
    {
      "cell_type": "markdown",
      "source": [
        "**локальная (в моем NB) версия кода**"
      ],
      "metadata": {
        "id": "Yus7IkKz3TjI"
      }
    },
    {
      "cell_type": "code",
      "source": [
        "base = \"/content/drive/MyDrive/Baza/Stag_1/Original_Directory/NSCLC-Radiomics/LUNG1-090/02-01-2006-StudyID-NA-26480/0.000000-NA-04535/\" #/content/drive/MyDrive/Stag\"\n",
        "pass_dicom = \"1-001.dcm\"    # file name is 1-12.dcm\n",
        "print(pass_dicom)\n",
        "print(base)"
      ],
      "metadata": {
        "colab": {
          "base_uri": "https://localhost:8080/"
        },
        "id": "UMvYC8b7aO3B",
        "outputId": "030e9152-d367-4f74-9660-dfd7db3b9bf3"
      },
      "execution_count": null,
      "outputs": [
        {
          "output_type": "stream",
          "name": "stdout",
          "text": [
            "1-001.dcm\n",
            "/content/drive/MyDrive/Baza/Stag_1/Original_Directory/NSCLC-Radiomics/LUNG1-090/02-01-2006-StudyID-NA-26480/0.000000-NA-04535/\n"
          ]
        }
      ]
    },
    {
      "cell_type": "code",
      "source": [
        "# filename = pydicom.data.data_manager.get_files(base, pass_dicom)[0]\n",
        "q = pydicom.data.data_manager.get_files (base, pass_dicom)[0]               # разобраться с [0]"
      ],
      "metadata": {
        "id": "R2feIwlHZ2h0"
      },
      "execution_count": null,
      "outputs": []
    },
    {
      "cell_type": "code",
      "source": [
        "print (type (q))\n",
        "print ('Путь',q)"
      ],
      "metadata": {
        "colab": {
          "base_uri": "https://localhost:8080/"
        },
        "id": "CSu2xYHeeI4o",
        "outputId": "bbedd8d4-9284-4387-f62c-4ee4ddcad67b"
      },
      "execution_count": null,
      "outputs": [
        {
          "output_type": "stream",
          "name": "stdout",
          "text": [
            "<class 'str'>\n",
            "Путь /content/drive/MyDrive/Baza/Stag_1/Original_Directory/NSCLC-Radiomics/LUNG1-090/02-01-2006-StudyID-NA-26480/0.000000-NA-04535/1-001.dcm\n"
          ]
        }
      ]
    },
    {
      "cell_type": "markdown",
      "source": [
        "## Чтение и отрисовка файла DICOM"
      ],
      "metadata": {
        "id": "U9NNVZTjjP_G"
      }
    },
    {
      "cell_type": "code",
      "source": [
        "ds = pydicom.dcmread(q)                            # Функция считывает одно изображение и возвращает объект pydicom.dataset.FileDataset\n",
        "print('Тип переменной ds (type) - ', type (ds))\n",
        "# enter DICOM image name for pattern\n",
        "# введите название изображения DICOM для шаблона\n",
        "# result is a list of 1 element\n",
        "# результатом является список из 1 элемента\n",
        "\n",
        "plt.imshow(ds.pixel_array, cmap=plt.cm.bone)       # set the color map to bone\n",
        "plt.show()"
      ],
      "metadata": {
        "colab": {
          "base_uri": "https://localhost:8080/",
          "height": 453
        },
        "id": "6SCuv-eUehJt",
        "outputId": "7742a068-b725-4512-9d3e-b474196aa390"
      },
      "execution_count": null,
      "outputs": [
        {
          "output_type": "stream",
          "name": "stdout",
          "text": [
            "Тип переменной ds (type) -  <class 'pydicom.dataset.FileDataset'>\n"
          ]
        },
        {
          "output_type": "display_data",
          "data": {
            "text/plain": [
              "<Figure size 640x480 with 1 Axes>"
            ],
            "image/png": "[encoded data removed]"
          },
          "metadata": {}
        }
      ]
    },
    {
      "cell_type": "code",
      "source": [
        "print(ds.PatientID,ds.StudyDate,ds.Modality) # прочитаем значения тегов"
      ],
      "metadata": {
        "colab": {
          "base_uri": "https://localhost:8080/"
        },
        "id": "icfMneNJ4Yg_",
        "outputId": "81cf9ff5-5c96-4e99-8b94-57859e19f362"
      },
      "execution_count": null,
      "outputs": [
        {
          "output_type": "stream",
          "name": "stdout",
          "text": [
            "LUNG1-090 20060201 CT\n"
          ]
        }
      ]
    },
    {
      "cell_type": "code",
      "source": [
        "ds  # Вопрос 1: как и в какой формат все, что видим ниже вытащить?.  Вопрос 2: что вытаскивать?"
      ],
      "metadata": {
        "colab": {
          "base_uri": "https://localhost:8080/"
        },
        "id": "Iro_2SR3gbiE",
        "outputId": "133ac2fa-dfa6-4225-9a8f-120f9654f0f2"
      },
      "execution_count": null,
      "outputs": [
        {
          "output_type": "execute_result",
          "data": {
            "text/plain": [
              "Dataset.file_meta -------------------------------\n",
              "(0002, 0000) File Meta Information Group Length  UL: 202\n",
              "(0002, 0001) File Meta Information Version       OB: b'\\x00\\x01'\n",
              "(0002, 0002) Media Storage SOP Class UID         UI: CT Image Storage\n",
              "(0002, 0003) Media Storage SOP Instance UID      UI: 1.3.6.1.4.1.32722.99.99.21505511164117388327404222995484010563\n",
              "(0002, 0010) Transfer Syntax UID                 UI: Implicit VR Little Endian\n",
              "(0002, 0012) Implementation Class UID            UI: 1.3.6.1.4.1.22213.1.143\n",
              "(0002, 0013) Implementation Version Name         SH: '0.5'\n",
              "(0002, 0016) Source Application Entity Title     AE: 'POSDA'\n",
              "-------------------------------------------------\n",
              "(0008, 0005) Specific Character Set              CS: 'ISO_IR 100'\n",
              "(0008, 0008) Image Type                          CS: ['ORIGINAL', 'PRIMARY', 'AXIAL', 'CT_SOM5 SPI']\n",
              "(0008, 0016) SOP Class UID                       UI: CT Image Storage\n",
              "(0008, 0018) SOP Instance UID                    UI: 1.3.6.1.4.1.32722.99.99.21505511164117388327404222995484010563\n",
              "(0008, 0020) Study Date                          DA: '20060201'\n",
              "(0008, 0021) Series Date                         DA: '20060201'\n",
              "(0008, 0022) Acquisition Date                    DA: '20060201'\n",
              "(0008, 0023) Content Date                        DA: '20060201'\n",
              "(0008, 0030) Study Time                          TM: '130706.781000'\n",
              "(0008, 0031) Series Time                         TM: '131816.984000'\n",
              "(0008, 0032) Acquisition Time                    TM: '131802.539196'\n",
              "(0008, 0033) Content Time                        TM: '131802.539196'\n",
              "(0008, 0050) Accession Number                    SH: '2819497684894126'\n",
              "(0008, 0060) Modality                            CS: 'CT'\n",
              "(0008, 0070) Manufacturer                        LO: 'SIEMENS'\n",
              "(0008, 0090) Referring Physician's Name          PN: ''\n",
              "(0008, 1090) Manufacturer's Model Name           LO: 'Sensation Open'\n",
              "(0009, 0010) Private Creator                     LO: 'SIEMENS CT VA1 DUMMY'\n",
              "(0010, 0010) Patient's Name                      PN: 'LUNG1-090'\n",
              "(0010, 0020) Patient ID                          LO: 'LUNG1-090'\n",
              "(0010, 0030) Patient's Birth Date                DA: ''\n",
              "(0010, 0040) Patient's Sex                       CS: 'M'\n",
              "(0010, 1010) Patient's Age                       AS: '060Y'\n",
              "(0012, 0062) Patient Identity Removed            CS: 'YES'\n",
              "(0013, 0010) Private Creator                     LO: 'CTP'\n",
              "(0013, 1010) Private tag data                    UN: b'NSCLC-Radiomics '\n",
              "(0013, 1013) Private tag data                    UN: b'72215020'\n",
              "(0018, 0015) Body Part Examined                  CS: 'LUNG'\n",
              "(0018, 0050) Slice Thickness                     DS: '3.0'\n",
              "(0018, 0060) KVP                                 DS: '120.0'\n",
              "(0018, 0090) Data Collection Diameter            DS: '500.0'\n",
              "(0018, 1020) Software Versions                   LO: 'syngo CT 2006A'\n",
              "(0018, 1030) Protocol Name                       LO: 'RT_Thorax3mm'\n",
              "(0018, 1100) Reconstruction Diameter             DS: '500.0'\n",
              "(0018, 1110) Distance Source to Detector         DS: '1040.0'\n",
              "(0018, 1111) Distance Source to Patient          DS: '570.0'\n",
              "(0018, 1120) Gantry/Detector Tilt                DS: '0.0'\n",
              "(0018, 1130) Table Height                        DS: '0.0'\n",
              "(0018, 1140) Rotation Direction                  CS: 'CW'\n",
              "(0018, 1150) Exposure Time                       IS: '1000'\n",
              "(0018, 1151) X-Ray Tube Current                  IS: '101'\n",
              "(0018, 1152) Exposure                            IS: '84'\n",
              "(0018, 1160) Filter Type                         SH: '0'\n",
              "(0018, 1170) Generator Power                     IS: '8'\n",
              "(0018, 1190) Focal Spot(s)                       DS: '1.2'\n",
              "(0018, 1200) Date of Last Calibration            DA: '20060201'\n",
              "(0018, 1201) Time of Last Calibration            TM: '082154.000000'\n",
              "(0018, 1210) Convolution Kernel                  SH: 'B31s'\n",
              "(0018, 5100) Patient Position                    CS: 'HFS'\n",
              "(0019, 0010) Private Creator                     LO: 'SIEMENS CT VA0  COAD'\n",
              "(0020, 000d) Study Instance UID                  UI: 1.3.6.1.4.1.32722.99.99.22480012096767452923662686702564626480\n",
              "(0020, 000e) Series Instance UID                 UI: 1.3.6.1.4.1.32722.99.99.286311685503168603843729652611485604535\n",
              "(0020, 0010) Study ID                            SH: ''\n",
              "(0020, 0011) Series Number                       IS: '0'\n",
              "(0020, 0012) Acquisition Number                  IS: '2'\n",
              "(0020, 0013) Instance Number                     IS: '1'\n",
              "(0020, 0032) Image Position (Patient)            DS: [-249.5117, -249.5117, -338]\n",
              "(0020, 0037) Image Orientation (Patient)         DS: [1, 0, 0, 0, 1, 0]\n",
              "(0020, 0052) Frame of Reference UID              UI: 1.3.6.1.4.1.32722.99.99.300907291461950912998039640247400087646\n",
              "(0020, 1040) Position Reference Indicator        LO: ''\n",
              "(0020, 1041) Slice Location                      DS: '-338.0'\n",
              "(0021, 0010) Private Creator                     LO: 'SIEMENS MED'\n",
              "(0028, 0002) Samples per Pixel                   US: 1\n",
              "(0028, 0004) Photometric Interpretation          CS: 'MONOCHROME2'\n",
              "(0028, 0010) Rows                                US: 512\n",
              "(0028, 0011) Columns                             US: 512\n",
              "(0028, 0030) Pixel Spacing                       DS: [0.9765625, 0.9765625]\n",
              "(0028, 0100) Bits Allocated                      US: 16\n",
              "(0028, 0101) Bits Stored                         US: 16\n",
              "(0028, 0102) High Bit                            US: 15\n",
              "(0028, 0103) Pixel Representation                US: 0\n",
              "(0028, 0106) Smallest Image Pixel Value          US: 0\n",
              "(0028, 0107) Largest Image Pixel Value           US: 2731\n",
              "(0028, 0303) Longitudinal Temporal Information M CS: 'MODIFIED'\n",
              "(0028, 1050) Window Center                       DS: [40, -600]\n",
              "(0028, 1051) Window Width                        DS: [400, 1200]\n",
              "(0028, 1052) Rescale Intercept                   DS: '-1024.0'\n",
              "(0028, 1053) Rescale Slope                       DS: '1.0'\n",
              "(0028, 1055) Window Center & Width Explanation   LO: ['WINDOW1', 'WINDOW2']\n",
              "(0029, 0010) Private Creator                     LO: 'SIEMENS CSA HEADER'\n",
              "(0029, 0011) Private Creator                     LO: 'SIEMENS MEDCOM HEADER'\n",
              "(0095, 0010) Private Creator                     LO: 'SIENET'\n",
              "(1099, 0010) Private Creator                     LO: 'TABLE_HEIGHT'\n",
              "(1099, 0011) Private Creator                     LO: 'RETROTRANS_VERSION'\n",
              "(7fe0, 0010) Pixel Data                          OW: Array of 524288 elements"
            ]
          },
          "metadata": {},
          "execution_count": 15
        }
      ]
    },
    {
      "cell_type": "markdown",
      "source": [
        "## Перевод в np-массив файл DICOM\n",
        "\n",
        "Используйте Python для чтения и записи файлов Dicom\n",
        "https://russianblogs.com/article/84851535474/"
      ],
      "metadata": {
        "id": "HlL2gnErhhde"
      }
    },
    {
      "cell_type": "markdown",
      "source": [
        "После чтения файла Dicom вы можете использовать Numpy (data = np.array(ds.pixel_array)"
      ],
      "metadata": {
        "id": "P3sCWDPa1Glz"
      }
    },
    {
      "cell_type": "code",
      "source": [
        "print('Тип переменной исходного слайса -',type (ds))\n",
        "print('Переводим его в np-массив')\n",
        "\n",
        "q_np = np.array(ds.pixel_array, dtype = np.int32) # можно изменить размер переменной\n",
        "\n",
        "print('\\n','Новый тип переменной', type(q_np))\n",
        "print(' Размерность полученного массива', q_np.shape)\n",
        "print(' Размерность переменной', q_np.dtype )"
      ],
      "metadata": {
        "colab": {
          "base_uri": "https://localhost:8080/"
        },
        "id": "6xWMZjzBfegA",
        "outputId": "6a19ccbe-c626-441b-af08-e5d2e88832b0"
      },
      "execution_count": null,
      "outputs": [
        {
          "output_type": "stream",
          "name": "stdout",
          "text": [
            "Тип переменной исходного слайса - <class 'pydicom.dataset.FileDataset'>\n",
            "Переводим его в np-массив\n",
            "\n",
            " Новый тип переменной <class 'numpy.ndarray'>\n",
            " Размерность полученного массива (512, 512)\n",
            " Размерность переменной int32\n"
          ]
        }
      ]
    },
    {
      "cell_type": "code",
      "source": [
        "# Сделаем срез данных из середины массива 100х100\n",
        "q_np [250:350,250:350]"
      ],
      "metadata": {
        "colab": {
          "base_uri": "https://localhost:8080/"
        },
        "id": "qvAEByU7-C05",
        "outputId": "8bb40fb3-16d6-49ea-a62c-f128076e51d2"
      },
      "execution_count": null,
      "outputs": [
        {
          "output_type": "execute_result",
          "data": {
            "text/plain": [
              "array([[1321, 1357, 1396, ...,  496,  770,  905],\n",
              "       [1154, 1212, 1290, ...,  458,  745,  909],\n",
              "       [1060, 1073, 1142, ...,  347,  687,  889],\n",
              "       ...,\n",
              "       [ 249,  253,  253, ...,  169,  165,  169],\n",
              "       [ 174,  177,  166, ...,  138,  128,  144],\n",
              "       [ 135,  130,  125, ...,  113,  124,  120]], dtype=int32)"
            ]
          },
          "metadata": {},
          "execution_count": 17
        }
      ]
    },
    {
      "cell_type": "code",
      "source": [
        "# Посмотрим диапазон значений пикселей в массиве\n",
        "\n",
        "print ('Max значение пикселя', np.max(q_np))\n",
        "print ('Min значение пикселя', np.min(q_np))"
      ],
      "metadata": {
        "colab": {
          "base_uri": "https://localhost:8080/"
        },
        "id": "HbnhrS7f-pl1",
        "outputId": "6e323133-7a32-48bb-a2af-510939b840b5"
      },
      "execution_count": null,
      "outputs": [
        {
          "output_type": "stream",
          "name": "stdout",
          "text": [
            "Max значение пикселя 2731\n",
            "Min значение пикселя 0\n"
          ]
        }
      ]
    },
    {
      "cell_type": "markdown",
      "source": [
        "**Чтобы собрать 3D массив из отдельных слайсов необходимо добавить одну размерность, по которой мы будем собирать 3Dмассив.**"
      ],
      "metadata": {
        "id": "j804I3oc6ITb"
      }
    },
    {
      "cell_type": "code",
      "source": [
        "# Создадим пустой 3D массив. Названию массива присвоим инентификатор пациента из первого слейса\n",
        "name = ds.PatientID\n",
        "name\n"
      ],
      "metadata": {
        "colab": {
          "base_uri": "https://localhost:8080/",
          "height": 35
        },
        "id": "FHuO2Eg56odM",
        "outputId": "8125d209-886f-4a10-b955-ac9ae4fe85ea"
      },
      "execution_count": null,
      "outputs": [
        {
          "output_type": "execute_result",
          "data": {
            "text/plain": [
              "'LUNG1-090'"
            ],
            "application/vnd.google.colaboratory.intrinsic+json": {
              "type": "string"
            }
          },
          "metadata": {},
          "execution_count": 21
        }
      ]
    },
    {
      "cell_type": "code",
      "source": [
        "name = np.array ([])"
      ],
      "metadata": {
        "id": "FkbQBANR769o"
      },
      "execution_count": null,
      "outputs": []
    },
    {
      "cell_type": "code",
      "source": [
        "name"
      ],
      "metadata": {
        "colab": {
          "base_uri": "https://localhost:8080/"
        },
        "id": "XjhSjI6T8bq1",
        "outputId": "f79e49e3-873b-4df8-bdd3-aa50a70dbce0"
      },
      "execution_count": null,
      "outputs": [
        {
          "output_type": "execute_result",
          "data": {
            "text/plain": [
              "array([], dtype=float64)"
            ]
          },
          "metadata": {},
          "execution_count": 24
        }
      ]
    },
    {
      "cell_type": "code",
      "source": [
        "LUNG1-090 = np.array ([])"
      ],
      "metadata": {
        "colab": {
          "base_uri": "https://localhost:8080/",
          "height": 133
        },
        "id": "liigpJSt8k48",
        "outputId": "67c68251-ff79-4200-c75e-3a7db4a5a107"
      },
      "execution_count": null,
      "outputs": [
        {
          "output_type": "error",
          "ename": "SyntaxError",
          "evalue": "ignored",
          "traceback": [
            "\u001b[0;36m  File \u001b[0;32m\"<ipython-input-25-62cbd1b50f9d>\"\u001b[0;36m, line \u001b[0;32m1\u001b[0m\n\u001b[0;31m    LUNG1-090 = np.array ([])\u001b[0m\n\u001b[0m          ^\u001b[0m\n\u001b[0;31mSyntaxError\u001b[0m\u001b[0;31m:\u001b[0m leading zeros in decimal integer literals are not permitted; use an 0o prefix for octal integers\n"
          ]
        }
      ]
    },
    {
      "cell_type": "code",
      "source": [
        "LUNG1_090 = np.zeros ((1,512,512),dtype='int')  # необходимо заменить с ID пациента '-' на '_'\n",
        "print(LUNG1_090.shape, LUNG1_090.dtype)"
      ],
      "metadata": {
        "colab": {
          "base_uri": "https://localhost:8080/"
        },
        "id": "M9ZpBW6h81Lj",
        "outputId": "77d2604c-22ee-4fad-d0f3-71796248f413"
      },
      "execution_count": null,
      "outputs": [
        {
          "output_type": "stream",
          "name": "stdout",
          "text": [
            "(1, 512, 512) int64\n"
          ]
        }
      ]
    },
    {
      "cell_type": "code",
      "source": [
        "print('LUNG1_090 - zeros',  LUNG1_090 [0,246:256,246:256])"
      ],
      "metadata": {
        "colab": {
          "base_uri": "https://localhost:8080/"
        },
        "id": "xHz7NJsvEiD1",
        "outputId": "26dcf318-7ea6-4514-d750-c814bb542ba7"
      },
      "execution_count": null,
      "outputs": [
        {
          "output_type": "stream",
          "name": "stdout",
          "text": [
            "LUNG1_090 - zeros [[0 0 0 0 0 0 0 0 0 0]\n",
            " [0 0 0 0 0 0 0 0 0 0]\n",
            " [0 0 0 0 0 0 0 0 0 0]\n",
            " [0 0 0 0 0 0 0 0 0 0]\n",
            " [0 0 0 0 0 0 0 0 0 0]\n",
            " [0 0 0 0 0 0 0 0 0 0]\n",
            " [0 0 0 0 0 0 0 0 0 0]\n",
            " [0 0 0 0 0 0 0 0 0 0]\n",
            " [0 0 0 0 0 0 0 0 0 0]\n",
            " [0 0 0 0 0 0 0 0 0 0]]\n"
          ]
        }
      ]
    },
    {
      "cell_type": "code",
      "source": [
        "# Добавим размерность для подачи в 3D массив\n",
        "q_np = np.reshape (q_np,[1,512,512])\n",
        "print('Тип переменной-',type(q_np), 'Размер-', q_np.shape)"
      ],
      "metadata": {
        "colab": {
          "base_uri": "https://localhost:8080/"
        },
        "id": "HHiGz5sP9ts4",
        "outputId": "2696e5bf-61a1-4e12-9907-8c19279be420"
      },
      "execution_count": null,
      "outputs": [
        {
          "output_type": "stream",
          "name": "stdout",
          "text": [
            "Тип переменной- <class 'numpy.ndarray'> Размер- (1, 512, 512)\n"
          ]
        }
      ]
    },
    {
      "cell_type": "code",
      "source": [
        "LUNG1_090 = LUNG1_090 + q_np  # первый шаг - исходный '0'-ой массив складываем с первым слайсом (чтобы его исключить из DS)\n",
        "print(LUNG1_090.shape)"
      ],
      "metadata": {
        "colab": {
          "base_uri": "https://localhost:8080/"
        },
        "id": "EYgOcPIrA_vx",
        "outputId": "8731962b-54f9-46ba-d972-0539e01dd64d"
      },
      "execution_count": null,
      "outputs": [
        {
          "output_type": "stream",
          "name": "stdout",
          "text": [
            "(1, 512, 512)\n"
          ]
        }
      ]
    },
    {
      "cell_type": "code",
      "source": [
        "print('Первый слайс пациента ','\\n','\\n',q_np [0,246:256,246:256])"
      ],
      "metadata": {
        "colab": {
          "base_uri": "https://localhost:8080/"
        },
        "id": "nW_-YYJRBTNv",
        "outputId": "9a550032-37c9-4280-aeb5-b162e73e69de"
      },
      "execution_count": null,
      "outputs": [
        {
          "output_type": "stream",
          "name": "stdout",
          "text": [
            "Первый слайс пациента  \n",
            " \n",
            " [[1300 1245 1244 1248 1242 1261 1357 1371 1164 1067]\n",
            " [1313 1329 1293 1256 1248 1261 1319 1395 1257 1165]\n",
            " [1322 1338 1362 1408 1348 1283 1256 1342 1372 1259]\n",
            " [1185 1248 1336 1408 1413 1435 1398 1307 1383 1348]\n",
            " [1129 1143 1212 1276 1321 1357 1396 1397 1368 1385]\n",
            " [1093 1085 1081 1107 1154 1212 1290 1422 1458 1384]\n",
            " [1064 1074 1073 1092 1060 1073 1142 1262 1446 1466]\n",
            " [1083 1072 1062 1067 1087 1092 1074 1076 1240 1462]\n",
            " [1072 1074 1070 1067 1062 1060 1074 1075 1127 1266]\n",
            " [1084 1080 1072 1071 1076 1079 1049 1005 1052 1125]]\n"
          ]
        }
      ]
    },
    {
      "cell_type": "code",
      "source": [
        "print('LUNG1_090 - zeros + Первый слайс пациента','\\n','\\n',LUNG1_090 [0,246:256,246:256])"
      ],
      "metadata": {
        "colab": {
          "base_uri": "https://localhost:8080/"
        },
        "id": "C3VCRYi3C6N9",
        "outputId": "321a3f98-475e-4f70-f51d-3b5fa3591dfa"
      },
      "execution_count": null,
      "outputs": [
        {
          "output_type": "stream",
          "name": "stdout",
          "text": [
            "LUNG1_090 - zeros + Первый слайс пациента \n",
            " \n",
            " [[1300 1245 1244 1248 1242 1261 1357 1371 1164 1067]\n",
            " [1313 1329 1293 1256 1248 1261 1319 1395 1257 1165]\n",
            " [1322 1338 1362 1408 1348 1283 1256 1342 1372 1259]\n",
            " [1185 1248 1336 1408 1413 1435 1398 1307 1383 1348]\n",
            " [1129 1143 1212 1276 1321 1357 1396 1397 1368 1385]\n",
            " [1093 1085 1081 1107 1154 1212 1290 1422 1458 1384]\n",
            " [1064 1074 1073 1092 1060 1073 1142 1262 1446 1466]\n",
            " [1083 1072 1062 1067 1087 1092 1074 1076 1240 1462]\n",
            " [1072 1074 1070 1067 1062 1060 1074 1075 1127 1266]\n",
            " [1084 1080 1072 1071 1076 1079 1049 1005 1052 1125]]\n"
          ]
        }
      ]
    },
    {
      "cell_type": "markdown",
      "source": [
        "**Поставив эту команду в цикл по слайсам пациента можно собрать 3D np-массив из первичного снимка в диапазоне пикселей 0-~4000**"
      ],
      "metadata": {
        "id": "EtvY1cZrF8eD"
      }
    },
    {
      "cell_type": "code",
      "source": [
        "LUNG1_090 = np.append (LUNG1_090, q_np, axis=0) # так сформирован 3D массив для пациента LUNG1_090\n",
        "print(LUNG1_090.shape)"
      ],
      "metadata": {
        "colab": {
          "base_uri": "https://localhost:8080/"
        },
        "id": "Wvs_vwv2-UxV",
        "outputId": "2a3aea91-f84d-49ac-c97c-a41de26cb3de"
      },
      "execution_count": null,
      "outputs": [
        {
          "output_type": "stream",
          "name": "stdout",
          "text": [
            "(2, 512, 512)\n"
          ]
        }
      ]
    },
    {
      "cell_type": "markdown",
      "source": [
        "## Как собрать все файлы .dcm в список с именем list"
      ],
      "metadata": {
        "id": "RxLUSYO1iSOP"
      }
    },
    {
      "cell_type": "code",
      "source": [
        "PathDicom = \"./MyHead/\"\n",
        "lstFilesDCM = []  # create an empty list\n",
        "for dirName, subdirList, fileList in os.walk(PathDicom):\n",
        "    for filename in fileList:\n",
        "        if \".dcm\" in filename.lower():  # check whether the file's DICOM\n",
        "            lstFilesDCM.append(os.path.join(dirName,filename))"
      ],
      "metadata": {
        "id": "RH18wiuqcoqD"
      },
      "execution_count": null,
      "outputs": []
    },
    {
      "cell_type": "markdown",
      "source": [
        "Единственный интересный момент здесь заключается в том, как я упоминал в разделе \"Пакет pydicom\", что пакет pydicom импортируется как dicom, поэтому будьте осторожны с этим. Далее мы используем os.path.пройдитесь по каталогу Myheart и соберите все файлы .dcm в список с именем lstFilesDCM:"
      ],
      "metadata": {
        "id": "NUIru0l_dP9m"
      }
    }
  ]
}