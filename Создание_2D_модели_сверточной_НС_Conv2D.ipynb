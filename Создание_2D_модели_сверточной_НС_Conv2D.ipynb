{
  "cells": [
    {
      "cell_type": "markdown",
      "metadata": {
        "id": "view-in-github",
        "colab_type": "text"
      },
      "source": [
        "<a href=\"https://colab.research.google.com/github/OlegKuzmin1968/Oleg_Kuzmin/blob/main/%D0%A1%D0%BE%D0%B7%D0%B4%D0%B0%D0%BD%D0%B8%D0%B5_2D_%D0%BC%D0%BE%D0%B4%D0%B5%D0%BB%D0%B8_%D1%81%D0%B2%D0%B5%D1%80%D1%82%D0%BE%D1%87%D0%BD%D0%BE%D0%B9_%D0%9D%D0%A1_Conv2D.ipynb\" target=\"_parent\"><img src=\"https://colab.research.google.com/assets/colab-badge.svg\" alt=\"Open In Colab\"/></a>"
      ]
    },
    {
      "cell_type": "code",
      "execution_count": 1,
      "metadata": {
        "colab": {
          "base_uri": "https://localhost:8080/"
        },
        "id": "YE6R0Ub78I0Y",
        "outputId": "f5c0591f-f187-4611-87b3-493f23a3f9cd"
      },
      "outputs": [
        {
          "output_type": "stream",
          "name": "stdout",
          "text": [
            "Mounted at /content/drive\n"
          ]
        }
      ],
      "source": [
        "from google.colab import drive\n",
        "drive.mount('/content/drive')"
      ]
    },
    {
      "cell_type": "markdown",
      "metadata": {
        "id": "d_qXycKuUA51"
      },
      "source": [
        "#*Создание 2D модели сверточной НС Conv2D для распознования выпота. ЗАДАЧА*\n",
        "\n",
        "Работаем с выборкой из 14 пациентов начиная с 303 и до 396 (только по тем для которых сделана сегментация преврального выпота).\n",
        "\n",
        "Цель:\n",
        "\n",
        "    1. Написать код по преобразованию DICOM файла в np-массив для каждого пациента.\n",
        "\n",
        "    2. Предусмотреть возможность сохранения полученного np-массив с соответствующим идентификатором пациента на googl Disk\n",
        "\n",
        "    3. Написать генератор данных, который использую функцию преобразования массива сможет подавать эти данные в НС\n",
        "    \n",
        "    ...для каждого пациента  из слайсов независимо от пациентов, при этом каждому слайсу присвоить двузначный правильный ответ: имеется ли на этом слайсе попаженная часть (выпот).x_train"
      ]
    },
    {
      "cell_type": "markdown",
      "metadata": {
        "id": "cjafllTSGW2O"
      },
      "source": [
        "# Загрузки"
      ]
    },
    {
      "cell_type": "code",
      "execution_count": 30,
      "metadata": {
        "id": "S5QsYH53bO0n"
      },
      "outputs": [],
      "source": [
        "from nibabel.viewers import OrthoSlicer3D\n",
        "from nibabel import nifti1\n",
        "import nibabel as nib\n",
        "from matplotlib import pylab as plt\n",
        "import matplotlib\n",
        "import numpy as np\n",
        "from numpy.core.multiarray import dtype\n",
        "from matplotlib import pyplot, cm\n",
        "import os\n",
        "from PIL import Image # Синтаксис и описание функции Image.open():\n",
        "import random"
      ]
    },
    {
      "cell_type": "code",
      "metadata": {
        "id": "B9UcvTSFlMyC"
      },
      "source": [
        "from sklearn.model_selection import train_test_split\n",
        "from sklearn.preprocessing import LabelEncoder, StandardScaler # Функции для нормализации данных\n",
        "from sklearn import preprocessing # Пакет предварительной обработки данных\n",
        "from tensorflow.keras import utils #Используем дял to_categoricall\n",
        "\n",
        "from tensorflow.keras.datasets import mnist # Из открытой библиотеки программ Tensorflow для Keras, раздел набор данных, импортируем базу ч/б картинок 28х28 mnist"
      ],
      "execution_count": 31,
      "outputs": []
    },
    {
      "cell_type": "markdown",
      "metadata": {
        "id": "aZHSa5KRki7W"
      },
      "source": [
        "**Пакет для создания и работы нейронной сети**"
      ]
    },
    {
      "cell_type": "code",
      "metadata": {
        "id": "JXMfExZlkxpG"
      },
      "source": [
        "from tensorflow.keras.models import Sequential # Из открытой библиотеки программ Tensorflow для Keras, раздел models, программу создания пустой модели НС\n",
        "from tensorflow.keras.layers import Dense,BatchNormalization, Dropout, Conv2D, Flatten, MaxPooling2D # ...  раздел layers (слои), программу создания слоев НС\n",
        "from tensorflow.keras.optimizers import Adam,  Adadelta  # оптимизаторы (optimizers) Adam (0.001)\n"
      ],
      "execution_count": 32,
      "outputs": []
    },
    {
      "cell_type": "markdown",
      "metadata": {
        "id": "6rtkJvcelfbH"
      },
      "source": [
        "**Графический покет для прорисовки графиков и картинок**"
      ]
    },
    {
      "cell_type": "code",
      "execution_count": null,
      "metadata": {
        "colab": {
          "base_uri": "https://localhost:8080/"
        },
        "id": "qk56_Nh3AXOT",
        "outputId": "c27cc5e3-551a-4362-b00a-6453d413f8bf"
      },
      "outputs": [
        {
          "name": "stdout",
          "output_type": "stream",
          "text": [
            "rm: cannot remove '/content/drive/MyDrive/Baza/Stag_1/Effusions_Directory/LUNG1-420': No such file or directory\n"
          ]
        }
      ],
      "source": [
        "#!rm -R /content/drive/MyDrive/Baza/Stag_1/Effusions_Directory/LUNG1-420 # УДАЛЕНИЕ НЕПУСТОЙ ПАПКИ В COLABE"
      ]
    },
    {
      "cell_type": "code",
      "execution_count": null,
      "metadata": {
        "id": "B22rEq92Aa2H"
      },
      "outputs": [],
      "source": [
        "#!rm -R /content/drive/MyDrive/Baza/Stag_1/np"
      ]
    },
    {
      "cell_type": "markdown",
      "metadata": {
        "id": "0OHY2rbRiOgt"
      },
      "source": [
        "https://drive.google.com/drive/folders/1QHsJbmCAFGp6Hl-tgtHutvToTy2I1Lj_?usp=drive_link\n",
        "\n",
        "**Дмитрий Черемисов** Сюда загрузил первый проект и датасет."
      ]
    },
    {
      "cell_type": "markdown",
      "metadata": {
        "id": "NoO5drNvwdJU"
      },
      "source": [
        "**Из NB \"Формирование x_train и y_train на основе 2D массива\", берем список test-овой выборки соответствующих пациентов.**"
      ]
    },
    {
      "cell_type": "code",
      "execution_count": 33,
      "metadata": {
        "id": "BPDGGHNsv5Sf"
      },
      "outputs": [],
      "source": [
        "keys_list_134 = ['LUNG1-303', 'LUNG1-307', 'LUNG1-312', 'LUNG1-325', 'LUNG1-331', 'LUNG1-336', 'LUNG1-361', 'LUNG1-362', 'LUNG1-366', 'LUNG1-367', 'LUNG1-376', 'LUNG1-377', 'LUNG1-381', 'LUNG1-396']\n"
      ]
    },
    {
      "cell_type": "code",
      "execution_count": 34,
      "metadata": {
        "colab": {
          "base_uri": "https://localhost:8080/"
        },
        "id": "_7g3fx88wWn5",
        "outputId": "6b7e06f0-72af-400b-c92d-b5b4ecc023a9"
      },
      "outputs": [
        {
          "output_type": "execute_result",
          "data": {
            "text/plain": [
              "14"
            ]
          },
          "metadata": {},
          "execution_count": 34
        }
      ],
      "source": [
        "len(keys_list_134)"
      ]
    },
    {
      "cell_type": "markdown",
      "metadata": {
        "id": "Ckq9mCvxtCTp"
      },
      "source": [
        "\n",
        "# Работа с оригинальным изображением"
      ]
    },
    {
      "cell_type": "markdown",
      "metadata": {
        "id": "OUyEo0SRiplU"
      },
      "source": [
        "### Загрузки библиотек для работы с DICOM"
      ]
    },
    {
      "cell_type": "code",
      "execution_count": 35,
      "metadata": {
        "colab": {
          "base_uri": "https://localhost:8080/"
        },
        "id": "Janu4gV0ZZT2",
        "outputId": "42eb7441-02ce-4f74-a6e8-c7720bfa95e4"
      },
      "outputs": [
        {
          "output_type": "stream",
          "name": "stdout",
          "text": [
            "Collecting pydicom\n",
            "  Downloading pydicom-2.4.1-py3-none-any.whl (1.8 MB)\n",
            "\u001b[?25l     \u001b[90m━━━━━━━━━━━━━━━━━━━━━━━━━━━━━━━━━━━━━━━━\u001b[0m \u001b[32m0.0/1.8 MB\u001b[0m \u001b[31m?\u001b[0m eta \u001b[36m-:--:--\u001b[0m\r\u001b[2K     \u001b[90m━━━━━━━━━━━━━━━━━━━━━━━━━━━━━━━━━━━━━━━━\u001b[0m \u001b[32m1.8/1.8 MB\u001b[0m \u001b[31m55.7 MB/s\u001b[0m eta \u001b[36m0:00:00\u001b[0m\n",
            "\u001b[?25hInstalling collected packages: pydicom\n",
            "Successfully installed pydicom-2.4.1\n"
          ]
        }
      ],
      "source": [
        "!pip install pydicom"
      ]
    },
    {
      "cell_type": "code",
      "execution_count": 36,
      "metadata": {
        "id": "6hCWeoq9atkr"
      },
      "outputs": [],
      "source": [
        "# Единственный интересный момент здесь заключается в том, как я упоминал в разделе \"Пакет pydicom\",\n",
        "# что пакет pydicom импортируется как dicom, поэтому будьте осторожны с этим.\n",
        "\n",
        "import pydicom           # запустился так\n",
        "import pydicom.data      # + metod"
      ]
    },
    {
      "cell_type": "markdown",
      "metadata": {
        "id": "Yus7IkKz3TjI"
      },
      "source": [
        "## **Путь к локальной папке оригинальных снимков для test**"
      ]
    },
    {
      "cell_type": "code",
      "execution_count": 37,
      "metadata": {
        "colab": {
          "base_uri": "https://localhost:8080/"
        },
        "id": "TXuvcEk6UalB",
        "outputId": "98fe1dd2-be1d-46ab-dfd4-3edb734e2333"
      },
      "outputs": [
        {
          "output_type": "stream",
          "name": "stdout",
          "text": [
            " q- /content/drive/MyDrive/Baza/Stag_1/Original_Directory \n",
            " Тип переменной q - <class 'str'>\n"
          ]
        }
      ],
      "source": [
        "# Присвоим переменной q путь к папке где хранятся все оригинальные снимки DICOM\n",
        "q = '/content/drive/MyDrive/Baza/Stag_1/Original_Directory'\n",
        "print (' q-', q,'\\n','Тип переменной q -', type(q))"
      ]
    },
    {
      "cell_type": "code",
      "execution_count": 38,
      "metadata": {
        "colab": {
          "base_uri": "https://localhost:8080/"
        },
        "id": "M3ERnXshp9P-",
        "outputId": "d9027a9b-ae8b-4179-fb50-28bf94e979dc"
      },
      "outputs": [
        {
          "output_type": "stream",
          "name": "stdout",
          "text": [
            "Сам список после сортировки:  ['LUNG1-381', 'LUNG1-396']\n",
            "Количество пациентов- 2\n"
          ]
        }
      ],
      "source": [
        "# Путь к оригинальным снимкам тестовой выборки на моем Googl Disk\n",
        "Original_Directory = '/content/drive/MyDrive/Baza/Stag_1/Original_Directory/Test'\n",
        "\n",
        "Original_list = os.listdir(Original_Directory)   # занесем всех пациентов с оригинальными снимками в список\n",
        "Original_list.sort()                             # отсортируем список\n",
        "Original_list.pop(0)                             # удалим первый элемент\n",
        "\n",
        "print('Сам список после сортировки: ', Original_list)\n",
        "pac = len(Original_list)                         # количество пациентов с оригинальными снимками в тестовой выборке DS\n",
        "print('Количество пациентов-', pac)\n"
      ]
    },
    {
      "cell_type": "markdown",
      "metadata": {
        "id": "s6TAJQndC6yp"
      },
      "source": [
        "## Функция составления списка слайсов"
      ]
    },
    {
      "cell_type": "code",
      "execution_count": 39,
      "metadata": {
        "id": "osNbjPCCW5bw"
      },
      "outputs": [],
      "source": [
        "def LUNG_n_slise (n, Original_list):\n",
        "\n",
        "  ''' Функция составления списка слайсов оригинального снимка\n",
        "      Вход:  n - порядковый номер пациента в списке\n",
        "             Original_list - список пациентов с оригинальными списками\n",
        "      Выход: Список слайсов в оригинальном снимке одного пациента '''\n",
        "\n",
        "  lun_1 = Original_list [n]\n",
        "  #print(Original_list [n],'n')\n",
        "  print('   Файл со снимком одного из пациентов',lun_1)\n",
        "  Original_list2 = os.listdir('/content/drive/MyDrive/Baza/Stag_1/Original_Directory/Test'+'/' +lun_1)\n",
        "  lun_2 = Original_list2 [0]\n",
        "  #print('lun_2',lun_2)\n",
        "  Original_list3 = os.listdir('/content/drive/MyDrive/Baza/Stag_1/Original_Directory/Test'+'/'+ lun_1 + '/' + lun_2)\n",
        "  lun_3 = Original_list3 [0]\n",
        "  #print('lun_3',lun_3)\n",
        "  base = '/content/drive/MyDrive/Baza/Stag_1/Original_Directory/Test'+'/'+ lun_1 + '/' + lun_2 + '/' + lun_3\n",
        "  Original_list4 = os.listdir('/content/drive/MyDrive/Baza/Stag_1/Original_Directory/Test'+'/'+ lun_1 + '/' + lun_2 + '/' + lun_3)\n",
        "  Original_list4.sort()\n",
        "  #k = str('lung_' + str(n))\n",
        "  #print(len(Original_list4))\n",
        "  #print('Original_list4', Original_list4 [12])\n",
        "  return Original_list4, base\n"
      ]
    },
    {
      "cell_type": "code",
      "execution_count": null,
      "metadata": {
        "colab": {
          "base_uri": "https://localhost:8080/"
        },
        "id": "vexLZ0fniod3",
        "outputId": "115fcb64-5678-418b-e2c4-9cbd3f3e092f"
      },
      "outputs": [
        {
          "name": "stdout",
          "output_type": "stream",
          "text": [
            "   Файл со снимком одного из пациентов LUNG1_396\n"
          ]
        },
        {
          "data": {
            "text/plain": [
              "(['1-001.dcm',\n",
              "  '1-002.dcm',\n",
              "  '1-003.dcm',\n",
              "  '1-004.dcm',\n",
              "  '1-005.dcm',\n",
              "  '1-006.dcm',\n",
              "  '1-007.dcm',\n",
              "  '1-008.dcm',\n",
              "  '1-009.dcm',\n",
              "  '1-010.dcm',\n",
              "  '1-011.dcm',\n",
              "  '1-012.dcm',\n",
              "  '1-013.dcm',\n",
              "  '1-014.dcm',\n",
              "  '1-015.dcm',\n",
              "  '1-016.dcm',\n",
              "  '1-017.dcm',\n",
              "  '1-018.dcm',\n",
              "  '1-019.dcm',\n",
              "  '1-020.dcm',\n",
              "  '1-021.dcm',\n",
              "  '1-022.dcm',\n",
              "  '1-023.dcm',\n",
              "  '1-024.dcm',\n",
              "  '1-025.dcm',\n",
              "  '1-026.dcm',\n",
              "  '1-027.dcm',\n",
              "  '1-028.dcm',\n",
              "  '1-029.dcm',\n",
              "  '1-030.dcm',\n",
              "  '1-031.dcm',\n",
              "  '1-032.dcm',\n",
              "  '1-033.dcm',\n",
              "  '1-034.dcm',\n",
              "  '1-035.dcm',\n",
              "  '1-036.dcm',\n",
              "  '1-037.dcm',\n",
              "  '1-038.dcm',\n",
              "  '1-039.dcm',\n",
              "  '1-040.dcm',\n",
              "  '1-041.dcm',\n",
              "  '1-042.dcm',\n",
              "  '1-043.dcm',\n",
              "  '1-044.dcm',\n",
              "  '1-045.dcm',\n",
              "  '1-046.dcm',\n",
              "  '1-047.dcm',\n",
              "  '1-048.dcm',\n",
              "  '1-049.dcm',\n",
              "  '1-050.dcm',\n",
              "  '1-051.dcm',\n",
              "  '1-052.dcm',\n",
              "  '1-053.dcm',\n",
              "  '1-054.dcm',\n",
              "  '1-055.dcm',\n",
              "  '1-056.dcm',\n",
              "  '1-057.dcm',\n",
              "  '1-058.dcm',\n",
              "  '1-059.dcm',\n",
              "  '1-060.dcm',\n",
              "  '1-061.dcm',\n",
              "  '1-062.dcm',\n",
              "  '1-063.dcm',\n",
              "  '1-064.dcm',\n",
              "  '1-065.dcm',\n",
              "  '1-066.dcm',\n",
              "  '1-067.dcm',\n",
              "  '1-068.dcm',\n",
              "  '1-069.dcm',\n",
              "  '1-070.dcm',\n",
              "  '1-071.dcm',\n",
              "  '1-072.dcm',\n",
              "  '1-073.dcm',\n",
              "  '1-074.dcm',\n",
              "  '1-075.dcm',\n",
              "  '1-076.dcm',\n",
              "  '1-077.dcm',\n",
              "  '1-078.dcm',\n",
              "  '1-079.dcm',\n",
              "  '1-080.dcm',\n",
              "  '1-081.dcm',\n",
              "  '1-082.dcm',\n",
              "  '1-083.dcm',\n",
              "  '1-084.dcm',\n",
              "  '1-085.dcm',\n",
              "  '1-086.dcm',\n",
              "  '1-087.dcm',\n",
              "  '1-088.dcm',\n",
              "  '1-089.dcm',\n",
              "  '1-090.dcm',\n",
              "  '1-091.dcm',\n",
              "  '1-092.dcm',\n",
              "  '1-093.dcm',\n",
              "  '1-094.dcm',\n",
              "  '1-095.dcm',\n",
              "  '1-096.dcm',\n",
              "  '1-097.dcm',\n",
              "  '1-098.dcm',\n",
              "  '1-099.dcm',\n",
              "  '1-100.dcm',\n",
              "  '1-101.dcm',\n",
              "  '1-102.dcm',\n",
              "  '1-103.dcm',\n",
              "  '1-104.dcm',\n",
              "  '1-105.dcm',\n",
              "  '1-106.dcm',\n",
              "  '1-107.dcm',\n",
              "  '1-108.dcm',\n",
              "  '1-109.dcm',\n",
              "  '1-110.dcm',\n",
              "  '1-111.dcm',\n",
              "  '1-112.dcm',\n",
              "  '1-113.dcm',\n",
              "  '1-114.dcm',\n",
              "  '1-115.dcm',\n",
              "  '1-116.dcm',\n",
              "  '1-117.dcm',\n",
              "  '1-118.dcm',\n",
              "  '1-119.dcm',\n",
              "  '1-120.dcm',\n",
              "  '1-121.dcm',\n",
              "  '1-122.dcm',\n",
              "  '1-123.dcm',\n",
              "  '1-124.dcm',\n",
              "  '1-125.dcm',\n",
              "  '1-126.dcm',\n",
              "  '1-127.dcm',\n",
              "  '1-128.dcm',\n",
              "  '1-129.dcm',\n",
              "  '1-130.dcm',\n",
              "  '1-131.dcm',\n",
              "  '1-132.dcm',\n",
              "  '1-133.dcm',\n",
              "  '1-134.dcm'],\n",
              " '/content/drive/MyDrive/Baza/Stag_1/Original_Directory/Test/LUNG1_396/05-01-2010-NA-NA-28227/0.000000-NA-05554')"
            ]
          },
          "execution_count": 12,
          "metadata": {},
          "output_type": "execute_result"
        }
      ],
      "source": [
        "LUNG_n_slise (0,Original_list)"
      ]
    },
    {
      "cell_type": "markdown",
      "metadata": {
        "id": "bnN1e80J65jX"
      },
      "source": [
        "## Создание np-файлов для 2D модели test\n"
      ]
    },
    {
      "cell_type": "markdown",
      "source": [
        "### Функция создания словаря путей к слайсам тестовой выборки"
      ],
      "metadata": {
        "id": "B6NCMmyMePUU"
      }
    },
    {
      "cell_type": "code",
      "execution_count": 40,
      "metadata": {
        "colab": {
          "base_uri": "https://localhost:8080/"
        },
        "id": "YNUAkP3t7EDE",
        "outputId": "e0c784eb-ccbf-4a37-82bb-33023a2412d0"
      },
      "outputs": [
        {
          "output_type": "stream",
          "name": "stdout",
          "text": [
            "   Файл со снимком одного из пациентов LUNG1-381\n",
            "x_pa /content/drive/MyDrive/Baza/Stag_1/Original_Directory/Test/LUNG1-381/03-20-2010-NA-NA-60601/0.000000-NA-45095/1-001.dcm\n",
            "Сквозной порядковый номер слайса - 0\n",
            "x_pa /content/drive/MyDrive/Baza/Stag_1/Original_Directory/Test/LUNG1-381/03-20-2010-NA-NA-60601/0.000000-NA-45095/1-002.dcm\n",
            "Сквозной порядковый номер слайса - 1\n",
            "x_pa /content/drive/MyDrive/Baza/Stag_1/Original_Directory/Test/LUNG1-381/03-20-2010-NA-NA-60601/0.000000-NA-45095/1-003.dcm\n",
            "Сквозной порядковый номер слайса - 2\n",
            "x_pa /content/drive/MyDrive/Baza/Stag_1/Original_Directory/Test/LUNG1-381/03-20-2010-NA-NA-60601/0.000000-NA-45095/1-004.dcm\n",
            "Сквозной порядковый номер слайса - 3\n",
            "x_pa /content/drive/MyDrive/Baza/Stag_1/Original_Directory/Test/LUNG1-381/03-20-2010-NA-NA-60601/0.000000-NA-45095/1-005.dcm\n",
            "Сквозной порядковый номер слайса - 4\n",
            "x_pa /content/drive/MyDrive/Baza/Stag_1/Original_Directory/Test/LUNG1-381/03-20-2010-NA-NA-60601/0.000000-NA-45095/1-006.dcm\n",
            "Сквозной порядковый номер слайса - 5\n",
            "x_pa /content/drive/MyDrive/Baza/Stag_1/Original_Directory/Test/LUNG1-381/03-20-2010-NA-NA-60601/0.000000-NA-45095/1-007.dcm\n",
            "Сквозной порядковый номер слайса - 6\n",
            "x_pa /content/drive/MyDrive/Baza/Stag_1/Original_Directory/Test/LUNG1-381/03-20-2010-NA-NA-60601/0.000000-NA-45095/1-008.dcm\n",
            "Сквозной порядковый номер слайса - 7\n",
            "x_pa /content/drive/MyDrive/Baza/Stag_1/Original_Directory/Test/LUNG1-381/03-20-2010-NA-NA-60601/0.000000-NA-45095/1-009.dcm\n",
            "Сквозной порядковый номер слайса - 8\n",
            "x_pa /content/drive/MyDrive/Baza/Stag_1/Original_Directory/Test/LUNG1-381/03-20-2010-NA-NA-60601/0.000000-NA-45095/1-010.dcm\n",
            "Сквозной порядковый номер слайса - 9\n",
            "x_pa /content/drive/MyDrive/Baza/Stag_1/Original_Directory/Test/LUNG1-381/03-20-2010-NA-NA-60601/0.000000-NA-45095/1-011.dcm\n",
            "Сквозной порядковый номер слайса - 10\n",
            "x_pa /content/drive/MyDrive/Baza/Stag_1/Original_Directory/Test/LUNG1-381/03-20-2010-NA-NA-60601/0.000000-NA-45095/1-012.dcm\n",
            "Сквозной порядковый номер слайса - 11\n",
            "x_pa /content/drive/MyDrive/Baza/Stag_1/Original_Directory/Test/LUNG1-381/03-20-2010-NA-NA-60601/0.000000-NA-45095/1-013.dcm\n",
            "Сквозной порядковый номер слайса - 12\n",
            "x_pa /content/drive/MyDrive/Baza/Stag_1/Original_Directory/Test/LUNG1-381/03-20-2010-NA-NA-60601/0.000000-NA-45095/1-014.dcm\n",
            "Сквозной порядковый номер слайса - 13\n",
            "x_pa /content/drive/MyDrive/Baza/Stag_1/Original_Directory/Test/LUNG1-381/03-20-2010-NA-NA-60601/0.000000-NA-45095/1-015.dcm\n",
            "Сквозной порядковый номер слайса - 14\n",
            "x_pa /content/drive/MyDrive/Baza/Stag_1/Original_Directory/Test/LUNG1-381/03-20-2010-NA-NA-60601/0.000000-NA-45095/1-016.dcm\n",
            "Сквозной порядковый номер слайса - 15\n",
            "x_pa /content/drive/MyDrive/Baza/Stag_1/Original_Directory/Test/LUNG1-381/03-20-2010-NA-NA-60601/0.000000-NA-45095/1-017.dcm\n",
            "Сквозной порядковый номер слайса - 16\n",
            "x_pa /content/drive/MyDrive/Baza/Stag_1/Original_Directory/Test/LUNG1-381/03-20-2010-NA-NA-60601/0.000000-NA-45095/1-018.dcm\n",
            "Сквозной порядковый номер слайса - 17\n",
            "x_pa /content/drive/MyDrive/Baza/Stag_1/Original_Directory/Test/LUNG1-381/03-20-2010-NA-NA-60601/0.000000-NA-45095/1-019.dcm\n",
            "Сквозной порядковый номер слайса - 18\n",
            "x_pa /content/drive/MyDrive/Baza/Stag_1/Original_Directory/Test/LUNG1-381/03-20-2010-NA-NA-60601/0.000000-NA-45095/1-020.dcm\n",
            "Сквозной порядковый номер слайса - 19\n",
            "x_pa /content/drive/MyDrive/Baza/Stag_1/Original_Directory/Test/LUNG1-381/03-20-2010-NA-NA-60601/0.000000-NA-45095/1-021.dcm\n",
            "Сквозной порядковый номер слайса - 20\n",
            "x_pa /content/drive/MyDrive/Baza/Stag_1/Original_Directory/Test/LUNG1-381/03-20-2010-NA-NA-60601/0.000000-NA-45095/1-022.dcm\n",
            "Сквозной порядковый номер слайса - 21\n",
            "x_pa /content/drive/MyDrive/Baza/Stag_1/Original_Directory/Test/LUNG1-381/03-20-2010-NA-NA-60601/0.000000-NA-45095/1-023.dcm\n",
            "Сквозной порядковый номер слайса - 22\n",
            "x_pa /content/drive/MyDrive/Baza/Stag_1/Original_Directory/Test/LUNG1-381/03-20-2010-NA-NA-60601/0.000000-NA-45095/1-024.dcm\n",
            "Сквозной порядковый номер слайса - 23\n",
            "x_pa /content/drive/MyDrive/Baza/Stag_1/Original_Directory/Test/LUNG1-381/03-20-2010-NA-NA-60601/0.000000-NA-45095/1-025.dcm\n",
            "Сквозной порядковый номер слайса - 24\n",
            "x_pa /content/drive/MyDrive/Baza/Stag_1/Original_Directory/Test/LUNG1-381/03-20-2010-NA-NA-60601/0.000000-NA-45095/1-026.dcm\n",
            "Сквозной порядковый номер слайса - 25\n",
            "x_pa /content/drive/MyDrive/Baza/Stag_1/Original_Directory/Test/LUNG1-381/03-20-2010-NA-NA-60601/0.000000-NA-45095/1-027.dcm\n",
            "Сквозной порядковый номер слайса - 26\n",
            "x_pa /content/drive/MyDrive/Baza/Stag_1/Original_Directory/Test/LUNG1-381/03-20-2010-NA-NA-60601/0.000000-NA-45095/1-028.dcm\n",
            "Сквозной порядковый номер слайса - 27\n",
            "x_pa /content/drive/MyDrive/Baza/Stag_1/Original_Directory/Test/LUNG1-381/03-20-2010-NA-NA-60601/0.000000-NA-45095/1-029.dcm\n",
            "Сквозной порядковый номер слайса - 28\n",
            "x_pa /content/drive/MyDrive/Baza/Stag_1/Original_Directory/Test/LUNG1-381/03-20-2010-NA-NA-60601/0.000000-NA-45095/1-030.dcm\n",
            "Сквозной порядковый номер слайса - 29\n",
            "x_pa /content/drive/MyDrive/Baza/Stag_1/Original_Directory/Test/LUNG1-381/03-20-2010-NA-NA-60601/0.000000-NA-45095/1-031.dcm\n",
            "Сквозной порядковый номер слайса - 30\n",
            "x_pa /content/drive/MyDrive/Baza/Stag_1/Original_Directory/Test/LUNG1-381/03-20-2010-NA-NA-60601/0.000000-NA-45095/1-032.dcm\n",
            "Сквозной порядковый номер слайса - 31\n",
            "x_pa /content/drive/MyDrive/Baza/Stag_1/Original_Directory/Test/LUNG1-381/03-20-2010-NA-NA-60601/0.000000-NA-45095/1-033.dcm\n",
            "Сквозной порядковый номер слайса - 32\n",
            "x_pa /content/drive/MyDrive/Baza/Stag_1/Original_Directory/Test/LUNG1-381/03-20-2010-NA-NA-60601/0.000000-NA-45095/1-034.dcm\n",
            "Сквозной порядковый номер слайса - 33\n",
            "x_pa /content/drive/MyDrive/Baza/Stag_1/Original_Directory/Test/LUNG1-381/03-20-2010-NA-NA-60601/0.000000-NA-45095/1-035.dcm\n",
            "Сквозной порядковый номер слайса - 34\n",
            "x_pa /content/drive/MyDrive/Baza/Stag_1/Original_Directory/Test/LUNG1-381/03-20-2010-NA-NA-60601/0.000000-NA-45095/1-036.dcm\n",
            "Сквозной порядковый номер слайса - 35\n",
            "x_pa /content/drive/MyDrive/Baza/Stag_1/Original_Directory/Test/LUNG1-381/03-20-2010-NA-NA-60601/0.000000-NA-45095/1-037.dcm\n",
            "Сквозной порядковый номер слайса - 36\n",
            "x_pa /content/drive/MyDrive/Baza/Stag_1/Original_Directory/Test/LUNG1-381/03-20-2010-NA-NA-60601/0.000000-NA-45095/1-038.dcm\n",
            "Сквозной порядковый номер слайса - 37\n",
            "x_pa /content/drive/MyDrive/Baza/Stag_1/Original_Directory/Test/LUNG1-381/03-20-2010-NA-NA-60601/0.000000-NA-45095/1-039.dcm\n",
            "Сквозной порядковый номер слайса - 38\n",
            "x_pa /content/drive/MyDrive/Baza/Stag_1/Original_Directory/Test/LUNG1-381/03-20-2010-NA-NA-60601/0.000000-NA-45095/1-040.dcm\n",
            "Сквозной порядковый номер слайса - 39\n",
            "x_pa /content/drive/MyDrive/Baza/Stag_1/Original_Directory/Test/LUNG1-381/03-20-2010-NA-NA-60601/0.000000-NA-45095/1-041.dcm\n",
            "Сквозной порядковый номер слайса - 40\n",
            "x_pa /content/drive/MyDrive/Baza/Stag_1/Original_Directory/Test/LUNG1-381/03-20-2010-NA-NA-60601/0.000000-NA-45095/1-042.dcm\n",
            "Сквозной порядковый номер слайса - 41\n",
            "x_pa /content/drive/MyDrive/Baza/Stag_1/Original_Directory/Test/LUNG1-381/03-20-2010-NA-NA-60601/0.000000-NA-45095/1-043.dcm\n",
            "Сквозной порядковый номер слайса - 42\n",
            "x_pa /content/drive/MyDrive/Baza/Stag_1/Original_Directory/Test/LUNG1-381/03-20-2010-NA-NA-60601/0.000000-NA-45095/1-044.dcm\n",
            "Сквозной порядковый номер слайса - 43\n",
            "x_pa /content/drive/MyDrive/Baza/Stag_1/Original_Directory/Test/LUNG1-381/03-20-2010-NA-NA-60601/0.000000-NA-45095/1-045.dcm\n",
            "Сквозной порядковый номер слайса - 44\n",
            "x_pa /content/drive/MyDrive/Baza/Stag_1/Original_Directory/Test/LUNG1-381/03-20-2010-NA-NA-60601/0.000000-NA-45095/1-046.dcm\n",
            "Сквозной порядковый номер слайса - 45\n",
            "x_pa /content/drive/MyDrive/Baza/Stag_1/Original_Directory/Test/LUNG1-381/03-20-2010-NA-NA-60601/0.000000-NA-45095/1-047.dcm\n",
            "Сквозной порядковый номер слайса - 46\n",
            "x_pa /content/drive/MyDrive/Baza/Stag_1/Original_Directory/Test/LUNG1-381/03-20-2010-NA-NA-60601/0.000000-NA-45095/1-048.dcm\n",
            "Сквозной порядковый номер слайса - 47\n",
            "x_pa /content/drive/MyDrive/Baza/Stag_1/Original_Directory/Test/LUNG1-381/03-20-2010-NA-NA-60601/0.000000-NA-45095/1-049.dcm\n",
            "Сквозной порядковый номер слайса - 48\n",
            "x_pa /content/drive/MyDrive/Baza/Stag_1/Original_Directory/Test/LUNG1-381/03-20-2010-NA-NA-60601/0.000000-NA-45095/1-050.dcm\n",
            "Сквозной порядковый номер слайса - 49\n",
            "x_pa /content/drive/MyDrive/Baza/Stag_1/Original_Directory/Test/LUNG1-381/03-20-2010-NA-NA-60601/0.000000-NA-45095/1-051.dcm\n",
            "Сквозной порядковый номер слайса - 50\n",
            "x_pa /content/drive/MyDrive/Baza/Stag_1/Original_Directory/Test/LUNG1-381/03-20-2010-NA-NA-60601/0.000000-NA-45095/1-052.dcm\n",
            "Сквозной порядковый номер слайса - 51\n",
            "x_pa /content/drive/MyDrive/Baza/Stag_1/Original_Directory/Test/LUNG1-381/03-20-2010-NA-NA-60601/0.000000-NA-45095/1-053.dcm\n",
            "Сквозной порядковый номер слайса - 52\n",
            "x_pa /content/drive/MyDrive/Baza/Stag_1/Original_Directory/Test/LUNG1-381/03-20-2010-NA-NA-60601/0.000000-NA-45095/1-054.dcm\n",
            "Сквозной порядковый номер слайса - 53\n",
            "x_pa /content/drive/MyDrive/Baza/Stag_1/Original_Directory/Test/LUNG1-381/03-20-2010-NA-NA-60601/0.000000-NA-45095/1-055.dcm\n",
            "Сквозной порядковый номер слайса - 54\n",
            "x_pa /content/drive/MyDrive/Baza/Stag_1/Original_Directory/Test/LUNG1-381/03-20-2010-NA-NA-60601/0.000000-NA-45095/1-056.dcm\n",
            "Сквозной порядковый номер слайса - 55\n",
            "x_pa /content/drive/MyDrive/Baza/Stag_1/Original_Directory/Test/LUNG1-381/03-20-2010-NA-NA-60601/0.000000-NA-45095/1-057.dcm\n",
            "Сквозной порядковый номер слайса - 56\n",
            "x_pa /content/drive/MyDrive/Baza/Stag_1/Original_Directory/Test/LUNG1-381/03-20-2010-NA-NA-60601/0.000000-NA-45095/1-058.dcm\n",
            "Сквозной порядковый номер слайса - 57\n",
            "x_pa /content/drive/MyDrive/Baza/Stag_1/Original_Directory/Test/LUNG1-381/03-20-2010-NA-NA-60601/0.000000-NA-45095/1-059.dcm\n",
            "Сквозной порядковый номер слайса - 58\n",
            "x_pa /content/drive/MyDrive/Baza/Stag_1/Original_Directory/Test/LUNG1-381/03-20-2010-NA-NA-60601/0.000000-NA-45095/1-060.dcm\n",
            "Сквозной порядковый номер слайса - 59\n",
            "x_pa /content/drive/MyDrive/Baza/Stag_1/Original_Directory/Test/LUNG1-381/03-20-2010-NA-NA-60601/0.000000-NA-45095/1-061.dcm\n",
            "Сквозной порядковый номер слайса - 60\n",
            "x_pa /content/drive/MyDrive/Baza/Stag_1/Original_Directory/Test/LUNG1-381/03-20-2010-NA-NA-60601/0.000000-NA-45095/1-062.dcm\n",
            "Сквозной порядковый номер слайса - 61\n",
            "x_pa /content/drive/MyDrive/Baza/Stag_1/Original_Directory/Test/LUNG1-381/03-20-2010-NA-NA-60601/0.000000-NA-45095/1-063.dcm\n",
            "Сквозной порядковый номер слайса - 62\n",
            "x_pa /content/drive/MyDrive/Baza/Stag_1/Original_Directory/Test/LUNG1-381/03-20-2010-NA-NA-60601/0.000000-NA-45095/1-064.dcm\n",
            "Сквозной порядковый номер слайса - 63\n",
            "x_pa /content/drive/MyDrive/Baza/Stag_1/Original_Directory/Test/LUNG1-381/03-20-2010-NA-NA-60601/0.000000-NA-45095/1-065.dcm\n",
            "Сквозной порядковый номер слайса - 64\n",
            "x_pa /content/drive/MyDrive/Baza/Stag_1/Original_Directory/Test/LUNG1-381/03-20-2010-NA-NA-60601/0.000000-NA-45095/1-066.dcm\n",
            "Сквозной порядковый номер слайса - 65\n",
            "x_pa /content/drive/MyDrive/Baza/Stag_1/Original_Directory/Test/LUNG1-381/03-20-2010-NA-NA-60601/0.000000-NA-45095/1-067.dcm\n",
            "Сквозной порядковый номер слайса - 66\n",
            "x_pa /content/drive/MyDrive/Baza/Stag_1/Original_Directory/Test/LUNG1-381/03-20-2010-NA-NA-60601/0.000000-NA-45095/1-068.dcm\n",
            "Сквозной порядковый номер слайса - 67\n",
            "x_pa /content/drive/MyDrive/Baza/Stag_1/Original_Directory/Test/LUNG1-381/03-20-2010-NA-NA-60601/0.000000-NA-45095/1-069.dcm\n",
            "Сквозной порядковый номер слайса - 68\n",
            "x_pa /content/drive/MyDrive/Baza/Stag_1/Original_Directory/Test/LUNG1-381/03-20-2010-NA-NA-60601/0.000000-NA-45095/1-070.dcm\n",
            "Сквозной порядковый номер слайса - 69\n",
            "x_pa /content/drive/MyDrive/Baza/Stag_1/Original_Directory/Test/LUNG1-381/03-20-2010-NA-NA-60601/0.000000-NA-45095/1-071.dcm\n",
            "Сквозной порядковый номер слайса - 70\n",
            "x_pa /content/drive/MyDrive/Baza/Stag_1/Original_Directory/Test/LUNG1-381/03-20-2010-NA-NA-60601/0.000000-NA-45095/1-072.dcm\n",
            "Сквозной порядковый номер слайса - 71\n",
            "x_pa /content/drive/MyDrive/Baza/Stag_1/Original_Directory/Test/LUNG1-381/03-20-2010-NA-NA-60601/0.000000-NA-45095/1-073.dcm\n",
            "Сквозной порядковый номер слайса - 72\n",
            "x_pa /content/drive/MyDrive/Baza/Stag_1/Original_Directory/Test/LUNG1-381/03-20-2010-NA-NA-60601/0.000000-NA-45095/1-074.dcm\n",
            "Сквозной порядковый номер слайса - 73\n",
            "x_pa /content/drive/MyDrive/Baza/Stag_1/Original_Directory/Test/LUNG1-381/03-20-2010-NA-NA-60601/0.000000-NA-45095/1-075.dcm\n",
            "Сквозной порядковый номер слайса - 74\n",
            "x_pa /content/drive/MyDrive/Baza/Stag_1/Original_Directory/Test/LUNG1-381/03-20-2010-NA-NA-60601/0.000000-NA-45095/1-076.dcm\n",
            "Сквозной порядковый номер слайса - 75\n",
            "x_pa /content/drive/MyDrive/Baza/Stag_1/Original_Directory/Test/LUNG1-381/03-20-2010-NA-NA-60601/0.000000-NA-45095/1-077.dcm\n",
            "Сквозной порядковый номер слайса - 76\n",
            "x_pa /content/drive/MyDrive/Baza/Stag_1/Original_Directory/Test/LUNG1-381/03-20-2010-NA-NA-60601/0.000000-NA-45095/1-078.dcm\n",
            "Сквозной порядковый номер слайса - 77\n",
            "x_pa /content/drive/MyDrive/Baza/Stag_1/Original_Directory/Test/LUNG1-381/03-20-2010-NA-NA-60601/0.000000-NA-45095/1-079.dcm\n",
            "Сквозной порядковый номер слайса - 78\n",
            "x_pa /content/drive/MyDrive/Baza/Stag_1/Original_Directory/Test/LUNG1-381/03-20-2010-NA-NA-60601/0.000000-NA-45095/1-080.dcm\n",
            "Сквозной порядковый номер слайса - 79\n",
            "x_pa /content/drive/MyDrive/Baza/Stag_1/Original_Directory/Test/LUNG1-381/03-20-2010-NA-NA-60601/0.000000-NA-45095/1-081.dcm\n",
            "Сквозной порядковый номер слайса - 80\n",
            "x_pa /content/drive/MyDrive/Baza/Stag_1/Original_Directory/Test/LUNG1-381/03-20-2010-NA-NA-60601/0.000000-NA-45095/1-082.dcm\n",
            "Сквозной порядковый номер слайса - 81\n",
            "x_pa /content/drive/MyDrive/Baza/Stag_1/Original_Directory/Test/LUNG1-381/03-20-2010-NA-NA-60601/0.000000-NA-45095/1-083.dcm\n",
            "Сквозной порядковый номер слайса - 82\n",
            "x_pa /content/drive/MyDrive/Baza/Stag_1/Original_Directory/Test/LUNG1-381/03-20-2010-NA-NA-60601/0.000000-NA-45095/1-084.dcm\n",
            "Сквозной порядковый номер слайса - 83\n",
            "x_pa /content/drive/MyDrive/Baza/Stag_1/Original_Directory/Test/LUNG1-381/03-20-2010-NA-NA-60601/0.000000-NA-45095/1-085.dcm\n",
            "Сквозной порядковый номер слайса - 84\n",
            "x_pa /content/drive/MyDrive/Baza/Stag_1/Original_Directory/Test/LUNG1-381/03-20-2010-NA-NA-60601/0.000000-NA-45095/1-086.dcm\n",
            "Сквозной порядковый номер слайса - 85\n",
            "x_pa /content/drive/MyDrive/Baza/Stag_1/Original_Directory/Test/LUNG1-381/03-20-2010-NA-NA-60601/0.000000-NA-45095/1-087.dcm\n",
            "Сквозной порядковый номер слайса - 86\n",
            "x_pa /content/drive/MyDrive/Baza/Stag_1/Original_Directory/Test/LUNG1-381/03-20-2010-NA-NA-60601/0.000000-NA-45095/1-088.dcm\n",
            "Сквозной порядковый номер слайса - 87\n",
            "x_pa /content/drive/MyDrive/Baza/Stag_1/Original_Directory/Test/LUNG1-381/03-20-2010-NA-NA-60601/0.000000-NA-45095/1-089.dcm\n",
            "Сквозной порядковый номер слайса - 88\n",
            "x_pa /content/drive/MyDrive/Baza/Stag_1/Original_Directory/Test/LUNG1-381/03-20-2010-NA-NA-60601/0.000000-NA-45095/1-090.dcm\n",
            "Сквозной порядковый номер слайса - 89\n",
            "x_pa /content/drive/MyDrive/Baza/Stag_1/Original_Directory/Test/LUNG1-381/03-20-2010-NA-NA-60601/0.000000-NA-45095/1-091.dcm\n",
            "Сквозной порядковый номер слайса - 90\n",
            "x_pa /content/drive/MyDrive/Baza/Stag_1/Original_Directory/Test/LUNG1-381/03-20-2010-NA-NA-60601/0.000000-NA-45095/1-092.dcm\n",
            "Сквозной порядковый номер слайса - 91\n",
            "x_pa /content/drive/MyDrive/Baza/Stag_1/Original_Directory/Test/LUNG1-381/03-20-2010-NA-NA-60601/0.000000-NA-45095/1-093.dcm\n",
            "Сквозной порядковый номер слайса - 92\n",
            "x_pa /content/drive/MyDrive/Baza/Stag_1/Original_Directory/Test/LUNG1-381/03-20-2010-NA-NA-60601/0.000000-NA-45095/1-094.dcm\n",
            "Сквозной порядковый номер слайса - 93\n",
            "x_pa /content/drive/MyDrive/Baza/Stag_1/Original_Directory/Test/LUNG1-381/03-20-2010-NA-NA-60601/0.000000-NA-45095/1-095.dcm\n",
            "Сквозной порядковый номер слайса - 94\n",
            "x_pa /content/drive/MyDrive/Baza/Stag_1/Original_Directory/Test/LUNG1-381/03-20-2010-NA-NA-60601/0.000000-NA-45095/1-096.dcm\n",
            "Сквозной порядковый номер слайса - 95\n",
            "x_pa /content/drive/MyDrive/Baza/Stag_1/Original_Directory/Test/LUNG1-381/03-20-2010-NA-NA-60601/0.000000-NA-45095/1-097.dcm\n",
            "Сквозной порядковый номер слайса - 96\n",
            "x_pa /content/drive/MyDrive/Baza/Stag_1/Original_Directory/Test/LUNG1-381/03-20-2010-NA-NA-60601/0.000000-NA-45095/1-098.dcm\n",
            "Сквозной порядковый номер слайса - 97\n",
            "x_pa /content/drive/MyDrive/Baza/Stag_1/Original_Directory/Test/LUNG1-381/03-20-2010-NA-NA-60601/0.000000-NA-45095/1-099.dcm\n",
            "Сквозной порядковый номер слайса - 98\n",
            "x_pa /content/drive/MyDrive/Baza/Stag_1/Original_Directory/Test/LUNG1-381/03-20-2010-NA-NA-60601/0.000000-NA-45095/1-100.dcm\n",
            "Сквозной порядковый номер слайса - 99\n",
            "x_pa /content/drive/MyDrive/Baza/Stag_1/Original_Directory/Test/LUNG1-381/03-20-2010-NA-NA-60601/0.000000-NA-45095/1-101.dcm\n",
            "Сквозной порядковый номер слайса - 100\n",
            "x_pa /content/drive/MyDrive/Baza/Stag_1/Original_Directory/Test/LUNG1-381/03-20-2010-NA-NA-60601/0.000000-NA-45095/1-102.dcm\n",
            "Сквозной порядковый номер слайса - 101\n",
            "x_pa /content/drive/MyDrive/Baza/Stag_1/Original_Directory/Test/LUNG1-381/03-20-2010-NA-NA-60601/0.000000-NA-45095/1-103.dcm\n",
            "Сквозной порядковый номер слайса - 102\n",
            "x_pa /content/drive/MyDrive/Baza/Stag_1/Original_Directory/Test/LUNG1-381/03-20-2010-NA-NA-60601/0.000000-NA-45095/1-104.dcm\n",
            "Сквозной порядковый номер слайса - 103\n",
            "x_pa /content/drive/MyDrive/Baza/Stag_1/Original_Directory/Test/LUNG1-381/03-20-2010-NA-NA-60601/0.000000-NA-45095/1-105.dcm\n",
            "Сквозной порядковый номер слайса - 104\n",
            "x_pa /content/drive/MyDrive/Baza/Stag_1/Original_Directory/Test/LUNG1-381/03-20-2010-NA-NA-60601/0.000000-NA-45095/1-106.dcm\n",
            "Сквозной порядковый номер слайса - 105\n",
            "x_pa /content/drive/MyDrive/Baza/Stag_1/Original_Directory/Test/LUNG1-381/03-20-2010-NA-NA-60601/0.000000-NA-45095/1-107.dcm\n",
            "Сквозной порядковый номер слайса - 106\n",
            "x_pa /content/drive/MyDrive/Baza/Stag_1/Original_Directory/Test/LUNG1-381/03-20-2010-NA-NA-60601/0.000000-NA-45095/1-108.dcm\n",
            "Сквозной порядковый номер слайса - 107\n",
            "x_pa /content/drive/MyDrive/Baza/Stag_1/Original_Directory/Test/LUNG1-381/03-20-2010-NA-NA-60601/0.000000-NA-45095/1-109.dcm\n",
            "Сквозной порядковый номер слайса - 108\n",
            "x_pa /content/drive/MyDrive/Baza/Stag_1/Original_Directory/Test/LUNG1-381/03-20-2010-NA-NA-60601/0.000000-NA-45095/1-110.dcm\n",
            "Сквозной порядковый номер слайса - 109\n",
            "x_pa /content/drive/MyDrive/Baza/Stag_1/Original_Directory/Test/LUNG1-381/03-20-2010-NA-NA-60601/0.000000-NA-45095/1-111.dcm\n",
            "Сквозной порядковый номер слайса - 110\n",
            "x_pa /content/drive/MyDrive/Baza/Stag_1/Original_Directory/Test/LUNG1-381/03-20-2010-NA-NA-60601/0.000000-NA-45095/1-112.dcm\n",
            "Сквозной порядковый номер слайса - 111\n",
            "x_pa /content/drive/MyDrive/Baza/Stag_1/Original_Directory/Test/LUNG1-381/03-20-2010-NA-NA-60601/0.000000-NA-45095/1-113.dcm\n",
            "Сквозной порядковый номер слайса - 112\n",
            "x_pa /content/drive/MyDrive/Baza/Stag_1/Original_Directory/Test/LUNG1-381/03-20-2010-NA-NA-60601/0.000000-NA-45095/1-114.dcm\n",
            "Сквозной порядковый номер слайса - 113\n",
            "x_pa /content/drive/MyDrive/Baza/Stag_1/Original_Directory/Test/LUNG1-381/03-20-2010-NA-NA-60601/0.000000-NA-45095/1-115.dcm\n",
            "Сквозной порядковый номер слайса - 114\n",
            "x_pa /content/drive/MyDrive/Baza/Stag_1/Original_Directory/Test/LUNG1-381/03-20-2010-NA-NA-60601/0.000000-NA-45095/1-116.dcm\n",
            "Сквозной порядковый номер слайса - 115\n",
            "x_pa /content/drive/MyDrive/Baza/Stag_1/Original_Directory/Test/LUNG1-381/03-20-2010-NA-NA-60601/0.000000-NA-45095/1-117.dcm\n",
            "Сквозной порядковый номер слайса - 116\n",
            "x_pa /content/drive/MyDrive/Baza/Stag_1/Original_Directory/Test/LUNG1-381/03-20-2010-NA-NA-60601/0.000000-NA-45095/1-118.dcm\n",
            "Сквозной порядковый номер слайса - 117\n",
            "x_pa /content/drive/MyDrive/Baza/Stag_1/Original_Directory/Test/LUNG1-381/03-20-2010-NA-NA-60601/0.000000-NA-45095/1-119.dcm\n",
            "Сквозной порядковый номер слайса - 118\n",
            "x_pa /content/drive/MyDrive/Baza/Stag_1/Original_Directory/Test/LUNG1-381/03-20-2010-NA-NA-60601/0.000000-NA-45095/1-120.dcm\n",
            "Сквозной порядковый номер слайса - 119\n",
            "x_pa /content/drive/MyDrive/Baza/Stag_1/Original_Directory/Test/LUNG1-381/03-20-2010-NA-NA-60601/0.000000-NA-45095/1-121.dcm\n",
            "Сквозной порядковый номер слайса - 120\n",
            "x_pa /content/drive/MyDrive/Baza/Stag_1/Original_Directory/Test/LUNG1-381/03-20-2010-NA-NA-60601/0.000000-NA-45095/1-122.dcm\n",
            "Сквозной порядковый номер слайса - 121\n",
            "x_pa /content/drive/MyDrive/Baza/Stag_1/Original_Directory/Test/LUNG1-381/03-20-2010-NA-NA-60601/0.000000-NA-45095/1-123.dcm\n",
            "Сквозной порядковый номер слайса - 122\n",
            "x_pa /content/drive/MyDrive/Baza/Stag_1/Original_Directory/Test/LUNG1-381/03-20-2010-NA-NA-60601/0.000000-NA-45095/1-124.dcm\n",
            "Сквозной порядковый номер слайса - 123\n",
            "x_pa /content/drive/MyDrive/Baza/Stag_1/Original_Directory/Test/LUNG1-381/03-20-2010-NA-NA-60601/0.000000-NA-45095/1-125.dcm\n",
            "Сквозной порядковый номер слайса - 124\n",
            "x_pa /content/drive/MyDrive/Baza/Stag_1/Original_Directory/Test/LUNG1-381/03-20-2010-NA-NA-60601/0.000000-NA-45095/1-126.dcm\n",
            "Сквозной порядковый номер слайса - 125\n",
            "x_pa /content/drive/MyDrive/Baza/Stag_1/Original_Directory/Test/LUNG1-381/03-20-2010-NA-NA-60601/0.000000-NA-45095/1-127.dcm\n",
            "Сквозной порядковый номер слайса - 126\n",
            "x_pa /content/drive/MyDrive/Baza/Stag_1/Original_Directory/Test/LUNG1-381/03-20-2010-NA-NA-60601/0.000000-NA-45095/1-128.dcm\n",
            "Сквозной порядковый номер слайса - 127\n",
            "x_pa /content/drive/MyDrive/Baza/Stag_1/Original_Directory/Test/LUNG1-381/03-20-2010-NA-NA-60601/0.000000-NA-45095/1-129.dcm\n",
            "Сквозной порядковый номер слайса - 128\n",
            "x_pa /content/drive/MyDrive/Baza/Stag_1/Original_Directory/Test/LUNG1-381/03-20-2010-NA-NA-60601/0.000000-NA-45095/1-130.dcm\n",
            "Сквозной порядковый номер слайса - 129\n",
            "x_pa /content/drive/MyDrive/Baza/Stag_1/Original_Directory/Test/LUNG1-381/03-20-2010-NA-NA-60601/0.000000-NA-45095/1-131.dcm\n",
            "Сквозной порядковый номер слайса - 130\n",
            "x_pa /content/drive/MyDrive/Baza/Stag_1/Original_Directory/Test/LUNG1-381/03-20-2010-NA-NA-60601/0.000000-NA-45095/1-132.dcm\n",
            "Сквозной порядковый номер слайса - 131\n",
            "x_pa /content/drive/MyDrive/Baza/Stag_1/Original_Directory/Test/LUNG1-381/03-20-2010-NA-NA-60601/0.000000-NA-45095/1-133.dcm\n",
            "Сквозной порядковый номер слайса - 132\n",
            "x_pa /content/drive/MyDrive/Baza/Stag_1/Original_Directory/Test/LUNG1-381/03-20-2010-NA-NA-60601/0.000000-NA-45095/1-134.dcm\n",
            "Сквозной порядковый номер слайса - 133\n",
            "   Файл со снимком одного из пациентов LUNG1-396\n",
            "x_pa /content/drive/MyDrive/Baza/Stag_1/Original_Directory/Test/LUNG1-396/05-01-2010-NA-NA-28227/0.000000-NA-05554/1-001.dcm\n",
            "Сквозной порядковый номер слайса - 134\n",
            "x_pa /content/drive/MyDrive/Baza/Stag_1/Original_Directory/Test/LUNG1-396/05-01-2010-NA-NA-28227/0.000000-NA-05554/1-002.dcm\n",
            "Сквозной порядковый номер слайса - 135\n",
            "x_pa /content/drive/MyDrive/Baza/Stag_1/Original_Directory/Test/LUNG1-396/05-01-2010-NA-NA-28227/0.000000-NA-05554/1-003.dcm\n",
            "Сквозной порядковый номер слайса - 136\n",
            "x_pa /content/drive/MyDrive/Baza/Stag_1/Original_Directory/Test/LUNG1-396/05-01-2010-NA-NA-28227/0.000000-NA-05554/1-004.dcm\n",
            "Сквозной порядковый номер слайса - 137\n",
            "x_pa /content/drive/MyDrive/Baza/Stag_1/Original_Directory/Test/LUNG1-396/05-01-2010-NA-NA-28227/0.000000-NA-05554/1-005.dcm\n",
            "Сквозной порядковый номер слайса - 138\n",
            "x_pa /content/drive/MyDrive/Baza/Stag_1/Original_Directory/Test/LUNG1-396/05-01-2010-NA-NA-28227/0.000000-NA-05554/1-006.dcm\n",
            "Сквозной порядковый номер слайса - 139\n",
            "x_pa /content/drive/MyDrive/Baza/Stag_1/Original_Directory/Test/LUNG1-396/05-01-2010-NA-NA-28227/0.000000-NA-05554/1-007.dcm\n",
            "Сквозной порядковый номер слайса - 140\n",
            "x_pa /content/drive/MyDrive/Baza/Stag_1/Original_Directory/Test/LUNG1-396/05-01-2010-NA-NA-28227/0.000000-NA-05554/1-008.dcm\n",
            "Сквозной порядковый номер слайса - 141\n",
            "x_pa /content/drive/MyDrive/Baza/Stag_1/Original_Directory/Test/LUNG1-396/05-01-2010-NA-NA-28227/0.000000-NA-05554/1-009.dcm\n",
            "Сквозной порядковый номер слайса - 142\n",
            "x_pa /content/drive/MyDrive/Baza/Stag_1/Original_Directory/Test/LUNG1-396/05-01-2010-NA-NA-28227/0.000000-NA-05554/1-010.dcm\n",
            "Сквозной порядковый номер слайса - 143\n",
            "x_pa /content/drive/MyDrive/Baza/Stag_1/Original_Directory/Test/LUNG1-396/05-01-2010-NA-NA-28227/0.000000-NA-05554/1-011.dcm\n",
            "Сквозной порядковый номер слайса - 144\n",
            "x_pa /content/drive/MyDrive/Baza/Stag_1/Original_Directory/Test/LUNG1-396/05-01-2010-NA-NA-28227/0.000000-NA-05554/1-012.dcm\n",
            "Сквозной порядковый номер слайса - 145\n",
            "x_pa /content/drive/MyDrive/Baza/Stag_1/Original_Directory/Test/LUNG1-396/05-01-2010-NA-NA-28227/0.000000-NA-05554/1-013.dcm\n",
            "Сквозной порядковый номер слайса - 146\n",
            "x_pa /content/drive/MyDrive/Baza/Stag_1/Original_Directory/Test/LUNG1-396/05-01-2010-NA-NA-28227/0.000000-NA-05554/1-014.dcm\n",
            "Сквозной порядковый номер слайса - 147\n",
            "x_pa /content/drive/MyDrive/Baza/Stag_1/Original_Directory/Test/LUNG1-396/05-01-2010-NA-NA-28227/0.000000-NA-05554/1-015.dcm\n",
            "Сквозной порядковый номер слайса - 148\n",
            "x_pa /content/drive/MyDrive/Baza/Stag_1/Original_Directory/Test/LUNG1-396/05-01-2010-NA-NA-28227/0.000000-NA-05554/1-016.dcm\n",
            "Сквозной порядковый номер слайса - 149\n",
            "x_pa /content/drive/MyDrive/Baza/Stag_1/Original_Directory/Test/LUNG1-396/05-01-2010-NA-NA-28227/0.000000-NA-05554/1-017.dcm\n",
            "Сквозной порядковый номер слайса - 150\n",
            "x_pa /content/drive/MyDrive/Baza/Stag_1/Original_Directory/Test/LUNG1-396/05-01-2010-NA-NA-28227/0.000000-NA-05554/1-018.dcm\n",
            "Сквозной порядковый номер слайса - 151\n",
            "x_pa /content/drive/MyDrive/Baza/Stag_1/Original_Directory/Test/LUNG1-396/05-01-2010-NA-NA-28227/0.000000-NA-05554/1-019.dcm\n",
            "Сквозной порядковый номер слайса - 152\n",
            "x_pa /content/drive/MyDrive/Baza/Stag_1/Original_Directory/Test/LUNG1-396/05-01-2010-NA-NA-28227/0.000000-NA-05554/1-020.dcm\n",
            "Сквозной порядковый номер слайса - 153\n",
            "x_pa /content/drive/MyDrive/Baza/Stag_1/Original_Directory/Test/LUNG1-396/05-01-2010-NA-NA-28227/0.000000-NA-05554/1-021.dcm\n",
            "Сквозной порядковый номер слайса - 154\n",
            "x_pa /content/drive/MyDrive/Baza/Stag_1/Original_Directory/Test/LUNG1-396/05-01-2010-NA-NA-28227/0.000000-NA-05554/1-022.dcm\n",
            "Сквозной порядковый номер слайса - 155\n",
            "x_pa /content/drive/MyDrive/Baza/Stag_1/Original_Directory/Test/LUNG1-396/05-01-2010-NA-NA-28227/0.000000-NA-05554/1-023.dcm\n",
            "Сквозной порядковый номер слайса - 156\n",
            "x_pa /content/drive/MyDrive/Baza/Stag_1/Original_Directory/Test/LUNG1-396/05-01-2010-NA-NA-28227/0.000000-NA-05554/1-024.dcm\n",
            "Сквозной порядковый номер слайса - 157\n",
            "x_pa /content/drive/MyDrive/Baza/Stag_1/Original_Directory/Test/LUNG1-396/05-01-2010-NA-NA-28227/0.000000-NA-05554/1-025.dcm\n",
            "Сквозной порядковый номер слайса - 158\n",
            "x_pa /content/drive/MyDrive/Baza/Stag_1/Original_Directory/Test/LUNG1-396/05-01-2010-NA-NA-28227/0.000000-NA-05554/1-026.dcm\n",
            "Сквозной порядковый номер слайса - 159\n",
            "x_pa /content/drive/MyDrive/Baza/Stag_1/Original_Directory/Test/LUNG1-396/05-01-2010-NA-NA-28227/0.000000-NA-05554/1-027.dcm\n",
            "Сквозной порядковый номер слайса - 160\n",
            "x_pa /content/drive/MyDrive/Baza/Stag_1/Original_Directory/Test/LUNG1-396/05-01-2010-NA-NA-28227/0.000000-NA-05554/1-028.dcm\n",
            "Сквозной порядковый номер слайса - 161\n",
            "x_pa /content/drive/MyDrive/Baza/Stag_1/Original_Directory/Test/LUNG1-396/05-01-2010-NA-NA-28227/0.000000-NA-05554/1-029.dcm\n",
            "Сквозной порядковый номер слайса - 162\n",
            "x_pa /content/drive/MyDrive/Baza/Stag_1/Original_Directory/Test/LUNG1-396/05-01-2010-NA-NA-28227/0.000000-NA-05554/1-030.dcm\n",
            "Сквозной порядковый номер слайса - 163\n",
            "x_pa /content/drive/MyDrive/Baza/Stag_1/Original_Directory/Test/LUNG1-396/05-01-2010-NA-NA-28227/0.000000-NA-05554/1-031.dcm\n",
            "Сквозной порядковый номер слайса - 164\n",
            "x_pa /content/drive/MyDrive/Baza/Stag_1/Original_Directory/Test/LUNG1-396/05-01-2010-NA-NA-28227/0.000000-NA-05554/1-032.dcm\n",
            "Сквозной порядковый номер слайса - 165\n",
            "x_pa /content/drive/MyDrive/Baza/Stag_1/Original_Directory/Test/LUNG1-396/05-01-2010-NA-NA-28227/0.000000-NA-05554/1-033.dcm\n",
            "Сквозной порядковый номер слайса - 166\n",
            "x_pa /content/drive/MyDrive/Baza/Stag_1/Original_Directory/Test/LUNG1-396/05-01-2010-NA-NA-28227/0.000000-NA-05554/1-034.dcm\n",
            "Сквозной порядковый номер слайса - 167\n",
            "x_pa /content/drive/MyDrive/Baza/Stag_1/Original_Directory/Test/LUNG1-396/05-01-2010-NA-NA-28227/0.000000-NA-05554/1-035.dcm\n",
            "Сквозной порядковый номер слайса - 168\n",
            "x_pa /content/drive/MyDrive/Baza/Stag_1/Original_Directory/Test/LUNG1-396/05-01-2010-NA-NA-28227/0.000000-NA-05554/1-036.dcm\n",
            "Сквозной порядковый номер слайса - 169\n",
            "x_pa /content/drive/MyDrive/Baza/Stag_1/Original_Directory/Test/LUNG1-396/05-01-2010-NA-NA-28227/0.000000-NA-05554/1-037.dcm\n",
            "Сквозной порядковый номер слайса - 170\n",
            "x_pa /content/drive/MyDrive/Baza/Stag_1/Original_Directory/Test/LUNG1-396/05-01-2010-NA-NA-28227/0.000000-NA-05554/1-038.dcm\n",
            "Сквозной порядковый номер слайса - 171\n",
            "x_pa /content/drive/MyDrive/Baza/Stag_1/Original_Directory/Test/LUNG1-396/05-01-2010-NA-NA-28227/0.000000-NA-05554/1-039.dcm\n",
            "Сквозной порядковый номер слайса - 172\n",
            "x_pa /content/drive/MyDrive/Baza/Stag_1/Original_Directory/Test/LUNG1-396/05-01-2010-NA-NA-28227/0.000000-NA-05554/1-040.dcm\n",
            "Сквозной порядковый номер слайса - 173\n",
            "x_pa /content/drive/MyDrive/Baza/Stag_1/Original_Directory/Test/LUNG1-396/05-01-2010-NA-NA-28227/0.000000-NA-05554/1-041.dcm\n",
            "Сквозной порядковый номер слайса - 174\n",
            "x_pa /content/drive/MyDrive/Baza/Stag_1/Original_Directory/Test/LUNG1-396/05-01-2010-NA-NA-28227/0.000000-NA-05554/1-042.dcm\n",
            "Сквозной порядковый номер слайса - 175\n",
            "x_pa /content/drive/MyDrive/Baza/Stag_1/Original_Directory/Test/LUNG1-396/05-01-2010-NA-NA-28227/0.000000-NA-05554/1-043.dcm\n",
            "Сквозной порядковый номер слайса - 176\n",
            "x_pa /content/drive/MyDrive/Baza/Stag_1/Original_Directory/Test/LUNG1-396/05-01-2010-NA-NA-28227/0.000000-NA-05554/1-044.dcm\n",
            "Сквозной порядковый номер слайса - 177\n",
            "x_pa /content/drive/MyDrive/Baza/Stag_1/Original_Directory/Test/LUNG1-396/05-01-2010-NA-NA-28227/0.000000-NA-05554/1-045.dcm\n",
            "Сквозной порядковый номер слайса - 178\n",
            "x_pa /content/drive/MyDrive/Baza/Stag_1/Original_Directory/Test/LUNG1-396/05-01-2010-NA-NA-28227/0.000000-NA-05554/1-046.dcm\n",
            "Сквозной порядковый номер слайса - 179\n",
            "x_pa /content/drive/MyDrive/Baza/Stag_1/Original_Directory/Test/LUNG1-396/05-01-2010-NA-NA-28227/0.000000-NA-05554/1-047.dcm\n",
            "Сквозной порядковый номер слайса - 180\n",
            "x_pa /content/drive/MyDrive/Baza/Stag_1/Original_Directory/Test/LUNG1-396/05-01-2010-NA-NA-28227/0.000000-NA-05554/1-048.dcm\n",
            "Сквозной порядковый номер слайса - 181\n",
            "x_pa /content/drive/MyDrive/Baza/Stag_1/Original_Directory/Test/LUNG1-396/05-01-2010-NA-NA-28227/0.000000-NA-05554/1-049.dcm\n",
            "Сквозной порядковый номер слайса - 182\n",
            "x_pa /content/drive/MyDrive/Baza/Stag_1/Original_Directory/Test/LUNG1-396/05-01-2010-NA-NA-28227/0.000000-NA-05554/1-050.dcm\n",
            "Сквозной порядковый номер слайса - 183\n",
            "x_pa /content/drive/MyDrive/Baza/Stag_1/Original_Directory/Test/LUNG1-396/05-01-2010-NA-NA-28227/0.000000-NA-05554/1-051.dcm\n",
            "Сквозной порядковый номер слайса - 184\n",
            "x_pa /content/drive/MyDrive/Baza/Stag_1/Original_Directory/Test/LUNG1-396/05-01-2010-NA-NA-28227/0.000000-NA-05554/1-052.dcm\n",
            "Сквозной порядковый номер слайса - 185\n",
            "x_pa /content/drive/MyDrive/Baza/Stag_1/Original_Directory/Test/LUNG1-396/05-01-2010-NA-NA-28227/0.000000-NA-05554/1-053.dcm\n",
            "Сквозной порядковый номер слайса - 186\n",
            "x_pa /content/drive/MyDrive/Baza/Stag_1/Original_Directory/Test/LUNG1-396/05-01-2010-NA-NA-28227/0.000000-NA-05554/1-054.dcm\n",
            "Сквозной порядковый номер слайса - 187\n",
            "x_pa /content/drive/MyDrive/Baza/Stag_1/Original_Directory/Test/LUNG1-396/05-01-2010-NA-NA-28227/0.000000-NA-05554/1-055.dcm\n",
            "Сквозной порядковый номер слайса - 188\n",
            "x_pa /content/drive/MyDrive/Baza/Stag_1/Original_Directory/Test/LUNG1-396/05-01-2010-NA-NA-28227/0.000000-NA-05554/1-056.dcm\n",
            "Сквозной порядковый номер слайса - 189\n",
            "x_pa /content/drive/MyDrive/Baza/Stag_1/Original_Directory/Test/LUNG1-396/05-01-2010-NA-NA-28227/0.000000-NA-05554/1-057.dcm\n",
            "Сквозной порядковый номер слайса - 190\n",
            "x_pa /content/drive/MyDrive/Baza/Stag_1/Original_Directory/Test/LUNG1-396/05-01-2010-NA-NA-28227/0.000000-NA-05554/1-058.dcm\n",
            "Сквозной порядковый номер слайса - 191\n",
            "x_pa /content/drive/MyDrive/Baza/Stag_1/Original_Directory/Test/LUNG1-396/05-01-2010-NA-NA-28227/0.000000-NA-05554/1-059.dcm\n",
            "Сквозной порядковый номер слайса - 192\n",
            "x_pa /content/drive/MyDrive/Baza/Stag_1/Original_Directory/Test/LUNG1-396/05-01-2010-NA-NA-28227/0.000000-NA-05554/1-060.dcm\n",
            "Сквозной порядковый номер слайса - 193\n",
            "x_pa /content/drive/MyDrive/Baza/Stag_1/Original_Directory/Test/LUNG1-396/05-01-2010-NA-NA-28227/0.000000-NA-05554/1-061.dcm\n",
            "Сквозной порядковый номер слайса - 194\n",
            "x_pa /content/drive/MyDrive/Baza/Stag_1/Original_Directory/Test/LUNG1-396/05-01-2010-NA-NA-28227/0.000000-NA-05554/1-062.dcm\n",
            "Сквозной порядковый номер слайса - 195\n",
            "x_pa /content/drive/MyDrive/Baza/Stag_1/Original_Directory/Test/LUNG1-396/05-01-2010-NA-NA-28227/0.000000-NA-05554/1-063.dcm\n",
            "Сквозной порядковый номер слайса - 196\n",
            "x_pa /content/drive/MyDrive/Baza/Stag_1/Original_Directory/Test/LUNG1-396/05-01-2010-NA-NA-28227/0.000000-NA-05554/1-064.dcm\n",
            "Сквозной порядковый номер слайса - 197\n",
            "x_pa /content/drive/MyDrive/Baza/Stag_1/Original_Directory/Test/LUNG1-396/05-01-2010-NA-NA-28227/0.000000-NA-05554/1-065.dcm\n",
            "Сквозной порядковый номер слайса - 198\n",
            "x_pa /content/drive/MyDrive/Baza/Stag_1/Original_Directory/Test/LUNG1-396/05-01-2010-NA-NA-28227/0.000000-NA-05554/1-066.dcm\n",
            "Сквозной порядковый номер слайса - 199\n",
            "x_pa /content/drive/MyDrive/Baza/Stag_1/Original_Directory/Test/LUNG1-396/05-01-2010-NA-NA-28227/0.000000-NA-05554/1-067.dcm\n",
            "Сквозной порядковый номер слайса - 200\n",
            "x_pa /content/drive/MyDrive/Baza/Stag_1/Original_Directory/Test/LUNG1-396/05-01-2010-NA-NA-28227/0.000000-NA-05554/1-068.dcm\n",
            "Сквозной порядковый номер слайса - 201\n",
            "x_pa /content/drive/MyDrive/Baza/Stag_1/Original_Directory/Test/LUNG1-396/05-01-2010-NA-NA-28227/0.000000-NA-05554/1-069.dcm\n",
            "Сквозной порядковый номер слайса - 202\n",
            "x_pa /content/drive/MyDrive/Baza/Stag_1/Original_Directory/Test/LUNG1-396/05-01-2010-NA-NA-28227/0.000000-NA-05554/1-070.dcm\n",
            "Сквозной порядковый номер слайса - 203\n",
            "x_pa /content/drive/MyDrive/Baza/Stag_1/Original_Directory/Test/LUNG1-396/05-01-2010-NA-NA-28227/0.000000-NA-05554/1-071.dcm\n",
            "Сквозной порядковый номер слайса - 204\n",
            "x_pa /content/drive/MyDrive/Baza/Stag_1/Original_Directory/Test/LUNG1-396/05-01-2010-NA-NA-28227/0.000000-NA-05554/1-072.dcm\n",
            "Сквозной порядковый номер слайса - 205\n",
            "x_pa /content/drive/MyDrive/Baza/Stag_1/Original_Directory/Test/LUNG1-396/05-01-2010-NA-NA-28227/0.000000-NA-05554/1-073.dcm\n",
            "Сквозной порядковый номер слайса - 206\n",
            "x_pa /content/drive/MyDrive/Baza/Stag_1/Original_Directory/Test/LUNG1-396/05-01-2010-NA-NA-28227/0.000000-NA-05554/1-074.dcm\n",
            "Сквозной порядковый номер слайса - 207\n",
            "x_pa /content/drive/MyDrive/Baza/Stag_1/Original_Directory/Test/LUNG1-396/05-01-2010-NA-NA-28227/0.000000-NA-05554/1-075.dcm\n",
            "Сквозной порядковый номер слайса - 208\n",
            "x_pa /content/drive/MyDrive/Baza/Stag_1/Original_Directory/Test/LUNG1-396/05-01-2010-NA-NA-28227/0.000000-NA-05554/1-076.dcm\n",
            "Сквозной порядковый номер слайса - 209\n",
            "x_pa /content/drive/MyDrive/Baza/Stag_1/Original_Directory/Test/LUNG1-396/05-01-2010-NA-NA-28227/0.000000-NA-05554/1-077.dcm\n",
            "Сквозной порядковый номер слайса - 210\n",
            "x_pa /content/drive/MyDrive/Baza/Stag_1/Original_Directory/Test/LUNG1-396/05-01-2010-NA-NA-28227/0.000000-NA-05554/1-078.dcm\n",
            "Сквозной порядковый номер слайса - 211\n",
            "x_pa /content/drive/MyDrive/Baza/Stag_1/Original_Directory/Test/LUNG1-396/05-01-2010-NA-NA-28227/0.000000-NA-05554/1-079.dcm\n",
            "Сквозной порядковый номер слайса - 212\n",
            "x_pa /content/drive/MyDrive/Baza/Stag_1/Original_Directory/Test/LUNG1-396/05-01-2010-NA-NA-28227/0.000000-NA-05554/1-080.dcm\n",
            "Сквозной порядковый номер слайса - 213\n",
            "x_pa /content/drive/MyDrive/Baza/Stag_1/Original_Directory/Test/LUNG1-396/05-01-2010-NA-NA-28227/0.000000-NA-05554/1-081.dcm\n",
            "Сквозной порядковый номер слайса - 214\n",
            "x_pa /content/drive/MyDrive/Baza/Stag_1/Original_Directory/Test/LUNG1-396/05-01-2010-NA-NA-28227/0.000000-NA-05554/1-082.dcm\n",
            "Сквозной порядковый номер слайса - 215\n",
            "x_pa /content/drive/MyDrive/Baza/Stag_1/Original_Directory/Test/LUNG1-396/05-01-2010-NA-NA-28227/0.000000-NA-05554/1-083.dcm\n",
            "Сквозной порядковый номер слайса - 216\n",
            "x_pa /content/drive/MyDrive/Baza/Stag_1/Original_Directory/Test/LUNG1-396/05-01-2010-NA-NA-28227/0.000000-NA-05554/1-084.dcm\n",
            "Сквозной порядковый номер слайса - 217\n",
            "x_pa /content/drive/MyDrive/Baza/Stag_1/Original_Directory/Test/LUNG1-396/05-01-2010-NA-NA-28227/0.000000-NA-05554/1-085.dcm\n",
            "Сквозной порядковый номер слайса - 218\n",
            "x_pa /content/drive/MyDrive/Baza/Stag_1/Original_Directory/Test/LUNG1-396/05-01-2010-NA-NA-28227/0.000000-NA-05554/1-086.dcm\n",
            "Сквозной порядковый номер слайса - 219\n",
            "x_pa /content/drive/MyDrive/Baza/Stag_1/Original_Directory/Test/LUNG1-396/05-01-2010-NA-NA-28227/0.000000-NA-05554/1-087.dcm\n",
            "Сквозной порядковый номер слайса - 220\n",
            "x_pa /content/drive/MyDrive/Baza/Stag_1/Original_Directory/Test/LUNG1-396/05-01-2010-NA-NA-28227/0.000000-NA-05554/1-088.dcm\n",
            "Сквозной порядковый номер слайса - 221\n",
            "x_pa /content/drive/MyDrive/Baza/Stag_1/Original_Directory/Test/LUNG1-396/05-01-2010-NA-NA-28227/0.000000-NA-05554/1-089.dcm\n",
            "Сквозной порядковый номер слайса - 222\n",
            "x_pa /content/drive/MyDrive/Baza/Stag_1/Original_Directory/Test/LUNG1-396/05-01-2010-NA-NA-28227/0.000000-NA-05554/1-090.dcm\n",
            "Сквозной порядковый номер слайса - 223\n",
            "x_pa /content/drive/MyDrive/Baza/Stag_1/Original_Directory/Test/LUNG1-396/05-01-2010-NA-NA-28227/0.000000-NA-05554/1-091.dcm\n",
            "Сквозной порядковый номер слайса - 224\n",
            "x_pa /content/drive/MyDrive/Baza/Stag_1/Original_Directory/Test/LUNG1-396/05-01-2010-NA-NA-28227/0.000000-NA-05554/1-092.dcm\n",
            "Сквозной порядковый номер слайса - 225\n",
            "x_pa /content/drive/MyDrive/Baza/Stag_1/Original_Directory/Test/LUNG1-396/05-01-2010-NA-NA-28227/0.000000-NA-05554/1-093.dcm\n",
            "Сквозной порядковый номер слайса - 226\n",
            "x_pa /content/drive/MyDrive/Baza/Stag_1/Original_Directory/Test/LUNG1-396/05-01-2010-NA-NA-28227/0.000000-NA-05554/1-094.dcm\n",
            "Сквозной порядковый номер слайса - 227\n",
            "x_pa /content/drive/MyDrive/Baza/Stag_1/Original_Directory/Test/LUNG1-396/05-01-2010-NA-NA-28227/0.000000-NA-05554/1-095.dcm\n",
            "Сквозной порядковый номер слайса - 228\n",
            "x_pa /content/drive/MyDrive/Baza/Stag_1/Original_Directory/Test/LUNG1-396/05-01-2010-NA-NA-28227/0.000000-NA-05554/1-096.dcm\n",
            "Сквозной порядковый номер слайса - 229\n",
            "x_pa /content/drive/MyDrive/Baza/Stag_1/Original_Directory/Test/LUNG1-396/05-01-2010-NA-NA-28227/0.000000-NA-05554/1-097.dcm\n",
            "Сквозной порядковый номер слайса - 230\n",
            "x_pa /content/drive/MyDrive/Baza/Stag_1/Original_Directory/Test/LUNG1-396/05-01-2010-NA-NA-28227/0.000000-NA-05554/1-098.dcm\n",
            "Сквозной порядковый номер слайса - 231\n",
            "x_pa /content/drive/MyDrive/Baza/Stag_1/Original_Directory/Test/LUNG1-396/05-01-2010-NA-NA-28227/0.000000-NA-05554/1-099.dcm\n",
            "Сквозной порядковый номер слайса - 232\n",
            "x_pa /content/drive/MyDrive/Baza/Stag_1/Original_Directory/Test/LUNG1-396/05-01-2010-NA-NA-28227/0.000000-NA-05554/1-100.dcm\n",
            "Сквозной порядковый номер слайса - 233\n",
            "x_pa /content/drive/MyDrive/Baza/Stag_1/Original_Directory/Test/LUNG1-396/05-01-2010-NA-NA-28227/0.000000-NA-05554/1-101.dcm\n",
            "Сквозной порядковый номер слайса - 234\n",
            "x_pa /content/drive/MyDrive/Baza/Stag_1/Original_Directory/Test/LUNG1-396/05-01-2010-NA-NA-28227/0.000000-NA-05554/1-102.dcm\n",
            "Сквозной порядковый номер слайса - 235\n",
            "x_pa /content/drive/MyDrive/Baza/Stag_1/Original_Directory/Test/LUNG1-396/05-01-2010-NA-NA-28227/0.000000-NA-05554/1-103.dcm\n",
            "Сквозной порядковый номер слайса - 236\n",
            "x_pa /content/drive/MyDrive/Baza/Stag_1/Original_Directory/Test/LUNG1-396/05-01-2010-NA-NA-28227/0.000000-NA-05554/1-104.dcm\n",
            "Сквозной порядковый номер слайса - 237\n",
            "x_pa /content/drive/MyDrive/Baza/Stag_1/Original_Directory/Test/LUNG1-396/05-01-2010-NA-NA-28227/0.000000-NA-05554/1-105.dcm\n",
            "Сквозной порядковый номер слайса - 238\n",
            "x_pa /content/drive/MyDrive/Baza/Stag_1/Original_Directory/Test/LUNG1-396/05-01-2010-NA-NA-28227/0.000000-NA-05554/1-106.dcm\n",
            "Сквозной порядковый номер слайса - 239\n",
            "x_pa /content/drive/MyDrive/Baza/Stag_1/Original_Directory/Test/LUNG1-396/05-01-2010-NA-NA-28227/0.000000-NA-05554/1-107.dcm\n",
            "Сквозной порядковый номер слайса - 240\n",
            "x_pa /content/drive/MyDrive/Baza/Stag_1/Original_Directory/Test/LUNG1-396/05-01-2010-NA-NA-28227/0.000000-NA-05554/1-108.dcm\n",
            "Сквозной порядковый номер слайса - 241\n",
            "x_pa /content/drive/MyDrive/Baza/Stag_1/Original_Directory/Test/LUNG1-396/05-01-2010-NA-NA-28227/0.000000-NA-05554/1-109.dcm\n",
            "Сквозной порядковый номер слайса - 242\n",
            "x_pa /content/drive/MyDrive/Baza/Stag_1/Original_Directory/Test/LUNG1-396/05-01-2010-NA-NA-28227/0.000000-NA-05554/1-110.dcm\n",
            "Сквозной порядковый номер слайса - 243\n",
            "x_pa /content/drive/MyDrive/Baza/Stag_1/Original_Directory/Test/LUNG1-396/05-01-2010-NA-NA-28227/0.000000-NA-05554/1-111.dcm\n",
            "Сквозной порядковый номер слайса - 244\n",
            "x_pa /content/drive/MyDrive/Baza/Stag_1/Original_Directory/Test/LUNG1-396/05-01-2010-NA-NA-28227/0.000000-NA-05554/1-112.dcm\n",
            "Сквозной порядковый номер слайса - 245\n",
            "x_pa /content/drive/MyDrive/Baza/Stag_1/Original_Directory/Test/LUNG1-396/05-01-2010-NA-NA-28227/0.000000-NA-05554/1-113.dcm\n",
            "Сквозной порядковый номер слайса - 246\n",
            "x_pa /content/drive/MyDrive/Baza/Stag_1/Original_Directory/Test/LUNG1-396/05-01-2010-NA-NA-28227/0.000000-NA-05554/1-114.dcm\n",
            "Сквозной порядковый номер слайса - 247\n",
            "x_pa /content/drive/MyDrive/Baza/Stag_1/Original_Directory/Test/LUNG1-396/05-01-2010-NA-NA-28227/0.000000-NA-05554/1-115.dcm\n",
            "Сквозной порядковый номер слайса - 248\n",
            "x_pa /content/drive/MyDrive/Baza/Stag_1/Original_Directory/Test/LUNG1-396/05-01-2010-NA-NA-28227/0.000000-NA-05554/1-116.dcm\n",
            "Сквозной порядковый номер слайса - 249\n",
            "x_pa /content/drive/MyDrive/Baza/Stag_1/Original_Directory/Test/LUNG1-396/05-01-2010-NA-NA-28227/0.000000-NA-05554/1-117.dcm\n",
            "Сквозной порядковый номер слайса - 250\n",
            "x_pa /content/drive/MyDrive/Baza/Stag_1/Original_Directory/Test/LUNG1-396/05-01-2010-NA-NA-28227/0.000000-NA-05554/1-118.dcm\n",
            "Сквозной порядковый номер слайса - 251\n",
            "x_pa /content/drive/MyDrive/Baza/Stag_1/Original_Directory/Test/LUNG1-396/05-01-2010-NA-NA-28227/0.000000-NA-05554/1-119.dcm\n",
            "Сквозной порядковый номер слайса - 252\n",
            "x_pa /content/drive/MyDrive/Baza/Stag_1/Original_Directory/Test/LUNG1-396/05-01-2010-NA-NA-28227/0.000000-NA-05554/1-120.dcm\n",
            "Сквозной порядковый номер слайса - 253\n",
            "x_pa /content/drive/MyDrive/Baza/Stag_1/Original_Directory/Test/LUNG1-396/05-01-2010-NA-NA-28227/0.000000-NA-05554/1-121.dcm\n",
            "Сквозной порядковый номер слайса - 254\n",
            "x_pa /content/drive/MyDrive/Baza/Stag_1/Original_Directory/Test/LUNG1-396/05-01-2010-NA-NA-28227/0.000000-NA-05554/1-122.dcm\n",
            "Сквозной порядковый номер слайса - 255\n",
            "x_pa /content/drive/MyDrive/Baza/Stag_1/Original_Directory/Test/LUNG1-396/05-01-2010-NA-NA-28227/0.000000-NA-05554/1-123.dcm\n",
            "Сквозной порядковый номер слайса - 256\n",
            "x_pa /content/drive/MyDrive/Baza/Stag_1/Original_Directory/Test/LUNG1-396/05-01-2010-NA-NA-28227/0.000000-NA-05554/1-124.dcm\n",
            "Сквозной порядковый номер слайса - 257\n",
            "x_pa /content/drive/MyDrive/Baza/Stag_1/Original_Directory/Test/LUNG1-396/05-01-2010-NA-NA-28227/0.000000-NA-05554/1-125.dcm\n",
            "Сквозной порядковый номер слайса - 258\n",
            "x_pa /content/drive/MyDrive/Baza/Stag_1/Original_Directory/Test/LUNG1-396/05-01-2010-NA-NA-28227/0.000000-NA-05554/1-126.dcm\n",
            "Сквозной порядковый номер слайса - 259\n",
            "x_pa /content/drive/MyDrive/Baza/Stag_1/Original_Directory/Test/LUNG1-396/05-01-2010-NA-NA-28227/0.000000-NA-05554/1-127.dcm\n",
            "Сквозной порядковый номер слайса - 260\n",
            "x_pa /content/drive/MyDrive/Baza/Stag_1/Original_Directory/Test/LUNG1-396/05-01-2010-NA-NA-28227/0.000000-NA-05554/1-128.dcm\n",
            "Сквозной порядковый номер слайса - 261\n",
            "x_pa /content/drive/MyDrive/Baza/Stag_1/Original_Directory/Test/LUNG1-396/05-01-2010-NA-NA-28227/0.000000-NA-05554/1-129.dcm\n",
            "Сквозной порядковый номер слайса - 262\n",
            "x_pa /content/drive/MyDrive/Baza/Stag_1/Original_Directory/Test/LUNG1-396/05-01-2010-NA-NA-28227/0.000000-NA-05554/1-130.dcm\n",
            "Сквозной порядковый номер слайса - 263\n",
            "x_pa /content/drive/MyDrive/Baza/Stag_1/Original_Directory/Test/LUNG1-396/05-01-2010-NA-NA-28227/0.000000-NA-05554/1-131.dcm\n",
            "Сквозной порядковый номер слайса - 264\n",
            "x_pa /content/drive/MyDrive/Baza/Stag_1/Original_Directory/Test/LUNG1-396/05-01-2010-NA-NA-28227/0.000000-NA-05554/1-132.dcm\n",
            "Сквозной порядковый номер слайса - 265\n",
            "x_pa /content/drive/MyDrive/Baza/Stag_1/Original_Directory/Test/LUNG1-396/05-01-2010-NA-NA-28227/0.000000-NA-05554/1-133.dcm\n",
            "Сквозной порядковый номер слайса - 266\n",
            "x_pa /content/drive/MyDrive/Baza/Stag_1/Original_Directory/Test/LUNG1-396/05-01-2010-NA-NA-28227/0.000000-NA-05554/1-134.dcm\n",
            "Сквозной порядковый номер слайса - 267\n",
            "все, словарь для x_train готов\n"
          ]
        }
      ],
      "source": [
        "counter = 0             # сквозной счетчик слайсов тестовой выборки\n",
        "orig_dist = {}          # словарь- сквозной порядковый номер слайса:путь к слайсу конкретного пациента\n",
        "\n",
        "for pa in range (pac):  # цикл обращения ко всем папкам пациентов\n",
        "\n",
        "  pass_dicom_list, base = LUNG_n_slise (pa,Original_list)              # список слайсов в оригинальном снимке пациента, путь к папке пациента\n",
        "  #print('Количество слайсов в файле пациента:', len(pass_dicom_list))\n",
        "  #print('Название очередного слайса из списка:', pass_dicom_list[pa])\n",
        "  #print('Путь к слайсам конкретного пациента -', base)\n",
        "\n",
        "  for slis in range (len(pass_dicom_list)):  # цикл работы со слайсом очередного пациента\n",
        "    x_pa = base + '/' + pass_dicom_list[slis]    # собираем полный путь к файлу-слайсу очередного пациента\n",
        "    print('x_pa',x_pa)\n",
        "    print('Сквозной порядковый номер слайса -', counter)\n",
        "\n",
        "    orig_dist[counter] = x_pa                    # добавляем в словарь новую пару\n",
        "    counter += 1                                 # изменяем значение счетчика на 1\n",
        "\n",
        "print('все, словарь для x_train готов')\n",
        "\n"
      ]
    },
    {
      "cell_type": "code",
      "source": [
        "orig_dist[164] # смотрим содержание словаря"
      ],
      "metadata": {
        "colab": {
          "base_uri": "https://localhost:8080/",
          "height": 35
        },
        "id": "ApmOQwYlWSeP",
        "outputId": "ea012277-7e3c-43e4-f29e-873aad2398b5"
      },
      "execution_count": null,
      "outputs": [
        {
          "output_type": "execute_result",
          "data": {
            "text/plain": [
              "'/content/drive/MyDrive/Baza/Stag_1/Original_Directory/Test/LUNG1-396/05-01-2010-NA-NA-28227/0.000000-NA-05554/1-031.dcm'"
            ],
            "application/vnd.google.colaboratory.intrinsic+json": {
              "type": "string"
            }
          },
          "metadata": {},
          "execution_count": 111
        }
      ]
    },
    {
      "cell_type": "markdown",
      "metadata": {
        "id": "EAC2y7oMtXvr"
      },
      "source": [
        "### Функция y_gen генератор\n"
      ]
    },
    {
      "cell_type": "code",
      "execution_count": 41,
      "metadata": {
        "colab": {
          "base_uri": "https://localhost:8080/"
        },
        "id": "OSp9fd6Uqb_l",
        "outputId": "880719ac-58fa-4b56-e4f7-42f5ddf87b94"
      },
      "outputs": [
        {
          "output_type": "stream",
          "name": "stdout",
          "text": [
            "y_train_1876 [0. 0. 0. ... 0. 0. 0.] <class 'numpy.ndarray'> (1876,)\n"
          ]
        }
      ],
      "source": [
        "# Чтение массива y_train из googl diska в настоящий NB_colab\n",
        "\n",
        "with open('/content/drive/MyDrive/Baza/Stag_1/Effusions_np/y_train_1876.txt', 'r') as f:\n",
        "  y_train_1876 = np.loadtxt(f)\n",
        "  print('y_train_1876', y_train_1876, type(y_train_1876), y_train_1876.shape)"
      ]
    },
    {
      "cell_type": "code",
      "source": [
        "a = np.array ([1, 2, 3, 4], dtype=np.float64)\n",
        "print(a)\n",
        "#array([ 1.,  2.,  3.,  4.])\n",
        "y_train = y_train_1876.astype(np.int16)\n",
        "print(y_train)\n",
        "#array([1, 2, 3, 4])"
      ],
      "metadata": {
        "colab": {
          "base_uri": "https://localhost:8080/"
        },
        "id": "6G6KTjpbNVh7",
        "outputId": "fd3479ae-ca5c-405e-fe07-52449b9429f3"
      },
      "execution_count": 93,
      "outputs": [
        {
          "output_type": "stream",
          "name": "stdout",
          "text": [
            "[1. 2. 3. 4.]\n",
            "[0 0 0 ... 0 0 0]\n"
          ]
        }
      ]
    },
    {
      "cell_type": "code",
      "execution_count": 94,
      "metadata": {
        "colab": {
          "base_uri": "https://localhost:8080/"
        },
        "id": "bEVSNdJP5YhW",
        "outputId": "2f38f446-058e-4e61-e780-667dda86ce9e"
      },
      "outputs": [
        {
          "output_type": "execute_result",
          "data": {
            "text/plain": [
              "array([0, 0, 0, 0, 0, 0, 0, 0, 0, 0, 0, 0, 0, 0, 0, 0, 0, 0, 0, 0, 0, 0,\n",
              "       0, 0, 1, 1, 1, 1, 1, 1, 1, 1, 1, 1, 1, 1, 1, 1, 1, 1, 1, 1, 1, 1,\n",
              "       1, 1, 1, 1, 1, 1, 1, 1, 1, 1, 1, 1, 1, 1, 1, 1, 1, 1, 1, 1, 1, 1,\n",
              "       1, 1, 1, 1, 1, 1, 1, 1, 1, 1, 1, 1, 1, 1, 1, 1, 1, 1, 1, 1, 1, 1,\n",
              "       1, 1, 1, 1, 1, 0, 0, 0, 0, 0, 0, 0, 0, 0, 0, 0, 0, 0, 0, 0, 0, 0,\n",
              "       0, 0, 0, 0, 0, 0, 0, 0, 0, 0, 0, 0, 0, 0, 0, 0, 0, 0, 0, 0, 0, 0,\n",
              "       0, 0, 0, 0, 0, 0, 0, 0, 0, 0, 0, 0, 0, 0, 0, 0, 0, 0, 0, 0, 0, 0,\n",
              "       0, 0, 0, 0, 0, 0, 0, 0, 0, 0, 0, 0, 0, 0, 0, 0, 0, 0, 0, 0, 1, 1,\n",
              "       1, 1, 1, 1, 1, 1, 1, 1, 1, 1, 1, 1, 1, 1, 1, 1, 1, 1, 1, 1, 1, 1,\n",
              "       1, 1], dtype=int16)"
            ]
          },
          "metadata": {},
          "execution_count": 94
        }
      ],
      "source": [
        "y_train [:200]  # вся последовательность представляет собой, с определенной долей приближения, гармоничный ряд."
      ]
    },
    {
      "cell_type": "code",
      "source": [
        "def batch_y (y_train):            # на вход функции подаем список слайсов обучающей выборки  с параметром sufle\n",
        "  for i in range(len(y_train)):   # длина цикла определяется размером количеством слайсов обучающей выборки\n",
        "    print ('i', i)\n",
        "    print ('y_train [i]',y_train [i])\n",
        "    yield y_train [i]             # при очередном обращении выдает соответствующее значение y_train\n",
        "\n",
        "# На входе у нас есть список y_train_1876 содержащий правильные ответы для каждого слайса из test выборки\n",
        "\n",
        "y_gen = batch_y (y_train)    # функцию: <class 'function'> batch_y - превращаем в генератор y_gen <generator object batch_it at 0x7f3ea189f990>"
      ],
      "metadata": {
        "id": "2wuYLT6BqN23"
      },
      "execution_count": 97,
      "outputs": []
    },
    {
      "cell_type": "code",
      "source": [
        "print('1-е обращение', next (y_gen))\n",
        "print('2-е обращение', next (y_gen))\n",
        "print('3-е обращение', next (y_gen))"
      ],
      "metadata": {
        "colab": {
          "base_uri": "https://localhost:8080/"
        },
        "id": "DXweaxBDuyAb",
        "outputId": "588a569c-dd5a-499a-8066-d0c502ce4770"
      },
      "execution_count": 98,
      "outputs": [
        {
          "output_type": "stream",
          "name": "stdout",
          "text": [
            "i 0\n",
            "y_train [i] 0\n",
            "1-е обращение 0\n",
            "i 1\n",
            "y_train [i] 0\n",
            "2-е обращение 0\n",
            "i 2\n",
            "y_train [i] 0\n",
            "3-е обращение 0\n"
          ]
        }
      ]
    },
    {
      "cell_type": "code",
      "source": [
        "for k in range (30):\n",
        "  print(k,'-е','обращение', next (y_gen))"
      ],
      "metadata": {
        "colab": {
          "base_uri": "https://localhost:8080/"
        },
        "id": "gGCUV2t0wofV",
        "outputId": "ec9aa071-d379-436e-a33f-b9437f297e17"
      },
      "execution_count": 99,
      "outputs": [
        {
          "output_type": "stream",
          "name": "stdout",
          "text": [
            "i 3\n",
            "y_train [i] 0\n",
            "0 -е обращение 0\n",
            "i 4\n",
            "y_train [i] 0\n",
            "1 -е обращение 0\n",
            "i 5\n",
            "y_train [i] 0\n",
            "2 -е обращение 0\n",
            "i 6\n",
            "y_train [i] 0\n",
            "3 -е обращение 0\n",
            "i 7\n",
            "y_train [i] 0\n",
            "4 -е обращение 0\n",
            "i 8\n",
            "y_train [i] 0\n",
            "5 -е обращение 0\n",
            "i 9\n",
            "y_train [i] 0\n",
            "6 -е обращение 0\n",
            "i 10\n",
            "y_train [i] 0\n",
            "7 -е обращение 0\n",
            "i 11\n",
            "y_train [i] 0\n",
            "8 -е обращение 0\n",
            "i 12\n",
            "y_train [i] 0\n",
            "9 -е обращение 0\n",
            "i 13\n",
            "y_train [i] 0\n",
            "10 -е обращение 0\n",
            "i 14\n",
            "y_train [i] 0\n",
            "11 -е обращение 0\n",
            "i 15\n",
            "y_train [i] 0\n",
            "12 -е обращение 0\n",
            "i 16\n",
            "y_train [i] 0\n",
            "13 -е обращение 0\n",
            "i 17\n",
            "y_train [i] 0\n",
            "14 -е обращение 0\n",
            "i 18\n",
            "y_train [i] 0\n",
            "15 -е обращение 0\n",
            "i 19\n",
            "y_train [i] 0\n",
            "16 -е обращение 0\n",
            "i 20\n",
            "y_train [i] 0\n",
            "17 -е обращение 0\n",
            "i 21\n",
            "y_train [i] 0\n",
            "18 -е обращение 0\n",
            "i 22\n",
            "y_train [i] 0\n",
            "19 -е обращение 0\n",
            "i 23\n",
            "y_train [i] 0\n",
            "20 -е обращение 0\n",
            "i 24\n",
            "y_train [i] 1\n",
            "21 -е обращение 1\n",
            "i 25\n",
            "y_train [i] 1\n",
            "22 -е обращение 1\n",
            "i 26\n",
            "y_train [i] 1\n",
            "23 -е обращение 1\n",
            "i 27\n",
            "y_train [i] 1\n",
            "24 -е обращение 1\n",
            "i 28\n",
            "y_train [i] 1\n",
            "25 -е обращение 1\n",
            "i 29\n",
            "y_train [i] 1\n",
            "26 -е обращение 1\n",
            "i 30\n",
            "y_train [i] 1\n",
            "27 -е обращение 1\n",
            "i 31\n",
            "y_train [i] 1\n",
            "28 -е обращение 1\n",
            "i 32\n",
            "y_train [i] 1\n",
            "29 -е обращение 1\n"
          ]
        }
      ]
    },
    {
      "cell_type": "code",
      "source": [
        "next (y_gen)"
      ],
      "metadata": {
        "colab": {
          "base_uri": "https://localhost:8080/"
        },
        "id": "JEjgoLAIxWvb",
        "outputId": "0ef45839-3613-4779-9d43-6a719687fcca"
      },
      "execution_count": 100,
      "outputs": [
        {
          "output_type": "stream",
          "name": "stdout",
          "text": [
            "i 33\n",
            "y_train [i] 1\n"
          ]
        },
        {
          "output_type": "execute_result",
          "data": {
            "text/plain": [
              "1"
            ]
          },
          "metadata": {},
          "execution_count": 100
        }
      ]
    },
    {
      "cell_type": "markdown",
      "source": [
        "### Функция x_gen через словарь"
      ],
      "metadata": {
        "id": "qKe57FSkOUWt"
      }
    },
    {
      "cell_type": "code",
      "source": [
        "len_dist = list(orig_dist.keys())   # все ключи словаря перевели в список ключей\n",
        "# print (len_dist[90:100])\n",
        "# len(len_dist)                     # теперь можем посмотреть размер словаря (через дляну списка)\n",
        "\n",
        "def batch_x (orig_dist): # на вход функции подаем список слайсов обучающей выборки  с параметром sufle\n",
        "  '''\n",
        "     вход: orig_dist- словарь: сквозной порядковый номер слайса:путь к слайсу конкретного пациента\n",
        "     выход: np_orig- слайс DICOM преобразованый в np массив размерностью (512,512,1)\n",
        "\n",
        "  '''\n",
        "  for slis in range (len(len_dist)-1):  # цикл работы со слайсами ограничен длиной словаря -1\n",
        "    q = orig_dist[slis]\n",
        "    print('q', q)\n",
        "    ds = pydicom.dcmread(q)                              # Функция считывает одно изображение и возвращает объект pydicom.dataset.FileDataset\n",
        "    test_str = ds.PatientID                              # читаем из файла ID пациента\n",
        "    print('Patient', test_str, 'Slis', slis)\n",
        "    np_orig = np.array(ds.pixel_array, dtype= 'int16')   # можно изменить размер переменной\n",
        "\n",
        "    q_np = np.reshape (np_orig,[512,512,1])              # Добавим размерность для подачи в Conv2D слой НС (принимает только 3-х мерный массив)\n",
        "    print('q_np.shape', q_np.shape)\n",
        "    print('все')\n",
        "\n",
        "    yield q_np\n"
      ],
      "metadata": {
        "id": "8expKcwWFq08"
      },
      "execution_count": 101,
      "outputs": []
    },
    {
      "cell_type": "code",
      "source": [
        "x_gen = batch_x (orig_dist)   # функцию: <class 'function'> batch_x - превращаем в генератор x_gen <generator object batch_it at 0x7f3ea189f990>"
      ],
      "metadata": {
        "id": "Io6UN-SlMEcf"
      },
      "execution_count": 102,
      "outputs": []
    },
    {
      "cell_type": "code",
      "source": [
        "print('1-е обращение', next (x_gen))\n",
        "print('2-е обращение', next (x_gen))\n",
        "print('3-е обращение', next (x_gen))"
      ],
      "metadata": {
        "colab": {
          "base_uri": "https://localhost:8080/"
        },
        "id": "L28BA-KM2h3J",
        "outputId": "9789d85c-2f3a-4383-c2d7-948c83750a06"
      },
      "execution_count": 103,
      "outputs": [
        {
          "output_type": "stream",
          "name": "stdout",
          "text": [
            "q /content/drive/MyDrive/Baza/Stag_1/Original_Directory/Test/LUNG1-381/03-20-2010-NA-NA-60601/0.000000-NA-45095/1-001.dcm\n",
            "Patient LUNG1-381 Slis 0\n",
            "q_np.shape (512, 512, 1)\n",
            "все\n",
            "1-е обращение [[[0]\n",
            "  [0]\n",
            "  [0]\n",
            "  ...\n",
            "  [0]\n",
            "  [0]\n",
            "  [0]]\n",
            "\n",
            " [[0]\n",
            "  [0]\n",
            "  [0]\n",
            "  ...\n",
            "  [0]\n",
            "  [0]\n",
            "  [0]]\n",
            "\n",
            " [[0]\n",
            "  [0]\n",
            "  [0]\n",
            "  ...\n",
            "  [0]\n",
            "  [0]\n",
            "  [0]]\n",
            "\n",
            " ...\n",
            "\n",
            " [[0]\n",
            "  [0]\n",
            "  [0]\n",
            "  ...\n",
            "  [0]\n",
            "  [0]\n",
            "  [0]]\n",
            "\n",
            " [[0]\n",
            "  [0]\n",
            "  [0]\n",
            "  ...\n",
            "  [0]\n",
            "  [0]\n",
            "  [0]]\n",
            "\n",
            " [[0]\n",
            "  [0]\n",
            "  [0]\n",
            "  ...\n",
            "  [0]\n",
            "  [0]\n",
            "  [0]]]\n",
            "q /content/drive/MyDrive/Baza/Stag_1/Original_Directory/Test/LUNG1-381/03-20-2010-NA-NA-60601/0.000000-NA-45095/1-002.dcm\n",
            "Patient LUNG1-381 Slis 1\n",
            "q_np.shape (512, 512, 1)\n",
            "все\n",
            "2-е обращение [[[0]\n",
            "  [0]\n",
            "  [0]\n",
            "  ...\n",
            "  [0]\n",
            "  [0]\n",
            "  [0]]\n",
            "\n",
            " [[0]\n",
            "  [0]\n",
            "  [0]\n",
            "  ...\n",
            "  [0]\n",
            "  [0]\n",
            "  [0]]\n",
            "\n",
            " [[0]\n",
            "  [0]\n",
            "  [0]\n",
            "  ...\n",
            "  [0]\n",
            "  [0]\n",
            "  [0]]\n",
            "\n",
            " ...\n",
            "\n",
            " [[0]\n",
            "  [0]\n",
            "  [0]\n",
            "  ...\n",
            "  [0]\n",
            "  [0]\n",
            "  [0]]\n",
            "\n",
            " [[0]\n",
            "  [0]\n",
            "  [0]\n",
            "  ...\n",
            "  [0]\n",
            "  [0]\n",
            "  [0]]\n",
            "\n",
            " [[0]\n",
            "  [0]\n",
            "  [0]\n",
            "  ...\n",
            "  [0]\n",
            "  [0]\n",
            "  [0]]]\n",
            "q /content/drive/MyDrive/Baza/Stag_1/Original_Directory/Test/LUNG1-381/03-20-2010-NA-NA-60601/0.000000-NA-45095/1-003.dcm\n",
            "Patient LUNG1-381 Slis 2\n",
            "q_np.shape (512, 512, 1)\n",
            "все\n",
            "3-е обращение [[[0]\n",
            "  [0]\n",
            "  [0]\n",
            "  ...\n",
            "  [0]\n",
            "  [0]\n",
            "  [0]]\n",
            "\n",
            " [[0]\n",
            "  [0]\n",
            "  [0]\n",
            "  ...\n",
            "  [0]\n",
            "  [0]\n",
            "  [0]]\n",
            "\n",
            " [[0]\n",
            "  [0]\n",
            "  [0]\n",
            "  ...\n",
            "  [0]\n",
            "  [0]\n",
            "  [0]]\n",
            "\n",
            " ...\n",
            "\n",
            " [[0]\n",
            "  [0]\n",
            "  [0]\n",
            "  ...\n",
            "  [0]\n",
            "  [0]\n",
            "  [0]]\n",
            "\n",
            " [[0]\n",
            "  [0]\n",
            "  [0]\n",
            "  ...\n",
            "  [0]\n",
            "  [0]\n",
            "  [0]]\n",
            "\n",
            " [[0]\n",
            "  [0]\n",
            "  [0]\n",
            "  ...\n",
            "  [0]\n",
            "  [0]\n",
            "  [0]]]\n"
          ]
        }
      ]
    },
    {
      "cell_type": "markdown",
      "source": [
        "## НС Conv2D"
      ],
      "metadata": {
        "id": "roZUx8mA_KPm"
      }
    },
    {
      "cell_type": "code",
      "source": [
        "\n",
        "from tensorflow.keras.models import Sequential #Сеть прямого распространения\n",
        "#Базовые слои для счёрточных сетей\n",
        "from tensorflow.keras.layers import Dense, Conv2D, MaxPooling2D, Flatten, Dropout, BatchNormalization\n",
        "from tensorflow.keras.preprocessing.image import ImageDataGenerator # работа с изображениями\n",
        "from tensorflow.keras.optimizers import Adam, Adadelta # оптимизаторы\n",
        "from tensorflow.keras import utils #Используем дял to_categoricall\n",
        "from tensorflow.keras.preprocessing import image #Для отрисовки изображений\n",
        "from google.colab import files #Для загрузки своей картинки\n",
        "import numpy as np #Библиотека работы с массивами\n",
        "import matplotlib.pyplot as plt #Для отрисовки графиков\n",
        "from PIL import Image #Для отрисовки изображений\n",
        "import random #Для генерации случайных чисел\n",
        "import math # Для округления\n",
        "import os #Для работы с файлами\n",
        "# подключем диск\n",
        "from google.colab import drive\n",
        "\n",
        "%matplotlib inline"
      ],
      "metadata": {
        "id": "oHPfnYqqAK_w"
      },
      "execution_count": 15,
      "outputs": []
    },
    {
      "cell_type": "code",
      "source": [
        "from tensorflow.keras import activations"
      ],
      "metadata": {
        "id": "YRfpt67aA2vI"
      },
      "execution_count": 12,
      "outputs": []
    },
    {
      "cell_type": "code",
      "source": [
        "model = Sequential()\n",
        "\n",
        "model.add(Conv2D(32, (3, 3), activation='relu', input_shape=(512, 512, 1)))\n",
        "\n",
        "model.add(MaxPooling2D(pool_size=(2, 2)))\n",
        "\n",
        "model.add(Conv2D(32, (3, 3), activation='relu'))\n",
        "\n",
        "model.add(MaxPooling2D(pool_size=(2, 2)))\n",
        "\n",
        "model.add(Conv2D(64, (3, 3), activation='relu' ))\n",
        "\n",
        "model.add(MaxPooling2D(pool_size=(2, 2)))\n",
        "\n",
        "model.add(Flatten())\n",
        "\n",
        "model.add(Dense(64, activation='relu'))\n",
        "\n",
        "model.add(Dropout(0.5))\n",
        "\n",
        "model.add(Dense(1, activation='sigmoid'))\n",
        "\n"
      ],
      "metadata": {
        "id": "R9hGl68n_UNP"
      },
      "execution_count": 104,
      "outputs": []
    },
    {
      "cell_type": "code",
      "source": [
        "model.compile(loss='binary_crossentropy',\n",
        "              optimizer='adam',\n",
        "              metrics=['accuracy'])\n"
      ],
      "metadata": {
        "id": "FII3a059EzhG"
      },
      "execution_count": 105,
      "outputs": []
    },
    {
      "cell_type": "code",
      "source": [
        "batch_size = 5\n",
        "# Размер мини-выборки\n",
        "\n",
        "# Количество изображений для обучения\n",
        "nb_train_samples = 175\n",
        "# Количество изображений для проверки\n",
        "nb_validation_samples = 25\n",
        "# Количество изображений для тестирования\n",
        "nb_test_samples = 37"
      ],
      "metadata": {
        "id": "GiPhTYCMJpCu"
      },
      "execution_count": 76,
      "outputs": []
    },
    {
      "cell_type": "code",
      "source": [
        "model.fit_generator(x_gen, y_gen, epochs=3, verbose=1) #, steps_per_epoch=nb_train_samples // batch_size )\n",
        ""
      ],
      "metadata": {
        "colab": {
          "base_uri": "https://localhost:8080/",
          "height": 461
        },
        "id": "--iMcjg-E2rD",
        "outputId": "d7127ec4-5336-47c5-ac9e-8b1a9d4e8d95"
      },
      "execution_count": 107,
      "outputs": [
        {
          "output_type": "stream",
          "name": "stdout",
          "text": [
            "q /content/drive/MyDrive/Baza/Stag_1/Original_Directory/Test/LUNG1-381/03-20-2010-NA-NA-60601/0.000000-NA-45095/1-005.dcm\n",
            "Patient LUNG1-381 Slis 4\n",
            "q_np.shape (512, 512, 1)\n",
            "все\n"
          ]
        },
        {
          "output_type": "stream",
          "name": "stderr",
          "text": [
            "<ipython-input-107-d7c65ae4603e>:1: UserWarning: `Model.fit_generator` is deprecated and will be removed in a future version. Please use `Model.fit`, which supports generators.\n",
            "  model.fit_generator(x_gen, y_gen, epochs=30, verbose=1) #, steps_per_epoch=nb_train_samples // batch_size )\n"
          ]
        },
        {
          "output_type": "error",
          "ename": "TypeError",
          "evalue": "ignored",
          "traceback": [
            "\u001b[0;31m---------------------------------------------------------------------------\u001b[0m",
            "\u001b[0;31mTypeError\u001b[0m                                 Traceback (most recent call last)",
            "\u001b[0;32m<ipython-input-107-d7c65ae4603e>\u001b[0m in \u001b[0;36m<cell line: 1>\u001b[0;34m()\u001b[0m\n\u001b[0;32m----> 1\u001b[0;31m \u001b[0mmodel\u001b[0m\u001b[0;34m.\u001b[0m\u001b[0mfit_generator\u001b[0m\u001b[0;34m(\u001b[0m\u001b[0mx_gen\u001b[0m\u001b[0;34m,\u001b[0m \u001b[0my_gen\u001b[0m\u001b[0;34m,\u001b[0m \u001b[0mepochs\u001b[0m\u001b[0;34m=\u001b[0m\u001b[0;36m30\u001b[0m\u001b[0;34m,\u001b[0m \u001b[0mverbose\u001b[0m\u001b[0;34m=\u001b[0m\u001b[0;36m1\u001b[0m\u001b[0;34m)\u001b[0m \u001b[0;31m#, steps_per_epoch=nb_train_samples // batch_size )\u001b[0m\u001b[0;34m\u001b[0m\u001b[0;34m\u001b[0m\u001b[0m\n\u001b[0m\u001b[1;32m      2\u001b[0m \u001b[0;34m\u001b[0m\u001b[0m\n",
            "\u001b[0;32m/usr/local/lib/python3.10/dist-packages/keras/engine/training.py\u001b[0m in \u001b[0;36mfit_generator\u001b[0;34m(self, generator, steps_per_epoch, epochs, verbose, callbacks, validation_data, validation_steps, validation_freq, class_weight, max_queue_size, workers, use_multiprocessing, shuffle, initial_epoch)\u001b[0m\n\u001b[1;32m   2634\u001b[0m             \u001b[0mstacklevel\u001b[0m\u001b[0;34m=\u001b[0m\u001b[0;36m2\u001b[0m\u001b[0;34m,\u001b[0m\u001b[0;34m\u001b[0m\u001b[0;34m\u001b[0m\u001b[0m\n\u001b[1;32m   2635\u001b[0m         )\n\u001b[0;32m-> 2636\u001b[0;31m         return self.fit(\n\u001b[0m\u001b[1;32m   2637\u001b[0m             \u001b[0mgenerator\u001b[0m\u001b[0;34m,\u001b[0m\u001b[0;34m\u001b[0m\u001b[0;34m\u001b[0m\u001b[0m\n\u001b[1;32m   2638\u001b[0m             \u001b[0msteps_per_epoch\u001b[0m\u001b[0;34m=\u001b[0m\u001b[0msteps_per_epoch\u001b[0m\u001b[0;34m,\u001b[0m\u001b[0;34m\u001b[0m\u001b[0;34m\u001b[0m\u001b[0m\n",
            "\u001b[0;32m/usr/local/lib/python3.10/dist-packages/keras/utils/traceback_utils.py\u001b[0m in \u001b[0;36merror_handler\u001b[0;34m(*args, **kwargs)\u001b[0m\n\u001b[1;32m     68\u001b[0m             \u001b[0;31m# To get the full stack trace, call:\u001b[0m\u001b[0;34m\u001b[0m\u001b[0;34m\u001b[0m\u001b[0m\n\u001b[1;32m     69\u001b[0m             \u001b[0;31m# `tf.debugging.disable_traceback_filtering()`\u001b[0m\u001b[0;34m\u001b[0m\u001b[0;34m\u001b[0m\u001b[0m\n\u001b[0;32m---> 70\u001b[0;31m             \u001b[0;32mraise\u001b[0m \u001b[0me\u001b[0m\u001b[0;34m.\u001b[0m\u001b[0mwith_traceback\u001b[0m\u001b[0;34m(\u001b[0m\u001b[0mfiltered_tb\u001b[0m\u001b[0;34m)\u001b[0m \u001b[0;32mfrom\u001b[0m \u001b[0;32mNone\u001b[0m\u001b[0;34m\u001b[0m\u001b[0;34m\u001b[0m\u001b[0m\n\u001b[0m\u001b[1;32m     71\u001b[0m         \u001b[0;32mfinally\u001b[0m\u001b[0;34m:\u001b[0m\u001b[0;34m\u001b[0m\u001b[0;34m\u001b[0m\u001b[0m\n\u001b[1;32m     72\u001b[0m             \u001b[0;32mdel\u001b[0m \u001b[0mfiltered_tb\u001b[0m\u001b[0;34m\u001b[0m\u001b[0;34m\u001b[0m\u001b[0m\n",
            "\u001b[0;32m/usr/lib/python3.10/contextlib.py\u001b[0m in \u001b[0;36m__enter__\u001b[0;34m(self)\u001b[0m\n\u001b[1;32m    133\u001b[0m         \u001b[0;32mdel\u001b[0m \u001b[0mself\u001b[0m\u001b[0;34m.\u001b[0m\u001b[0margs\u001b[0m\u001b[0;34m,\u001b[0m \u001b[0mself\u001b[0m\u001b[0;34m.\u001b[0m\u001b[0mkwds\u001b[0m\u001b[0;34m,\u001b[0m \u001b[0mself\u001b[0m\u001b[0;34m.\u001b[0m\u001b[0mfunc\u001b[0m\u001b[0;34m\u001b[0m\u001b[0;34m\u001b[0m\u001b[0m\n\u001b[1;32m    134\u001b[0m         \u001b[0;32mtry\u001b[0m\u001b[0;34m:\u001b[0m\u001b[0;34m\u001b[0m\u001b[0;34m\u001b[0m\u001b[0m\n\u001b[0;32m--> 135\u001b[0;31m             \u001b[0;32mreturn\u001b[0m \u001b[0mnext\u001b[0m\u001b[0;34m(\u001b[0m\u001b[0mself\u001b[0m\u001b[0;34m.\u001b[0m\u001b[0mgen\u001b[0m\u001b[0;34m)\u001b[0m\u001b[0;34m\u001b[0m\u001b[0;34m\u001b[0m\u001b[0m\n\u001b[0m\u001b[1;32m    136\u001b[0m         \u001b[0;32mexcept\u001b[0m \u001b[0mStopIteration\u001b[0m\u001b[0;34m:\u001b[0m\u001b[0;34m\u001b[0m\u001b[0;34m\u001b[0m\u001b[0m\n\u001b[1;32m    137\u001b[0m             \u001b[0;32mraise\u001b[0m \u001b[0mRuntimeError\u001b[0m\u001b[0;34m(\u001b[0m\u001b[0;34m\"generator didn't yield\"\u001b[0m\u001b[0;34m)\u001b[0m \u001b[0;32mfrom\u001b[0m \u001b[0;32mNone\u001b[0m\u001b[0;34m\u001b[0m\u001b[0;34m\u001b[0m\u001b[0m\n",
            "\u001b[0;31mTypeError\u001b[0m: '>' not supported between instances of 'int' and 'generator'"
          ]
        }
      ]
    }
  ],
  "metadata": {
    "colab": {
      "provenance": [],
      "toc_visible": true,
      "include_colab_link": true
    },
    "gpuClass": "standard",
    "kernelspec": {
      "display_name": "Python 3",
      "name": "python3"
    },
    "language_info": {
      "name": "python"
    }
  },
  "nbformat": 4,
  "nbformat_minor": 0
}