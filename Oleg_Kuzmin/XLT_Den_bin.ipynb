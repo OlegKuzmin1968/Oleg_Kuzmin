{
  "cells": [
    {
      "cell_type": "markdown",
      "metadata": {
        "id": "view-in-github",
        "colab_type": "text"
      },
      "source": [
        "<a href=\"https://colab.research.google.com/github/OlegKuzmin1968/Oleg_Kuzmin/blob/main/Oleg_Kuzmin/XLT_Den_bin.ipynb\" target=\"_parent\"><img src=\"https://colab.research.google.com/assets/colab-badge.svg\" alt=\"Open In Colab\"/></a>"
      ]
    },
    {
      "cell_type": "markdown",
      "metadata": {
        "id": "ALJziHyQWOSU"
      },
      "source": [
        "**Классификации методик лечения третьей стадии рака легких**\n",
        "\n",
        "*НМИЦ профилактической медицины*\n",
        "\n"
      ]
    },
    {
      "cell_type": "code",
      "source": [
        "from google.colab import drive\n",
        "drive.mount('/content/drive')"
      ],
      "metadata": {
        "colab": {
          "base_uri": "https://localhost:8080/"
        },
        "id": "dHYiYO-RRli8",
        "outputId": "ef6ce158-3faf-4db5-8ee7-65ca283517a4"
      },
      "execution_count": null,
      "outputs": [
        {
          "output_type": "stream",
          "name": "stdout",
          "text": [
            "Mounted at /content/drive\n"
          ]
        }
      ]
    },
    {
      "cell_type": "markdown",
      "metadata": {
        "id": "38ICOkSC9BMV"
      },
      "source": [
        "# Импорт библиотек"
      ]
    },
    {
      "cell_type": "code",
      "execution_count": null,
      "metadata": {
        "id": "Oe2mran7NIGx"
      },
      "outputs": [],
      "source": [
        "# Загрузка файлов из облака\n",
        "import gdown                       # Библиотека для работы с массивами данных\n",
        "import numpy as np                 # Библиотека для обработки и анализа данных\n",
        "import pandas as pd                # Библиотека для построения графиков\n",
        "import matplotlib.pyplot as plt    # Команда для отображения графики в ячейках среды Google Colaboratory\n",
        "%matplotlib inline\n",
        "# Библиотека для построения графиков\n",
        "import seaborn as sns\n",
        "import math\n",
        "import re\n",
        "import os.path\n",
        "\n",
        "from IPython.display import clear_output   # Для работы с датами\n",
        "from datetime import datetime\n",
        "\n",
        "#Используем для to_categoricall\n",
        "from tensorflow.keras import utils\n",
        "\n",
        "# Импорта библиотеки в рабочую область:         # Руководство по предварительной обработке данных https://skine.ru/articles/198719/\n",
        "import sklearn                                  # Библиотека Scikit-learn для предварительной обработки данных\n",
        "from sklearn.preprocessing import LabelEncoder  # Загружаем функцию предварительной обработки данных\n",
        "from sklearn.preprocessing import OneHotEncoder # Функция кодирования категориальных признаков преобразует каждую категориальную функцию в двоичную функцию"
      ]
    },
    {
      "cell_type": "markdown",
      "source": [
        "## Загрузки для НС"
      ],
      "metadata": {
        "id": "YkAxaumeKyny"
      }
    },
    {
      "cell_type": "code",
      "source": [
        "import tensorflow as tf\n",
        "from tensorflow import keras\n",
        "\n",
        "from tensorflow.keras.models import Sequential # НС прямого распространения\n",
        "from tensorflow.keras.layers import Dense, Activation, Dropout, BatchNormalization # Основные слои\n",
        "from tensorflow.keras.layers import Dense, Activation, Dropout, BatchNormalization # Основные слои\n",
        "from tensorflow.keras import utils # Утилиты для to_categorical\n",
        "from tensorflow.keras.preprocessing import image # Для отрисовки изображения\n",
        "from tensorflow.keras.optimizers import Adam, Adadelta # Алгоритмы оптимизации, для настройки скорости обучения\n",
        "import numpy as np # Библиотека работы с массивами\n",
        "import matplotlib.pyplot as plt # Отрисовка изображений\n",
        "from PIL import Image # Отрисовка изображений\n",
        "import pandas as pd # Библиотека pandas\n",
        "from google.colab import files # Импорт файлов\n",
        "from sklearn.preprocessing import LabelEncoder, StandardScaler # Функции для нормализации данных\n",
        "from sklearn import preprocessing # Пакет предварительной обработки данных\n",
        "\n",
        "# Отрисовывать изображения в ноутбуке, а не в консоль или файл\n",
        "%matplotlib inline"
      ],
      "metadata": {
        "id": "9GbvlkD2KQhL"
      },
      "execution_count": null,
      "outputs": []
    },
    {
      "cell_type": "markdown",
      "source": [
        "# Локальные функции"
      ],
      "metadata": {
        "id": "VCtBMj2p1fE-"
      }
    },
    {
      "cell_type": "code",
      "source": [
        "def perevod_bin (list, str):\n",
        "  ''' На вход подаем список вариантов одного из параметров (Молекулярный статус).\n",
        "      # представлена возможность увеличения размерности потенциального увеличения числа вариантов через второй параметр.\n",
        "      Функция создает словарь в котором каждому варианту (ключу) соответствует его бинарное число.\n",
        "  '''\n",
        "  x = len(list)\n",
        "  #X = x * 2\n",
        "  dist = {}\n",
        "  for i in range (x): #(X):\n",
        "    k = list[i]\n",
        "    #print('Ключ', k)\n",
        "    #z = bin(i)\n",
        "    z = format(i, str) #  '06b')\n",
        "    #print('Бинарное представление i ', z)\n",
        "    dist[k] = z\n",
        "  return dist\n",
        "\n"
      ],
      "metadata": {
        "id": "xD1dHhfP78fb"
      },
      "execution_count": null,
      "outputs": []
    },
    {
      "cell_type": "code",
      "source": [
        "# Пороговая функция активации\n",
        "def porog (y_true):\n",
        "  #print('Размер выходного массива по Х', y_true.shape)\n",
        "  #q = y_pred\n",
        "  for i in range(y_true.shape[1]):\n",
        "    #print(i)\n",
        "    if y_true[:,i] > 0.98:\n",
        "      y_true[:,i] = 1\n",
        "    elif y_true[:,i] < 0.98:\n",
        "      y_true[:,i] = 0\n",
        "\n",
        "  return y_true"
      ],
      "metadata": {
        "id": "UA40i3rqUfVt"
      },
      "execution_count": null,
      "outputs": []
    },
    {
      "cell_type": "markdown",
      "source": [
        "# Загрузка датасета НМИЦ ХЛТ_Den\n"
      ],
      "metadata": {
        "id": "rO1WDJirsUv8"
      }
    },
    {
      "cell_type": "code",
      "source": [
        "# Укажим путь к файлу с данными на моем диске\n",
        "way_2 = '/content/drive/MyDrive/Stag_2/ХЛТ_Ден.xlsx'\n",
        "\n",
        "# Чтение данных из файла excel в pandas.DataFrame\n",
        "NMIC_XLT = pd.read_excel(way_2)\n",
        "print('Тип датафрейма NMIC_XLT', type(NMIC_XLT))\n",
        "print('Размер датафрейма NMIC_XLT', NMIC_XLT.shape)\n",
        "print('Число строк: ', NMIC_XLT.shape[0])\n",
        "print('Число столбцов:', NMIC_XLT.shape[1])\n",
        "print('='*50)\n",
        "nan_cell_count = NMIC_XLT.isna().sum().sum()\n",
        "nan_cell_count_proc = nan_cell_count*100/NMIC_XLT.size\n",
        "print(f'общее количество пропусков во всей таблице: {nan_cell_count}, {round(nan_cell_count_proc, 2)}%')\n",
        "NMIC_XLT.head(3)"
      ],
      "metadata": {
        "colab": {
          "base_uri": "https://localhost:8080/",
          "height": 459
        },
        "id": "Sm9X2HnfscyT",
        "outputId": "fd1fba99-c950-4823-ccd5-28bcfcdd2fde"
      },
      "execution_count": null,
      "outputs": [
        {
          "output_type": "stream",
          "name": "stdout",
          "text": [
            "Тип датафрейма NMIC_XLT <class 'pandas.core.frame.DataFrame'>\n",
            "Размер датафрейма NMIC_XLT (147456, 19)\n",
            "Число строк:  147456\n",
            "Число столбцов: 19\n",
            "==================================================\n",
            "общее количество пропусков во всей таблице: 0, 0.0%\n"
          ]
        },
        {
          "output_type": "execute_result",
          "data": {
            "text/plain": [
              "   номер_ответа Стадия          Гистология   ECOG Возраст      Пол  \\\n",
              "0             1  IIIаI     плоскоклеточный    0-1   До 70  Мужской   \n",
              "1             2   IIIб     плоскоклеточный    0-1   До 70  Мужской   \n",
              "2             3  IIIаI   неплоскоклеточный    0-1   До 70  Мужской   \n",
              "\n",
              "  Молекулярный статус (только для неплоскоклеточного рака)      PD-L1 статус  \\\n",
              "0                                        нет мутаций         не исследовался   \n",
              "1                                        нет мутаций         не исследовался   \n",
              "2                                        нет мутаций         не исследовался   \n",
              "\n",
              "       Статус курения Относительные противопоказания к ЛТ  \\\n",
              "0   В настоящее время                                  да   \n",
              "1   В настоящее время                                  да   \n",
              "2   В настоящее время                                  да   \n",
              "\n",
              "  Предпочтение пациента по ответу на терапию Ответ эксперта (Ден)  \\\n",
              "0                   результативность лечения    одномоментная ХЛТ   \n",
              "1                   результативность лечения    одномоментная ХЛТ   \n",
              "2                   результативность лечения    одномоментная ХЛТ   \n",
              "\n",
              "                                  Вариант ХТ  \\\n",
              "0  Этопозид цисплатин/карбоплатин Дурвалумаб   \n",
              "1                         Этопозид цисплатин   \n",
              "2                      пеметрексед+цисплатин   \n",
              "\n",
              "  Альтернативный выбор ХТ (как компонента ХЛТ)  \\\n",
              "0                      паклитаксел+карбоплатин   \n",
              "1                      паклитаксел+карбоплатин   \n",
              "2                      паклитаксел+карбоплатин   \n",
              "\n",
              "   Поставьте галочку, если уверены на 100%  Если 75%  Если 50%  \\\n",
              "0                                     True     False     False   \n",
              "1                                     True     False     False   \n",
              "2                                     True     False     False   \n",
              "\n",
              "  Альтернатива, если 50% - обязательно  \\\n",
              "0                                    0   \n",
              "1                                    0   \n",
              "2                                    0   \n",
              "\n",
              "                                         Комментарий  \n",
              "0  Необходима консультация хирурга на предмет воз...  \n",
              "1                                                  0  \n",
              "2                                                  0  "
            ],
            "text/html": [
              "\n",
              "  <div id=\"df-9e5f01d9-8377-4239-8b50-0037dc941cc5\" class=\"colab-df-container\">\n",
              "    <div>\n",
              "<style scoped>\n",
              "    .dataframe tbody tr th:only-of-type {\n",
              "        vertical-align: middle;\n",
              "    }\n",
              "\n",
              "    .dataframe tbody tr th {\n",
              "        vertical-align: top;\n",
              "    }\n",
              "\n",
              "    .dataframe thead th {\n",
              "        text-align: right;\n",
              "    }\n",
              "</style>\n",
              "<table border=\"1\" class=\"dataframe\">\n",
              "  <thead>\n",
              "    <tr style=\"text-align: right;\">\n",
              "      <th></th>\n",
              "      <th>номер_ответа</th>\n",
              "      <th>Стадия</th>\n",
              "      <th>Гистология</th>\n",
              "      <th>ECOG</th>\n",
              "      <th>Возраст</th>\n",
              "      <th>Пол</th>\n",
              "      <th>Молекулярный статус (только для неплоскоклеточного рака)</th>\n",
              "      <th>PD-L1 статус</th>\n",
              "      <th>Статус курения</th>\n",
              "      <th>Относительные противопоказания к ЛТ</th>\n",
              "      <th>Предпочтение пациента по ответу на терапию</th>\n",
              "      <th>Ответ эксперта (Ден)</th>\n",
              "      <th>Вариант ХТ</th>\n",
              "      <th>Альтернативный выбор ХТ (как компонента ХЛТ)</th>\n",
              "      <th>Поставьте галочку, если уверены на 100%</th>\n",
              "      <th>Если 75%</th>\n",
              "      <th>Если 50%</th>\n",
              "      <th>Альтернатива, если 50% - обязательно</th>\n",
              "      <th>Комментарий</th>\n",
              "    </tr>\n",
              "  </thead>\n",
              "  <tbody>\n",
              "    <tr>\n",
              "      <th>0</th>\n",
              "      <td>1</td>\n",
              "      <td>IIIаI</td>\n",
              "      <td>плоскоклеточный</td>\n",
              "      <td>0-1</td>\n",
              "      <td>До 70</td>\n",
              "      <td>Мужской</td>\n",
              "      <td>нет мутаций</td>\n",
              "      <td>не исследовался</td>\n",
              "      <td>В настоящее время</td>\n",
              "      <td>да</td>\n",
              "      <td>результативность лечения</td>\n",
              "      <td>одномоментная ХЛТ</td>\n",
              "      <td>Этопозид цисплатин/карбоплатин Дурвалумаб</td>\n",
              "      <td>паклитаксел+карбоплатин</td>\n",
              "      <td>True</td>\n",
              "      <td>False</td>\n",
              "      <td>False</td>\n",
              "      <td>0</td>\n",
              "      <td>Необходима консультация хирурга на предмет воз...</td>\n",
              "    </tr>\n",
              "    <tr>\n",
              "      <th>1</th>\n",
              "      <td>2</td>\n",
              "      <td>IIIб</td>\n",
              "      <td>плоскоклеточный</td>\n",
              "      <td>0-1</td>\n",
              "      <td>До 70</td>\n",
              "      <td>Мужской</td>\n",
              "      <td>нет мутаций</td>\n",
              "      <td>не исследовался</td>\n",
              "      <td>В настоящее время</td>\n",
              "      <td>да</td>\n",
              "      <td>результативность лечения</td>\n",
              "      <td>одномоментная ХЛТ</td>\n",
              "      <td>Этопозид цисплатин</td>\n",
              "      <td>паклитаксел+карбоплатин</td>\n",
              "      <td>True</td>\n",
              "      <td>False</td>\n",
              "      <td>False</td>\n",
              "      <td>0</td>\n",
              "      <td>0</td>\n",
              "    </tr>\n",
              "    <tr>\n",
              "      <th>2</th>\n",
              "      <td>3</td>\n",
              "      <td>IIIаI</td>\n",
              "      <td>неплоскоклеточный</td>\n",
              "      <td>0-1</td>\n",
              "      <td>До 70</td>\n",
              "      <td>Мужской</td>\n",
              "      <td>нет мутаций</td>\n",
              "      <td>не исследовался</td>\n",
              "      <td>В настоящее время</td>\n",
              "      <td>да</td>\n",
              "      <td>результативность лечения</td>\n",
              "      <td>одномоментная ХЛТ</td>\n",
              "      <td>пеметрексед+цисплатин</td>\n",
              "      <td>паклитаксел+карбоплатин</td>\n",
              "      <td>True</td>\n",
              "      <td>False</td>\n",
              "      <td>False</td>\n",
              "      <td>0</td>\n",
              "      <td>0</td>\n",
              "    </tr>\n",
              "  </tbody>\n",
              "</table>\n",
              "</div>\n",
              "    <div class=\"colab-df-buttons\">\n",
              "\n",
              "  <div class=\"colab-df-container\">\n",
              "    <button class=\"colab-df-convert\" onclick=\"convertToInteractive('df-9e5f01d9-8377-4239-8b50-0037dc941cc5')\"\n",
              "            title=\"Convert this dataframe to an interactive table.\"\n",
              "            style=\"display:none;\">\n",
              "\n",
              "  <svg xmlns=\"http://www.w3.org/2000/svg\" height=\"24px\" viewBox=\"0 -960 960 960\">\n",
              "    <path d=\"M120-120v-720h720v720H120Zm60-500h600v-160H180v160Zm220 220h160v-160H400v160Zm0 220h160v-160H400v160ZM180-400h160v-160H180v160Zm440 0h160v-160H620v160ZM180-180h160v-160H180v160Zm440 0h160v-160H620v160Z\"/>\n",
              "  </svg>\n",
              "    </button>\n",
              "\n",
              "  <style>\n",
              "    .colab-df-container {\n",
              "      display:flex;\n",
              "      gap: 12px;\n",
              "    }\n",
              "\n",
              "    .colab-df-convert {\n",
              "      background-color: #E8F0FE;\n",
              "      border: none;\n",
              "      border-radius: 50%;\n",
              "      cursor: pointer;\n",
              "      display: none;\n",
              "      fill: #1967D2;\n",
              "      height: 32px;\n",
              "      padding: 0 0 0 0;\n",
              "      width: 32px;\n",
              "    }\n",
              "\n",
              "    .colab-df-convert:hover {\n",
              "      background-color: #E2EBFA;\n",
              "      box-shadow: 0px 1px 2px rgba(60, 64, 67, 0.3), 0px 1px 3px 1px rgba(60, 64, 67, 0.15);\n",
              "      fill: #174EA6;\n",
              "    }\n",
              "\n",
              "    .colab-df-buttons div {\n",
              "      margin-bottom: 4px;\n",
              "    }\n",
              "\n",
              "    [theme=dark] .colab-df-convert {\n",
              "      background-color: #3B4455;\n",
              "      fill: #D2E3FC;\n",
              "    }\n",
              "\n",
              "    [theme=dark] .colab-df-convert:hover {\n",
              "      background-color: #434B5C;\n",
              "      box-shadow: 0px 1px 3px 1px rgba(0, 0, 0, 0.15);\n",
              "      filter: drop-shadow(0px 1px 2px rgba(0, 0, 0, 0.3));\n",
              "      fill: #FFFFFF;\n",
              "    }\n",
              "  </style>\n",
              "\n",
              "    <script>\n",
              "      const buttonEl =\n",
              "        document.querySelector('#df-9e5f01d9-8377-4239-8b50-0037dc941cc5 button.colab-df-convert');\n",
              "      buttonEl.style.display =\n",
              "        google.colab.kernel.accessAllowed ? 'block' : 'none';\n",
              "\n",
              "      async function convertToInteractive(key) {\n",
              "        const element = document.querySelector('#df-9e5f01d9-8377-4239-8b50-0037dc941cc5');\n",
              "        const dataTable =\n",
              "          await google.colab.kernel.invokeFunction('convertToInteractive',\n",
              "                                                    [key], {});\n",
              "        if (!dataTable) return;\n",
              "\n",
              "        const docLinkHtml = 'Like what you see? Visit the ' +\n",
              "          '<a target=\"_blank\" href=https://colab.research.google.com/notebooks/data_table.ipynb>data table notebook</a>'\n",
              "          + ' to learn more about interactive tables.';\n",
              "        element.innerHTML = '';\n",
              "        dataTable['output_type'] = 'display_data';\n",
              "        await google.colab.output.renderOutput(dataTable, element);\n",
              "        const docLink = document.createElement('div');\n",
              "        docLink.innerHTML = docLinkHtml;\n",
              "        element.appendChild(docLink);\n",
              "      }\n",
              "    </script>\n",
              "  </div>\n",
              "\n",
              "\n",
              "<div id=\"df-645f8b6f-51f5-4e75-ac09-6269a7605798\">\n",
              "  <button class=\"colab-df-quickchart\" onclick=\"quickchart('df-645f8b6f-51f5-4e75-ac09-6269a7605798')\"\n",
              "            title=\"Suggest charts\"\n",
              "            style=\"display:none;\">\n",
              "\n",
              "<svg xmlns=\"http://www.w3.org/2000/svg\" height=\"24px\"viewBox=\"0 0 24 24\"\n",
              "     width=\"24px\">\n",
              "    <g>\n",
              "        <path d=\"M19 3H5c-1.1 0-2 .9-2 2v14c0 1.1.9 2 2 2h14c1.1 0 2-.9 2-2V5c0-1.1-.9-2-2-2zM9 17H7v-7h2v7zm4 0h-2V7h2v10zm4 0h-2v-4h2v4z\"/>\n",
              "    </g>\n",
              "</svg>\n",
              "  </button>\n",
              "\n",
              "<style>\n",
              "  .colab-df-quickchart {\n",
              "      --bg-color: #E8F0FE;\n",
              "      --fill-color: #1967D2;\n",
              "      --hover-bg-color: #E2EBFA;\n",
              "      --hover-fill-color: #174EA6;\n",
              "      --disabled-fill-color: #AAA;\n",
              "      --disabled-bg-color: #DDD;\n",
              "  }\n",
              "\n",
              "  [theme=dark] .colab-df-quickchart {\n",
              "      --bg-color: #3B4455;\n",
              "      --fill-color: #D2E3FC;\n",
              "      --hover-bg-color: #434B5C;\n",
              "      --hover-fill-color: #FFFFFF;\n",
              "      --disabled-bg-color: #3B4455;\n",
              "      --disabled-fill-color: #666;\n",
              "  }\n",
              "\n",
              "  .colab-df-quickchart {\n",
              "    background-color: var(--bg-color);\n",
              "    border: none;\n",
              "    border-radius: 50%;\n",
              "    cursor: pointer;\n",
              "    display: none;\n",
              "    fill: var(--fill-color);\n",
              "    height: 32px;\n",
              "    padding: 0;\n",
              "    width: 32px;\n",
              "  }\n",
              "\n",
              "  .colab-df-quickchart:hover {\n",
              "    background-color: var(--hover-bg-color);\n",
              "    box-shadow: 0 1px 2px rgba(60, 64, 67, 0.3), 0 1px 3px 1px rgba(60, 64, 67, 0.15);\n",
              "    fill: var(--button-hover-fill-color);\n",
              "  }\n",
              "\n",
              "  .colab-df-quickchart-complete:disabled,\n",
              "  .colab-df-quickchart-complete:disabled:hover {\n",
              "    background-color: var(--disabled-bg-color);\n",
              "    fill: var(--disabled-fill-color);\n",
              "    box-shadow: none;\n",
              "  }\n",
              "\n",
              "  .colab-df-spinner {\n",
              "    border: 2px solid var(--fill-color);\n",
              "    border-color: transparent;\n",
              "    border-bottom-color: var(--fill-color);\n",
              "    animation:\n",
              "      spin 1s steps(1) infinite;\n",
              "  }\n",
              "\n",
              "  @keyframes spin {\n",
              "    0% {\n",
              "      border-color: transparent;\n",
              "      border-bottom-color: var(--fill-color);\n",
              "      border-left-color: var(--fill-color);\n",
              "    }\n",
              "    20% {\n",
              "      border-color: transparent;\n",
              "      border-left-color: var(--fill-color);\n",
              "      border-top-color: var(--fill-color);\n",
              "    }\n",
              "    30% {\n",
              "      border-color: transparent;\n",
              "      border-left-color: var(--fill-color);\n",
              "      border-top-color: var(--fill-color);\n",
              "      border-right-color: var(--fill-color);\n",
              "    }\n",
              "    40% {\n",
              "      border-color: transparent;\n",
              "      border-right-color: var(--fill-color);\n",
              "      border-top-color: var(--fill-color);\n",
              "    }\n",
              "    60% {\n",
              "      border-color: transparent;\n",
              "      border-right-color: var(--fill-color);\n",
              "    }\n",
              "    80% {\n",
              "      border-color: transparent;\n",
              "      border-right-color: var(--fill-color);\n",
              "      border-bottom-color: var(--fill-color);\n",
              "    }\n",
              "    90% {\n",
              "      border-color: transparent;\n",
              "      border-bottom-color: var(--fill-color);\n",
              "    }\n",
              "  }\n",
              "</style>\n",
              "\n",
              "  <script>\n",
              "    async function quickchart(key) {\n",
              "      const quickchartButtonEl =\n",
              "        document.querySelector('#' + key + ' button');\n",
              "      quickchartButtonEl.disabled = true;  // To prevent multiple clicks.\n",
              "      quickchartButtonEl.classList.add('colab-df-spinner');\n",
              "      try {\n",
              "        const charts = await google.colab.kernel.invokeFunction(\n",
              "            'suggestCharts', [key], {});\n",
              "      } catch (error) {\n",
              "        console.error('Error during call to suggestCharts:', error);\n",
              "      }\n",
              "      quickchartButtonEl.classList.remove('colab-df-spinner');\n",
              "      quickchartButtonEl.classList.add('colab-df-quickchart-complete');\n",
              "    }\n",
              "    (() => {\n",
              "      let quickchartButtonEl =\n",
              "        document.querySelector('#df-645f8b6f-51f5-4e75-ac09-6269a7605798 button');\n",
              "      quickchartButtonEl.style.display =\n",
              "        google.colab.kernel.accessAllowed ? 'block' : 'none';\n",
              "    })();\n",
              "  </script>\n",
              "</div>\n",
              "    </div>\n",
              "  </div>\n"
            ]
          },
          "metadata": {},
          "execution_count": 6
        }
      ]
    },
    {
      "cell_type": "markdown",
      "source": [
        "## Информация по колонкам NMIC_XLT"
      ],
      "metadata": {
        "id": "I8_Usn29FUpq"
      }
    },
    {
      "cell_type": "code",
      "source": [
        "# Количество уникальных значений в каждом столбце\n",
        "print('Кол-во уникальных значений в каждом столбце DF')\n",
        "NMIC_XLT.nunique()"
      ],
      "metadata": {
        "colab": {
          "base_uri": "https://localhost:8080/"
        },
        "id": "nEOS-OHPFfEq",
        "outputId": "cd10b0dc-0728-4844-b806-32dba86dbee3"
      },
      "execution_count": null,
      "outputs": [
        {
          "output_type": "stream",
          "name": "stdout",
          "text": [
            "Кол-во уникальных значений в каждом столбце DF\n"
          ]
        },
        {
          "output_type": "execute_result",
          "data": {
            "text/plain": [
              "номер_ответа                                                72\n",
              "Стадия                                                       2\n",
              "Гистология                                                   3\n",
              "ECOG                                                         3\n",
              "Возраст                                                      2\n",
              "Пол                                                          2\n",
              "Молекулярный статус (только для неплоскоклеточного рака)    16\n",
              "PD-L1 статус                                                 4\n",
              "Статус курения                                               4\n",
              "Относительные противопоказания к ЛТ                          2\n",
              "Предпочтение пациента по ответу на терапию                   2\n",
              "Ответ эксперта (Ден)                                         3\n",
              "Вариант ХТ                                                   5\n",
              "Альтернативный выбор ХТ (как компонента ХЛТ)                 4\n",
              "Поставьте галочку, если уверены на 100%                      2\n",
              "Если 75%                                                     2\n",
              "Если 50%                                                     2\n",
              "Альтернатива, если 50% - обязательно                         4\n",
              "Комментарий                                                  9\n",
              "dtype: int64"
            ]
          },
          "metadata": {},
          "execution_count": 7
        }
      ]
    },
    {
      "cell_type": "code",
      "source": [
        "# Список всех столбцов DF\n",
        "nmic_xlt_list = NMIC_XLT.columns.tolist()\n",
        "print('Кол-во колонок в DF', len(nmic_xlt_list))\n",
        "nmic_xlt_list"
      ],
      "metadata": {
        "colab": {
          "base_uri": "https://localhost:8080/"
        },
        "id": "73jzIKIpAep1",
        "outputId": "b13e9bcd-c3af-4271-e0c6-fada2b6059e5"
      },
      "execution_count": null,
      "outputs": [
        {
          "output_type": "stream",
          "name": "stdout",
          "text": [
            "Кол-во колонок в DF 19\n"
          ]
        },
        {
          "output_type": "execute_result",
          "data": {
            "text/plain": [
              "['номер_ответа',\n",
              " 'Стадия',\n",
              " 'Гистология',\n",
              " 'ECOG',\n",
              " 'Возраст',\n",
              " 'Пол',\n",
              " 'Молекулярный статус (только для неплоскоклеточного рака)',\n",
              " 'PD-L1 статус',\n",
              " 'Статус курения',\n",
              " 'Относительные противопоказания к ЛТ',\n",
              " 'Предпочтение пациента по ответу на терапию',\n",
              " 'Ответ эксперта (Ден)',\n",
              " 'Вариант ХТ',\n",
              " 'Альтернативный выбор ХТ (как компонента ХЛТ)',\n",
              " 'Поставьте галочку, если уверены на 100%',\n",
              " 'Если 75%',\n",
              " 'Если 50%',\n",
              " 'Альтернатива, если 50% - обязательно',\n",
              " 'Комментарий']"
            ]
          },
          "metadata": {},
          "execution_count": 8
        }
      ]
    },
    {
      "cell_type": "markdown",
      "source": [
        "# Обработка входного DS"
      ],
      "metadata": {
        "id": "_M9_oxN2VSoW"
      }
    },
    {
      "cell_type": "markdown",
      "source": [
        "## Создадим столбцы для записи соответствующих цифровыз значений DS"
      ],
      "metadata": {
        "id": "ditjF5PZVfuj"
      }
    },
    {
      "cell_type": "code",
      "source": [
        "df1_cat_colnames = ['No',\n",
        " 'stadia',\n",
        " 'gistologia',\n",
        " 'ecog',\n",
        " 'age',\n",
        " 'gender',\n",
        " 'ms*',\n",
        " 'pd',\n",
        " 'smoke',\n",
        " 'no_LT',\n",
        " 'expectation',\n",
        " 'expert',\n",
        " 'variant_XT',\n",
        " 'alt_XT',\n",
        " 'sure100',\n",
        " 'sure75',\n",
        " 'sure50',\n",
        " 'alt_50',\n",
        " 'comment' ]\n",
        "\n",
        "print(f'df1_cat_colnames: {len(df1_cat_colnames)} : {df1_cat_colnames}')\n",
        "type(df1_cat_colnames)"
      ],
      "metadata": {
        "colab": {
          "base_uri": "https://localhost:8080/"
        },
        "id": "veUmI9zLBUMA",
        "outputId": "80c018f2-3bc9-458d-d97d-f31774d52c43"
      },
      "execution_count": null,
      "outputs": [
        {
          "output_type": "stream",
          "name": "stdout",
          "text": [
            "df1_cat_colnames: 19 : ['No', 'stadia', 'gistologia', 'ecog', 'age', 'gender', 'ms*', 'pd', 'smoke', 'no_LT', 'expectation', 'expert', 'variant_XT', 'alt_XT', 'sure100', 'sure75', 'sure50', 'alt_50', 'comment']\n"
          ]
        },
        {
          "output_type": "execute_result",
          "data": {
            "text/plain": [
              "list"
            ]
          },
          "metadata": {},
          "execution_count": 9
        }
      ]
    },
    {
      "cell_type": "markdown",
      "source": [
        "## Функция перевода значения ячейки df в цыфровую форму"
      ],
      "metadata": {
        "id": "40rkrHbnV_wo"
      }
    },
    {
      "cell_type": "code",
      "source": [
        "# Смотрим содержимое одного из столбцов\n",
        "c = nmic_xlt_list[8]\n",
        "a = list(NMIC_XLT[c].unique()) # создадим список уникальных значений\n",
        "a"
      ],
      "metadata": {
        "colab": {
          "base_uri": "https://localhost:8080/"
        },
        "id": "Y1jlRjfDdUTZ",
        "outputId": "d48a845a-f8d0-4ca4-efa2-7f8abf9fd8e3"
      },
      "execution_count": null,
      "outputs": [
        {
          "output_type": "execute_result",
          "data": {
            "text/plain": [
              "[' В настоящее время',\n",
              " ' Курение в прошлом (бросил более 1 месяца до 1 года)',\n",
              " ' Курение в прошлом (бросил более 1 года)',\n",
              " ' Никогда не курил']"
            ]
          },
          "metadata": {},
          "execution_count": 10
        }
      ]
    },
    {
      "cell_type": "code",
      "source": [
        "def perevod (NMIC_XLT,nmic_xlt_list, df1_cat_colnames):\n",
        "  ''' вход   сам DF          NMIC_XLT\n",
        "             список столбцов nmic_xlt_list\n",
        "             список столбцов оцыфрованного DF df1_cat_colnames\n",
        "\n",
        "  '''\n",
        "  i_arr  = np.zeros(NMIC_XLT.shape[0], dtype=int) # служебная копия одного столбца\n",
        "  i_arr2 = np.zeros(NMIC_XLT.shape[0], dtype=int) # служебная копия одного столбца\n",
        "  list_dist = []\n",
        "\n",
        "  for inx in range (1, len(nmic_xlt_list)):           # цыкл по списку столбцов DF\n",
        "    c = nmic_xlt_list[inx]\n",
        "    print('c',c)\n",
        "    a = list(NMIC_XLT[c].unique())  # список уникальных значений в указанном столбце датасета df_global_com\n",
        "    #print('Количество вариантов \"Статус курения\" в датасете NMIC_XLT -', len(a), type(a))\n",
        "    #print(a)\n",
        "    print('len(a)',len(a))\n",
        "    label_encoder = LabelEncoder()                    # загружаем кодировщик меток\n",
        "    integer_encoded = label_encoder.fit_transform(a)  # используем функцию целочисленного кодирования .fit_transform(),\n",
        "    integer_encoded = integer_encoded.tolist()        # переводим массив np в список\n",
        "    #print(type(integer_encoded))\n",
        "    #print(integer_encoded)                           # целочисленный код\n",
        "    a_dist = dict(zip(a, integer_encoded))            # собираем из двух списков словарь\n",
        "    print('a_dist', a_dist)\n",
        "    list_dist.append(a_dist)\n",
        "    col_name = nmic_xlt_list[inx]\n",
        "    #print(col_name)\n",
        "\n",
        "    #print(f\"inx: {inx}, col_name: '{col_name}', col_name2: '{col_name2}'\")\n",
        "    # NMIC_XLT[col_name2] = pd.Series(dtype='int')     # создаем в DF новый столбец с текущим именем\n",
        "    row_inx = 0\n",
        "    for elem_val in NMIC_XLT[col_name]:  # цыкл по строкам текущего столбца\n",
        "      #print(elem_val)\n",
        "      digi_code = a_dist[elem_val]\n",
        "      #digi_code = getSmokingStatusCode(elem_val)\n",
        "      i_arr[row_inx] = digi_code\n",
        "      row_inx += 1\n",
        "      #print('row_inx', row_inx)\n",
        "      #print(i_arr.shape)\n",
        "      #print(i_arr[-1])\n",
        "\n",
        "    i_arr2 = utils.to_categorical(i_arr, len(a))\n",
        "    ohe_lst2 = i_arr2.astype(int).tolist()\n",
        "    #print(type(ohe_lst2))\n",
        "    #col_name2 = df1_cat_colnames[inx]\n",
        "    #print('col_name2', col_name2)\n",
        "    #c = df1_cat_colnames[inx]\n",
        "    #NMIC_XLT = NMIC_XLT.assign(col_name2 = ohe_lst2)\n",
        "\n",
        "    NMIC_XLT = NMIC_XLT.assign( rar = ohe_lst2)\n",
        "    NMIC_XLT.rename (columns={'rar': df1_cat_colnames[inx]}, inplace=True)\n",
        "    print(f'размеры датафрейма NMIC_XLT: {NMIC_XLT.shape}')\n",
        "    #NMIC_XLT.head(3)\n",
        "    del i_arr2\n",
        "    del ohe_lst2\n",
        "\n",
        "  print(f'размеры датафрейма NMIC_XLT: {NMIC_XLT.shape}')\n",
        "\n",
        "  return NMIC_XLT, list_dist\n",
        "  #return NMIC_XLT"
      ],
      "metadata": {
        "id": "pwiABqovWMge"
      },
      "execution_count": null,
      "outputs": []
    },
    {
      "cell_type": "code",
      "source": [
        "NMIC_XLT_BIN, list_dist = perevod (NMIC_XLT,nmic_xlt_list, df1_cat_colnames)"
      ],
      "metadata": {
        "colab": {
          "base_uri": "https://localhost:8080/"
        },
        "id": "TiuqAHZdfsA7",
        "outputId": "1ea2276d-8a03-4bf0-98d8-72c36cb3efe8"
      },
      "execution_count": null,
      "outputs": [
        {
          "output_type": "stream",
          "name": "stdout",
          "text": [
            "c Стадия\n",
            "len(a) 2\n",
            "a_dist {'IIIаI': 0, 'IIIб': 1}\n",
            "размеры датафрейма NMIC_XLT: (147456, 20)\n",
            "c Гистология\n",
            "len(a) 3\n",
            "a_dist {' плоскоклеточный': 2, ' неплоскоклеточный': 1, ' мелкоклеточный': 0}\n",
            "размеры датафрейма NMIC_XLT: (147456, 21)\n",
            "c ECOG\n",
            "len(a) 3\n",
            "a_dist {'  0-1': 0, 2: 2, ' 3+': 1}\n",
            "размеры датафрейма NMIC_XLT: (147456, 22)\n",
            "c Возраст\n",
            "len(a) 2\n",
            "a_dist {' До 70': 1, ' >70': 0}\n",
            "размеры датафрейма NMIC_XLT: (147456, 23)\n",
            "c Пол\n",
            "len(a) 2\n",
            "a_dist {'Мужской': 1, 'Женский': 0}\n",
            "размеры датафрейма NMIC_XLT: (147456, 24)\n",
            "c Молекулярный статус (только для неплоскоклеточного рака)\n",
            "len(a) 16\n",
            "a_dist {' нет мутаций': 15, ' не исследовались': 14, ' EGFR ex19': 5, ' EGFR ex21': 7, ' EGFR ex18': 4, ' EGFR ex20': 6, ' EGFR T790M': 3, ' EGFR (G719X, L816Q, S768I)': 2, ' ALK': 0, ' ROS1': 13, ' BRAF': 1, ' RET': 12, ' MET 14ex': 10, ' HER2': 8, ' KRAS G12C': 9, ' NTRK': 11}\n",
            "размеры датафрейма NMIC_XLT: (147456, 25)\n",
            "c PD-L1 статус\n",
            "len(a) 4\n",
            "a_dist {' не исследовался': 1, 0.01: 3, ' 1–49\\xa0%': 0, ' ≥50\\xa0%': 2}\n",
            "размеры датафрейма NMIC_XLT: (147456, 26)\n",
            "c Статус курения\n",
            "len(a) 4\n",
            "a_dist {' В настоящее время': 0, ' Курение в прошлом (бросил более 1 месяца до 1 года)': 2, ' Курение в прошлом (бросил более 1 года)': 1, ' Никогда не курил': 3}\n",
            "размеры датафрейма NMIC_XLT: (147456, 27)\n",
            "c Относительные противопоказания к ЛТ\n",
            "len(a) 2\n",
            "a_dist {' да': 0, ' нет': 1}\n",
            "размеры датафрейма NMIC_XLT: (147456, 28)\n",
            "c Предпочтение пациента по ответу на терапию\n",
            "len(a) 2\n",
            "a_dist {' результативность лечения': 0, ' сохранение качества жизни': 1}\n",
            "размеры датафрейма NMIC_XLT: (147456, 29)\n",
            "c Ответ эксперта (Ден)\n",
            "len(a) 3\n",
            "a_dist {'одномоментная ХЛТ': 1, 'последовательная ХЛТ': 2, 'Симптоматическая терапия': 0}\n",
            "размеры датафрейма NMIC_XLT: (147456, 30)\n",
            "c Вариант ХТ\n",
            "len(a) 5\n",
            "a_dist {'Этопозид цисплатин/карбоплатин Дурвалумаб': 2, 'Этопозид цисплатин': 1, 'пеметрексед+цисплатин': 3, 'этопозид+цисплатин': 4, 0: 0}\n",
            "размеры датафрейма NMIC_XLT: (147456, 31)\n",
            "c Альтернативный выбор ХТ (как компонента ХЛТ)\n",
            "len(a) 4\n",
            "a_dist {'паклитаксел+карбоплатин': 2, 'этопозид карбоплатин': 3, 'еженедельный паклитаксел+ карбоплатин': 1, 0: 0}\n",
            "размеры датафрейма NMIC_XLT: (147456, 32)\n",
            "c Поставьте галочку, если уверены на 100%\n",
            "len(a) 2\n",
            "a_dist {True: 1, False: 0}\n",
            "размеры датафрейма NMIC_XLT: (147456, 33)\n",
            "c Если 75%\n",
            "len(a) 2\n",
            "a_dist {False: 0, True: 1}\n",
            "размеры датафрейма NMIC_XLT: (147456, 34)\n",
            "c Если 50%\n",
            "len(a) 2\n",
            "a_dist {False: 0, True: 1}\n",
            "размеры датафрейма NMIC_XLT: (147456, 35)\n",
            "c Альтернатива, если 50% - обязательно\n",
            "len(a) 4\n",
            "a_dist {0: 0, 'последовательная ХЛТ': 3, 'Лучевая терапия в монорежиме': 1, 'Симпоматическая терапия': 2}\n",
            "размеры датафрейма NMIC_XLT: (147456, 36)\n",
            "c Комментарий\n",
            "len(a) 9\n",
            "a_dist {'Необходима консультация хирурга на предмет возможного удаления паренхиматозного очага распада. Если невозможно - тщательная оценка риска кровотечения перед началом лучевой терапии': 6, 0: 0, 'Необходима более детальная оценка сопутствующей патологии и чем именно обусловлен статус по шкале ECOG 2. Если основным заболеванием, то предпочтение отдаем одновременной ХЛТ, если все-таки тяжесть состояния обусловлена сопутсвующей патологией, то возможно выбрать последовательный вариант ХЛТ. При выборе одновременной ХЛТ, лучше рассмотреть вариант еженедельного введения химиотерапии': 3, 'Необходима детальная оценка статуса по шкале ECOG. При мелкоклеточном раке чаще всего статус определяет основное заболевание, следовательно возможно начало одновременной ХЛТ, если все таки статус ECOG обусловлен сопуствующей патологией, то возможно отдать предпочтение последовательному варианту ХЛТ': 4, 'Необходима консультация хирурга для решения вопроса о возможной санации, в случае улучшения общего состояния пациента, возможно рассмотреть вариант проведения последовательной ХЛТ': 5, 'Наиболее часто при мелкоклеточном раке статус по шкале ECOG3 связан с основным заболеванием. И требует скорейшего начала химиотерапии.': 2, 'Большая вероятность инкурабельности больного.Детально оценить общесоматический статус для решения вопроса о возможности проведения монохимиотерапии или проведение ЛТ в монорежиме': 1, 'требуется дополнительная оценка статуса пациента, консультация хирурга для решения вопроса о возможной санации с последующим решением вопроса о химиотерапии. При невозможности коррекции общего состояния, рассмотреть вопрос о симптоматической терапии': 8, 'возможно рассмотреть вопрос ЛТ в монорежиме': 7}\n",
            "размеры датафрейма NMIC_XLT: (147456, 37)\n",
            "размеры датафрейма NMIC_XLT: (147456, 37)\n"
          ]
        }
      ]
    },
    {
      "cell_type": "code",
      "source": [
        "# Смотрим параметры получившегося df\n",
        "print('Параметры получившегося df', type(NMIC_XLT_BIN), NMIC_XLT_BIN.shape)\n",
        "NMIC_XLT_BIN.head(3)\n"
      ],
      "metadata": {
        "colab": {
          "base_uri": "https://localhost:8080/",
          "height": 367
        },
        "id": "fqANxgqTSAY5",
        "outputId": "a93ee1e7-18ec-4393-c04b-c14b4ee36067"
      },
      "execution_count": null,
      "outputs": [
        {
          "output_type": "stream",
          "name": "stdout",
          "text": [
            "Параметры получившегося df <class 'pandas.core.frame.DataFrame'> (147456, 37)\n"
          ]
        },
        {
          "output_type": "execute_result",
          "data": {
            "text/plain": [
              "   номер_ответа Стадия          Гистология   ECOG Возраст      Пол  \\\n",
              "0             1  IIIаI     плоскоклеточный    0-1   До 70  Мужской   \n",
              "1             2   IIIб     плоскоклеточный    0-1   До 70  Мужской   \n",
              "2             3  IIIаI   неплоскоклеточный    0-1   До 70  Мужской   \n",
              "\n",
              "  Молекулярный статус (только для неплоскоклеточного рака)      PD-L1 статус  \\\n",
              "0                                        нет мутаций         не исследовался   \n",
              "1                                        нет мутаций         не исследовался   \n",
              "2                                        нет мутаций         не исследовался   \n",
              "\n",
              "       Статус курения Относительные противопоказания к ЛТ  ...   no_LT  \\\n",
              "0   В настоящее время                                  да  ...  [1, 0]   \n",
              "1   В настоящее время                                  да  ...  [1, 0]   \n",
              "2   В настоящее время                                  да  ...  [1, 0]   \n",
              "\n",
              "  expectation     expert       variant_XT        alt_XT  sure100  sure75  \\\n",
              "0      [1, 0]  [0, 1, 0]  [0, 0, 1, 0, 0]  [0, 0, 1, 0]   [0, 1]  [1, 0]   \n",
              "1      [1, 0]  [0, 1, 0]  [0, 1, 0, 0, 0]  [0, 0, 1, 0]   [0, 1]  [1, 0]   \n",
              "2      [1, 0]  [0, 1, 0]  [0, 0, 0, 1, 0]  [0, 0, 1, 0]   [0, 1]  [1, 0]   \n",
              "\n",
              "   sure50        alt_50                      comment  \n",
              "0  [1, 0]  [1, 0, 0, 0]  [0, 0, 0, 0, 0, 0, 1, 0, 0]  \n",
              "1  [1, 0]  [1, 0, 0, 0]  [1, 0, 0, 0, 0, 0, 0, 0, 0]  \n",
              "2  [1, 0]  [1, 0, 0, 0]  [1, 0, 0, 0, 0, 0, 0, 0, 0]  \n",
              "\n",
              "[3 rows x 37 columns]"
            ],
            "text/html": [
              "\n",
              "  <div id=\"df-3f936ffa-cefb-4388-9f6e-3e31800b1241\" class=\"colab-df-container\">\n",
              "    <div>\n",
              "<style scoped>\n",
              "    .dataframe tbody tr th:only-of-type {\n",
              "        vertical-align: middle;\n",
              "    }\n",
              "\n",
              "    .dataframe tbody tr th {\n",
              "        vertical-align: top;\n",
              "    }\n",
              "\n",
              "    .dataframe thead th {\n",
              "        text-align: right;\n",
              "    }\n",
              "</style>\n",
              "<table border=\"1\" class=\"dataframe\">\n",
              "  <thead>\n",
              "    <tr style=\"text-align: right;\">\n",
              "      <th></th>\n",
              "      <th>номер_ответа</th>\n",
              "      <th>Стадия</th>\n",
              "      <th>Гистология</th>\n",
              "      <th>ECOG</th>\n",
              "      <th>Возраст</th>\n",
              "      <th>Пол</th>\n",
              "      <th>Молекулярный статус (только для неплоскоклеточного рака)</th>\n",
              "      <th>PD-L1 статус</th>\n",
              "      <th>Статус курения</th>\n",
              "      <th>Относительные противопоказания к ЛТ</th>\n",
              "      <th>...</th>\n",
              "      <th>no_LT</th>\n",
              "      <th>expectation</th>\n",
              "      <th>expert</th>\n",
              "      <th>variant_XT</th>\n",
              "      <th>alt_XT</th>\n",
              "      <th>sure100</th>\n",
              "      <th>sure75</th>\n",
              "      <th>sure50</th>\n",
              "      <th>alt_50</th>\n",
              "      <th>comment</th>\n",
              "    </tr>\n",
              "  </thead>\n",
              "  <tbody>\n",
              "    <tr>\n",
              "      <th>0</th>\n",
              "      <td>1</td>\n",
              "      <td>IIIаI</td>\n",
              "      <td>плоскоклеточный</td>\n",
              "      <td>0-1</td>\n",
              "      <td>До 70</td>\n",
              "      <td>Мужской</td>\n",
              "      <td>нет мутаций</td>\n",
              "      <td>не исследовался</td>\n",
              "      <td>В настоящее время</td>\n",
              "      <td>да</td>\n",
              "      <td>...</td>\n",
              "      <td>[1, 0]</td>\n",
              "      <td>[1, 0]</td>\n",
              "      <td>[0, 1, 0]</td>\n",
              "      <td>[0, 0, 1, 0, 0]</td>\n",
              "      <td>[0, 0, 1, 0]</td>\n",
              "      <td>[0, 1]</td>\n",
              "      <td>[1, 0]</td>\n",
              "      <td>[1, 0]</td>\n",
              "      <td>[1, 0, 0, 0]</td>\n",
              "      <td>[0, 0, 0, 0, 0, 0, 1, 0, 0]</td>\n",
              "    </tr>\n",
              "    <tr>\n",
              "      <th>1</th>\n",
              "      <td>2</td>\n",
              "      <td>IIIб</td>\n",
              "      <td>плоскоклеточный</td>\n",
              "      <td>0-1</td>\n",
              "      <td>До 70</td>\n",
              "      <td>Мужской</td>\n",
              "      <td>нет мутаций</td>\n",
              "      <td>не исследовался</td>\n",
              "      <td>В настоящее время</td>\n",
              "      <td>да</td>\n",
              "      <td>...</td>\n",
              "      <td>[1, 0]</td>\n",
              "      <td>[1, 0]</td>\n",
              "      <td>[0, 1, 0]</td>\n",
              "      <td>[0, 1, 0, 0, 0]</td>\n",
              "      <td>[0, 0, 1, 0]</td>\n",
              "      <td>[0, 1]</td>\n",
              "      <td>[1, 0]</td>\n",
              "      <td>[1, 0]</td>\n",
              "      <td>[1, 0, 0, 0]</td>\n",
              "      <td>[1, 0, 0, 0, 0, 0, 0, 0, 0]</td>\n",
              "    </tr>\n",
              "    <tr>\n",
              "      <th>2</th>\n",
              "      <td>3</td>\n",
              "      <td>IIIаI</td>\n",
              "      <td>неплоскоклеточный</td>\n",
              "      <td>0-1</td>\n",
              "      <td>До 70</td>\n",
              "      <td>Мужской</td>\n",
              "      <td>нет мутаций</td>\n",
              "      <td>не исследовался</td>\n",
              "      <td>В настоящее время</td>\n",
              "      <td>да</td>\n",
              "      <td>...</td>\n",
              "      <td>[1, 0]</td>\n",
              "      <td>[1, 0]</td>\n",
              "      <td>[0, 1, 0]</td>\n",
              "      <td>[0, 0, 0, 1, 0]</td>\n",
              "      <td>[0, 0, 1, 0]</td>\n",
              "      <td>[0, 1]</td>\n",
              "      <td>[1, 0]</td>\n",
              "      <td>[1, 0]</td>\n",
              "      <td>[1, 0, 0, 0]</td>\n",
              "      <td>[1, 0, 0, 0, 0, 0, 0, 0, 0]</td>\n",
              "    </tr>\n",
              "  </tbody>\n",
              "</table>\n",
              "<p>3 rows × 37 columns</p>\n",
              "</div>\n",
              "    <div class=\"colab-df-buttons\">\n",
              "\n",
              "  <div class=\"colab-df-container\">\n",
              "    <button class=\"colab-df-convert\" onclick=\"convertToInteractive('df-3f936ffa-cefb-4388-9f6e-3e31800b1241')\"\n",
              "            title=\"Convert this dataframe to an interactive table.\"\n",
              "            style=\"display:none;\">\n",
              "\n",
              "  <svg xmlns=\"http://www.w3.org/2000/svg\" height=\"24px\" viewBox=\"0 -960 960 960\">\n",
              "    <path d=\"M120-120v-720h720v720H120Zm60-500h600v-160H180v160Zm220 220h160v-160H400v160Zm0 220h160v-160H400v160ZM180-400h160v-160H180v160Zm440 0h160v-160H620v160ZM180-180h160v-160H180v160Zm440 0h160v-160H620v160Z\"/>\n",
              "  </svg>\n",
              "    </button>\n",
              "\n",
              "  <style>\n",
              "    .colab-df-container {\n",
              "      display:flex;\n",
              "      gap: 12px;\n",
              "    }\n",
              "\n",
              "    .colab-df-convert {\n",
              "      background-color: #E8F0FE;\n",
              "      border: none;\n",
              "      border-radius: 50%;\n",
              "      cursor: pointer;\n",
              "      display: none;\n",
              "      fill: #1967D2;\n",
              "      height: 32px;\n",
              "      padding: 0 0 0 0;\n",
              "      width: 32px;\n",
              "    }\n",
              "\n",
              "    .colab-df-convert:hover {\n",
              "      background-color: #E2EBFA;\n",
              "      box-shadow: 0px 1px 2px rgba(60, 64, 67, 0.3), 0px 1px 3px 1px rgba(60, 64, 67, 0.15);\n",
              "      fill: #174EA6;\n",
              "    }\n",
              "\n",
              "    .colab-df-buttons div {\n",
              "      margin-bottom: 4px;\n",
              "    }\n",
              "\n",
              "    [theme=dark] .colab-df-convert {\n",
              "      background-color: #3B4455;\n",
              "      fill: #D2E3FC;\n",
              "    }\n",
              "\n",
              "    [theme=dark] .colab-df-convert:hover {\n",
              "      background-color: #434B5C;\n",
              "      box-shadow: 0px 1px 3px 1px rgba(0, 0, 0, 0.15);\n",
              "      filter: drop-shadow(0px 1px 2px rgba(0, 0, 0, 0.3));\n",
              "      fill: #FFFFFF;\n",
              "    }\n",
              "  </style>\n",
              "\n",
              "    <script>\n",
              "      const buttonEl =\n",
              "        document.querySelector('#df-3f936ffa-cefb-4388-9f6e-3e31800b1241 button.colab-df-convert');\n",
              "      buttonEl.style.display =\n",
              "        google.colab.kernel.accessAllowed ? 'block' : 'none';\n",
              "\n",
              "      async function convertToInteractive(key) {\n",
              "        const element = document.querySelector('#df-3f936ffa-cefb-4388-9f6e-3e31800b1241');\n",
              "        const dataTable =\n",
              "          await google.colab.kernel.invokeFunction('convertToInteractive',\n",
              "                                                    [key], {});\n",
              "        if (!dataTable) return;\n",
              "\n",
              "        const docLinkHtml = 'Like what you see? Visit the ' +\n",
              "          '<a target=\"_blank\" href=https://colab.research.google.com/notebooks/data_table.ipynb>data table notebook</a>'\n",
              "          + ' to learn more about interactive tables.';\n",
              "        element.innerHTML = '';\n",
              "        dataTable['output_type'] = 'display_data';\n",
              "        await google.colab.output.renderOutput(dataTable, element);\n",
              "        const docLink = document.createElement('div');\n",
              "        docLink.innerHTML = docLinkHtml;\n",
              "        element.appendChild(docLink);\n",
              "      }\n",
              "    </script>\n",
              "  </div>\n",
              "\n",
              "\n",
              "<div id=\"df-25d6dc50-3582-4e15-8441-cf32a9115afc\">\n",
              "  <button class=\"colab-df-quickchart\" onclick=\"quickchart('df-25d6dc50-3582-4e15-8441-cf32a9115afc')\"\n",
              "            title=\"Suggest charts\"\n",
              "            style=\"display:none;\">\n",
              "\n",
              "<svg xmlns=\"http://www.w3.org/2000/svg\" height=\"24px\"viewBox=\"0 0 24 24\"\n",
              "     width=\"24px\">\n",
              "    <g>\n",
              "        <path d=\"M19 3H5c-1.1 0-2 .9-2 2v14c0 1.1.9 2 2 2h14c1.1 0 2-.9 2-2V5c0-1.1-.9-2-2-2zM9 17H7v-7h2v7zm4 0h-2V7h2v10zm4 0h-2v-4h2v4z\"/>\n",
              "    </g>\n",
              "</svg>\n",
              "  </button>\n",
              "\n",
              "<style>\n",
              "  .colab-df-quickchart {\n",
              "      --bg-color: #E8F0FE;\n",
              "      --fill-color: #1967D2;\n",
              "      --hover-bg-color: #E2EBFA;\n",
              "      --hover-fill-color: #174EA6;\n",
              "      --disabled-fill-color: #AAA;\n",
              "      --disabled-bg-color: #DDD;\n",
              "  }\n",
              "\n",
              "  [theme=dark] .colab-df-quickchart {\n",
              "      --bg-color: #3B4455;\n",
              "      --fill-color: #D2E3FC;\n",
              "      --hover-bg-color: #434B5C;\n",
              "      --hover-fill-color: #FFFFFF;\n",
              "      --disabled-bg-color: #3B4455;\n",
              "      --disabled-fill-color: #666;\n",
              "  }\n",
              "\n",
              "  .colab-df-quickchart {\n",
              "    background-color: var(--bg-color);\n",
              "    border: none;\n",
              "    border-radius: 50%;\n",
              "    cursor: pointer;\n",
              "    display: none;\n",
              "    fill: var(--fill-color);\n",
              "    height: 32px;\n",
              "    padding: 0;\n",
              "    width: 32px;\n",
              "  }\n",
              "\n",
              "  .colab-df-quickchart:hover {\n",
              "    background-color: var(--hover-bg-color);\n",
              "    box-shadow: 0 1px 2px rgba(60, 64, 67, 0.3), 0 1px 3px 1px rgba(60, 64, 67, 0.15);\n",
              "    fill: var(--button-hover-fill-color);\n",
              "  }\n",
              "\n",
              "  .colab-df-quickchart-complete:disabled,\n",
              "  .colab-df-quickchart-complete:disabled:hover {\n",
              "    background-color: var(--disabled-bg-color);\n",
              "    fill: var(--disabled-fill-color);\n",
              "    box-shadow: none;\n",
              "  }\n",
              "\n",
              "  .colab-df-spinner {\n",
              "    border: 2px solid var(--fill-color);\n",
              "    border-color: transparent;\n",
              "    border-bottom-color: var(--fill-color);\n",
              "    animation:\n",
              "      spin 1s steps(1) infinite;\n",
              "  }\n",
              "\n",
              "  @keyframes spin {\n",
              "    0% {\n",
              "      border-color: transparent;\n",
              "      border-bottom-color: var(--fill-color);\n",
              "      border-left-color: var(--fill-color);\n",
              "    }\n",
              "    20% {\n",
              "      border-color: transparent;\n",
              "      border-left-color: var(--fill-color);\n",
              "      border-top-color: var(--fill-color);\n",
              "    }\n",
              "    30% {\n",
              "      border-color: transparent;\n",
              "      border-left-color: var(--fill-color);\n",
              "      border-top-color: var(--fill-color);\n",
              "      border-right-color: var(--fill-color);\n",
              "    }\n",
              "    40% {\n",
              "      border-color: transparent;\n",
              "      border-right-color: var(--fill-color);\n",
              "      border-top-color: var(--fill-color);\n",
              "    }\n",
              "    60% {\n",
              "      border-color: transparent;\n",
              "      border-right-color: var(--fill-color);\n",
              "    }\n",
              "    80% {\n",
              "      border-color: transparent;\n",
              "      border-right-color: var(--fill-color);\n",
              "      border-bottom-color: var(--fill-color);\n",
              "    }\n",
              "    90% {\n",
              "      border-color: transparent;\n",
              "      border-bottom-color: var(--fill-color);\n",
              "    }\n",
              "  }\n",
              "</style>\n",
              "\n",
              "  <script>\n",
              "    async function quickchart(key) {\n",
              "      const quickchartButtonEl =\n",
              "        document.querySelector('#' + key + ' button');\n",
              "      quickchartButtonEl.disabled = true;  // To prevent multiple clicks.\n",
              "      quickchartButtonEl.classList.add('colab-df-spinner');\n",
              "      try {\n",
              "        const charts = await google.colab.kernel.invokeFunction(\n",
              "            'suggestCharts', [key], {});\n",
              "      } catch (error) {\n",
              "        console.error('Error during call to suggestCharts:', error);\n",
              "      }\n",
              "      quickchartButtonEl.classList.remove('colab-df-spinner');\n",
              "      quickchartButtonEl.classList.add('colab-df-quickchart-complete');\n",
              "    }\n",
              "    (() => {\n",
              "      let quickchartButtonEl =\n",
              "        document.querySelector('#df-25d6dc50-3582-4e15-8441-cf32a9115afc button');\n",
              "      quickchartButtonEl.style.display =\n",
              "        google.colab.kernel.accessAllowed ? 'block' : 'none';\n",
              "    })();\n",
              "  </script>\n",
              "</div>\n",
              "    </div>\n",
              "  </div>\n"
            ]
          },
          "metadata": {},
          "execution_count": 15
        }
      ]
    },
    {
      "cell_type": "code",
      "source": [
        "print('Количество словарей в списке',len(list_dist))\n",
        "list_dist[-8]"
      ],
      "metadata": {
        "colab": {
          "base_uri": "https://localhost:8080/"
        },
        "id": "hhGqhx4DWYEs",
        "outputId": "63232717-41e8-4230-91c7-8094189343f1"
      },
      "execution_count": null,
      "outputs": [
        {
          "output_type": "stream",
          "name": "stdout",
          "text": [
            "Количество словарей в списке 18\n"
          ]
        },
        {
          "output_type": "execute_result",
          "data": {
            "text/plain": [
              "{'одномоментная ХЛТ': 1,\n",
              " 'последовательная ХЛТ': 2,\n",
              " 'Симптоматическая терапия': 0}"
            ]
          },
          "metadata": {},
          "execution_count": 16
        }
      ]
    },
    {
      "cell_type": "code",
      "source": [
        "# Список всех столбцов DF\n",
        "nmic_xlt_bin = NMIC_XLT_BIN.columns.tolist()\n",
        "print('Кол-во колонок в DF', len(nmic_xlt_bin))\n",
        "nmic_xlt_bin"
      ],
      "metadata": {
        "colab": {
          "base_uri": "https://localhost:8080/"
        },
        "id": "3XFuF2xZJcX7",
        "outputId": "1e7f8a2d-1de2-4245-b20c-e97226b8736b"
      },
      "execution_count": null,
      "outputs": [
        {
          "output_type": "stream",
          "name": "stdout",
          "text": [
            "Кол-во колонок в DF 37\n"
          ]
        },
        {
          "output_type": "execute_result",
          "data": {
            "text/plain": [
              "['номер_ответа',\n",
              " 'Стадия',\n",
              " 'Гистология',\n",
              " 'ECOG',\n",
              " 'Возраст',\n",
              " 'Пол',\n",
              " 'Молекулярный статус (только для неплоскоклеточного рака)',\n",
              " 'PD-L1 статус',\n",
              " 'Статус курения',\n",
              " 'Относительные противопоказания к ЛТ',\n",
              " 'Предпочтение пациента по ответу на терапию',\n",
              " 'Ответ эксперта (Ден)',\n",
              " 'Вариант ХТ',\n",
              " 'Альтернативный выбор ХТ (как компонента ХЛТ)',\n",
              " 'Поставьте галочку, если уверены на 100%',\n",
              " 'Если 75%',\n",
              " 'Если 50%',\n",
              " 'Альтернатива, если 50% - обязательно',\n",
              " 'Комментарий',\n",
              " 'stadia',\n",
              " 'gistologia',\n",
              " 'ecog',\n",
              " 'age',\n",
              " 'gender',\n",
              " 'ms*',\n",
              " 'pd',\n",
              " 'smoke',\n",
              " 'no_LT',\n",
              " 'expectation',\n",
              " 'expert',\n",
              " 'variant_XT',\n",
              " 'alt_XT',\n",
              " 'sure100',\n",
              " 'sure75',\n",
              " 'sure50',\n",
              " 'alt_50',\n",
              " 'comment']"
            ]
          },
          "metadata": {},
          "execution_count": 17
        }
      ]
    },
    {
      "cell_type": "markdown",
      "source": [
        "# Запишем df_global_bin на disk"
      ],
      "metadata": {
        "id": "0YSDiQ2Rdi6I"
      }
    },
    {
      "cell_type": "code",
      "source": [
        "NMIC_XLT_BIN.to_pickle ('/content/drive/MyDrive/Stag_2/df_xlt_den.pkl')  # запишем df с именем df_xlt_lak на disk"
      ],
      "metadata": {
        "id": "x5MelZzZcqqp"
      },
      "execution_count": null,
      "outputs": []
    },
    {
      "cell_type": "code",
      "source": [
        "NMIC_XLT_BIN = pd.read_pickle ('/content/drive/MyDrive/Stag_2/df_xlt_den.pkl')     # читаем df_xlt_lak с diskа в NB\n",
        "print('NMIC_XLT_BIN', NMIC_XLT_BIN.shape, type(NMIC_XLT_BIN))"
      ],
      "metadata": {
        "id": "ZzjFJO3XIBN_",
        "colab": {
          "base_uri": "https://localhost:8080/"
        },
        "outputId": "de4bb420-7bf0-4a00-8e2c-fa472bed21d2"
      },
      "execution_count": null,
      "outputs": [
        {
          "output_type": "stream",
          "name": "stdout",
          "text": [
            "NMIC_XLT_BIN (147456, 37) <class 'pandas.core.frame.DataFrame'>\n"
          ]
        }
      ]
    },
    {
      "cell_type": "markdown",
      "source": [
        "# Формирование вектора x и y"
      ],
      "metadata": {
        "id": "-PQE5fZ-L08t"
      }
    },
    {
      "cell_type": "markdown",
      "source": [
        "## Возьмем из DF NMIC_XLT_BIN только цифровые данные"
      ],
      "metadata": {
        "id": "EmImWdIYTTWK"
      }
    },
    {
      "cell_type": "code",
      "source": [
        "BIN_Den = NMIC_XLT_BIN[NMIC_XLT_BIN.columns[19:]]\n",
        "print('BIN_Den.shape', BIN_Den.shape)\n",
        "BIN_Den.head(3)"
      ],
      "metadata": {
        "colab": {
          "base_uri": "https://localhost:8080/",
          "height": 213
        },
        "id": "7K1MrYrgTkdE",
        "outputId": "d67f91da-c9ce-4a34-84e3-885cf86388e1"
      },
      "execution_count": null,
      "outputs": [
        {
          "output_type": "stream",
          "name": "stdout",
          "text": [
            "BIN_Den.shape (147456, 18)\n"
          ]
        },
        {
          "output_type": "execute_result",
          "data": {
            "text/plain": [
              "   stadia gistologia       ecog     age  gender  \\\n",
              "0  [1, 0]  [0, 0, 1]  [1, 0, 0]  [0, 1]  [0, 1]   \n",
              "1  [0, 1]  [0, 0, 1]  [1, 0, 0]  [0, 1]  [0, 1]   \n",
              "2  [1, 0]  [0, 1, 0]  [1, 0, 0]  [0, 1]  [0, 1]   \n",
              "\n",
              "                                                ms*            pd  \\\n",
              "0  [0, 0, 0, 0, 0, 0, 0, 0, 0, 0, 0, 0, 0, 0, 0, 1]  [0, 1, 0, 0]   \n",
              "1  [0, 0, 0, 0, 0, 0, 0, 0, 0, 0, 0, 0, 0, 0, 0, 1]  [0, 1, 0, 0]   \n",
              "2  [0, 0, 0, 0, 0, 0, 0, 0, 0, 0, 0, 0, 0, 0, 0, 1]  [0, 1, 0, 0]   \n",
              "\n",
              "          smoke   no_LT expectation     expert       variant_XT        alt_XT  \\\n",
              "0  [1, 0, 0, 0]  [1, 0]      [1, 0]  [0, 1, 0]  [0, 0, 1, 0, 0]  [0, 0, 1, 0]   \n",
              "1  [1, 0, 0, 0]  [1, 0]      [1, 0]  [0, 1, 0]  [0, 1, 0, 0, 0]  [0, 0, 1, 0]   \n",
              "2  [1, 0, 0, 0]  [1, 0]      [1, 0]  [0, 1, 0]  [0, 0, 0, 1, 0]  [0, 0, 1, 0]   \n",
              "\n",
              "  sure100  sure75  sure50        alt_50                      comment  \n",
              "0  [0, 1]  [1, 0]  [1, 0]  [1, 0, 0, 0]  [0, 0, 0, 0, 0, 0, 1, 0, 0]  \n",
              "1  [0, 1]  [1, 0]  [1, 0]  [1, 0, 0, 0]  [1, 0, 0, 0, 0, 0, 0, 0, 0]  \n",
              "2  [0, 1]  [1, 0]  [1, 0]  [1, 0, 0, 0]  [1, 0, 0, 0, 0, 0, 0, 0, 0]  "
            ],
            "text/html": [
              "\n",
              "  <div id=\"df-b35aae95-e305-47cf-89a2-7c1a73c663b1\" class=\"colab-df-container\">\n",
              "    <div>\n",
              "<style scoped>\n",
              "    .dataframe tbody tr th:only-of-type {\n",
              "        vertical-align: middle;\n",
              "    }\n",
              "\n",
              "    .dataframe tbody tr th {\n",
              "        vertical-align: top;\n",
              "    }\n",
              "\n",
              "    .dataframe thead th {\n",
              "        text-align: right;\n",
              "    }\n",
              "</style>\n",
              "<table border=\"1\" class=\"dataframe\">\n",
              "  <thead>\n",
              "    <tr style=\"text-align: right;\">\n",
              "      <th></th>\n",
              "      <th>stadia</th>\n",
              "      <th>gistologia</th>\n",
              "      <th>ecog</th>\n",
              "      <th>age</th>\n",
              "      <th>gender</th>\n",
              "      <th>ms*</th>\n",
              "      <th>pd</th>\n",
              "      <th>smoke</th>\n",
              "      <th>no_LT</th>\n",
              "      <th>expectation</th>\n",
              "      <th>expert</th>\n",
              "      <th>variant_XT</th>\n",
              "      <th>alt_XT</th>\n",
              "      <th>sure100</th>\n",
              "      <th>sure75</th>\n",
              "      <th>sure50</th>\n",
              "      <th>alt_50</th>\n",
              "      <th>comment</th>\n",
              "    </tr>\n",
              "  </thead>\n",
              "  <tbody>\n",
              "    <tr>\n",
              "      <th>0</th>\n",
              "      <td>[1, 0]</td>\n",
              "      <td>[0, 0, 1]</td>\n",
              "      <td>[1, 0, 0]</td>\n",
              "      <td>[0, 1]</td>\n",
              "      <td>[0, 1]</td>\n",
              "      <td>[0, 0, 0, 0, 0, 0, 0, 0, 0, 0, 0, 0, 0, 0, 0, 1]</td>\n",
              "      <td>[0, 1, 0, 0]</td>\n",
              "      <td>[1, 0, 0, 0]</td>\n",
              "      <td>[1, 0]</td>\n",
              "      <td>[1, 0]</td>\n",
              "      <td>[0, 1, 0]</td>\n",
              "      <td>[0, 0, 1, 0, 0]</td>\n",
              "      <td>[0, 0, 1, 0]</td>\n",
              "      <td>[0, 1]</td>\n",
              "      <td>[1, 0]</td>\n",
              "      <td>[1, 0]</td>\n",
              "      <td>[1, 0, 0, 0]</td>\n",
              "      <td>[0, 0, 0, 0, 0, 0, 1, 0, 0]</td>\n",
              "    </tr>\n",
              "    <tr>\n",
              "      <th>1</th>\n",
              "      <td>[0, 1]</td>\n",
              "      <td>[0, 0, 1]</td>\n",
              "      <td>[1, 0, 0]</td>\n",
              "      <td>[0, 1]</td>\n",
              "      <td>[0, 1]</td>\n",
              "      <td>[0, 0, 0, 0, 0, 0, 0, 0, 0, 0, 0, 0, 0, 0, 0, 1]</td>\n",
              "      <td>[0, 1, 0, 0]</td>\n",
              "      <td>[1, 0, 0, 0]</td>\n",
              "      <td>[1, 0]</td>\n",
              "      <td>[1, 0]</td>\n",
              "      <td>[0, 1, 0]</td>\n",
              "      <td>[0, 1, 0, 0, 0]</td>\n",
              "      <td>[0, 0, 1, 0]</td>\n",
              "      <td>[0, 1]</td>\n",
              "      <td>[1, 0]</td>\n",
              "      <td>[1, 0]</td>\n",
              "      <td>[1, 0, 0, 0]</td>\n",
              "      <td>[1, 0, 0, 0, 0, 0, 0, 0, 0]</td>\n",
              "    </tr>\n",
              "    <tr>\n",
              "      <th>2</th>\n",
              "      <td>[1, 0]</td>\n",
              "      <td>[0, 1, 0]</td>\n",
              "      <td>[1, 0, 0]</td>\n",
              "      <td>[0, 1]</td>\n",
              "      <td>[0, 1]</td>\n",
              "      <td>[0, 0, 0, 0, 0, 0, 0, 0, 0, 0, 0, 0, 0, 0, 0, 1]</td>\n",
              "      <td>[0, 1, 0, 0]</td>\n",
              "      <td>[1, 0, 0, 0]</td>\n",
              "      <td>[1, 0]</td>\n",
              "      <td>[1, 0]</td>\n",
              "      <td>[0, 1, 0]</td>\n",
              "      <td>[0, 0, 0, 1, 0]</td>\n",
              "      <td>[0, 0, 1, 0]</td>\n",
              "      <td>[0, 1]</td>\n",
              "      <td>[1, 0]</td>\n",
              "      <td>[1, 0]</td>\n",
              "      <td>[1, 0, 0, 0]</td>\n",
              "      <td>[1, 0, 0, 0, 0, 0, 0, 0, 0]</td>\n",
              "    </tr>\n",
              "  </tbody>\n",
              "</table>\n",
              "</div>\n",
              "    <div class=\"colab-df-buttons\">\n",
              "\n",
              "  <div class=\"colab-df-container\">\n",
              "    <button class=\"colab-df-convert\" onclick=\"convertToInteractive('df-b35aae95-e305-47cf-89a2-7c1a73c663b1')\"\n",
              "            title=\"Convert this dataframe to an interactive table.\"\n",
              "            style=\"display:none;\">\n",
              "\n",
              "  <svg xmlns=\"http://www.w3.org/2000/svg\" height=\"24px\" viewBox=\"0 -960 960 960\">\n",
              "    <path d=\"M120-120v-720h720v720H120Zm60-500h600v-160H180v160Zm220 220h160v-160H400v160Zm0 220h160v-160H400v160ZM180-400h160v-160H180v160Zm440 0h160v-160H620v160ZM180-180h160v-160H180v160Zm440 0h160v-160H620v160Z\"/>\n",
              "  </svg>\n",
              "    </button>\n",
              "\n",
              "  <style>\n",
              "    .colab-df-container {\n",
              "      display:flex;\n",
              "      gap: 12px;\n",
              "    }\n",
              "\n",
              "    .colab-df-convert {\n",
              "      background-color: #E8F0FE;\n",
              "      border: none;\n",
              "      border-radius: 50%;\n",
              "      cursor: pointer;\n",
              "      display: none;\n",
              "      fill: #1967D2;\n",
              "      height: 32px;\n",
              "      padding: 0 0 0 0;\n",
              "      width: 32px;\n",
              "    }\n",
              "\n",
              "    .colab-df-convert:hover {\n",
              "      background-color: #E2EBFA;\n",
              "      box-shadow: 0px 1px 2px rgba(60, 64, 67, 0.3), 0px 1px 3px 1px rgba(60, 64, 67, 0.15);\n",
              "      fill: #174EA6;\n",
              "    }\n",
              "\n",
              "    .colab-df-buttons div {\n",
              "      margin-bottom: 4px;\n",
              "    }\n",
              "\n",
              "    [theme=dark] .colab-df-convert {\n",
              "      background-color: #3B4455;\n",
              "      fill: #D2E3FC;\n",
              "    }\n",
              "\n",
              "    [theme=dark] .colab-df-convert:hover {\n",
              "      background-color: #434B5C;\n",
              "      box-shadow: 0px 1px 3px 1px rgba(0, 0, 0, 0.15);\n",
              "      filter: drop-shadow(0px 1px 2px rgba(0, 0, 0, 0.3));\n",
              "      fill: #FFFFFF;\n",
              "    }\n",
              "  </style>\n",
              "\n",
              "    <script>\n",
              "      const buttonEl =\n",
              "        document.querySelector('#df-b35aae95-e305-47cf-89a2-7c1a73c663b1 button.colab-df-convert');\n",
              "      buttonEl.style.display =\n",
              "        google.colab.kernel.accessAllowed ? 'block' : 'none';\n",
              "\n",
              "      async function convertToInteractive(key) {\n",
              "        const element = document.querySelector('#df-b35aae95-e305-47cf-89a2-7c1a73c663b1');\n",
              "        const dataTable =\n",
              "          await google.colab.kernel.invokeFunction('convertToInteractive',\n",
              "                                                    [key], {});\n",
              "        if (!dataTable) return;\n",
              "\n",
              "        const docLinkHtml = 'Like what you see? Visit the ' +\n",
              "          '<a target=\"_blank\" href=https://colab.research.google.com/notebooks/data_table.ipynb>data table notebook</a>'\n",
              "          + ' to learn more about interactive tables.';\n",
              "        element.innerHTML = '';\n",
              "        dataTable['output_type'] = 'display_data';\n",
              "        await google.colab.output.renderOutput(dataTable, element);\n",
              "        const docLink = document.createElement('div');\n",
              "        docLink.innerHTML = docLinkHtml;\n",
              "        element.appendChild(docLink);\n",
              "      }\n",
              "    </script>\n",
              "  </div>\n",
              "\n",
              "\n",
              "<div id=\"df-33c696e7-8669-418b-adc6-5950e988a3e4\">\n",
              "  <button class=\"colab-df-quickchart\" onclick=\"quickchart('df-33c696e7-8669-418b-adc6-5950e988a3e4')\"\n",
              "            title=\"Suggest charts\"\n",
              "            style=\"display:none;\">\n",
              "\n",
              "<svg xmlns=\"http://www.w3.org/2000/svg\" height=\"24px\"viewBox=\"0 0 24 24\"\n",
              "     width=\"24px\">\n",
              "    <g>\n",
              "        <path d=\"M19 3H5c-1.1 0-2 .9-2 2v14c0 1.1.9 2 2 2h14c1.1 0 2-.9 2-2V5c0-1.1-.9-2-2-2zM9 17H7v-7h2v7zm4 0h-2V7h2v10zm4 0h-2v-4h2v4z\"/>\n",
              "    </g>\n",
              "</svg>\n",
              "  </button>\n",
              "\n",
              "<style>\n",
              "  .colab-df-quickchart {\n",
              "      --bg-color: #E8F0FE;\n",
              "      --fill-color: #1967D2;\n",
              "      --hover-bg-color: #E2EBFA;\n",
              "      --hover-fill-color: #174EA6;\n",
              "      --disabled-fill-color: #AAA;\n",
              "      --disabled-bg-color: #DDD;\n",
              "  }\n",
              "\n",
              "  [theme=dark] .colab-df-quickchart {\n",
              "      --bg-color: #3B4455;\n",
              "      --fill-color: #D2E3FC;\n",
              "      --hover-bg-color: #434B5C;\n",
              "      --hover-fill-color: #FFFFFF;\n",
              "      --disabled-bg-color: #3B4455;\n",
              "      --disabled-fill-color: #666;\n",
              "  }\n",
              "\n",
              "  .colab-df-quickchart {\n",
              "    background-color: var(--bg-color);\n",
              "    border: none;\n",
              "    border-radius: 50%;\n",
              "    cursor: pointer;\n",
              "    display: none;\n",
              "    fill: var(--fill-color);\n",
              "    height: 32px;\n",
              "    padding: 0;\n",
              "    width: 32px;\n",
              "  }\n",
              "\n",
              "  .colab-df-quickchart:hover {\n",
              "    background-color: var(--hover-bg-color);\n",
              "    box-shadow: 0 1px 2px rgba(60, 64, 67, 0.3), 0 1px 3px 1px rgba(60, 64, 67, 0.15);\n",
              "    fill: var(--button-hover-fill-color);\n",
              "  }\n",
              "\n",
              "  .colab-df-quickchart-complete:disabled,\n",
              "  .colab-df-quickchart-complete:disabled:hover {\n",
              "    background-color: var(--disabled-bg-color);\n",
              "    fill: var(--disabled-fill-color);\n",
              "    box-shadow: none;\n",
              "  }\n",
              "\n",
              "  .colab-df-spinner {\n",
              "    border: 2px solid var(--fill-color);\n",
              "    border-color: transparent;\n",
              "    border-bottom-color: var(--fill-color);\n",
              "    animation:\n",
              "      spin 1s steps(1) infinite;\n",
              "  }\n",
              "\n",
              "  @keyframes spin {\n",
              "    0% {\n",
              "      border-color: transparent;\n",
              "      border-bottom-color: var(--fill-color);\n",
              "      border-left-color: var(--fill-color);\n",
              "    }\n",
              "    20% {\n",
              "      border-color: transparent;\n",
              "      border-left-color: var(--fill-color);\n",
              "      border-top-color: var(--fill-color);\n",
              "    }\n",
              "    30% {\n",
              "      border-color: transparent;\n",
              "      border-left-color: var(--fill-color);\n",
              "      border-top-color: var(--fill-color);\n",
              "      border-right-color: var(--fill-color);\n",
              "    }\n",
              "    40% {\n",
              "      border-color: transparent;\n",
              "      border-right-color: var(--fill-color);\n",
              "      border-top-color: var(--fill-color);\n",
              "    }\n",
              "    60% {\n",
              "      border-color: transparent;\n",
              "      border-right-color: var(--fill-color);\n",
              "    }\n",
              "    80% {\n",
              "      border-color: transparent;\n",
              "      border-right-color: var(--fill-color);\n",
              "      border-bottom-color: var(--fill-color);\n",
              "    }\n",
              "    90% {\n",
              "      border-color: transparent;\n",
              "      border-bottom-color: var(--fill-color);\n",
              "    }\n",
              "  }\n",
              "</style>\n",
              "\n",
              "  <script>\n",
              "    async function quickchart(key) {\n",
              "      const quickchartButtonEl =\n",
              "        document.querySelector('#' + key + ' button');\n",
              "      quickchartButtonEl.disabled = true;  // To prevent multiple clicks.\n",
              "      quickchartButtonEl.classList.add('colab-df-spinner');\n",
              "      try {\n",
              "        const charts = await google.colab.kernel.invokeFunction(\n",
              "            'suggestCharts', [key], {});\n",
              "      } catch (error) {\n",
              "        console.error('Error during call to suggestCharts:', error);\n",
              "      }\n",
              "      quickchartButtonEl.classList.remove('colab-df-spinner');\n",
              "      quickchartButtonEl.classList.add('colab-df-quickchart-complete');\n",
              "    }\n",
              "    (() => {\n",
              "      let quickchartButtonEl =\n",
              "        document.querySelector('#df-33c696e7-8669-418b-adc6-5950e988a3e4 button');\n",
              "      quickchartButtonEl.style.display =\n",
              "        google.colab.kernel.accessAllowed ? 'block' : 'none';\n",
              "    })();\n",
              "  </script>\n",
              "</div>\n",
              "    </div>\n",
              "  </div>\n"
            ]
          },
          "metadata": {},
          "execution_count": 20
        }
      ]
    },
    {
      "cell_type": "markdown",
      "source": [
        "### x_df"
      ],
      "metadata": {
        "id": "QZ9lgYm_vJbw"
      }
    },
    {
      "cell_type": "markdown",
      "source": [
        "Возьмем первых 10-ть столбцов df для создания x_train"
      ],
      "metadata": {
        "id": "yZ9SfnITKVMn"
      }
    },
    {
      "cell_type": "code",
      "source": [
        "x_df = BIN_Den[BIN_Den.columns[0:10]] # берем первых 10 столбцов ()\n",
        "print('Размерность df для формирования x_train', x_df.shape)\n",
        "x_df"
      ],
      "metadata": {
        "colab": {
          "base_uri": "https://localhost:8080/",
          "height": 441
        },
        "id": "elkExbimPt6B",
        "outputId": "bf73ce1c-fbb2-4389-b1ca-fd8231c9c1f5"
      },
      "execution_count": null,
      "outputs": [
        {
          "output_type": "stream",
          "name": "stdout",
          "text": [
            "Размерность df для формирования x_train (147456, 10)\n"
          ]
        },
        {
          "output_type": "execute_result",
          "data": {
            "text/plain": [
              "        stadia gistologia       ecog     age  gender  \\\n",
              "0       [1, 0]  [0, 0, 1]  [1, 0, 0]  [0, 1]  [0, 1]   \n",
              "1       [0, 1]  [0, 0, 1]  [1, 0, 0]  [0, 1]  [0, 1]   \n",
              "2       [1, 0]  [0, 1, 0]  [1, 0, 0]  [0, 1]  [0, 1]   \n",
              "3       [0, 1]  [0, 1, 0]  [1, 0, 0]  [0, 1]  [0, 1]   \n",
              "4       [1, 0]  [1, 0, 0]  [1, 0, 0]  [0, 1]  [0, 1]   \n",
              "...        ...        ...        ...     ...     ...   \n",
              "147451  [0, 1]  [0, 0, 1]  [0, 1, 0]  [1, 0]  [1, 0]   \n",
              "147452  [1, 0]  [0, 1, 0]  [0, 1, 0]  [1, 0]  [1, 0]   \n",
              "147453  [0, 1]  [0, 1, 0]  [0, 1, 0]  [1, 0]  [1, 0]   \n",
              "147454  [1, 0]  [1, 0, 0]  [0, 1, 0]  [1, 0]  [1, 0]   \n",
              "147455  [0, 1]  [1, 0, 0]  [0, 1, 0]  [1, 0]  [1, 0]   \n",
              "\n",
              "                                                     ms*            pd  \\\n",
              "0       [0, 0, 0, 0, 0, 0, 0, 0, 0, 0, 0, 0, 0, 0, 0, 1]  [0, 1, 0, 0]   \n",
              "1       [0, 0, 0, 0, 0, 0, 0, 0, 0, 0, 0, 0, 0, 0, 0, 1]  [0, 1, 0, 0]   \n",
              "2       [0, 0, 0, 0, 0, 0, 0, 0, 0, 0, 0, 0, 0, 0, 0, 1]  [0, 1, 0, 0]   \n",
              "3       [0, 0, 0, 0, 0, 0, 0, 0, 0, 0, 0, 0, 0, 0, 0, 1]  [0, 1, 0, 0]   \n",
              "4       [0, 0, 0, 0, 0, 0, 0, 0, 0, 0, 0, 0, 0, 0, 0, 1]  [0, 1, 0, 0]   \n",
              "...                                                  ...           ...   \n",
              "147451  [0, 0, 0, 0, 0, 0, 0, 0, 0, 0, 0, 1, 0, 0, 0, 0]  [0, 0, 1, 0]   \n",
              "147452  [0, 0, 0, 0, 0, 0, 0, 0, 0, 0, 0, 1, 0, 0, 0, 0]  [0, 0, 1, 0]   \n",
              "147453  [0, 0, 0, 0, 0, 0, 0, 0, 0, 0, 0, 1, 0, 0, 0, 0]  [0, 0, 1, 0]   \n",
              "147454  [0, 0, 0, 0, 0, 0, 0, 0, 0, 0, 0, 1, 0, 0, 0, 0]  [0, 0, 1, 0]   \n",
              "147455  [0, 0, 0, 0, 0, 0, 0, 0, 0, 0, 0, 1, 0, 0, 0, 0]  [0, 0, 1, 0]   \n",
              "\n",
              "               smoke   no_LT expectation  \n",
              "0       [1, 0, 0, 0]  [1, 0]      [1, 0]  \n",
              "1       [1, 0, 0, 0]  [1, 0]      [1, 0]  \n",
              "2       [1, 0, 0, 0]  [1, 0]      [1, 0]  \n",
              "3       [1, 0, 0, 0]  [1, 0]      [1, 0]  \n",
              "4       [1, 0, 0, 0]  [1, 0]      [1, 0]  \n",
              "...              ...     ...         ...  \n",
              "147451  [0, 0, 0, 1]  [0, 1]      [0, 1]  \n",
              "147452  [0, 0, 0, 1]  [0, 1]      [0, 1]  \n",
              "147453  [0, 0, 0, 1]  [0, 1]      [0, 1]  \n",
              "147454  [0, 0, 0, 1]  [0, 1]      [0, 1]  \n",
              "147455  [0, 0, 0, 1]  [0, 1]      [0, 1]  \n",
              "\n",
              "[147456 rows x 10 columns]"
            ],
            "text/html": [
              "\n",
              "  <div id=\"df-0b07e976-0512-40b2-9f9e-17878422e542\" class=\"colab-df-container\">\n",
              "    <div>\n",
              "<style scoped>\n",
              "    .dataframe tbody tr th:only-of-type {\n",
              "        vertical-align: middle;\n",
              "    }\n",
              "\n",
              "    .dataframe tbody tr th {\n",
              "        vertical-align: top;\n",
              "    }\n",
              "\n",
              "    .dataframe thead th {\n",
              "        text-align: right;\n",
              "    }\n",
              "</style>\n",
              "<table border=\"1\" class=\"dataframe\">\n",
              "  <thead>\n",
              "    <tr style=\"text-align: right;\">\n",
              "      <th></th>\n",
              "      <th>stadia</th>\n",
              "      <th>gistologia</th>\n",
              "      <th>ecog</th>\n",
              "      <th>age</th>\n",
              "      <th>gender</th>\n",
              "      <th>ms*</th>\n",
              "      <th>pd</th>\n",
              "      <th>smoke</th>\n",
              "      <th>no_LT</th>\n",
              "      <th>expectation</th>\n",
              "    </tr>\n",
              "  </thead>\n",
              "  <tbody>\n",
              "    <tr>\n",
              "      <th>0</th>\n",
              "      <td>[1, 0]</td>\n",
              "      <td>[0, 0, 1]</td>\n",
              "      <td>[1, 0, 0]</td>\n",
              "      <td>[0, 1]</td>\n",
              "      <td>[0, 1]</td>\n",
              "      <td>[0, 0, 0, 0, 0, 0, 0, 0, 0, 0, 0, 0, 0, 0, 0, 1]</td>\n",
              "      <td>[0, 1, 0, 0]</td>\n",
              "      <td>[1, 0, 0, 0]</td>\n",
              "      <td>[1, 0]</td>\n",
              "      <td>[1, 0]</td>\n",
              "    </tr>\n",
              "    <tr>\n",
              "      <th>1</th>\n",
              "      <td>[0, 1]</td>\n",
              "      <td>[0, 0, 1]</td>\n",
              "      <td>[1, 0, 0]</td>\n",
              "      <td>[0, 1]</td>\n",
              "      <td>[0, 1]</td>\n",
              "      <td>[0, 0, 0, 0, 0, 0, 0, 0, 0, 0, 0, 0, 0, 0, 0, 1]</td>\n",
              "      <td>[0, 1, 0, 0]</td>\n",
              "      <td>[1, 0, 0, 0]</td>\n",
              "      <td>[1, 0]</td>\n",
              "      <td>[1, 0]</td>\n",
              "    </tr>\n",
              "    <tr>\n",
              "      <th>2</th>\n",
              "      <td>[1, 0]</td>\n",
              "      <td>[0, 1, 0]</td>\n",
              "      <td>[1, 0, 0]</td>\n",
              "      <td>[0, 1]</td>\n",
              "      <td>[0, 1]</td>\n",
              "      <td>[0, 0, 0, 0, 0, 0, 0, 0, 0, 0, 0, 0, 0, 0, 0, 1]</td>\n",
              "      <td>[0, 1, 0, 0]</td>\n",
              "      <td>[1, 0, 0, 0]</td>\n",
              "      <td>[1, 0]</td>\n",
              "      <td>[1, 0]</td>\n",
              "    </tr>\n",
              "    <tr>\n",
              "      <th>3</th>\n",
              "      <td>[0, 1]</td>\n",
              "      <td>[0, 1, 0]</td>\n",
              "      <td>[1, 0, 0]</td>\n",
              "      <td>[0, 1]</td>\n",
              "      <td>[0, 1]</td>\n",
              "      <td>[0, 0, 0, 0, 0, 0, 0, 0, 0, 0, 0, 0, 0, 0, 0, 1]</td>\n",
              "      <td>[0, 1, 0, 0]</td>\n",
              "      <td>[1, 0, 0, 0]</td>\n",
              "      <td>[1, 0]</td>\n",
              "      <td>[1, 0]</td>\n",
              "    </tr>\n",
              "    <tr>\n",
              "      <th>4</th>\n",
              "      <td>[1, 0]</td>\n",
              "      <td>[1, 0, 0]</td>\n",
              "      <td>[1, 0, 0]</td>\n",
              "      <td>[0, 1]</td>\n",
              "      <td>[0, 1]</td>\n",
              "      <td>[0, 0, 0, 0, 0, 0, 0, 0, 0, 0, 0, 0, 0, 0, 0, 1]</td>\n",
              "      <td>[0, 1, 0, 0]</td>\n",
              "      <td>[1, 0, 0, 0]</td>\n",
              "      <td>[1, 0]</td>\n",
              "      <td>[1, 0]</td>\n",
              "    </tr>\n",
              "    <tr>\n",
              "      <th>...</th>\n",
              "      <td>...</td>\n",
              "      <td>...</td>\n",
              "      <td>...</td>\n",
              "      <td>...</td>\n",
              "      <td>...</td>\n",
              "      <td>...</td>\n",
              "      <td>...</td>\n",
              "      <td>...</td>\n",
              "      <td>...</td>\n",
              "      <td>...</td>\n",
              "    </tr>\n",
              "    <tr>\n",
              "      <th>147451</th>\n",
              "      <td>[0, 1]</td>\n",
              "      <td>[0, 0, 1]</td>\n",
              "      <td>[0, 1, 0]</td>\n",
              "      <td>[1, 0]</td>\n",
              "      <td>[1, 0]</td>\n",
              "      <td>[0, 0, 0, 0, 0, 0, 0, 0, 0, 0, 0, 1, 0, 0, 0, 0]</td>\n",
              "      <td>[0, 0, 1, 0]</td>\n",
              "      <td>[0, 0, 0, 1]</td>\n",
              "      <td>[0, 1]</td>\n",
              "      <td>[0, 1]</td>\n",
              "    </tr>\n",
              "    <tr>\n",
              "      <th>147452</th>\n",
              "      <td>[1, 0]</td>\n",
              "      <td>[0, 1, 0]</td>\n",
              "      <td>[0, 1, 0]</td>\n",
              "      <td>[1, 0]</td>\n",
              "      <td>[1, 0]</td>\n",
              "      <td>[0, 0, 0, 0, 0, 0, 0, 0, 0, 0, 0, 1, 0, 0, 0, 0]</td>\n",
              "      <td>[0, 0, 1, 0]</td>\n",
              "      <td>[0, 0, 0, 1]</td>\n",
              "      <td>[0, 1]</td>\n",
              "      <td>[0, 1]</td>\n",
              "    </tr>\n",
              "    <tr>\n",
              "      <th>147453</th>\n",
              "      <td>[0, 1]</td>\n",
              "      <td>[0, 1, 0]</td>\n",
              "      <td>[0, 1, 0]</td>\n",
              "      <td>[1, 0]</td>\n",
              "      <td>[1, 0]</td>\n",
              "      <td>[0, 0, 0, 0, 0, 0, 0, 0, 0, 0, 0, 1, 0, 0, 0, 0]</td>\n",
              "      <td>[0, 0, 1, 0]</td>\n",
              "      <td>[0, 0, 0, 1]</td>\n",
              "      <td>[0, 1]</td>\n",
              "      <td>[0, 1]</td>\n",
              "    </tr>\n",
              "    <tr>\n",
              "      <th>147454</th>\n",
              "      <td>[1, 0]</td>\n",
              "      <td>[1, 0, 0]</td>\n",
              "      <td>[0, 1, 0]</td>\n",
              "      <td>[1, 0]</td>\n",
              "      <td>[1, 0]</td>\n",
              "      <td>[0, 0, 0, 0, 0, 0, 0, 0, 0, 0, 0, 1, 0, 0, 0, 0]</td>\n",
              "      <td>[0, 0, 1, 0]</td>\n",
              "      <td>[0, 0, 0, 1]</td>\n",
              "      <td>[0, 1]</td>\n",
              "      <td>[0, 1]</td>\n",
              "    </tr>\n",
              "    <tr>\n",
              "      <th>147455</th>\n",
              "      <td>[0, 1]</td>\n",
              "      <td>[1, 0, 0]</td>\n",
              "      <td>[0, 1, 0]</td>\n",
              "      <td>[1, 0]</td>\n",
              "      <td>[1, 0]</td>\n",
              "      <td>[0, 0, 0, 0, 0, 0, 0, 0, 0, 0, 0, 1, 0, 0, 0, 0]</td>\n",
              "      <td>[0, 0, 1, 0]</td>\n",
              "      <td>[0, 0, 0, 1]</td>\n",
              "      <td>[0, 1]</td>\n",
              "      <td>[0, 1]</td>\n",
              "    </tr>\n",
              "  </tbody>\n",
              "</table>\n",
              "<p>147456 rows × 10 columns</p>\n",
              "</div>\n",
              "    <div class=\"colab-df-buttons\">\n",
              "\n",
              "  <div class=\"colab-df-container\">\n",
              "    <button class=\"colab-df-convert\" onclick=\"convertToInteractive('df-0b07e976-0512-40b2-9f9e-17878422e542')\"\n",
              "            title=\"Convert this dataframe to an interactive table.\"\n",
              "            style=\"display:none;\">\n",
              "\n",
              "  <svg xmlns=\"http://www.w3.org/2000/svg\" height=\"24px\" viewBox=\"0 -960 960 960\">\n",
              "    <path d=\"M120-120v-720h720v720H120Zm60-500h600v-160H180v160Zm220 220h160v-160H400v160Zm0 220h160v-160H400v160ZM180-400h160v-160H180v160Zm440 0h160v-160H620v160ZM180-180h160v-160H180v160Zm440 0h160v-160H620v160Z\"/>\n",
              "  </svg>\n",
              "    </button>\n",
              "\n",
              "  <style>\n",
              "    .colab-df-container {\n",
              "      display:flex;\n",
              "      gap: 12px;\n",
              "    }\n",
              "\n",
              "    .colab-df-convert {\n",
              "      background-color: #E8F0FE;\n",
              "      border: none;\n",
              "      border-radius: 50%;\n",
              "      cursor: pointer;\n",
              "      display: none;\n",
              "      fill: #1967D2;\n",
              "      height: 32px;\n",
              "      padding: 0 0 0 0;\n",
              "      width: 32px;\n",
              "    }\n",
              "\n",
              "    .colab-df-convert:hover {\n",
              "      background-color: #E2EBFA;\n",
              "      box-shadow: 0px 1px 2px rgba(60, 64, 67, 0.3), 0px 1px 3px 1px rgba(60, 64, 67, 0.15);\n",
              "      fill: #174EA6;\n",
              "    }\n",
              "\n",
              "    .colab-df-buttons div {\n",
              "      margin-bottom: 4px;\n",
              "    }\n",
              "\n",
              "    [theme=dark] .colab-df-convert {\n",
              "      background-color: #3B4455;\n",
              "      fill: #D2E3FC;\n",
              "    }\n",
              "\n",
              "    [theme=dark] .colab-df-convert:hover {\n",
              "      background-color: #434B5C;\n",
              "      box-shadow: 0px 1px 3px 1px rgba(0, 0, 0, 0.15);\n",
              "      filter: drop-shadow(0px 1px 2px rgba(0, 0, 0, 0.3));\n",
              "      fill: #FFFFFF;\n",
              "    }\n",
              "  </style>\n",
              "\n",
              "    <script>\n",
              "      const buttonEl =\n",
              "        document.querySelector('#df-0b07e976-0512-40b2-9f9e-17878422e542 button.colab-df-convert');\n",
              "      buttonEl.style.display =\n",
              "        google.colab.kernel.accessAllowed ? 'block' : 'none';\n",
              "\n",
              "      async function convertToInteractive(key) {\n",
              "        const element = document.querySelector('#df-0b07e976-0512-40b2-9f9e-17878422e542');\n",
              "        const dataTable =\n",
              "          await google.colab.kernel.invokeFunction('convertToInteractive',\n",
              "                                                    [key], {});\n",
              "        if (!dataTable) return;\n",
              "\n",
              "        const docLinkHtml = 'Like what you see? Visit the ' +\n",
              "          '<a target=\"_blank\" href=https://colab.research.google.com/notebooks/data_table.ipynb>data table notebook</a>'\n",
              "          + ' to learn more about interactive tables.';\n",
              "        element.innerHTML = '';\n",
              "        dataTable['output_type'] = 'display_data';\n",
              "        await google.colab.output.renderOutput(dataTable, element);\n",
              "        const docLink = document.createElement('div');\n",
              "        docLink.innerHTML = docLinkHtml;\n",
              "        element.appendChild(docLink);\n",
              "      }\n",
              "    </script>\n",
              "  </div>\n",
              "\n",
              "\n",
              "<div id=\"df-d7d9e1ff-b21d-4ddc-a1e1-d5cc58166477\">\n",
              "  <button class=\"colab-df-quickchart\" onclick=\"quickchart('df-d7d9e1ff-b21d-4ddc-a1e1-d5cc58166477')\"\n",
              "            title=\"Suggest charts\"\n",
              "            style=\"display:none;\">\n",
              "\n",
              "<svg xmlns=\"http://www.w3.org/2000/svg\" height=\"24px\"viewBox=\"0 0 24 24\"\n",
              "     width=\"24px\">\n",
              "    <g>\n",
              "        <path d=\"M19 3H5c-1.1 0-2 .9-2 2v14c0 1.1.9 2 2 2h14c1.1 0 2-.9 2-2V5c0-1.1-.9-2-2-2zM9 17H7v-7h2v7zm4 0h-2V7h2v10zm4 0h-2v-4h2v4z\"/>\n",
              "    </g>\n",
              "</svg>\n",
              "  </button>\n",
              "\n",
              "<style>\n",
              "  .colab-df-quickchart {\n",
              "      --bg-color: #E8F0FE;\n",
              "      --fill-color: #1967D2;\n",
              "      --hover-bg-color: #E2EBFA;\n",
              "      --hover-fill-color: #174EA6;\n",
              "      --disabled-fill-color: #AAA;\n",
              "      --disabled-bg-color: #DDD;\n",
              "  }\n",
              "\n",
              "  [theme=dark] .colab-df-quickchart {\n",
              "      --bg-color: #3B4455;\n",
              "      --fill-color: #D2E3FC;\n",
              "      --hover-bg-color: #434B5C;\n",
              "      --hover-fill-color: #FFFFFF;\n",
              "      --disabled-bg-color: #3B4455;\n",
              "      --disabled-fill-color: #666;\n",
              "  }\n",
              "\n",
              "  .colab-df-quickchart {\n",
              "    background-color: var(--bg-color);\n",
              "    border: none;\n",
              "    border-radius: 50%;\n",
              "    cursor: pointer;\n",
              "    display: none;\n",
              "    fill: var(--fill-color);\n",
              "    height: 32px;\n",
              "    padding: 0;\n",
              "    width: 32px;\n",
              "  }\n",
              "\n",
              "  .colab-df-quickchart:hover {\n",
              "    background-color: var(--hover-bg-color);\n",
              "    box-shadow: 0 1px 2px rgba(60, 64, 67, 0.3), 0 1px 3px 1px rgba(60, 64, 67, 0.15);\n",
              "    fill: var(--button-hover-fill-color);\n",
              "  }\n",
              "\n",
              "  .colab-df-quickchart-complete:disabled,\n",
              "  .colab-df-quickchart-complete:disabled:hover {\n",
              "    background-color: var(--disabled-bg-color);\n",
              "    fill: var(--disabled-fill-color);\n",
              "    box-shadow: none;\n",
              "  }\n",
              "\n",
              "  .colab-df-spinner {\n",
              "    border: 2px solid var(--fill-color);\n",
              "    border-color: transparent;\n",
              "    border-bottom-color: var(--fill-color);\n",
              "    animation:\n",
              "      spin 1s steps(1) infinite;\n",
              "  }\n",
              "\n",
              "  @keyframes spin {\n",
              "    0% {\n",
              "      border-color: transparent;\n",
              "      border-bottom-color: var(--fill-color);\n",
              "      border-left-color: var(--fill-color);\n",
              "    }\n",
              "    20% {\n",
              "      border-color: transparent;\n",
              "      border-left-color: var(--fill-color);\n",
              "      border-top-color: var(--fill-color);\n",
              "    }\n",
              "    30% {\n",
              "      border-color: transparent;\n",
              "      border-left-color: var(--fill-color);\n",
              "      border-top-color: var(--fill-color);\n",
              "      border-right-color: var(--fill-color);\n",
              "    }\n",
              "    40% {\n",
              "      border-color: transparent;\n",
              "      border-right-color: var(--fill-color);\n",
              "      border-top-color: var(--fill-color);\n",
              "    }\n",
              "    60% {\n",
              "      border-color: transparent;\n",
              "      border-right-color: var(--fill-color);\n",
              "    }\n",
              "    80% {\n",
              "      border-color: transparent;\n",
              "      border-right-color: var(--fill-color);\n",
              "      border-bottom-color: var(--fill-color);\n",
              "    }\n",
              "    90% {\n",
              "      border-color: transparent;\n",
              "      border-bottom-color: var(--fill-color);\n",
              "    }\n",
              "  }\n",
              "</style>\n",
              "\n",
              "  <script>\n",
              "    async function quickchart(key) {\n",
              "      const quickchartButtonEl =\n",
              "        document.querySelector('#' + key + ' button');\n",
              "      quickchartButtonEl.disabled = true;  // To prevent multiple clicks.\n",
              "      quickchartButtonEl.classList.add('colab-df-spinner');\n",
              "      try {\n",
              "        const charts = await google.colab.kernel.invokeFunction(\n",
              "            'suggestCharts', [key], {});\n",
              "      } catch (error) {\n",
              "        console.error('Error during call to suggestCharts:', error);\n",
              "      }\n",
              "      quickchartButtonEl.classList.remove('colab-df-spinner');\n",
              "      quickchartButtonEl.classList.add('colab-df-quickchart-complete');\n",
              "    }\n",
              "    (() => {\n",
              "      let quickchartButtonEl =\n",
              "        document.querySelector('#df-d7d9e1ff-b21d-4ddc-a1e1-d5cc58166477 button');\n",
              "      quickchartButtonEl.style.display =\n",
              "        google.colab.kernel.accessAllowed ? 'block' : 'none';\n",
              "    })();\n",
              "  </script>\n",
              "</div>\n",
              "    </div>\n",
              "  </div>\n"
            ]
          },
          "metadata": {},
          "execution_count": 21
        }
      ]
    },
    {
      "cell_type": "code",
      "source": [
        "# Получим список столбцов\n",
        "x_list = x_df.columns.tolist()\n",
        "x_list"
      ],
      "metadata": {
        "colab": {
          "base_uri": "https://localhost:8080/"
        },
        "id": "qPiEaZat9MsY",
        "outputId": "bfbc7c25-6bb5-4293-fbc6-1476bd791205"
      },
      "execution_count": null,
      "outputs": [
        {
          "output_type": "execute_result",
          "data": {
            "text/plain": [
              "['stadia',\n",
              " 'gistologia',\n",
              " 'ecog',\n",
              " 'age',\n",
              " 'gender',\n",
              " 'ms*',\n",
              " 'pd',\n",
              " 'smoke',\n",
              " 'no_LT',\n",
              " 'expectation']"
            ]
          },
          "metadata": {},
          "execution_count": 22
        }
      ]
    },
    {
      "cell_type": "code",
      "source": [
        "# Создадим заготовку для записи в него единого вектора \"x\". Это будет df из одного столбца с количеством строк как у исходного x_df\n",
        "vektor_x = x_df.iloc[:,[0]]            # копия \"0\"-го столбца x_df\n",
        "print(type(vektor_x))\n",
        "vektor_x.rename(columns={'stadia':'vektor'}, inplace=True)  # переименуем столбец\n",
        "print(vektor_x.shape)\n",
        "vektor_x"
      ],
      "metadata": {
        "colab": {
          "base_uri": "https://localhost:8080/",
          "height": 545
        },
        "id": "yx_q1DM69XXf",
        "outputId": "d307b0f2-5675-4b61-d89f-10b3389262f9"
      },
      "execution_count": null,
      "outputs": [
        {
          "output_type": "stream",
          "name": "stdout",
          "text": [
            "<class 'pandas.core.frame.DataFrame'>\n",
            "(147456, 1)\n"
          ]
        },
        {
          "output_type": "stream",
          "name": "stderr",
          "text": [
            "<ipython-input-23-ceb4bd335e1a>:4: SettingWithCopyWarning: \n",
            "A value is trying to be set on a copy of a slice from a DataFrame\n",
            "\n",
            "See the caveats in the documentation: https://pandas.pydata.org/pandas-docs/stable/user_guide/indexing.html#returning-a-view-versus-a-copy\n",
            "  vektor_x.rename(columns={'stadia':'vektor'}, inplace=True)  # переименуем столбец\n"
          ]
        },
        {
          "output_type": "execute_result",
          "data": {
            "text/plain": [
              "        vektor\n",
              "0       [1, 0]\n",
              "1       [0, 1]\n",
              "2       [1, 0]\n",
              "3       [0, 1]\n",
              "4       [1, 0]\n",
              "...        ...\n",
              "147451  [0, 1]\n",
              "147452  [1, 0]\n",
              "147453  [0, 1]\n",
              "147454  [1, 0]\n",
              "147455  [0, 1]\n",
              "\n",
              "[147456 rows x 1 columns]"
            ],
            "text/html": [
              "\n",
              "  <div id=\"df-c45f6495-c769-4664-9f55-2a1461fb77a7\" class=\"colab-df-container\">\n",
              "    <div>\n",
              "<style scoped>\n",
              "    .dataframe tbody tr th:only-of-type {\n",
              "        vertical-align: middle;\n",
              "    }\n",
              "\n",
              "    .dataframe tbody tr th {\n",
              "        vertical-align: top;\n",
              "    }\n",
              "\n",
              "    .dataframe thead th {\n",
              "        text-align: right;\n",
              "    }\n",
              "</style>\n",
              "<table border=\"1\" class=\"dataframe\">\n",
              "  <thead>\n",
              "    <tr style=\"text-align: right;\">\n",
              "      <th></th>\n",
              "      <th>vektor</th>\n",
              "    </tr>\n",
              "  </thead>\n",
              "  <tbody>\n",
              "    <tr>\n",
              "      <th>0</th>\n",
              "      <td>[1, 0]</td>\n",
              "    </tr>\n",
              "    <tr>\n",
              "      <th>1</th>\n",
              "      <td>[0, 1]</td>\n",
              "    </tr>\n",
              "    <tr>\n",
              "      <th>2</th>\n",
              "      <td>[1, 0]</td>\n",
              "    </tr>\n",
              "    <tr>\n",
              "      <th>3</th>\n",
              "      <td>[0, 1]</td>\n",
              "    </tr>\n",
              "    <tr>\n",
              "      <th>4</th>\n",
              "      <td>[1, 0]</td>\n",
              "    </tr>\n",
              "    <tr>\n",
              "      <th>...</th>\n",
              "      <td>...</td>\n",
              "    </tr>\n",
              "    <tr>\n",
              "      <th>147451</th>\n",
              "      <td>[0, 1]</td>\n",
              "    </tr>\n",
              "    <tr>\n",
              "      <th>147452</th>\n",
              "      <td>[1, 0]</td>\n",
              "    </tr>\n",
              "    <tr>\n",
              "      <th>147453</th>\n",
              "      <td>[0, 1]</td>\n",
              "    </tr>\n",
              "    <tr>\n",
              "      <th>147454</th>\n",
              "      <td>[1, 0]</td>\n",
              "    </tr>\n",
              "    <tr>\n",
              "      <th>147455</th>\n",
              "      <td>[0, 1]</td>\n",
              "    </tr>\n",
              "  </tbody>\n",
              "</table>\n",
              "<p>147456 rows × 1 columns</p>\n",
              "</div>\n",
              "    <div class=\"colab-df-buttons\">\n",
              "\n",
              "  <div class=\"colab-df-container\">\n",
              "    <button class=\"colab-df-convert\" onclick=\"convertToInteractive('df-c45f6495-c769-4664-9f55-2a1461fb77a7')\"\n",
              "            title=\"Convert this dataframe to an interactive table.\"\n",
              "            style=\"display:none;\">\n",
              "\n",
              "  <svg xmlns=\"http://www.w3.org/2000/svg\" height=\"24px\" viewBox=\"0 -960 960 960\">\n",
              "    <path d=\"M120-120v-720h720v720H120Zm60-500h600v-160H180v160Zm220 220h160v-160H400v160Zm0 220h160v-160H400v160ZM180-400h160v-160H180v160Zm440 0h160v-160H620v160ZM180-180h160v-160H180v160Zm440 0h160v-160H620v160Z\"/>\n",
              "  </svg>\n",
              "    </button>\n",
              "\n",
              "  <style>\n",
              "    .colab-df-container {\n",
              "      display:flex;\n",
              "      gap: 12px;\n",
              "    }\n",
              "\n",
              "    .colab-df-convert {\n",
              "      background-color: #E8F0FE;\n",
              "      border: none;\n",
              "      border-radius: 50%;\n",
              "      cursor: pointer;\n",
              "      display: none;\n",
              "      fill: #1967D2;\n",
              "      height: 32px;\n",
              "      padding: 0 0 0 0;\n",
              "      width: 32px;\n",
              "    }\n",
              "\n",
              "    .colab-df-convert:hover {\n",
              "      background-color: #E2EBFA;\n",
              "      box-shadow: 0px 1px 2px rgba(60, 64, 67, 0.3), 0px 1px 3px 1px rgba(60, 64, 67, 0.15);\n",
              "      fill: #174EA6;\n",
              "    }\n",
              "\n",
              "    .colab-df-buttons div {\n",
              "      margin-bottom: 4px;\n",
              "    }\n",
              "\n",
              "    [theme=dark] .colab-df-convert {\n",
              "      background-color: #3B4455;\n",
              "      fill: #D2E3FC;\n",
              "    }\n",
              "\n",
              "    [theme=dark] .colab-df-convert:hover {\n",
              "      background-color: #434B5C;\n",
              "      box-shadow: 0px 1px 3px 1px rgba(0, 0, 0, 0.15);\n",
              "      filter: drop-shadow(0px 1px 2px rgba(0, 0, 0, 0.3));\n",
              "      fill: #FFFFFF;\n",
              "    }\n",
              "  </style>\n",
              "\n",
              "    <script>\n",
              "      const buttonEl =\n",
              "        document.querySelector('#df-c45f6495-c769-4664-9f55-2a1461fb77a7 button.colab-df-convert');\n",
              "      buttonEl.style.display =\n",
              "        google.colab.kernel.accessAllowed ? 'block' : 'none';\n",
              "\n",
              "      async function convertToInteractive(key) {\n",
              "        const element = document.querySelector('#df-c45f6495-c769-4664-9f55-2a1461fb77a7');\n",
              "        const dataTable =\n",
              "          await google.colab.kernel.invokeFunction('convertToInteractive',\n",
              "                                                    [key], {});\n",
              "        if (!dataTable) return;\n",
              "\n",
              "        const docLinkHtml = 'Like what you see? Visit the ' +\n",
              "          '<a target=\"_blank\" href=https://colab.research.google.com/notebooks/data_table.ipynb>data table notebook</a>'\n",
              "          + ' to learn more about interactive tables.';\n",
              "        element.innerHTML = '';\n",
              "        dataTable['output_type'] = 'display_data';\n",
              "        await google.colab.output.renderOutput(dataTable, element);\n",
              "        const docLink = document.createElement('div');\n",
              "        docLink.innerHTML = docLinkHtml;\n",
              "        element.appendChild(docLink);\n",
              "      }\n",
              "    </script>\n",
              "  </div>\n",
              "\n",
              "\n",
              "<div id=\"df-e5995ab8-3b0e-4f00-96b8-ba55dab4c83c\">\n",
              "  <button class=\"colab-df-quickchart\" onclick=\"quickchart('df-e5995ab8-3b0e-4f00-96b8-ba55dab4c83c')\"\n",
              "            title=\"Suggest charts\"\n",
              "            style=\"display:none;\">\n",
              "\n",
              "<svg xmlns=\"http://www.w3.org/2000/svg\" height=\"24px\"viewBox=\"0 0 24 24\"\n",
              "     width=\"24px\">\n",
              "    <g>\n",
              "        <path d=\"M19 3H5c-1.1 0-2 .9-2 2v14c0 1.1.9 2 2 2h14c1.1 0 2-.9 2-2V5c0-1.1-.9-2-2-2zM9 17H7v-7h2v7zm4 0h-2V7h2v10zm4 0h-2v-4h2v4z\"/>\n",
              "    </g>\n",
              "</svg>\n",
              "  </button>\n",
              "\n",
              "<style>\n",
              "  .colab-df-quickchart {\n",
              "      --bg-color: #E8F0FE;\n",
              "      --fill-color: #1967D2;\n",
              "      --hover-bg-color: #E2EBFA;\n",
              "      --hover-fill-color: #174EA6;\n",
              "      --disabled-fill-color: #AAA;\n",
              "      --disabled-bg-color: #DDD;\n",
              "  }\n",
              "\n",
              "  [theme=dark] .colab-df-quickchart {\n",
              "      --bg-color: #3B4455;\n",
              "      --fill-color: #D2E3FC;\n",
              "      --hover-bg-color: #434B5C;\n",
              "      --hover-fill-color: #FFFFFF;\n",
              "      --disabled-bg-color: #3B4455;\n",
              "      --disabled-fill-color: #666;\n",
              "  }\n",
              "\n",
              "  .colab-df-quickchart {\n",
              "    background-color: var(--bg-color);\n",
              "    border: none;\n",
              "    border-radius: 50%;\n",
              "    cursor: pointer;\n",
              "    display: none;\n",
              "    fill: var(--fill-color);\n",
              "    height: 32px;\n",
              "    padding: 0;\n",
              "    width: 32px;\n",
              "  }\n",
              "\n",
              "  .colab-df-quickchart:hover {\n",
              "    background-color: var(--hover-bg-color);\n",
              "    box-shadow: 0 1px 2px rgba(60, 64, 67, 0.3), 0 1px 3px 1px rgba(60, 64, 67, 0.15);\n",
              "    fill: var(--button-hover-fill-color);\n",
              "  }\n",
              "\n",
              "  .colab-df-quickchart-complete:disabled,\n",
              "  .colab-df-quickchart-complete:disabled:hover {\n",
              "    background-color: var(--disabled-bg-color);\n",
              "    fill: var(--disabled-fill-color);\n",
              "    box-shadow: none;\n",
              "  }\n",
              "\n",
              "  .colab-df-spinner {\n",
              "    border: 2px solid var(--fill-color);\n",
              "    border-color: transparent;\n",
              "    border-bottom-color: var(--fill-color);\n",
              "    animation:\n",
              "      spin 1s steps(1) infinite;\n",
              "  }\n",
              "\n",
              "  @keyframes spin {\n",
              "    0% {\n",
              "      border-color: transparent;\n",
              "      border-bottom-color: var(--fill-color);\n",
              "      border-left-color: var(--fill-color);\n",
              "    }\n",
              "    20% {\n",
              "      border-color: transparent;\n",
              "      border-left-color: var(--fill-color);\n",
              "      border-top-color: var(--fill-color);\n",
              "    }\n",
              "    30% {\n",
              "      border-color: transparent;\n",
              "      border-left-color: var(--fill-color);\n",
              "      border-top-color: var(--fill-color);\n",
              "      border-right-color: var(--fill-color);\n",
              "    }\n",
              "    40% {\n",
              "      border-color: transparent;\n",
              "      border-right-color: var(--fill-color);\n",
              "      border-top-color: var(--fill-color);\n",
              "    }\n",
              "    60% {\n",
              "      border-color: transparent;\n",
              "      border-right-color: var(--fill-color);\n",
              "    }\n",
              "    80% {\n",
              "      border-color: transparent;\n",
              "      border-right-color: var(--fill-color);\n",
              "      border-bottom-color: var(--fill-color);\n",
              "    }\n",
              "    90% {\n",
              "      border-color: transparent;\n",
              "      border-bottom-color: var(--fill-color);\n",
              "    }\n",
              "  }\n",
              "</style>\n",
              "\n",
              "  <script>\n",
              "    async function quickchart(key) {\n",
              "      const quickchartButtonEl =\n",
              "        document.querySelector('#' + key + ' button');\n",
              "      quickchartButtonEl.disabled = true;  // To prevent multiple clicks.\n",
              "      quickchartButtonEl.classList.add('colab-df-spinner');\n",
              "      try {\n",
              "        const charts = await google.colab.kernel.invokeFunction(\n",
              "            'suggestCharts', [key], {});\n",
              "      } catch (error) {\n",
              "        console.error('Error during call to suggestCharts:', error);\n",
              "      }\n",
              "      quickchartButtonEl.classList.remove('colab-df-spinner');\n",
              "      quickchartButtonEl.classList.add('colab-df-quickchart-complete');\n",
              "    }\n",
              "    (() => {\n",
              "      let quickchartButtonEl =\n",
              "        document.querySelector('#df-e5995ab8-3b0e-4f00-96b8-ba55dab4c83c button');\n",
              "      quickchartButtonEl.style.display =\n",
              "        google.colab.kernel.accessAllowed ? 'block' : 'none';\n",
              "    })();\n",
              "  </script>\n",
              "</div>\n",
              "    </div>\n",
              "  </div>\n"
            ]
          },
          "metadata": {},
          "execution_count": 23
        }
      ]
    },
    {
      "cell_type": "markdown",
      "source": [
        "#### Объединим все столбцы x_df в единый вектор"
      ],
      "metadata": {
        "id": "iRG2tS1HI6mJ"
      }
    },
    {
      "cell_type": "code",
      "source": [
        "print('Информация о исходном df')\n",
        "print('Строк-', vektor_x.shape[0])\n",
        "print('Столбцов-', len(x_list))\n",
        "\n",
        "for i in range(x_df.shape[0]):          # Цикл движения по строкам df\n",
        "  b = ''                                # Пустая строка для формирования \"x\" вектора\n",
        "  for sir in range(len(x_list)):        # Цикл движения по столбцам df (при заданной строке)\n",
        "    a = x_df.at[i, x_list[sir]]         # Читаем содержимое ячейки с координатами i-строка sir-столбец\n",
        "    #print('a', a, type(a))\n",
        "    aa = ''.join(map(str, a))\n",
        "    #print('aa', aa, type(aa))\n",
        "    b = b + aa                           # Добавляем к строке значение из очередного столбца пока не пройдем по всем\n",
        "    #\n",
        "  c = np.array(list(b), dtype=int)      # Полученую после прохождения всех столбцов в одной строке переменную (тип'str')\n",
        "                                        # переводим в список(list), изменяем тип переменной. Список переводим в np.массив\n",
        "  vektor_x.at[i,'vektor'] = c           # Массив \"с\" записываем в очередную ячейку df vektor_x\n",
        "\n",
        "print('Длина получившегося вектора -', len(b))\n",
        "print('Формирование объединенных векторов по всем строкам df завершено')\n",
        "print('Размерность получившегося df:', vektor_x.shape)"
      ],
      "metadata": {
        "colab": {
          "base_uri": "https://localhost:8080/"
        },
        "id": "YOInN1yE9l__",
        "outputId": "f1cfbda8-a312-415f-ee75-b94dc344002f"
      },
      "execution_count": null,
      "outputs": [
        {
          "output_type": "stream",
          "name": "stdout",
          "text": [
            "Информация о исходном df\n",
            "Строк- 147456\n",
            "Столбцов- 10\n",
            "Длина получившегося вектора - 40\n",
            "Формирование объединенных векторов по всем строкам df завершено\n",
            "Размерность получившегося df: (147456, 1)\n"
          ]
        }
      ]
    },
    {
      "cell_type": "markdown",
      "source": [
        "Смотрим что получилось"
      ],
      "metadata": {
        "id": "byLwC_y8Prde"
      }
    },
    {
      "cell_type": "code",
      "source": [
        "vektor_x.head()"
      ],
      "metadata": {
        "colab": {
          "base_uri": "https://localhost:8080/",
          "height": 206
        },
        "outputId": "39c1f2bd-c566-4c59-c815-d0af2e29f6c2",
        "id": "hyc3ZDMi_BUf"
      },
      "execution_count": null,
      "outputs": [
        {
          "output_type": "execute_result",
          "data": {
            "text/plain": [
              "                                              vektor\n",
              "0  [1, 0, 0, 0, 1, 1, 0, 0, 0, 1, 0, 1, 0, 0, 0, ...\n",
              "1  [0, 1, 0, 0, 1, 1, 0, 0, 0, 1, 0, 1, 0, 0, 0, ...\n",
              "2  [1, 0, 0, 1, 0, 1, 0, 0, 0, 1, 0, 1, 0, 0, 0, ...\n",
              "3  [0, 1, 0, 1, 0, 1, 0, 0, 0, 1, 0, 1, 0, 0, 0, ...\n",
              "4  [1, 0, 1, 0, 0, 1, 0, 0, 0, 1, 0, 1, 0, 0, 0, ..."
            ],
            "text/html": [
              "\n",
              "  <div id=\"df-d10adf19-1663-4ae5-a66e-4665a8843d8c\" class=\"colab-df-container\">\n",
              "    <div>\n",
              "<style scoped>\n",
              "    .dataframe tbody tr th:only-of-type {\n",
              "        vertical-align: middle;\n",
              "    }\n",
              "\n",
              "    .dataframe tbody tr th {\n",
              "        vertical-align: top;\n",
              "    }\n",
              "\n",
              "    .dataframe thead th {\n",
              "        text-align: right;\n",
              "    }\n",
              "</style>\n",
              "<table border=\"1\" class=\"dataframe\">\n",
              "  <thead>\n",
              "    <tr style=\"text-align: right;\">\n",
              "      <th></th>\n",
              "      <th>vektor</th>\n",
              "    </tr>\n",
              "  </thead>\n",
              "  <tbody>\n",
              "    <tr>\n",
              "      <th>0</th>\n",
              "      <td>[1, 0, 0, 0, 1, 1, 0, 0, 0, 1, 0, 1, 0, 0, 0, ...</td>\n",
              "    </tr>\n",
              "    <tr>\n",
              "      <th>1</th>\n",
              "      <td>[0, 1, 0, 0, 1, 1, 0, 0, 0, 1, 0, 1, 0, 0, 0, ...</td>\n",
              "    </tr>\n",
              "    <tr>\n",
              "      <th>2</th>\n",
              "      <td>[1, 0, 0, 1, 0, 1, 0, 0, 0, 1, 0, 1, 0, 0, 0, ...</td>\n",
              "    </tr>\n",
              "    <tr>\n",
              "      <th>3</th>\n",
              "      <td>[0, 1, 0, 1, 0, 1, 0, 0, 0, 1, 0, 1, 0, 0, 0, ...</td>\n",
              "    </tr>\n",
              "    <tr>\n",
              "      <th>4</th>\n",
              "      <td>[1, 0, 1, 0, 0, 1, 0, 0, 0, 1, 0, 1, 0, 0, 0, ...</td>\n",
              "    </tr>\n",
              "  </tbody>\n",
              "</table>\n",
              "</div>\n",
              "    <div class=\"colab-df-buttons\">\n",
              "\n",
              "  <div class=\"colab-df-container\">\n",
              "    <button class=\"colab-df-convert\" onclick=\"convertToInteractive('df-d10adf19-1663-4ae5-a66e-4665a8843d8c')\"\n",
              "            title=\"Convert this dataframe to an interactive table.\"\n",
              "            style=\"display:none;\">\n",
              "\n",
              "  <svg xmlns=\"http://www.w3.org/2000/svg\" height=\"24px\" viewBox=\"0 -960 960 960\">\n",
              "    <path d=\"M120-120v-720h720v720H120Zm60-500h600v-160H180v160Zm220 220h160v-160H400v160Zm0 220h160v-160H400v160ZM180-400h160v-160H180v160Zm440 0h160v-160H620v160ZM180-180h160v-160H180v160Zm440 0h160v-160H620v160Z\"/>\n",
              "  </svg>\n",
              "    </button>\n",
              "\n",
              "  <style>\n",
              "    .colab-df-container {\n",
              "      display:flex;\n",
              "      gap: 12px;\n",
              "    }\n",
              "\n",
              "    .colab-df-convert {\n",
              "      background-color: #E8F0FE;\n",
              "      border: none;\n",
              "      border-radius: 50%;\n",
              "      cursor: pointer;\n",
              "      display: none;\n",
              "      fill: #1967D2;\n",
              "      height: 32px;\n",
              "      padding: 0 0 0 0;\n",
              "      width: 32px;\n",
              "    }\n",
              "\n",
              "    .colab-df-convert:hover {\n",
              "      background-color: #E2EBFA;\n",
              "      box-shadow: 0px 1px 2px rgba(60, 64, 67, 0.3), 0px 1px 3px 1px rgba(60, 64, 67, 0.15);\n",
              "      fill: #174EA6;\n",
              "    }\n",
              "\n",
              "    .colab-df-buttons div {\n",
              "      margin-bottom: 4px;\n",
              "    }\n",
              "\n",
              "    [theme=dark] .colab-df-convert {\n",
              "      background-color: #3B4455;\n",
              "      fill: #D2E3FC;\n",
              "    }\n",
              "\n",
              "    [theme=dark] .colab-df-convert:hover {\n",
              "      background-color: #434B5C;\n",
              "      box-shadow: 0px 1px 3px 1px rgba(0, 0, 0, 0.15);\n",
              "      filter: drop-shadow(0px 1px 2px rgba(0, 0, 0, 0.3));\n",
              "      fill: #FFFFFF;\n",
              "    }\n",
              "  </style>\n",
              "\n",
              "    <script>\n",
              "      const buttonEl =\n",
              "        document.querySelector('#df-d10adf19-1663-4ae5-a66e-4665a8843d8c button.colab-df-convert');\n",
              "      buttonEl.style.display =\n",
              "        google.colab.kernel.accessAllowed ? 'block' : 'none';\n",
              "\n",
              "      async function convertToInteractive(key) {\n",
              "        const element = document.querySelector('#df-d10adf19-1663-4ae5-a66e-4665a8843d8c');\n",
              "        const dataTable =\n",
              "          await google.colab.kernel.invokeFunction('convertToInteractive',\n",
              "                                                    [key], {});\n",
              "        if (!dataTable) return;\n",
              "\n",
              "        const docLinkHtml = 'Like what you see? Visit the ' +\n",
              "          '<a target=\"_blank\" href=https://colab.research.google.com/notebooks/data_table.ipynb>data table notebook</a>'\n",
              "          + ' to learn more about interactive tables.';\n",
              "        element.innerHTML = '';\n",
              "        dataTable['output_type'] = 'display_data';\n",
              "        await google.colab.output.renderOutput(dataTable, element);\n",
              "        const docLink = document.createElement('div');\n",
              "        docLink.innerHTML = docLinkHtml;\n",
              "        element.appendChild(docLink);\n",
              "      }\n",
              "    </script>\n",
              "  </div>\n",
              "\n",
              "\n",
              "<div id=\"df-549cbdd8-21c1-4dbb-875f-7c636ea9490c\">\n",
              "  <button class=\"colab-df-quickchart\" onclick=\"quickchart('df-549cbdd8-21c1-4dbb-875f-7c636ea9490c')\"\n",
              "            title=\"Suggest charts\"\n",
              "            style=\"display:none;\">\n",
              "\n",
              "<svg xmlns=\"http://www.w3.org/2000/svg\" height=\"24px\"viewBox=\"0 0 24 24\"\n",
              "     width=\"24px\">\n",
              "    <g>\n",
              "        <path d=\"M19 3H5c-1.1 0-2 .9-2 2v14c0 1.1.9 2 2 2h14c1.1 0 2-.9 2-2V5c0-1.1-.9-2-2-2zM9 17H7v-7h2v7zm4 0h-2V7h2v10zm4 0h-2v-4h2v4z\"/>\n",
              "    </g>\n",
              "</svg>\n",
              "  </button>\n",
              "\n",
              "<style>\n",
              "  .colab-df-quickchart {\n",
              "      --bg-color: #E8F0FE;\n",
              "      --fill-color: #1967D2;\n",
              "      --hover-bg-color: #E2EBFA;\n",
              "      --hover-fill-color: #174EA6;\n",
              "      --disabled-fill-color: #AAA;\n",
              "      --disabled-bg-color: #DDD;\n",
              "  }\n",
              "\n",
              "  [theme=dark] .colab-df-quickchart {\n",
              "      --bg-color: #3B4455;\n",
              "      --fill-color: #D2E3FC;\n",
              "      --hover-bg-color: #434B5C;\n",
              "      --hover-fill-color: #FFFFFF;\n",
              "      --disabled-bg-color: #3B4455;\n",
              "      --disabled-fill-color: #666;\n",
              "  }\n",
              "\n",
              "  .colab-df-quickchart {\n",
              "    background-color: var(--bg-color);\n",
              "    border: none;\n",
              "    border-radius: 50%;\n",
              "    cursor: pointer;\n",
              "    display: none;\n",
              "    fill: var(--fill-color);\n",
              "    height: 32px;\n",
              "    padding: 0;\n",
              "    width: 32px;\n",
              "  }\n",
              "\n",
              "  .colab-df-quickchart:hover {\n",
              "    background-color: var(--hover-bg-color);\n",
              "    box-shadow: 0 1px 2px rgba(60, 64, 67, 0.3), 0 1px 3px 1px rgba(60, 64, 67, 0.15);\n",
              "    fill: var(--button-hover-fill-color);\n",
              "  }\n",
              "\n",
              "  .colab-df-quickchart-complete:disabled,\n",
              "  .colab-df-quickchart-complete:disabled:hover {\n",
              "    background-color: var(--disabled-bg-color);\n",
              "    fill: var(--disabled-fill-color);\n",
              "    box-shadow: none;\n",
              "  }\n",
              "\n",
              "  .colab-df-spinner {\n",
              "    border: 2px solid var(--fill-color);\n",
              "    border-color: transparent;\n",
              "    border-bottom-color: var(--fill-color);\n",
              "    animation:\n",
              "      spin 1s steps(1) infinite;\n",
              "  }\n",
              "\n",
              "  @keyframes spin {\n",
              "    0% {\n",
              "      border-color: transparent;\n",
              "      border-bottom-color: var(--fill-color);\n",
              "      border-left-color: var(--fill-color);\n",
              "    }\n",
              "    20% {\n",
              "      border-color: transparent;\n",
              "      border-left-color: var(--fill-color);\n",
              "      border-top-color: var(--fill-color);\n",
              "    }\n",
              "    30% {\n",
              "      border-color: transparent;\n",
              "      border-left-color: var(--fill-color);\n",
              "      border-top-color: var(--fill-color);\n",
              "      border-right-color: var(--fill-color);\n",
              "    }\n",
              "    40% {\n",
              "      border-color: transparent;\n",
              "      border-right-color: var(--fill-color);\n",
              "      border-top-color: var(--fill-color);\n",
              "    }\n",
              "    60% {\n",
              "      border-color: transparent;\n",
              "      border-right-color: var(--fill-color);\n",
              "    }\n",
              "    80% {\n",
              "      border-color: transparent;\n",
              "      border-right-color: var(--fill-color);\n",
              "      border-bottom-color: var(--fill-color);\n",
              "    }\n",
              "    90% {\n",
              "      border-color: transparent;\n",
              "      border-bottom-color: var(--fill-color);\n",
              "    }\n",
              "  }\n",
              "</style>\n",
              "\n",
              "  <script>\n",
              "    async function quickchart(key) {\n",
              "      const quickchartButtonEl =\n",
              "        document.querySelector('#' + key + ' button');\n",
              "      quickchartButtonEl.disabled = true;  // To prevent multiple clicks.\n",
              "      quickchartButtonEl.classList.add('colab-df-spinner');\n",
              "      try {\n",
              "        const charts = await google.colab.kernel.invokeFunction(\n",
              "            'suggestCharts', [key], {});\n",
              "      } catch (error) {\n",
              "        console.error('Error during call to suggestCharts:', error);\n",
              "      }\n",
              "      quickchartButtonEl.classList.remove('colab-df-spinner');\n",
              "      quickchartButtonEl.classList.add('colab-df-quickchart-complete');\n",
              "    }\n",
              "    (() => {\n",
              "      let quickchartButtonEl =\n",
              "        document.querySelector('#df-549cbdd8-21c1-4dbb-875f-7c636ea9490c button');\n",
              "      quickchartButtonEl.style.display =\n",
              "        google.colab.kernel.accessAllowed ? 'block' : 'none';\n",
              "    })();\n",
              "  </script>\n",
              "</div>\n",
              "    </div>\n",
              "  </div>\n"
            ]
          },
          "metadata": {},
          "execution_count": 25
        }
      ]
    },
    {
      "cell_type": "code",
      "source": [
        "t = vektor_x.at[3888, 'vektor']\n",
        "print('Тип переменной в ячейке df', type(t))\n",
        "print('Размерность переменной', t.shape)\n",
        "print('Содержимое переменной', t)"
      ],
      "metadata": {
        "colab": {
          "base_uri": "https://localhost:8080/"
        },
        "outputId": "65e1341c-a7d2-4c0e-ac2d-e74bd90ab44d",
        "id": "Zp00TDCk_BUh"
      },
      "execution_count": null,
      "outputs": [
        {
          "output_type": "stream",
          "name": "stdout",
          "text": [
            "Тип переменной в ячейке df <class 'numpy.ndarray'>\n",
            "Размерность переменной (40,)\n",
            "Содержимое переменной [1 0 0 0 1 1 0 0 0 1 0 1 0 0 0 0 0 0 0 1 0 0 0 0 0 0 0 0 0 1 0 0 0 0 0 1 1\n",
            " 0 1 0]\n"
          ]
        }
      ]
    },
    {
      "cell_type": "markdown",
      "source": [
        "####**Запишем созданный df_vektor_xlak на disk**"
      ],
      "metadata": {
        "id": "6NyorV7-_BUi"
      }
    },
    {
      "cell_type": "code",
      "source": [
        "vektor_x.to_pickle ('/content/drive/MyDrive/Stag_2/df_vektor_xden.pkl')  # запишем df_vektor_xlak на disk"
      ],
      "metadata": {
        "id": "wFIGgakQ_BUj"
      },
      "execution_count": null,
      "outputs": []
    },
    {
      "cell_type": "markdown",
      "source": [
        "### y_df"
      ],
      "metadata": {
        "id": "uRcX5CkL3mp-"
      }
    },
    {
      "cell_type": "markdown",
      "source": [
        "Возьмем столбцы df начиная с 10-го и до последнего для создания y_train"
      ],
      "metadata": {
        "id": "nDGGdXAZQxLE"
      }
    },
    {
      "cell_type": "code",
      "source": [
        "y_df = BIN_Den[BIN_Den.columns[10:]]   # берем с 10-го и до последнего столбца\n",
        "print('Размерность df для формирования y_train',y_df.shape)\n",
        "y_df"
      ],
      "metadata": {
        "colab": {
          "base_uri": "https://localhost:8080/",
          "height": 441
        },
        "outputId": "077097c7-3fbf-43a7-9f7f-90f803b16c18",
        "id": "WI52iMzv3aX4"
      },
      "execution_count": null,
      "outputs": [
        {
          "output_type": "stream",
          "name": "stdout",
          "text": [
            "Размерность df для формирования y_train (147456, 8)\n"
          ]
        },
        {
          "output_type": "execute_result",
          "data": {
            "text/plain": [
              "           expert       variant_XT        alt_XT sure100  sure75  sure50  \\\n",
              "0       [0, 1, 0]  [0, 0, 1, 0, 0]  [0, 0, 1, 0]  [0, 1]  [1, 0]  [1, 0]   \n",
              "1       [0, 1, 0]  [0, 1, 0, 0, 0]  [0, 0, 1, 0]  [0, 1]  [1, 0]  [1, 0]   \n",
              "2       [0, 1, 0]  [0, 0, 0, 1, 0]  [0, 0, 1, 0]  [0, 1]  [1, 0]  [1, 0]   \n",
              "3       [0, 1, 0]  [0, 0, 0, 1, 0]  [0, 0, 1, 0]  [0, 1]  [1, 0]  [1, 0]   \n",
              "4       [0, 1, 0]  [0, 0, 0, 0, 1]  [0, 0, 0, 1]  [0, 1]  [1, 0]  [1, 0]   \n",
              "...           ...              ...           ...     ...     ...     ...   \n",
              "147451  [1, 0, 0]  [1, 0, 0, 0, 0]  [1, 0, 0, 0]  [1, 0]  [1, 0]  [0, 1]   \n",
              "147452  [1, 0, 0]  [1, 0, 0, 0, 0]  [1, 0, 0, 0]  [1, 0]  [1, 0]  [0, 1]   \n",
              "147453  [1, 0, 0]  [1, 0, 0, 0, 0]  [1, 0, 0, 0]  [1, 0]  [1, 0]  [0, 1]   \n",
              "147454  [0, 0, 1]  [0, 0, 0, 0, 1]  [0, 0, 0, 1]  [1, 0]  [0, 1]  [1, 0]   \n",
              "147455  [0, 0, 1]  [0, 0, 0, 0, 1]  [0, 0, 0, 1]  [1, 0]  [0, 1]  [1, 0]   \n",
              "\n",
              "              alt_50                      comment  \n",
              "0       [1, 0, 0, 0]  [0, 0, 0, 0, 0, 0, 1, 0, 0]  \n",
              "1       [1, 0, 0, 0]  [1, 0, 0, 0, 0, 0, 0, 0, 0]  \n",
              "2       [1, 0, 0, 0]  [1, 0, 0, 0, 0, 0, 0, 0, 0]  \n",
              "3       [1, 0, 0, 0]  [1, 0, 0, 0, 0, 0, 0, 0, 0]  \n",
              "4       [1, 0, 0, 0]  [1, 0, 0, 0, 0, 0, 0, 0, 0]  \n",
              "...              ...                          ...  \n",
              "147451  [0, 1, 0, 0]  [0, 0, 0, 0, 0, 0, 0, 1, 0]  \n",
              "147452  [0, 1, 0, 0]  [0, 0, 0, 0, 0, 0, 0, 1, 0]  \n",
              "147453  [0, 1, 0, 0]  [0, 0, 0, 0, 0, 0, 0, 1, 0]  \n",
              "147454  [1, 0, 0, 0]  [1, 0, 0, 0, 0, 0, 0, 0, 0]  \n",
              "147455  [1, 0, 0, 0]  [1, 0, 0, 0, 0, 0, 0, 0, 0]  \n",
              "\n",
              "[147456 rows x 8 columns]"
            ],
            "text/html": [
              "\n",
              "  <div id=\"df-d8760d87-2683-493e-95e5-ebfa34b7a486\" class=\"colab-df-container\">\n",
              "    <div>\n",
              "<style scoped>\n",
              "    .dataframe tbody tr th:only-of-type {\n",
              "        vertical-align: middle;\n",
              "    }\n",
              "\n",
              "    .dataframe tbody tr th {\n",
              "        vertical-align: top;\n",
              "    }\n",
              "\n",
              "    .dataframe thead th {\n",
              "        text-align: right;\n",
              "    }\n",
              "</style>\n",
              "<table border=\"1\" class=\"dataframe\">\n",
              "  <thead>\n",
              "    <tr style=\"text-align: right;\">\n",
              "      <th></th>\n",
              "      <th>expert</th>\n",
              "      <th>variant_XT</th>\n",
              "      <th>alt_XT</th>\n",
              "      <th>sure100</th>\n",
              "      <th>sure75</th>\n",
              "      <th>sure50</th>\n",
              "      <th>alt_50</th>\n",
              "      <th>comment</th>\n",
              "    </tr>\n",
              "  </thead>\n",
              "  <tbody>\n",
              "    <tr>\n",
              "      <th>0</th>\n",
              "      <td>[0, 1, 0]</td>\n",
              "      <td>[0, 0, 1, 0, 0]</td>\n",
              "      <td>[0, 0, 1, 0]</td>\n",
              "      <td>[0, 1]</td>\n",
              "      <td>[1, 0]</td>\n",
              "      <td>[1, 0]</td>\n",
              "      <td>[1, 0, 0, 0]</td>\n",
              "      <td>[0, 0, 0, 0, 0, 0, 1, 0, 0]</td>\n",
              "    </tr>\n",
              "    <tr>\n",
              "      <th>1</th>\n",
              "      <td>[0, 1, 0]</td>\n",
              "      <td>[0, 1, 0, 0, 0]</td>\n",
              "      <td>[0, 0, 1, 0]</td>\n",
              "      <td>[0, 1]</td>\n",
              "      <td>[1, 0]</td>\n",
              "      <td>[1, 0]</td>\n",
              "      <td>[1, 0, 0, 0]</td>\n",
              "      <td>[1, 0, 0, 0, 0, 0, 0, 0, 0]</td>\n",
              "    </tr>\n",
              "    <tr>\n",
              "      <th>2</th>\n",
              "      <td>[0, 1, 0]</td>\n",
              "      <td>[0, 0, 0, 1, 0]</td>\n",
              "      <td>[0, 0, 1, 0]</td>\n",
              "      <td>[0, 1]</td>\n",
              "      <td>[1, 0]</td>\n",
              "      <td>[1, 0]</td>\n",
              "      <td>[1, 0, 0, 0]</td>\n",
              "      <td>[1, 0, 0, 0, 0, 0, 0, 0, 0]</td>\n",
              "    </tr>\n",
              "    <tr>\n",
              "      <th>3</th>\n",
              "      <td>[0, 1, 0]</td>\n",
              "      <td>[0, 0, 0, 1, 0]</td>\n",
              "      <td>[0, 0, 1, 0]</td>\n",
              "      <td>[0, 1]</td>\n",
              "      <td>[1, 0]</td>\n",
              "      <td>[1, 0]</td>\n",
              "      <td>[1, 0, 0, 0]</td>\n",
              "      <td>[1, 0, 0, 0, 0, 0, 0, 0, 0]</td>\n",
              "    </tr>\n",
              "    <tr>\n",
              "      <th>4</th>\n",
              "      <td>[0, 1, 0]</td>\n",
              "      <td>[0, 0, 0, 0, 1]</td>\n",
              "      <td>[0, 0, 0, 1]</td>\n",
              "      <td>[0, 1]</td>\n",
              "      <td>[1, 0]</td>\n",
              "      <td>[1, 0]</td>\n",
              "      <td>[1, 0, 0, 0]</td>\n",
              "      <td>[1, 0, 0, 0, 0, 0, 0, 0, 0]</td>\n",
              "    </tr>\n",
              "    <tr>\n",
              "      <th>...</th>\n",
              "      <td>...</td>\n",
              "      <td>...</td>\n",
              "      <td>...</td>\n",
              "      <td>...</td>\n",
              "      <td>...</td>\n",
              "      <td>...</td>\n",
              "      <td>...</td>\n",
              "      <td>...</td>\n",
              "    </tr>\n",
              "    <tr>\n",
              "      <th>147451</th>\n",
              "      <td>[1, 0, 0]</td>\n",
              "      <td>[1, 0, 0, 0, 0]</td>\n",
              "      <td>[1, 0, 0, 0]</td>\n",
              "      <td>[1, 0]</td>\n",
              "      <td>[1, 0]</td>\n",
              "      <td>[0, 1]</td>\n",
              "      <td>[0, 1, 0, 0]</td>\n",
              "      <td>[0, 0, 0, 0, 0, 0, 0, 1, 0]</td>\n",
              "    </tr>\n",
              "    <tr>\n",
              "      <th>147452</th>\n",
              "      <td>[1, 0, 0]</td>\n",
              "      <td>[1, 0, 0, 0, 0]</td>\n",
              "      <td>[1, 0, 0, 0]</td>\n",
              "      <td>[1, 0]</td>\n",
              "      <td>[1, 0]</td>\n",
              "      <td>[0, 1]</td>\n",
              "      <td>[0, 1, 0, 0]</td>\n",
              "      <td>[0, 0, 0, 0, 0, 0, 0, 1, 0]</td>\n",
              "    </tr>\n",
              "    <tr>\n",
              "      <th>147453</th>\n",
              "      <td>[1, 0, 0]</td>\n",
              "      <td>[1, 0, 0, 0, 0]</td>\n",
              "      <td>[1, 0, 0, 0]</td>\n",
              "      <td>[1, 0]</td>\n",
              "      <td>[1, 0]</td>\n",
              "      <td>[0, 1]</td>\n",
              "      <td>[0, 1, 0, 0]</td>\n",
              "      <td>[0, 0, 0, 0, 0, 0, 0, 1, 0]</td>\n",
              "    </tr>\n",
              "    <tr>\n",
              "      <th>147454</th>\n",
              "      <td>[0, 0, 1]</td>\n",
              "      <td>[0, 0, 0, 0, 1]</td>\n",
              "      <td>[0, 0, 0, 1]</td>\n",
              "      <td>[1, 0]</td>\n",
              "      <td>[0, 1]</td>\n",
              "      <td>[1, 0]</td>\n",
              "      <td>[1, 0, 0, 0]</td>\n",
              "      <td>[1, 0, 0, 0, 0, 0, 0, 0, 0]</td>\n",
              "    </tr>\n",
              "    <tr>\n",
              "      <th>147455</th>\n",
              "      <td>[0, 0, 1]</td>\n",
              "      <td>[0, 0, 0, 0, 1]</td>\n",
              "      <td>[0, 0, 0, 1]</td>\n",
              "      <td>[1, 0]</td>\n",
              "      <td>[0, 1]</td>\n",
              "      <td>[1, 0]</td>\n",
              "      <td>[1, 0, 0, 0]</td>\n",
              "      <td>[1, 0, 0, 0, 0, 0, 0, 0, 0]</td>\n",
              "    </tr>\n",
              "  </tbody>\n",
              "</table>\n",
              "<p>147456 rows × 8 columns</p>\n",
              "</div>\n",
              "    <div class=\"colab-df-buttons\">\n",
              "\n",
              "  <div class=\"colab-df-container\">\n",
              "    <button class=\"colab-df-convert\" onclick=\"convertToInteractive('df-d8760d87-2683-493e-95e5-ebfa34b7a486')\"\n",
              "            title=\"Convert this dataframe to an interactive table.\"\n",
              "            style=\"display:none;\">\n",
              "\n",
              "  <svg xmlns=\"http://www.w3.org/2000/svg\" height=\"24px\" viewBox=\"0 -960 960 960\">\n",
              "    <path d=\"M120-120v-720h720v720H120Zm60-500h600v-160H180v160Zm220 220h160v-160H400v160Zm0 220h160v-160H400v160ZM180-400h160v-160H180v160Zm440 0h160v-160H620v160ZM180-180h160v-160H180v160Zm440 0h160v-160H620v160Z\"/>\n",
              "  </svg>\n",
              "    </button>\n",
              "\n",
              "  <style>\n",
              "    .colab-df-container {\n",
              "      display:flex;\n",
              "      gap: 12px;\n",
              "    }\n",
              "\n",
              "    .colab-df-convert {\n",
              "      background-color: #E8F0FE;\n",
              "      border: none;\n",
              "      border-radius: 50%;\n",
              "      cursor: pointer;\n",
              "      display: none;\n",
              "      fill: #1967D2;\n",
              "      height: 32px;\n",
              "      padding: 0 0 0 0;\n",
              "      width: 32px;\n",
              "    }\n",
              "\n",
              "    .colab-df-convert:hover {\n",
              "      background-color: #E2EBFA;\n",
              "      box-shadow: 0px 1px 2px rgba(60, 64, 67, 0.3), 0px 1px 3px 1px rgba(60, 64, 67, 0.15);\n",
              "      fill: #174EA6;\n",
              "    }\n",
              "\n",
              "    .colab-df-buttons div {\n",
              "      margin-bottom: 4px;\n",
              "    }\n",
              "\n",
              "    [theme=dark] .colab-df-convert {\n",
              "      background-color: #3B4455;\n",
              "      fill: #D2E3FC;\n",
              "    }\n",
              "\n",
              "    [theme=dark] .colab-df-convert:hover {\n",
              "      background-color: #434B5C;\n",
              "      box-shadow: 0px 1px 3px 1px rgba(0, 0, 0, 0.15);\n",
              "      filter: drop-shadow(0px 1px 2px rgba(0, 0, 0, 0.3));\n",
              "      fill: #FFFFFF;\n",
              "    }\n",
              "  </style>\n",
              "\n",
              "    <script>\n",
              "      const buttonEl =\n",
              "        document.querySelector('#df-d8760d87-2683-493e-95e5-ebfa34b7a486 button.colab-df-convert');\n",
              "      buttonEl.style.display =\n",
              "        google.colab.kernel.accessAllowed ? 'block' : 'none';\n",
              "\n",
              "      async function convertToInteractive(key) {\n",
              "        const element = document.querySelector('#df-d8760d87-2683-493e-95e5-ebfa34b7a486');\n",
              "        const dataTable =\n",
              "          await google.colab.kernel.invokeFunction('convertToInteractive',\n",
              "                                                    [key], {});\n",
              "        if (!dataTable) return;\n",
              "\n",
              "        const docLinkHtml = 'Like what you see? Visit the ' +\n",
              "          '<a target=\"_blank\" href=https://colab.research.google.com/notebooks/data_table.ipynb>data table notebook</a>'\n",
              "          + ' to learn more about interactive tables.';\n",
              "        element.innerHTML = '';\n",
              "        dataTable['output_type'] = 'display_data';\n",
              "        await google.colab.output.renderOutput(dataTable, element);\n",
              "        const docLink = document.createElement('div');\n",
              "        docLink.innerHTML = docLinkHtml;\n",
              "        element.appendChild(docLink);\n",
              "      }\n",
              "    </script>\n",
              "  </div>\n",
              "\n",
              "\n",
              "<div id=\"df-0bcb763e-1693-4259-b349-bf12050cd963\">\n",
              "  <button class=\"colab-df-quickchart\" onclick=\"quickchart('df-0bcb763e-1693-4259-b349-bf12050cd963')\"\n",
              "            title=\"Suggest charts\"\n",
              "            style=\"display:none;\">\n",
              "\n",
              "<svg xmlns=\"http://www.w3.org/2000/svg\" height=\"24px\"viewBox=\"0 0 24 24\"\n",
              "     width=\"24px\">\n",
              "    <g>\n",
              "        <path d=\"M19 3H5c-1.1 0-2 .9-2 2v14c0 1.1.9 2 2 2h14c1.1 0 2-.9 2-2V5c0-1.1-.9-2-2-2zM9 17H7v-7h2v7zm4 0h-2V7h2v10zm4 0h-2v-4h2v4z\"/>\n",
              "    </g>\n",
              "</svg>\n",
              "  </button>\n",
              "\n",
              "<style>\n",
              "  .colab-df-quickchart {\n",
              "      --bg-color: #E8F0FE;\n",
              "      --fill-color: #1967D2;\n",
              "      --hover-bg-color: #E2EBFA;\n",
              "      --hover-fill-color: #174EA6;\n",
              "      --disabled-fill-color: #AAA;\n",
              "      --disabled-bg-color: #DDD;\n",
              "  }\n",
              "\n",
              "  [theme=dark] .colab-df-quickchart {\n",
              "      --bg-color: #3B4455;\n",
              "      --fill-color: #D2E3FC;\n",
              "      --hover-bg-color: #434B5C;\n",
              "      --hover-fill-color: #FFFFFF;\n",
              "      --disabled-bg-color: #3B4455;\n",
              "      --disabled-fill-color: #666;\n",
              "  }\n",
              "\n",
              "  .colab-df-quickchart {\n",
              "    background-color: var(--bg-color);\n",
              "    border: none;\n",
              "    border-radius: 50%;\n",
              "    cursor: pointer;\n",
              "    display: none;\n",
              "    fill: var(--fill-color);\n",
              "    height: 32px;\n",
              "    padding: 0;\n",
              "    width: 32px;\n",
              "  }\n",
              "\n",
              "  .colab-df-quickchart:hover {\n",
              "    background-color: var(--hover-bg-color);\n",
              "    box-shadow: 0 1px 2px rgba(60, 64, 67, 0.3), 0 1px 3px 1px rgba(60, 64, 67, 0.15);\n",
              "    fill: var(--button-hover-fill-color);\n",
              "  }\n",
              "\n",
              "  .colab-df-quickchart-complete:disabled,\n",
              "  .colab-df-quickchart-complete:disabled:hover {\n",
              "    background-color: var(--disabled-bg-color);\n",
              "    fill: var(--disabled-fill-color);\n",
              "    box-shadow: none;\n",
              "  }\n",
              "\n",
              "  .colab-df-spinner {\n",
              "    border: 2px solid var(--fill-color);\n",
              "    border-color: transparent;\n",
              "    border-bottom-color: var(--fill-color);\n",
              "    animation:\n",
              "      spin 1s steps(1) infinite;\n",
              "  }\n",
              "\n",
              "  @keyframes spin {\n",
              "    0% {\n",
              "      border-color: transparent;\n",
              "      border-bottom-color: var(--fill-color);\n",
              "      border-left-color: var(--fill-color);\n",
              "    }\n",
              "    20% {\n",
              "      border-color: transparent;\n",
              "      border-left-color: var(--fill-color);\n",
              "      border-top-color: var(--fill-color);\n",
              "    }\n",
              "    30% {\n",
              "      border-color: transparent;\n",
              "      border-left-color: var(--fill-color);\n",
              "      border-top-color: var(--fill-color);\n",
              "      border-right-color: var(--fill-color);\n",
              "    }\n",
              "    40% {\n",
              "      border-color: transparent;\n",
              "      border-right-color: var(--fill-color);\n",
              "      border-top-color: var(--fill-color);\n",
              "    }\n",
              "    60% {\n",
              "      border-color: transparent;\n",
              "      border-right-color: var(--fill-color);\n",
              "    }\n",
              "    80% {\n",
              "      border-color: transparent;\n",
              "      border-right-color: var(--fill-color);\n",
              "      border-bottom-color: var(--fill-color);\n",
              "    }\n",
              "    90% {\n",
              "      border-color: transparent;\n",
              "      border-bottom-color: var(--fill-color);\n",
              "    }\n",
              "  }\n",
              "</style>\n",
              "\n",
              "  <script>\n",
              "    async function quickchart(key) {\n",
              "      const quickchartButtonEl =\n",
              "        document.querySelector('#' + key + ' button');\n",
              "      quickchartButtonEl.disabled = true;  // To prevent multiple clicks.\n",
              "      quickchartButtonEl.classList.add('colab-df-spinner');\n",
              "      try {\n",
              "        const charts = await google.colab.kernel.invokeFunction(\n",
              "            'suggestCharts', [key], {});\n",
              "      } catch (error) {\n",
              "        console.error('Error during call to suggestCharts:', error);\n",
              "      }\n",
              "      quickchartButtonEl.classList.remove('colab-df-spinner');\n",
              "      quickchartButtonEl.classList.add('colab-df-quickchart-complete');\n",
              "    }\n",
              "    (() => {\n",
              "      let quickchartButtonEl =\n",
              "        document.querySelector('#df-0bcb763e-1693-4259-b349-bf12050cd963 button');\n",
              "      quickchartButtonEl.style.display =\n",
              "        google.colab.kernel.accessAllowed ? 'block' : 'none';\n",
              "    })();\n",
              "  </script>\n",
              "</div>\n",
              "    </div>\n",
              "  </div>\n"
            ]
          },
          "metadata": {},
          "execution_count": 28
        }
      ]
    },
    {
      "cell_type": "code",
      "source": [
        "# Получим список столбцов\n",
        "y_list = y_df.columns.tolist()\n",
        "y_list"
      ],
      "metadata": {
        "colab": {
          "base_uri": "https://localhost:8080/"
        },
        "outputId": "c56c11b6-456b-46f2-e716-e8eb4fa267c5",
        "id": "weLMsio13aX8"
      },
      "execution_count": null,
      "outputs": [
        {
          "output_type": "execute_result",
          "data": {
            "text/plain": [
              "['expert',\n",
              " 'variant_XT',\n",
              " 'alt_XT',\n",
              " 'sure100',\n",
              " 'sure75',\n",
              " 'sure50',\n",
              " 'alt_50',\n",
              " 'comment']"
            ]
          },
          "metadata": {},
          "execution_count": 29
        }
      ]
    },
    {
      "cell_type": "code",
      "source": [
        "# Создадим заготовку для записи в него единого вектора \"y\". Это будет df из одного столбца с количеством строк как у исходного y_df\n",
        "\n",
        "vektor_y = y_df.iloc[:,[0]]     # копия \"0\"-го столбца x_df\n",
        "print(type(vektor_y))\n",
        "vektor_y.rename (columns={'expert':'vektor_Y'}, inplace=True)  # Переименуем столбец\n",
        "print(vektor_y.shape)\n",
        "vektor_y"
      ],
      "metadata": {
        "colab": {
          "base_uri": "https://localhost:8080/",
          "height": 545
        },
        "outputId": "49c6a85b-44dc-4b5f-dcf7-2d9cda29aae1",
        "id": "aHTPMIF93aX-"
      },
      "execution_count": null,
      "outputs": [
        {
          "output_type": "stream",
          "name": "stdout",
          "text": [
            "<class 'pandas.core.frame.DataFrame'>\n",
            "(147456, 1)\n"
          ]
        },
        {
          "output_type": "stream",
          "name": "stderr",
          "text": [
            "<ipython-input-30-42dffcb839bb>:5: SettingWithCopyWarning: \n",
            "A value is trying to be set on a copy of a slice from a DataFrame\n",
            "\n",
            "See the caveats in the documentation: https://pandas.pydata.org/pandas-docs/stable/user_guide/indexing.html#returning-a-view-versus-a-copy\n",
            "  vektor_y.rename (columns={'expert':'vektor_Y'}, inplace=True)  # Переименуем столбец\n"
          ]
        },
        {
          "output_type": "execute_result",
          "data": {
            "text/plain": [
              "         vektor_Y\n",
              "0       [0, 1, 0]\n",
              "1       [0, 1, 0]\n",
              "2       [0, 1, 0]\n",
              "3       [0, 1, 0]\n",
              "4       [0, 1, 0]\n",
              "...           ...\n",
              "147451  [1, 0, 0]\n",
              "147452  [1, 0, 0]\n",
              "147453  [1, 0, 0]\n",
              "147454  [0, 0, 1]\n",
              "147455  [0, 0, 1]\n",
              "\n",
              "[147456 rows x 1 columns]"
            ],
            "text/html": [
              "\n",
              "  <div id=\"df-54a4a56e-96c8-4887-827d-9fdbcf61f4fc\" class=\"colab-df-container\">\n",
              "    <div>\n",
              "<style scoped>\n",
              "    .dataframe tbody tr th:only-of-type {\n",
              "        vertical-align: middle;\n",
              "    }\n",
              "\n",
              "    .dataframe tbody tr th {\n",
              "        vertical-align: top;\n",
              "    }\n",
              "\n",
              "    .dataframe thead th {\n",
              "        text-align: right;\n",
              "    }\n",
              "</style>\n",
              "<table border=\"1\" class=\"dataframe\">\n",
              "  <thead>\n",
              "    <tr style=\"text-align: right;\">\n",
              "      <th></th>\n",
              "      <th>vektor_Y</th>\n",
              "    </tr>\n",
              "  </thead>\n",
              "  <tbody>\n",
              "    <tr>\n",
              "      <th>0</th>\n",
              "      <td>[0, 1, 0]</td>\n",
              "    </tr>\n",
              "    <tr>\n",
              "      <th>1</th>\n",
              "      <td>[0, 1, 0]</td>\n",
              "    </tr>\n",
              "    <tr>\n",
              "      <th>2</th>\n",
              "      <td>[0, 1, 0]</td>\n",
              "    </tr>\n",
              "    <tr>\n",
              "      <th>3</th>\n",
              "      <td>[0, 1, 0]</td>\n",
              "    </tr>\n",
              "    <tr>\n",
              "      <th>4</th>\n",
              "      <td>[0, 1, 0]</td>\n",
              "    </tr>\n",
              "    <tr>\n",
              "      <th>...</th>\n",
              "      <td>...</td>\n",
              "    </tr>\n",
              "    <tr>\n",
              "      <th>147451</th>\n",
              "      <td>[1, 0, 0]</td>\n",
              "    </tr>\n",
              "    <tr>\n",
              "      <th>147452</th>\n",
              "      <td>[1, 0, 0]</td>\n",
              "    </tr>\n",
              "    <tr>\n",
              "      <th>147453</th>\n",
              "      <td>[1, 0, 0]</td>\n",
              "    </tr>\n",
              "    <tr>\n",
              "      <th>147454</th>\n",
              "      <td>[0, 0, 1]</td>\n",
              "    </tr>\n",
              "    <tr>\n",
              "      <th>147455</th>\n",
              "      <td>[0, 0, 1]</td>\n",
              "    </tr>\n",
              "  </tbody>\n",
              "</table>\n",
              "<p>147456 rows × 1 columns</p>\n",
              "</div>\n",
              "    <div class=\"colab-df-buttons\">\n",
              "\n",
              "  <div class=\"colab-df-container\">\n",
              "    <button class=\"colab-df-convert\" onclick=\"convertToInteractive('df-54a4a56e-96c8-4887-827d-9fdbcf61f4fc')\"\n",
              "            title=\"Convert this dataframe to an interactive table.\"\n",
              "            style=\"display:none;\">\n",
              "\n",
              "  <svg xmlns=\"http://www.w3.org/2000/svg\" height=\"24px\" viewBox=\"0 -960 960 960\">\n",
              "    <path d=\"M120-120v-720h720v720H120Zm60-500h600v-160H180v160Zm220 220h160v-160H400v160Zm0 220h160v-160H400v160ZM180-400h160v-160H180v160Zm440 0h160v-160H620v160ZM180-180h160v-160H180v160Zm440 0h160v-160H620v160Z\"/>\n",
              "  </svg>\n",
              "    </button>\n",
              "\n",
              "  <style>\n",
              "    .colab-df-container {\n",
              "      display:flex;\n",
              "      gap: 12px;\n",
              "    }\n",
              "\n",
              "    .colab-df-convert {\n",
              "      background-color: #E8F0FE;\n",
              "      border: none;\n",
              "      border-radius: 50%;\n",
              "      cursor: pointer;\n",
              "      display: none;\n",
              "      fill: #1967D2;\n",
              "      height: 32px;\n",
              "      padding: 0 0 0 0;\n",
              "      width: 32px;\n",
              "    }\n",
              "\n",
              "    .colab-df-convert:hover {\n",
              "      background-color: #E2EBFA;\n",
              "      box-shadow: 0px 1px 2px rgba(60, 64, 67, 0.3), 0px 1px 3px 1px rgba(60, 64, 67, 0.15);\n",
              "      fill: #174EA6;\n",
              "    }\n",
              "\n",
              "    .colab-df-buttons div {\n",
              "      margin-bottom: 4px;\n",
              "    }\n",
              "\n",
              "    [theme=dark] .colab-df-convert {\n",
              "      background-color: #3B4455;\n",
              "      fill: #D2E3FC;\n",
              "    }\n",
              "\n",
              "    [theme=dark] .colab-df-convert:hover {\n",
              "      background-color: #434B5C;\n",
              "      box-shadow: 0px 1px 3px 1px rgba(0, 0, 0, 0.15);\n",
              "      filter: drop-shadow(0px 1px 2px rgba(0, 0, 0, 0.3));\n",
              "      fill: #FFFFFF;\n",
              "    }\n",
              "  </style>\n",
              "\n",
              "    <script>\n",
              "      const buttonEl =\n",
              "        document.querySelector('#df-54a4a56e-96c8-4887-827d-9fdbcf61f4fc button.colab-df-convert');\n",
              "      buttonEl.style.display =\n",
              "        google.colab.kernel.accessAllowed ? 'block' : 'none';\n",
              "\n",
              "      async function convertToInteractive(key) {\n",
              "        const element = document.querySelector('#df-54a4a56e-96c8-4887-827d-9fdbcf61f4fc');\n",
              "        const dataTable =\n",
              "          await google.colab.kernel.invokeFunction('convertToInteractive',\n",
              "                                                    [key], {});\n",
              "        if (!dataTable) return;\n",
              "\n",
              "        const docLinkHtml = 'Like what you see? Visit the ' +\n",
              "          '<a target=\"_blank\" href=https://colab.research.google.com/notebooks/data_table.ipynb>data table notebook</a>'\n",
              "          + ' to learn more about interactive tables.';\n",
              "        element.innerHTML = '';\n",
              "        dataTable['output_type'] = 'display_data';\n",
              "        await google.colab.output.renderOutput(dataTable, element);\n",
              "        const docLink = document.createElement('div');\n",
              "        docLink.innerHTML = docLinkHtml;\n",
              "        element.appendChild(docLink);\n",
              "      }\n",
              "    </script>\n",
              "  </div>\n",
              "\n",
              "\n",
              "<div id=\"df-ff9cc93d-2400-4732-bd3f-2f1263b404b5\">\n",
              "  <button class=\"colab-df-quickchart\" onclick=\"quickchart('df-ff9cc93d-2400-4732-bd3f-2f1263b404b5')\"\n",
              "            title=\"Suggest charts\"\n",
              "            style=\"display:none;\">\n",
              "\n",
              "<svg xmlns=\"http://www.w3.org/2000/svg\" height=\"24px\"viewBox=\"0 0 24 24\"\n",
              "     width=\"24px\">\n",
              "    <g>\n",
              "        <path d=\"M19 3H5c-1.1 0-2 .9-2 2v14c0 1.1.9 2 2 2h14c1.1 0 2-.9 2-2V5c0-1.1-.9-2-2-2zM9 17H7v-7h2v7zm4 0h-2V7h2v10zm4 0h-2v-4h2v4z\"/>\n",
              "    </g>\n",
              "</svg>\n",
              "  </button>\n",
              "\n",
              "<style>\n",
              "  .colab-df-quickchart {\n",
              "      --bg-color: #E8F0FE;\n",
              "      --fill-color: #1967D2;\n",
              "      --hover-bg-color: #E2EBFA;\n",
              "      --hover-fill-color: #174EA6;\n",
              "      --disabled-fill-color: #AAA;\n",
              "      --disabled-bg-color: #DDD;\n",
              "  }\n",
              "\n",
              "  [theme=dark] .colab-df-quickchart {\n",
              "      --bg-color: #3B4455;\n",
              "      --fill-color: #D2E3FC;\n",
              "      --hover-bg-color: #434B5C;\n",
              "      --hover-fill-color: #FFFFFF;\n",
              "      --disabled-bg-color: #3B4455;\n",
              "      --disabled-fill-color: #666;\n",
              "  }\n",
              "\n",
              "  .colab-df-quickchart {\n",
              "    background-color: var(--bg-color);\n",
              "    border: none;\n",
              "    border-radius: 50%;\n",
              "    cursor: pointer;\n",
              "    display: none;\n",
              "    fill: var(--fill-color);\n",
              "    height: 32px;\n",
              "    padding: 0;\n",
              "    width: 32px;\n",
              "  }\n",
              "\n",
              "  .colab-df-quickchart:hover {\n",
              "    background-color: var(--hover-bg-color);\n",
              "    box-shadow: 0 1px 2px rgba(60, 64, 67, 0.3), 0 1px 3px 1px rgba(60, 64, 67, 0.15);\n",
              "    fill: var(--button-hover-fill-color);\n",
              "  }\n",
              "\n",
              "  .colab-df-quickchart-complete:disabled,\n",
              "  .colab-df-quickchart-complete:disabled:hover {\n",
              "    background-color: var(--disabled-bg-color);\n",
              "    fill: var(--disabled-fill-color);\n",
              "    box-shadow: none;\n",
              "  }\n",
              "\n",
              "  .colab-df-spinner {\n",
              "    border: 2px solid var(--fill-color);\n",
              "    border-color: transparent;\n",
              "    border-bottom-color: var(--fill-color);\n",
              "    animation:\n",
              "      spin 1s steps(1) infinite;\n",
              "  }\n",
              "\n",
              "  @keyframes spin {\n",
              "    0% {\n",
              "      border-color: transparent;\n",
              "      border-bottom-color: var(--fill-color);\n",
              "      border-left-color: var(--fill-color);\n",
              "    }\n",
              "    20% {\n",
              "      border-color: transparent;\n",
              "      border-left-color: var(--fill-color);\n",
              "      border-top-color: var(--fill-color);\n",
              "    }\n",
              "    30% {\n",
              "      border-color: transparent;\n",
              "      border-left-color: var(--fill-color);\n",
              "      border-top-color: var(--fill-color);\n",
              "      border-right-color: var(--fill-color);\n",
              "    }\n",
              "    40% {\n",
              "      border-color: transparent;\n",
              "      border-right-color: var(--fill-color);\n",
              "      border-top-color: var(--fill-color);\n",
              "    }\n",
              "    60% {\n",
              "      border-color: transparent;\n",
              "      border-right-color: var(--fill-color);\n",
              "    }\n",
              "    80% {\n",
              "      border-color: transparent;\n",
              "      border-right-color: var(--fill-color);\n",
              "      border-bottom-color: var(--fill-color);\n",
              "    }\n",
              "    90% {\n",
              "      border-color: transparent;\n",
              "      border-bottom-color: var(--fill-color);\n",
              "    }\n",
              "  }\n",
              "</style>\n",
              "\n",
              "  <script>\n",
              "    async function quickchart(key) {\n",
              "      const quickchartButtonEl =\n",
              "        document.querySelector('#' + key + ' button');\n",
              "      quickchartButtonEl.disabled = true;  // To prevent multiple clicks.\n",
              "      quickchartButtonEl.classList.add('colab-df-spinner');\n",
              "      try {\n",
              "        const charts = await google.colab.kernel.invokeFunction(\n",
              "            'suggestCharts', [key], {});\n",
              "      } catch (error) {\n",
              "        console.error('Error during call to suggestCharts:', error);\n",
              "      }\n",
              "      quickchartButtonEl.classList.remove('colab-df-spinner');\n",
              "      quickchartButtonEl.classList.add('colab-df-quickchart-complete');\n",
              "    }\n",
              "    (() => {\n",
              "      let quickchartButtonEl =\n",
              "        document.querySelector('#df-ff9cc93d-2400-4732-bd3f-2f1263b404b5 button');\n",
              "      quickchartButtonEl.style.display =\n",
              "        google.colab.kernel.accessAllowed ? 'block' : 'none';\n",
              "    })();\n",
              "  </script>\n",
              "</div>\n",
              "    </div>\n",
              "  </div>\n"
            ]
          },
          "metadata": {},
          "execution_count": 30
        }
      ]
    },
    {
      "cell_type": "markdown",
      "source": [
        "#### Объединим все столбцы y_df в единый вектор"
      ],
      "metadata": {
        "id": "6JLMfb_Z3aX_"
      }
    },
    {
      "cell_type": "code",
      "source": [
        "print('Информация о исходном df')\n",
        "print('Строк-', vektor_y.shape[0])\n",
        "print('Столбцов-', len(y_list))\n",
        "\n",
        "for i in range(y_df.shape[0]):          # Цикл движения по строкам df\n",
        "  b = ''                                # Пустая строка для формирования \"y\" вектора\n",
        "  for sir in range(len(y_list)):        # Цикл движения по столбцам df (при заданной строке)\n",
        "    a = y_df.at[i, y_list[sir]]         # Читаем содержимое ячейки с координатами i-строка sir-столбец\n",
        "    #print('a', a, type(a))\n",
        "    aa = ''.join(map(str, a))\n",
        "    #print('aa', aa, type(aa))\n",
        "    b = b + aa                           # Добавляем к строке значение из очередного столбца пока не пройдем по всем\n",
        "    #print('Длина вектора-', len(b))\n",
        "  c = np.array(list(b), dtype=int)      # Полученую после прохождения всех столбцов в одной строке переменную (тип'str')\n",
        "                                        # переводим в список(list), изменяем тип переменной. Список переводим в np.массив\n",
        "  vektor_y.at[i,'vektor_Y'] = c         # Массив \"с\" записываем в df vektor_y\n",
        "\n",
        "print('Длина получившегося вектора -', len(b))\n",
        "print('Формирование объединенных векторов по всем строкам df завершено')\n",
        "print('Тип получившегося df:', type(vektor_y))\n",
        "print('Размерность получившегося df:', vektor_y.shape)"
      ],
      "metadata": {
        "colab": {
          "base_uri": "https://localhost:8080/"
        },
        "outputId": "09c96394-d68b-4d07-9d9e-a214d2bcfd11",
        "id": "5Jb4V9X43aYB"
      },
      "execution_count": null,
      "outputs": [
        {
          "output_type": "stream",
          "name": "stdout",
          "text": [
            "Информация о исходном df\n",
            "Строк- 147456\n",
            "Столбцов- 8\n",
            "Длина получившегося вектора - 31\n",
            "Формирование объединенных векторов по всем строкам df завершено\n",
            "Тип получившегося df: <class 'pandas.core.frame.DataFrame'>\n",
            "Размерность получившегося df: (147456, 1)\n"
          ]
        }
      ]
    },
    {
      "cell_type": "markdown",
      "source": [
        "Смотрим что получилось"
      ],
      "metadata": {
        "id": "qRp-UVQoTTaA"
      }
    },
    {
      "cell_type": "code",
      "source": [
        "vektor_y.head()"
      ],
      "metadata": {
        "colab": {
          "base_uri": "https://localhost:8080/",
          "height": 206
        },
        "outputId": "58028b98-d9e6-4c08-b1c8-bd57cc8aef0b",
        "id": "_9W4xbmU3aYC"
      },
      "execution_count": null,
      "outputs": [
        {
          "output_type": "execute_result",
          "data": {
            "text/plain": [
              "                                            vektor_Y\n",
              "0  [0, 1, 0, 0, 0, 1, 0, 0, 0, 0, 1, 0, 0, 1, 1, ...\n",
              "1  [0, 1, 0, 0, 1, 0, 0, 0, 0, 0, 1, 0, 0, 1, 1, ...\n",
              "2  [0, 1, 0, 0, 0, 0, 1, 0, 0, 0, 1, 0, 0, 1, 1, ...\n",
              "3  [0, 1, 0, 0, 0, 0, 1, 0, 0, 0, 1, 0, 0, 1, 1, ...\n",
              "4  [0, 1, 0, 0, 0, 0, 0, 1, 0, 0, 0, 1, 0, 1, 1, ..."
            ],
            "text/html": [
              "\n",
              "  <div id=\"df-9f713dcc-f478-4cdb-9200-9daabe998802\" class=\"colab-df-container\">\n",
              "    <div>\n",
              "<style scoped>\n",
              "    .dataframe tbody tr th:only-of-type {\n",
              "        vertical-align: middle;\n",
              "    }\n",
              "\n",
              "    .dataframe tbody tr th {\n",
              "        vertical-align: top;\n",
              "    }\n",
              "\n",
              "    .dataframe thead th {\n",
              "        text-align: right;\n",
              "    }\n",
              "</style>\n",
              "<table border=\"1\" class=\"dataframe\">\n",
              "  <thead>\n",
              "    <tr style=\"text-align: right;\">\n",
              "      <th></th>\n",
              "      <th>vektor_Y</th>\n",
              "    </tr>\n",
              "  </thead>\n",
              "  <tbody>\n",
              "    <tr>\n",
              "      <th>0</th>\n",
              "      <td>[0, 1, 0, 0, 0, 1, 0, 0, 0, 0, 1, 0, 0, 1, 1, ...</td>\n",
              "    </tr>\n",
              "    <tr>\n",
              "      <th>1</th>\n",
              "      <td>[0, 1, 0, 0, 1, 0, 0, 0, 0, 0, 1, 0, 0, 1, 1, ...</td>\n",
              "    </tr>\n",
              "    <tr>\n",
              "      <th>2</th>\n",
              "      <td>[0, 1, 0, 0, 0, 0, 1, 0, 0, 0, 1, 0, 0, 1, 1, ...</td>\n",
              "    </tr>\n",
              "    <tr>\n",
              "      <th>3</th>\n",
              "      <td>[0, 1, 0, 0, 0, 0, 1, 0, 0, 0, 1, 0, 0, 1, 1, ...</td>\n",
              "    </tr>\n",
              "    <tr>\n",
              "      <th>4</th>\n",
              "      <td>[0, 1, 0, 0, 0, 0, 0, 1, 0, 0, 0, 1, 0, 1, 1, ...</td>\n",
              "    </tr>\n",
              "  </tbody>\n",
              "</table>\n",
              "</div>\n",
              "    <div class=\"colab-df-buttons\">\n",
              "\n",
              "  <div class=\"colab-df-container\">\n",
              "    <button class=\"colab-df-convert\" onclick=\"convertToInteractive('df-9f713dcc-f478-4cdb-9200-9daabe998802')\"\n",
              "            title=\"Convert this dataframe to an interactive table.\"\n",
              "            style=\"display:none;\">\n",
              "\n",
              "  <svg xmlns=\"http://www.w3.org/2000/svg\" height=\"24px\" viewBox=\"0 -960 960 960\">\n",
              "    <path d=\"M120-120v-720h720v720H120Zm60-500h600v-160H180v160Zm220 220h160v-160H400v160Zm0 220h160v-160H400v160ZM180-400h160v-160H180v160Zm440 0h160v-160H620v160ZM180-180h160v-160H180v160Zm440 0h160v-160H620v160Z\"/>\n",
              "  </svg>\n",
              "    </button>\n",
              "\n",
              "  <style>\n",
              "    .colab-df-container {\n",
              "      display:flex;\n",
              "      gap: 12px;\n",
              "    }\n",
              "\n",
              "    .colab-df-convert {\n",
              "      background-color: #E8F0FE;\n",
              "      border: none;\n",
              "      border-radius: 50%;\n",
              "      cursor: pointer;\n",
              "      display: none;\n",
              "      fill: #1967D2;\n",
              "      height: 32px;\n",
              "      padding: 0 0 0 0;\n",
              "      width: 32px;\n",
              "    }\n",
              "\n",
              "    .colab-df-convert:hover {\n",
              "      background-color: #E2EBFA;\n",
              "      box-shadow: 0px 1px 2px rgba(60, 64, 67, 0.3), 0px 1px 3px 1px rgba(60, 64, 67, 0.15);\n",
              "      fill: #174EA6;\n",
              "    }\n",
              "\n",
              "    .colab-df-buttons div {\n",
              "      margin-bottom: 4px;\n",
              "    }\n",
              "\n",
              "    [theme=dark] .colab-df-convert {\n",
              "      background-color: #3B4455;\n",
              "      fill: #D2E3FC;\n",
              "    }\n",
              "\n",
              "    [theme=dark] .colab-df-convert:hover {\n",
              "      background-color: #434B5C;\n",
              "      box-shadow: 0px 1px 3px 1px rgba(0, 0, 0, 0.15);\n",
              "      filter: drop-shadow(0px 1px 2px rgba(0, 0, 0, 0.3));\n",
              "      fill: #FFFFFF;\n",
              "    }\n",
              "  </style>\n",
              "\n",
              "    <script>\n",
              "      const buttonEl =\n",
              "        document.querySelector('#df-9f713dcc-f478-4cdb-9200-9daabe998802 button.colab-df-convert');\n",
              "      buttonEl.style.display =\n",
              "        google.colab.kernel.accessAllowed ? 'block' : 'none';\n",
              "\n",
              "      async function convertToInteractive(key) {\n",
              "        const element = document.querySelector('#df-9f713dcc-f478-4cdb-9200-9daabe998802');\n",
              "        const dataTable =\n",
              "          await google.colab.kernel.invokeFunction('convertToInteractive',\n",
              "                                                    [key], {});\n",
              "        if (!dataTable) return;\n",
              "\n",
              "        const docLinkHtml = 'Like what you see? Visit the ' +\n",
              "          '<a target=\"_blank\" href=https://colab.research.google.com/notebooks/data_table.ipynb>data table notebook</a>'\n",
              "          + ' to learn more about interactive tables.';\n",
              "        element.innerHTML = '';\n",
              "        dataTable['output_type'] = 'display_data';\n",
              "        await google.colab.output.renderOutput(dataTable, element);\n",
              "        const docLink = document.createElement('div');\n",
              "        docLink.innerHTML = docLinkHtml;\n",
              "        element.appendChild(docLink);\n",
              "      }\n",
              "    </script>\n",
              "  </div>\n",
              "\n",
              "\n",
              "<div id=\"df-8e768d39-91de-4fdb-862e-856c7be5d2db\">\n",
              "  <button class=\"colab-df-quickchart\" onclick=\"quickchart('df-8e768d39-91de-4fdb-862e-856c7be5d2db')\"\n",
              "            title=\"Suggest charts\"\n",
              "            style=\"display:none;\">\n",
              "\n",
              "<svg xmlns=\"http://www.w3.org/2000/svg\" height=\"24px\"viewBox=\"0 0 24 24\"\n",
              "     width=\"24px\">\n",
              "    <g>\n",
              "        <path d=\"M19 3H5c-1.1 0-2 .9-2 2v14c0 1.1.9 2 2 2h14c1.1 0 2-.9 2-2V5c0-1.1-.9-2-2-2zM9 17H7v-7h2v7zm4 0h-2V7h2v10zm4 0h-2v-4h2v4z\"/>\n",
              "    </g>\n",
              "</svg>\n",
              "  </button>\n",
              "\n",
              "<style>\n",
              "  .colab-df-quickchart {\n",
              "      --bg-color: #E8F0FE;\n",
              "      --fill-color: #1967D2;\n",
              "      --hover-bg-color: #E2EBFA;\n",
              "      --hover-fill-color: #174EA6;\n",
              "      --disabled-fill-color: #AAA;\n",
              "      --disabled-bg-color: #DDD;\n",
              "  }\n",
              "\n",
              "  [theme=dark] .colab-df-quickchart {\n",
              "      --bg-color: #3B4455;\n",
              "      --fill-color: #D2E3FC;\n",
              "      --hover-bg-color: #434B5C;\n",
              "      --hover-fill-color: #FFFFFF;\n",
              "      --disabled-bg-color: #3B4455;\n",
              "      --disabled-fill-color: #666;\n",
              "  }\n",
              "\n",
              "  .colab-df-quickchart {\n",
              "    background-color: var(--bg-color);\n",
              "    border: none;\n",
              "    border-radius: 50%;\n",
              "    cursor: pointer;\n",
              "    display: none;\n",
              "    fill: var(--fill-color);\n",
              "    height: 32px;\n",
              "    padding: 0;\n",
              "    width: 32px;\n",
              "  }\n",
              "\n",
              "  .colab-df-quickchart:hover {\n",
              "    background-color: var(--hover-bg-color);\n",
              "    box-shadow: 0 1px 2px rgba(60, 64, 67, 0.3), 0 1px 3px 1px rgba(60, 64, 67, 0.15);\n",
              "    fill: var(--button-hover-fill-color);\n",
              "  }\n",
              "\n",
              "  .colab-df-quickchart-complete:disabled,\n",
              "  .colab-df-quickchart-complete:disabled:hover {\n",
              "    background-color: var(--disabled-bg-color);\n",
              "    fill: var(--disabled-fill-color);\n",
              "    box-shadow: none;\n",
              "  }\n",
              "\n",
              "  .colab-df-spinner {\n",
              "    border: 2px solid var(--fill-color);\n",
              "    border-color: transparent;\n",
              "    border-bottom-color: var(--fill-color);\n",
              "    animation:\n",
              "      spin 1s steps(1) infinite;\n",
              "  }\n",
              "\n",
              "  @keyframes spin {\n",
              "    0% {\n",
              "      border-color: transparent;\n",
              "      border-bottom-color: var(--fill-color);\n",
              "      border-left-color: var(--fill-color);\n",
              "    }\n",
              "    20% {\n",
              "      border-color: transparent;\n",
              "      border-left-color: var(--fill-color);\n",
              "      border-top-color: var(--fill-color);\n",
              "    }\n",
              "    30% {\n",
              "      border-color: transparent;\n",
              "      border-left-color: var(--fill-color);\n",
              "      border-top-color: var(--fill-color);\n",
              "      border-right-color: var(--fill-color);\n",
              "    }\n",
              "    40% {\n",
              "      border-color: transparent;\n",
              "      border-right-color: var(--fill-color);\n",
              "      border-top-color: var(--fill-color);\n",
              "    }\n",
              "    60% {\n",
              "      border-color: transparent;\n",
              "      border-right-color: var(--fill-color);\n",
              "    }\n",
              "    80% {\n",
              "      border-color: transparent;\n",
              "      border-right-color: var(--fill-color);\n",
              "      border-bottom-color: var(--fill-color);\n",
              "    }\n",
              "    90% {\n",
              "      border-color: transparent;\n",
              "      border-bottom-color: var(--fill-color);\n",
              "    }\n",
              "  }\n",
              "</style>\n",
              "\n",
              "  <script>\n",
              "    async function quickchart(key) {\n",
              "      const quickchartButtonEl =\n",
              "        document.querySelector('#' + key + ' button');\n",
              "      quickchartButtonEl.disabled = true;  // To prevent multiple clicks.\n",
              "      quickchartButtonEl.classList.add('colab-df-spinner');\n",
              "      try {\n",
              "        const charts = await google.colab.kernel.invokeFunction(\n",
              "            'suggestCharts', [key], {});\n",
              "      } catch (error) {\n",
              "        console.error('Error during call to suggestCharts:', error);\n",
              "      }\n",
              "      quickchartButtonEl.classList.remove('colab-df-spinner');\n",
              "      quickchartButtonEl.classList.add('colab-df-quickchart-complete');\n",
              "    }\n",
              "    (() => {\n",
              "      let quickchartButtonEl =\n",
              "        document.querySelector('#df-8e768d39-91de-4fdb-862e-856c7be5d2db button');\n",
              "      quickchartButtonEl.style.display =\n",
              "        google.colab.kernel.accessAllowed ? 'block' : 'none';\n",
              "    })();\n",
              "  </script>\n",
              "</div>\n",
              "    </div>\n",
              "  </div>\n"
            ]
          },
          "metadata": {},
          "execution_count": 32
        }
      ]
    },
    {
      "cell_type": "code",
      "source": [
        "t = vektor_y.at[3888, 'vektor_Y']\n",
        "print('Тип переменной в ячейке df', type(t))\n",
        "print('Размерность переменной', t.shape)\n",
        "print('Содержимое переменной', t, '\\n')\n",
        "\n",
        "# Преобразуем одномерный массив t в список t_list\n",
        "t_list = t.tolist()\n",
        "print('type(t_list', type(t_list))\n",
        "print('t_list',t_list,'\\n')\n",
        "\n",
        "# Преобразуем список t_list в стороку t_str\n",
        "t_str = ''.join(map(str, t_list))\n",
        "print('t_str', t_str)"
      ],
      "metadata": {
        "colab": {
          "base_uri": "https://localhost:8080/"
        },
        "id": "hyJkh7TzTHUz",
        "outputId": "3717c3d1-086f-4576-afbc-e4ae09450f2f"
      },
      "execution_count": null,
      "outputs": [
        {
          "output_type": "stream",
          "name": "stdout",
          "text": [
            "Тип переменной в ячейке df <class 'numpy.ndarray'>\n",
            "Размерность переменной (31,)\n",
            "Содержимое переменной [0 1 0 0 0 1 0 0 0 0 1 0 0 1 1 0 1 0 1 0 0 0 0 0 0 0 0 0 1 0 0] \n",
            "\n",
            "type(t_list <class 'list'>\n",
            "t_list [0, 1, 0, 0, 0, 1, 0, 0, 0, 0, 1, 0, 0, 1, 1, 0, 1, 0, 1, 0, 0, 0, 0, 0, 0, 0, 0, 0, 1, 0, 0] \n",
            "\n",
            "t_str 0100010000100110101000000000100\n"
          ]
        }
      ]
    },
    {
      "cell_type": "markdown",
      "source": [
        "У нас есть df vektor_y, состоит он из одного столбца vektor_Y и vektor_y.shape[0] строк. В каждой ячейке df записан одномерный np_массив из 31 елементов единого вектора y_train"
      ],
      "metadata": {
        "id": "dQfASgzAeHQ6"
      }
    },
    {
      "cell_type": "code",
      "source": [
        "print('Тип получившегося df:', type(vektor_y))"
      ],
      "metadata": {
        "colab": {
          "base_uri": "https://localhost:8080/"
        },
        "id": "hSPSAdfieuFO",
        "outputId": "6b06e904-91c8-46fa-cd2e-bceb9d393522"
      },
      "execution_count": null,
      "outputs": [
        {
          "output_type": "stream",
          "name": "stdout",
          "text": [
            "Тип получившегося df: <class 'pandas.core.frame.DataFrame'>\n"
          ]
        }
      ]
    },
    {
      "cell_type": "code",
      "source": [
        "# Пройдем по всему df и преобразуем содержимое массива из каждой ячейки в стоку.\n",
        "k = []                                  # создадим список k для сбора в него строк преобразованных массивов\n",
        "for i in range(vektor_y.shape[0]):      # цикл по всему df\n",
        "  i_list = vektor_y.at[i, 'vektor_Y']   # вытаскиваем содержимое очередной ячейки\n",
        "  aa = ''.join(map(str, i_list))        # преобразовываем массив в список, убираем пробелы между элементами и преобразовываем к строковой форме\n",
        "  k.append(aa)                          # добавим очередную строку в список k\n",
        "print(type(i_list))\n",
        "print(i_list)\n",
        "\n",
        "print('Длина списка k ', len(k))\n",
        "print('Элемент списка k ', k[-1])\n",
        "print('Элемент списка k ', k[-6])"
      ],
      "metadata": {
        "colab": {
          "base_uri": "https://localhost:8080/"
        },
        "id": "ZloUHCAqmVtZ",
        "outputId": "e86a88fc-fbc2-4f8c-a73f-6f4635551d27"
      },
      "execution_count": null,
      "outputs": [
        {
          "output_type": "stream",
          "name": "stdout",
          "text": [
            "<class 'numpy.ndarray'>\n",
            "[0 0 1 0 0 0 0 1 0 0 0 1 1 0 0 1 1 0 1 0 0 0 1 0 0 0 0 0 0 0 0]\n",
            "Длина списка k  147456\n",
            "Элемент списка k  0010000100011001101000100000000\n",
            "Элемент списка k  1001000010001010010100000000010\n"
          ]
        }
      ]
    },
    {
      "cell_type": "code",
      "source": [
        "# Посмотрим сколько уникальных значений имеется в списке k\n",
        "unique = []            # список уникальных элементов\n",
        "for n in k:            # цикл по всему списку k\n",
        "  if n not in unique:  # проверяем, есть ли в списке уникальных значений текущаа строка\n",
        "    unique.append(n)   # если нет ее в списке, то вносим ее в список\n",
        "\n",
        "print('Количество уникальных значений в y_train', len(unique))\n",
        "unique"
      ],
      "metadata": {
        "colab": {
          "base_uri": "https://localhost:8080/"
        },
        "id": "ZjjRZCja2E6g",
        "outputId": "c77778d3-70c7-426d-e9f6-521a0cc552fb"
      },
      "execution_count": null,
      "outputs": [
        {
          "output_type": "stream",
          "name": "stdout",
          "text": [
            "Количество уникальных значений в y_train 26\n"
          ]
        },
        {
          "output_type": "execute_result",
          "data": {
            "text/plain": [
              "['0100010000100110101000000000100',\n",
              " '0100100000100110101000100000000',\n",
              " '0100001000100110101000100000000',\n",
              " '0100000100010110101000100000000',\n",
              " '0100000100100110101000100000000',\n",
              " '0010000100100110101000100000000',\n",
              " '0010001000100110101000100000000',\n",
              " '0010000100010110101000100000000',\n",
              " '0010100000010110101000100000000',\n",
              " '0100000101001001100001000100000',\n",
              " '0100001001001001100001000100000',\n",
              " '0100100000011001100001000010000',\n",
              " '0010000100101001101000000001000',\n",
              " '0010001000101001101000000001000',\n",
              " '0010000100011001101000001000000',\n",
              " '0010100000011001101000100000000',\n",
              " '1001000010001010010100010000000',\n",
              " '0010000100011001101000100000000',\n",
              " '0010000100101001101000100000000',\n",
              " '0010001000101001101000100000000',\n",
              " '0100000101000110101000100000000',\n",
              " '0100001001000110101000100000000',\n",
              " '0100000100011001101000100000000',\n",
              " '0010000100101010010010000000001',\n",
              " '0010001000101010010010000000001',\n",
              " '1001000010001010010100000000010']"
            ]
          },
          "metadata": {},
          "execution_count": 36
        }
      ]
    },
    {
      "cell_type": "code",
      "source": [
        "# Составим словарь уникальных значений в y_train\n",
        "kl = []                        # список порядковых номеров\n",
        "for i in range(len(unique)):   # цыкл по списку уникальных значений\n",
        "  kl.append(i)                 # запишем i как очередной элемент списка\n",
        "y_dist_den = dict(zip(unique, kl)) # создадим словарь из двух списков (одной длины)\n",
        "y_dist_den"
      ],
      "metadata": {
        "colab": {
          "base_uri": "https://localhost:8080/"
        },
        "id": "x8epAg5u5ESu",
        "outputId": "59bf6660-c0da-49ff-ee9f-5e84a818c8a7"
      },
      "execution_count": null,
      "outputs": [
        {
          "output_type": "execute_result",
          "data": {
            "text/plain": [
              "{'0100010000100110101000000000100': 0,\n",
              " '0100100000100110101000100000000': 1,\n",
              " '0100001000100110101000100000000': 2,\n",
              " '0100000100010110101000100000000': 3,\n",
              " '0100000100100110101000100000000': 4,\n",
              " '0010000100100110101000100000000': 5,\n",
              " '0010001000100110101000100000000': 6,\n",
              " '0010000100010110101000100000000': 7,\n",
              " '0010100000010110101000100000000': 8,\n",
              " '0100000101001001100001000100000': 9,\n",
              " '0100001001001001100001000100000': 10,\n",
              " '0100100000011001100001000010000': 11,\n",
              " '0010000100101001101000000001000': 12,\n",
              " '0010001000101001101000000001000': 13,\n",
              " '0010000100011001101000001000000': 14,\n",
              " '0010100000011001101000100000000': 15,\n",
              " '1001000010001010010100010000000': 16,\n",
              " '0010000100011001101000100000000': 17,\n",
              " '0010000100101001101000100000000': 18,\n",
              " '0010001000101001101000100000000': 19,\n",
              " '0100000101000110101000100000000': 20,\n",
              " '0100001001000110101000100000000': 21,\n",
              " '0100000100011001101000100000000': 22,\n",
              " '0010000100101010010010000000001': 23,\n",
              " '0010001000101010010010000000001': 24,\n",
              " '1001000010001010010100000000010': 25}"
            ]
          },
          "metadata": {},
          "execution_count": 37
        }
      ]
    },
    {
      "cell_type": "code",
      "source": [
        "dist_y_den = {v:k for k, v in y_dist_den.items()}\n",
        "dist_y_den"
      ],
      "metadata": {
        "colab": {
          "base_uri": "https://localhost:8080/"
        },
        "id": "k7TlZtY6YrTg",
        "outputId": "3423c400-c99c-4d3d-9bfa-99a1aac8bde3"
      },
      "execution_count": null,
      "outputs": [
        {
          "output_type": "execute_result",
          "data": {
            "text/plain": [
              "{0: '0100010000100110101000000000100',\n",
              " 1: '0100100000100110101000100000000',\n",
              " 2: '0100001000100110101000100000000',\n",
              " 3: '0100000100010110101000100000000',\n",
              " 4: '0100000100100110101000100000000',\n",
              " 5: '0010000100100110101000100000000',\n",
              " 6: '0010001000100110101000100000000',\n",
              " 7: '0010000100010110101000100000000',\n",
              " 8: '0010100000010110101000100000000',\n",
              " 9: '0100000101001001100001000100000',\n",
              " 10: '0100001001001001100001000100000',\n",
              " 11: '0100100000011001100001000010000',\n",
              " 12: '0010000100101001101000000001000',\n",
              " 13: '0010001000101001101000000001000',\n",
              " 14: '0010000100011001101000001000000',\n",
              " 15: '0010100000011001101000100000000',\n",
              " 16: '1001000010001010010100010000000',\n",
              " 17: '0010000100011001101000100000000',\n",
              " 18: '0010000100101001101000100000000',\n",
              " 19: '0010001000101001101000100000000',\n",
              " 20: '0100000101000110101000100000000',\n",
              " 21: '0100001001000110101000100000000',\n",
              " 22: '0100000100011001101000100000000',\n",
              " 23: '0010000100101010010010000000001',\n",
              " 24: '0010001000101010010010000000001',\n",
              " 25: '1001000010001010010100000000010'}"
            ]
          },
          "metadata": {},
          "execution_count": 38
        }
      ]
    },
    {
      "cell_type": "markdown",
      "source": [
        "Для хранения вектора y_train в виде цифрового кода создадим очередной одностолбцовый df"
      ],
      "metadata": {
        "id": "WVDMuDtrjs6e"
      }
    },
    {
      "cell_type": "code",
      "source": [
        "vektor_y_uni = np.zeros(vektor_y.shape[0], dtype=int) # создадим очередной одностолбцовый df\n",
        "\n",
        "for a in range(vektor_y.shape[0]):                    # цыкл по списку уникальных значений\n",
        "  i_list = vektor_y.at[a, 'vektor_Y']                 # вытаскиваем содержимое очередной ячейки\n",
        "  #print(i_list)\n",
        "  aa = ''.join(map(str, i_list))                      # преобразовываем массив в список, убираем пробелы между элементами и преобразовываем к строковой форме\n",
        "  vektor_y_uni[a] = y_dist_den[aa]                        # получаем цифровое значение из словаря y_dist по ключу строка [aa]\n",
        "                                                      # записываем цифровое значение в очередную ячейку df\n",
        "print('Размерность vektor_y_uni', vektor_y_uni.shape)\n",
        "vektor_y_uni = np.expand_dims (vektor_y_uni, axis=1)            # приводим размерность в соответствие с форматом input_dim (n,x)\n",
        "print('Размерность vektor_y_uni', vektor_y_uni.shape)\n",
        "\n",
        "print('Случайный элемент df', vektor_y_uni[1542])"
      ],
      "metadata": {
        "id": "UbXpB7As6FHE",
        "colab": {
          "base_uri": "https://localhost:8080/"
        },
        "outputId": "ed709f17-2c14-4388-e035-71335d1fe386"
      },
      "execution_count": null,
      "outputs": [
        {
          "output_type": "stream",
          "name": "stdout",
          "text": [
            "Размерность vektor_y_uni (147456,)\n",
            "Размерность vektor_y_uni (147456, 1)\n",
            "Случайный элемент df [16]\n"
          ]
        }
      ]
    },
    {
      "cell_type": "code",
      "source": [
        "# Читаем df vektor_y_uni переводим формат one-hot-encoding и записываем в массив y_data\n",
        "\n",
        "y_data = utils.to_categorical(vektor_y_uni, 26 ) # преобразование массива в формат one-hot-encoding (17-классов)\n",
        "\n",
        "print('Тип y_data', type(y_data))\n",
        "print('Тип переменной в y_data', y_data.dtype)\n",
        "print('Размерность массива', y_data.shape)\n",
        "print('Количество значений в массиве', y_data.size)\n",
        "print('Случайный элемент массива', y_data[12587])\n"
      ],
      "metadata": {
        "colab": {
          "base_uri": "https://localhost:8080/"
        },
        "id": "g0z1-cpAwKSe",
        "outputId": "6c9bd5a5-ae36-45b6-be47-ddbbe7ad6575"
      },
      "execution_count": null,
      "outputs": [
        {
          "output_type": "stream",
          "name": "stdout",
          "text": [
            "Тип y_data <class 'numpy.ndarray'>\n",
            "Тип переменной в y_data float32\n",
            "Размерность массива (147456, 26)\n",
            "Количество значений в массиве 3833856\n",
            "Случайный элемент массива [0. 0. 0. 0. 0. 0. 0. 0. 0. 0. 0. 0. 0. 0. 0. 0. 0. 0. 0. 0. 0. 0. 1. 0.\n",
            " 0. 0.]\n"
          ]
        }
      ]
    },
    {
      "cell_type": "code",
      "source": [
        "y_data"
      ],
      "metadata": {
        "colab": {
          "base_uri": "https://localhost:8080/"
        },
        "id": "yY3J6rDIq-ql",
        "outputId": "4fea962f-6121-4c6a-c276-cd7563f76d63"
      },
      "execution_count": null,
      "outputs": [
        {
          "output_type": "execute_result",
          "data": {
            "text/plain": [
              "array([[1., 0., 0., ..., 0., 0., 0.],\n",
              "       [0., 1., 0., ..., 0., 0., 0.],\n",
              "       [0., 0., 1., ..., 0., 0., 0.],\n",
              "       ...,\n",
              "       [0., 0., 0., ..., 0., 0., 1.],\n",
              "       [0., 0., 0., ..., 0., 0., 0.],\n",
              "       [0., 0., 0., ..., 0., 0., 0.]], dtype=float32)"
            ]
          },
          "metadata": {},
          "execution_count": 42
        }
      ]
    },
    {
      "cell_type": "markdown",
      "source": [
        "####**Запишем созданный df_vektor_Yden на disk**"
      ],
      "metadata": {
        "id": "7S3eVTgV3aYE"
      }
    },
    {
      "cell_type": "markdown",
      "source": [
        "Запишем созданный y_data на disk"
      ],
      "metadata": {
        "id": "LpG2rCOmraJ7"
      }
    },
    {
      "cell_type": "code",
      "source": [
        "np.save('/content/drive/MyDrive/Stag_2/tenzor_Yden.npy', y_data )   # запишем np-массив y_data на disk\n"
      ],
      "metadata": {
        "id": "vMmJDeWwraJ9"
      },
      "execution_count": null,
      "outputs": []
    },
    {
      "cell_type": "markdown",
      "source": [
        "Читаем tenzor_Y с diskа в NB"
      ],
      "metadata": {
        "id": "HbnQXcOLraJ9"
      }
    },
    {
      "cell_type": "code",
      "source": [
        "tenzor_Y = np.load('/content/drive/MyDrive/Stag_2/tenzor_Yden.npy')  # читаем np-массив tenzor_Y с disk в NB\n",
        "print('Тип tenzor_Y', type(tenzor_Y))\n",
        "print('Размер tenzor_Y', tenzor_Y.shape)\n",
        "print('Размерность переменной в массиве', tenzor_Y[8888,:].shape)\n",
        "tenzor_Y[8888,:]"
      ],
      "metadata": {
        "colab": {
          "base_uri": "https://localhost:8080/"
        },
        "outputId": "d3dff6e3-b20f-463e-8e69-346a45293356",
        "id": "S_-oosK2raJ-"
      },
      "execution_count": null,
      "outputs": [
        {
          "output_type": "stream",
          "name": "stdout",
          "text": [
            "Тип tenzor_Y <class 'numpy.ndarray'>\n",
            "Размер tenzor_Y (147456, 26)\n",
            "Размерность переменной в массиве (26,)\n"
          ]
        },
        {
          "output_type": "execute_result",
          "data": {
            "text/plain": [
              "array([0., 0., 0., 0., 0., 0., 0., 0., 0., 0., 0., 0., 0., 0., 0., 0., 1.,\n",
              "       0., 0., 0., 0., 0., 0., 0., 0., 0.], dtype=float32)"
            ]
          },
          "metadata": {},
          "execution_count": 44
        }
      ]
    },
    {
      "cell_type": "markdown",
      "source": [
        "# Читаем файлы с диска"
      ],
      "metadata": {
        "id": "lfC87-YsK5zM"
      }
    },
    {
      "cell_type": "code",
      "source": [
        "X = pd.read_pickle ('/content/drive/MyDrive/Stag_2/df_vektor_xden.pkl')     # читаем df_vektor_x с diskа в NB\n",
        "#Y = pd.read_pickle ('/content/drive/MyDrive/Stag_2/df_vektor_ylak.pkl')     # читаем df_vektor_y diskа в NB"
      ],
      "metadata": {
        "id": "QFfolGzFnNn6"
      },
      "execution_count": null,
      "outputs": []
    },
    {
      "cell_type": "markdown",
      "source": [
        "Переводим df в np массив"
      ],
      "metadata": {
        "id": "idvPJ75kLmFe"
      }
    },
    {
      "cell_type": "code",
      "source": [
        "np_X = X.values   # преобразуем df X в np массив np_X\n",
        "#np_Y = Y.values   # преобразуем df Y в np массив np_Y\n",
        "print('np_X',np_X.shape)\n",
        "#print('np_Y',np_Y.shape)"
      ],
      "metadata": {
        "colab": {
          "base_uri": "https://localhost:8080/"
        },
        "id": "rA6WFAZtvnDw",
        "outputId": "9b9f11b5-518a-453e-b9b6-f6f5065e742c"
      },
      "execution_count": null,
      "outputs": [
        {
          "output_type": "stream",
          "name": "stdout",
          "text": [
            "np_X (147456, 1)\n"
          ]
        }
      ]
    },
    {
      "cell_type": "code",
      "source": [
        "print(np_X [2345,0].shape)\n",
        "print(np_X [2345,0])\n",
        "#print(np_Y [2345,0].shape)\n",
        "#print(np_Y [2345,0])"
      ],
      "metadata": {
        "colab": {
          "base_uri": "https://localhost:8080/"
        },
        "id": "qBVPIt4TJb7i",
        "outputId": "ef2e6681-95e3-4417-93c2-c09ea8ea05b5"
      },
      "execution_count": null,
      "outputs": [
        {
          "output_type": "stream",
          "name": "stdout",
          "text": [
            "(40,)\n",
            "[0 1 1 0 0 1 0 0 1 0 0 1 0 0 0 0 0 1 0 0 0 0 0 0 0 0 0 0 0 1 0 0 1 0 0 0 1\n",
            " 0 1 0]\n"
          ]
        }
      ]
    },
    {
      "cell_type": "markdown",
      "source": [
        "### *Формируем* тензор Х"
      ],
      "metadata": {
        "id": "WevGxxmaZ8Si"
      }
    },
    {
      "cell_type": "code",
      "source": [
        "list_doli = [0,40000,80000,120000,147456]    # для ускорения работы кода разделим весь df на 4 диапазона\n",
        "print('len(list_doli)', len(list_doli))\n",
        "print('Размер подаваемого на вход массива np_X',np_X.shape)\n",
        "\n",
        "for n in range (len(list_doli)-1):           # цыкл по всем диапазонам\n",
        "  result = np_X [0,0]                        # из массива np_X вытаскиваем '0' элемент\n",
        "  #print(result.shape)\n",
        "  start = list_doli[n]\n",
        "  print('start', start)\n",
        "  stop = list_doli[n+1]\n",
        "  print('stop', stop)\n",
        "  for i in range (start,stop):               # цыкл по текущему диапазону\n",
        "    #np_XX = np_X [1:,:]                     # создадим рабочий массив np_XX копию np_X но без первой строки\n",
        "    b = np_X [i,0]                           # из массива np_X вытаскиваем 'i' элемент\n",
        "    result = np.vstack ((result, b))         # функция добавляет в конец массива \"result\" массив \"b\"  (np.vstack ((a, b) )\n",
        "    if i == 10000:\n",
        "      print('i=10k')\n",
        "    if i == 20000:\n",
        "      print('i=20k')\n",
        "    if i == 39999:\n",
        "      print('i=30k')\n",
        "    elif n == 0:\n",
        "      tenzor_X0 = result                     # промежуточное хранение части массива\n",
        "    elif n == 1:\n",
        "      tenzor_X1 = result                     # промежуточное хранение части массива\n",
        "    elif n == 2:\n",
        "      tenzor_X2 = result                     # промежуточное хранение части массива\n",
        "    elif n == 3:\n",
        "      tenzor_X3 = result                     # промежуточное хранение части массива\n",
        "    elif n == 4:\n",
        "      print(n)\n",
        "print('все')"
      ],
      "metadata": {
        "colab": {
          "base_uri": "https://localhost:8080/"
        },
        "id": "tbBvEa6qNzTv",
        "outputId": "49febeba-14de-4513-eacf-4f38ee60a7f9"
      },
      "execution_count": null,
      "outputs": [
        {
          "output_type": "stream",
          "name": "stdout",
          "text": [
            "len(list_doli) 5\n",
            "Размер подаваемого на вход массива np_X (147456, 1)\n",
            "start 0\n",
            "stop 40000\n",
            "i=10k\n",
            "i=20k\n",
            "i=30k\n",
            "start 40000\n",
            "stop 80000\n",
            "start 80000\n",
            "stop 120000\n",
            "start 120000\n",
            "stop 147456\n",
            "все\n"
          ]
        }
      ]
    },
    {
      "cell_type": "code",
      "source": [
        "# Смотрим размерности промежуточных массивов\n",
        "print('x0', tenzor_X0.shape)\n",
        "print('x1', tenzor_X1.shape)\n",
        "print('x2', tenzor_X2.shape)\n",
        "print('x3', tenzor_X3.shape)"
      ],
      "metadata": {
        "colab": {
          "base_uri": "https://localhost:8080/"
        },
        "id": "E88cMHVOm2qI",
        "outputId": "34e7e063-200a-4251-e8ec-2494b58d8f06"
      },
      "execution_count": null,
      "outputs": [
        {
          "output_type": "stream",
          "name": "stdout",
          "text": [
            "x0 (40000, 40)\n",
            "x1 (40001, 40)\n",
            "x2 (40001, 40)\n",
            "x3 (27457, 40)\n"
          ]
        }
      ]
    },
    {
      "cell_type": "markdown",
      "source": [
        "В предыдущей ячейке при формировании фрагмента массива (по 40к строк) в качестве массива к которому присоединялась очередная строка использовалась 0-строка массива np_X. ЕЕ надо удалить во всех массивах кроме первого, потом последовательно собрать все в один. Проверить получившуюся размерность."
      ],
      "metadata": {
        "id": "y0OxaLN9bJM2"
      }
    },
    {
      "cell_type": "code",
      "source": [
        "print('x0', tenzor_X0.shape)\n",
        "print('x1', tenzor_X1.shape)\n",
        "arr1 = np.delete(tenzor_X1, 0, axis=0)  # удалим 0-ю строку из массива Х1\n",
        "tenzor_X1 = arr1\n",
        "print(tenzor_X1.shape)\n",
        "\n",
        "print(tenzor_X2.shape)\n",
        "arr1 = np.delete(tenzor_X2, 0, axis=0)  # удалим 0-ю строку из массива Х2\n",
        "tenzor_X2 = arr1\n",
        "print(tenzor_X2.shape)\n",
        "\n",
        "print(tenzor_X3.shape)\n",
        "arr1 = np.delete(tenzor_X3, 0, axis=0)  # удалим 0-ю строку из массива Х3\n",
        "tenzor_X3 = arr1\n",
        "print(tenzor_X3.shape)\n",
        "\n",
        "\n",
        "\n"
      ],
      "metadata": {
        "colab": {
          "base_uri": "https://localhost:8080/"
        },
        "id": "bQmfKgbIRNkw",
        "outputId": "2ee9dfa4-7933-41df-cd63-da4de11487b2"
      },
      "execution_count": null,
      "outputs": [
        {
          "output_type": "stream",
          "name": "stdout",
          "text": [
            "x0 (40000, 40)\n",
            "x1 (40001, 40)\n",
            "(40000, 40)\n",
            "(40001, 40)\n",
            "(40000, 40)\n",
            "(27457, 40)\n",
            "(27456, 40)\n"
          ]
        }
      ]
    },
    {
      "cell_type": "code",
      "source": [
        "#  Соберем 4 промежуточных массива в один\n",
        "tenzor_X = np.vstack ((tenzor_X0, tenzor_X1))    # к массиву tenzor_X0 добавим tenzor_X1 и присвоим его массиву tenzor_X\n",
        "tenzor_X = np.vstack ((tenzor_X,  tenzor_X2))    #  к массиву tenzor_X добавим tenzor_X2 и присвоим его массиву tenzor_X\n",
        "tenzor_X = np.vstack ((tenzor_X,  tenzor_X3))    #  к массиву tenzor_X добавим tenzor_X3 и присвоим его массиву tenzor_X\n",
        "\n",
        "tenzor_X.shape"
      ],
      "metadata": {
        "colab": {
          "base_uri": "https://localhost:8080/"
        },
        "id": "Yt7TTI7ZrBT8",
        "outputId": "b371714a-2216-4a0f-d0b2-7a43f68ce4b3"
      },
      "execution_count": null,
      "outputs": [
        {
          "output_type": "execute_result",
          "data": {
            "text/plain": [
              "(147456, 40)"
            ]
          },
          "metadata": {},
          "execution_count": 51
        }
      ]
    },
    {
      "cell_type": "markdown",
      "source": [
        "Запишем созданный tenzor_X на disk"
      ],
      "metadata": {
        "id": "pmhYWCbRSi5W"
      }
    },
    {
      "cell_type": "code",
      "source": [
        "np.save('/content/drive/MyDrive/Stag_2/tenzor_Xden.npy', tenzor_X )   # запишем np-массив tenzor_X на disk\n"
      ],
      "metadata": {
        "id": "7YcciN8QSi5Z"
      },
      "execution_count": null,
      "outputs": []
    },
    {
      "cell_type": "markdown",
      "source": [
        "Читаем tenzor_X с diskа в NB"
      ],
      "metadata": {
        "id": "NU_bH5ZIyRjm"
      }
    },
    {
      "cell_type": "code",
      "source": [
        "tenzor_X = np.load('/content/drive/MyDrive/Stag_2/tenzor_Xden.npy')  # читаем np-массив tenzor_X с disk в NB\n",
        "tenzor_X.shape\n"
      ],
      "metadata": {
        "id": "utSJrK-qyHOC",
        "colab": {
          "base_uri": "https://localhost:8080/"
        },
        "outputId": "ae24a354-e41b-4326-b673-7b01fa13f592"
      },
      "execution_count": null,
      "outputs": [
        {
          "output_type": "execute_result",
          "data": {
            "text/plain": [
              "(147456, 40)"
            ]
          },
          "metadata": {},
          "execution_count": 53
        }
      ]
    },
    {
      "cell_type": "code",
      "source": [
        "print(type(tenzor_X[8888,:]))\n",
        "print(tenzor_X[8888,:].shape)\n",
        "tenzor_X[8888,:]\n"
      ],
      "metadata": {
        "colab": {
          "base_uri": "https://localhost:8080/"
        },
        "id": "GH70BaDf56y5",
        "outputId": "5d87dd77-dc73-420d-947b-2e998e69dd51"
      },
      "execution_count": null,
      "outputs": [
        {
          "output_type": "stream",
          "name": "stdout",
          "text": [
            "<class 'numpy.ndarray'>\n",
            "(40,)\n"
          ]
        },
        {
          "output_type": "execute_result",
          "data": {
            "text/plain": [
              "array([0, 1, 0, 0, 1, 0, 1, 0, 0, 1, 1, 0, 0, 0, 1, 0, 0, 0, 0, 0, 0, 0,\n",
              "       0, 0, 0, 0, 0, 0, 0, 1, 0, 0, 0, 0, 1, 0, 0, 1, 1, 0])"
            ]
          },
          "metadata": {},
          "execution_count": 54
        }
      ]
    },
    {
      "cell_type": "markdown",
      "source": [
        "### *Формируем* тензор Y  (для модели lak не требуется)"
      ],
      "metadata": {
        "id": "bha4g_pb9wfM"
      }
    },
    {
      "cell_type": "code",
      "source": [
        "list_doli = [0,40000,80000,120000,147456]\n",
        "print('len(list_doli)', len(list_doli))\n",
        "print('np_Y',np_Y.shape)\n",
        "\n",
        "for n in range (len(list_doli)-1):\n",
        "  result = np_Y [0,0]  # из массива np_Y вытаскиваем '0' элемент\n",
        "  print(result.shape)\n",
        "  start = list_doli[n]\n",
        "  print('start', start)\n",
        "  stop = list_doli[n+1]\n",
        "  print('stop', stop)\n",
        "  for i in range (start,stop):\n",
        "    #np_XX = np_X [1:,:]             # создадим рабочий массив np_XX копию np_Y но без первой строки\n",
        "    b = np_Y [i,0]                   # из массива np_Y вытаскиваем 'i' элемент\n",
        "    result = np.vstack ((result, b)) # функция добавляет в конец массива \"result\" массив \"b\"  (np.vstack ((a, b) )\n",
        "    if i == 10000:\n",
        "      print('i=10k')\n",
        "    if i == 20000:\n",
        "      print('i=20k')\n",
        "    if i == 39999:\n",
        "      print('i=30k')\n",
        "    elif n == 0:\n",
        "      tenzor_Y0 = result\n",
        "    elif n == 1:\n",
        "      tenzor_Y1 = result\n",
        "    elif n == 2:\n",
        "      tenzor_Y2 = result\n",
        "    elif n == 3:\n",
        "      tenzor_Y3 = result\n",
        "    #elif n == 4:\n",
        "     # tenzor_X4 = result\n",
        "    #elif n == 5:\n",
        "     # tenzor_X5 = result\n",
        "    #elif n == 6:\n",
        "     # tenzor_X6 = result\n",
        "    #elif n == 7:\n",
        "     # tenzor_X7 = result\n",
        "    #elif n == 8:\n",
        "     # tenzor_X8 = result\n",
        "    #elif n == 9:\n",
        "     # tenzor_X9 = result\n",
        "    elif n == 4:\n",
        "      print(n)\n",
        "print('все')"
      ],
      "metadata": {
        "colab": {
          "base_uri": "https://localhost:8080/"
        },
        "outputId": "6ef78ec4-1744-412f-e34b-810dffb45224",
        "id": "YlP-7Sti9wfO"
      },
      "execution_count": null,
      "outputs": [
        {
          "output_type": "stream",
          "name": "stdout",
          "text": [
            "len(list_doli) 5\n",
            "np_Y (147456, 1)\n",
            "(30,)\n",
            "start 0\n",
            "stop 40000\n",
            "i=10k\n",
            "i=20k\n",
            "i=30k\n",
            "(30,)\n",
            "start 40000\n",
            "stop 80000\n",
            "(30,)\n",
            "start 80000\n",
            "stop 120000\n",
            "(30,)\n",
            "start 120000\n",
            "stop 147456\n",
            "все\n"
          ]
        }
      ]
    },
    {
      "cell_type": "code",
      "source": [
        "print('y0', tenzor_Y0.shape)\n",
        "print('y1', tenzor_Y1.shape)\n",
        "print('y2', tenzor_Y2.shape)\n",
        "print('y3', tenzor_Y3.shape)\n",
        "#print('y4', tenzor_Y4.shape)\n",
        "#print('y5', tenzor_Y5.shape)\n"
      ],
      "metadata": {
        "colab": {
          "base_uri": "https://localhost:8080/"
        },
        "outputId": "e80c8862-a314-47b0-da32-f080af163f35",
        "id": "8bJbjBZy9wfS"
      },
      "execution_count": null,
      "outputs": [
        {
          "output_type": "stream",
          "name": "stdout",
          "text": [
            "y0 (40000, 30)\n",
            "y1 (40001, 30)\n",
            "y2 (40001, 30)\n",
            "y3 (27457, 30)\n"
          ]
        }
      ]
    },
    {
      "cell_type": "markdown",
      "source": [
        "В предыдущей ячейке при формировании фрагмента массива (по 40к строк) в качестве массива к которому присоединялась очередная строка использовалась 0-строка массива np_Y. ЕЕ надо удалить во всех массивах кроме первого, потом последовательно собрать все в один. Проверить получившуюся размерность."
      ],
      "metadata": {
        "id": "dug_5i059wfT"
      }
    },
    {
      "cell_type": "code",
      "source": [
        "print('y0', tenzor_Y0.shape)\n",
        "print('y1', tenzor_Y1.shape)\n",
        "arr1 = np.delete(tenzor_Y1, 0, axis=0)\n",
        "tenzor_Y1 = arr1\n",
        "print(tenzor_Y1.shape)\n",
        "\n",
        "print(tenzor_Y2.shape)\n",
        "arr1 = np.delete(tenzor_Y2, 0, axis=0)\n",
        "tenzor_Y2 = arr1\n",
        "print(tenzor_Y2.shape)\n",
        "\n",
        "print(tenzor_Y3.shape)\n",
        "arr1 = np.delete(tenzor_Y3, 0, axis=0)\n",
        "tenzor_Y3 = arr1\n",
        "print(tenzor_Y3.shape)\n",
        "\n",
        "\n",
        "\n"
      ],
      "metadata": {
        "colab": {
          "base_uri": "https://localhost:8080/"
        },
        "outputId": "ea9019e2-8685-4ac8-b303-097b7d9a6105",
        "id": "_nDDGhQ69wfU"
      },
      "execution_count": null,
      "outputs": [
        {
          "output_type": "stream",
          "name": "stdout",
          "text": [
            "y0 (40000, 30)\n",
            "y1 (40001, 30)\n",
            "(40000, 30)\n",
            "(40001, 30)\n",
            "(40000, 30)\n",
            "(27457, 30)\n",
            "(27456, 30)\n"
          ]
        }
      ]
    },
    {
      "cell_type": "code",
      "source": [
        "tenzor_Y = np.vstack ((tenzor_Y0, tenzor_Y1))\n",
        "tenzor_Y = np.vstack ((tenzor_Y, tenzor_Y2))\n",
        "tenzor_Y = np.vstack ((tenzor_Y, tenzor_Y3))\n",
        "\n",
        "tenzor_Y.shape"
      ],
      "metadata": {
        "colab": {
          "base_uri": "https://localhost:8080/"
        },
        "outputId": "000a0a3f-6701-4a7f-a136-e58f5c3d2549",
        "id": "CicS8hKv9wfW"
      },
      "execution_count": null,
      "outputs": [
        {
          "output_type": "execute_result",
          "data": {
            "text/plain": [
              "(147456, 30)"
            ]
          },
          "metadata": {},
          "execution_count": 51
        }
      ]
    },
    {
      "cell_type": "markdown",
      "source": [
        "Запишем созданный tenzor_Y на disk"
      ],
      "metadata": {
        "id": "0q5ddJSs9wfX"
      }
    },
    {
      "cell_type": "code",
      "source": [
        "np.save('/content/drive/MyDrive/Stag_2/tenzor_Ylak.npy', tenzor_Y )   # запишем np-массив tenzor_Y на disk\n"
      ],
      "metadata": {
        "id": "NDH47nyD9wfX"
      },
      "execution_count": null,
      "outputs": []
    },
    {
      "cell_type": "markdown",
      "source": [
        "Читаем tenzor_Y с diskа в NB"
      ],
      "metadata": {
        "id": "pe2djHvM9wfY"
      }
    },
    {
      "cell_type": "code",
      "source": [
        "tenzor_Y = np.load('/content/drive/MyDrive/Stag_2/tenzor_Ylak.npy')  # читаем np-массив tenzor_Y с disk в NB\n",
        "tenzor_Y.shape\n"
      ],
      "metadata": {
        "colab": {
          "base_uri": "https://localhost:8080/"
        },
        "outputId": "25021026-c62a-4c85-a0d1-a6c03fb77828",
        "id": "xvNzhsin9wfZ"
      },
      "execution_count": null,
      "outputs": [
        {
          "output_type": "execute_result",
          "data": {
            "text/plain": [
              "(147456, 30)"
            ]
          },
          "metadata": {},
          "execution_count": 53
        }
      ]
    },
    {
      "cell_type": "code",
      "source": [
        "print(type(tenzor_Y[8888,:]))\n",
        "print(tenzor_Y[8888,:].shape)\n",
        "tenzor_Y[8888,:]\n"
      ],
      "metadata": {
        "colab": {
          "base_uri": "https://localhost:8080/"
        },
        "outputId": "ad8032d3-2a77-4fc4-c1dc-633d145a1659",
        "id": "u7fWpDTT9wfa"
      },
      "execution_count": null,
      "outputs": [
        {
          "output_type": "stream",
          "name": "stdout",
          "text": [
            "<class 'numpy.ndarray'>\n",
            "(30,)\n"
          ]
        },
        {
          "output_type": "execute_result",
          "data": {
            "text/plain": [
              "array([1, 0, 0, 0, 0, 0, 0, 1, 0, 0, 0, 0, 0, 0, 0, 0, 0, 0, 1, 0, 1, 0,\n",
              "       1, 0, 0, 1, 0, 1, 0, 1])"
            ]
          },
          "metadata": {},
          "execution_count": 54
        }
      ]
    },
    {
      "cell_type": "markdown",
      "source": [
        "# Читаем tenzor_X и tenzor_Y c diska"
      ],
      "metadata": {
        "id": "6VaRaVQ32QIw"
      }
    },
    {
      "cell_type": "code",
      "source": [
        "tenzor_X = np.load('/content/drive/MyDrive/Stag_2/tenzor_Xden.npy')  # читаем np-массив tenzor_X с disk в NB\n",
        "tenzor_Y = np.load('/content/drive/MyDrive/Stag_2/tenzor_Yden.npy')  # читаем np-массив tenzor_Y с disk в NB\n",
        "\n",
        "print('Размерность tenzor_X', tenzor_X.shape)\n",
        "print('Размерность tenzor_Y', tenzor_Y.shape)\n",
        "\n",
        "n = 8564\n",
        "print('Случайный элемент из tenzor_X', tenzor_X[n,:])\n",
        "print('Случайный элемент из tenzor_Y', tenzor_Y[n,:])"
      ],
      "metadata": {
        "colab": {
          "base_uri": "https://localhost:8080/"
        },
        "outputId": "5a067368-56c5-41e3-9816-ea53fc713dbd",
        "id": "yxYxabF1Cu-b"
      },
      "execution_count": null,
      "outputs": [
        {
          "output_type": "stream",
          "name": "stdout",
          "text": [
            "Размерность tenzor_X (147456, 40)\n",
            "Размерность tenzor_Y (147456, 26)\n",
            "Случайный элемент из tenzor_X [0 1 0 0 1 0 1 0 1 0 0 1 0 0 1 0 0 0 0 0 0 0 0 0 0 0 0 0 0 1 0 0 0 0 0 1 0\n",
            " 1 1 0]\n",
            "Случайный элемент из tenzor_Y [0. 0. 0. 0. 0. 0. 0. 0. 0. 0. 0. 0. 0. 0. 0. 0. 0. 0. 0. 0. 0. 0. 0. 0.\n",
            " 0. 1.]\n"
          ]
        }
      ]
    },
    {
      "cell_type": "code",
      "source": [
        "type(tenzor_Y)"
      ],
      "metadata": {
        "colab": {
          "base_uri": "https://localhost:8080/"
        },
        "id": "lEfNeDztZIzu",
        "outputId": "64bfcc94-39e9-4953-b780-f2a9b5886d40"
      },
      "execution_count": null,
      "outputs": [
        {
          "output_type": "execute_result",
          "data": {
            "text/plain": [
              "numpy.ndarray"
            ]
          },
          "metadata": {},
          "execution_count": 56
        }
      ]
    },
    {
      "cell_type": "markdown",
      "source": [
        "## Создание обучающей, проверочной и тестовой выборки DS IMUN"
      ],
      "metadata": {
        "id": "Z8YW-KbnmkwM"
      }
    },
    {
      "cell_type": "code",
      "source": [
        "# sklearn - популярная библиотека для машинного обучения\n",
        "# train_test_split - функция разделения на обучающую и проверочную/тестовую выборку\n",
        "from sklearn.model_selection import train_test_split\n",
        "\n",
        "# Создадим обучающую и тестовую выборки\n",
        "####x_train, x_test, y_train, y_test = train_test_split(tenzor_X, tenzor_Y, test_size=0.2, shuffle=True)\n",
        "x_train, x_test, y_train, y_test = train_test_split(tenzor_X, tenzor_Y, test_size=0.2, shuffle=True)\n",
        "                         # test_size=0.2 - будет выделено 20% от тренировочных данных\n",
        "                         # shuffle=True - перемешать данные\n",
        "\n",
        "print (x_train.shape)    # x_train - данные для обучения\n",
        "print (x_test.shape)     #x_test - данные для проверки\n",
        "print (y_train.shape)    # y_train - правильные ответы для обучения\n",
        "print (y_test.shape)     # y_test - правильные ответы для проверки"
      ],
      "metadata": {
        "colab": {
          "base_uri": "https://localhost:8080/"
        },
        "id": "h8ZcxagSmjp0",
        "outputId": "a3d51ec7-ec68-454f-8bdb-f150ab90a4e6"
      },
      "execution_count": null,
      "outputs": [
        {
          "output_type": "stream",
          "name": "stdout",
          "text": [
            "(117964, 40)\n",
            "(29492, 40)\n",
            "(117964, 26)\n",
            "(29492, 26)\n"
          ]
        }
      ]
    },
    {
      "cell_type": "markdown",
      "source": [
        "# Создадим простейшую модель НС"
      ],
      "metadata": {
        "id": "w2T2wIDbWn5o"
      }
    },
    {
      "cell_type": "markdown",
      "metadata": {
        "id": "BmTr_lXTKNbN"
      },
      "source": [
        "## Вариант НС - 1\n"
      ]
    },
    {
      "cell_type": "code",
      "metadata": {
        "id": "Yi-wF-oyQd41"
      },
      "source": [
        "# Функция пересоздаёт пустую сеть\n",
        "def createModel():\n",
        "\n",
        "  # Создаем сеть\n",
        "  model_den = Sequential()\n",
        "\n",
        "  # Добавляем слои\n",
        "  model_den.add(Dense(64, input_dim = x_train.shape[1],  activation='relu' ))\n",
        "  model_den.add(Dense(32,  activation='relu'))\n",
        "  model_den.add(Dense(26, activation='sigmoid'))                  # 'threshold'\n",
        "\n",
        "  # Компилируем сеть\n",
        "  #model_den.compile(loss='binary_crossentropy', optimizer=Adam(lr=0.001), metrics=['accuracy'])\n",
        "  #model_den.compile(optimizer=Adam(learning_rate=1e-3), loss='mse', metrics=['accuracy']) # metrics=['binary_crossentropy'])'binary_crossentropy'\n",
        "  model_den.compile(loss='categorical_crossentropy', optimizer=Adam(learning_rate=1e-4), metrics=['accuracy'])\n",
        "  return model_den # Возвращаем созданную сеть"
      ],
      "execution_count": null,
      "outputs": []
    },
    {
      "cell_type": "markdown",
      "metadata": {
        "id": "bJjuTKJdKSsz"
      },
      "source": [
        "**validation_split**"
      ]
    },
    {
      "cell_type": "code",
      "metadata": {
        "id": "H6EIXu1dKoju",
        "colab": {
          "base_uri": "https://localhost:8080/"
        },
        "outputId": "20f5e686-58e5-46de-c209-2d1f506faf15"
      },
      "source": [
        "# Создаём пустую сеть\n",
        "model_den = createModel()\n",
        "\n",
        "# Обучаем сеть\n",
        "history = model_den.fit(x_train,\n",
        "          y_train,\n",
        "          batch_size=128,\n",
        "          epochs=15,\n",
        "          validation_split=0.2,    # Указываем 20% случайных примеров для проверочной выборки\n",
        "          verbose=1)\n",
        "\n",
        "# Прямо указываем данные для проверочной выборки\n",
        "# Берём от индекса 126 (x_len-n_val) до конца = 40 примеров\n",
        "#         validation_data=(x_train[x_len-n_val:], y_train[x_len-n_val:]),"
      ],
      "execution_count": null,
      "outputs": [
        {
          "output_type": "stream",
          "name": "stdout",
          "text": [
            "Epoch 1/15\n",
            "738/738 [==============================] - 3s 3ms/step - loss: 2.8443 - accuracy: 0.1806 - val_loss: 2.1847 - val_accuracy: 0.3757\n",
            "Epoch 2/15\n",
            "738/738 [==============================] - 2s 3ms/step - loss: 1.5665 - accuracy: 0.6634 - val_loss: 1.1047 - val_accuracy: 0.8060\n",
            "Epoch 3/15\n",
            "738/738 [==============================] - 4s 5ms/step - loss: 0.9070 - accuracy: 0.8208 - val_loss: 0.7795 - val_accuracy: 0.8287\n",
            "Epoch 4/15\n",
            "738/738 [==============================] - 3s 4ms/step - loss: 0.7055 - accuracy: 0.8328 - val_loss: 0.6515 - val_accuracy: 0.8359\n",
            "Epoch 5/15\n",
            "738/738 [==============================] - 2s 3ms/step - loss: 0.5993 - accuracy: 0.8409 - val_loss: 0.5598 - val_accuracy: 0.8460\n",
            "Epoch 6/15\n",
            "738/738 [==============================] - 2s 2ms/step - loss: 0.5111 - accuracy: 0.8531 - val_loss: 0.4740 - val_accuracy: 0.8601\n",
            "Epoch 7/15\n",
            "738/738 [==============================] - 2s 2ms/step - loss: 0.4268 - accuracy: 0.8663 - val_loss: 0.3900 - val_accuracy: 0.8765\n",
            "Epoch 8/15\n",
            "738/738 [==============================] - 2s 3ms/step - loss: 0.3451 - accuracy: 0.8906 - val_loss: 0.3101 - val_accuracy: 0.9047\n",
            "Epoch 9/15\n",
            "738/738 [==============================] - 2s 2ms/step - loss: 0.2709 - accuracy: 0.9247 - val_loss: 0.2402 - val_accuracy: 0.9431\n",
            "Epoch 10/15\n",
            "738/738 [==============================] - 2s 3ms/step - loss: 0.2079 - accuracy: 0.9591 - val_loss: 0.1822 - val_accuracy: 0.9712\n",
            "Epoch 11/15\n",
            "738/738 [==============================] - 3s 4ms/step - loss: 0.1578 - accuracy: 0.9751 - val_loss: 0.1381 - val_accuracy: 0.9771\n",
            "Epoch 12/15\n",
            "738/738 [==============================] - 3s 4ms/step - loss: 0.1201 - accuracy: 0.9822 - val_loss: 0.1053 - val_accuracy: 0.9867\n",
            "Epoch 13/15\n",
            "738/738 [==============================] - 2s 3ms/step - loss: 0.0924 - accuracy: 0.9895 - val_loss: 0.0816 - val_accuracy: 0.9908\n",
            "Epoch 14/15\n",
            "738/738 [==============================] - 2s 2ms/step - loss: 0.0723 - accuracy: 0.9912 - val_loss: 0.0642 - val_accuracy: 0.9921\n",
            "Epoch 15/15\n",
            "738/738 [==============================] - 2s 3ms/step - loss: 0.0575 - accuracy: 0.9924 - val_loss: 0.0515 - val_accuracy: 0.9928\n"
          ]
        }
      ]
    },
    {
      "cell_type": "markdown",
      "source": [
        "Состав словаря History"
      ],
      "metadata": {
        "id": "D_RjDTae-m2n"
      }
    },
    {
      "cell_type": "code",
      "metadata": {
        "colab": {
          "base_uri": "https://localhost:8080/"
        },
        "outputId": "33ca1a61-d021-4df0-8fd8-aef97401f55e",
        "id": "qJ35kV1U-omK"
      },
      "source": [
        "# Ключи в структуре history\n",
        "print(history.history.keys())"
      ],
      "execution_count": null,
      "outputs": [
        {
          "output_type": "stream",
          "name": "stdout",
          "text": [
            "dict_keys(['loss', 'accuracy', 'val_loss', 'val_accuracy'])\n"
          ]
        }
      ]
    },
    {
      "cell_type": "code",
      "source": [
        "# Значения точности распознавания на проверочной выборке по эпохам\n",
        "val_acc = history.history['val_accuracy']\n",
        "for i in range(len(val_acc)):\n",
        "  print(\"Эпоха: \", i, \" точность: \", round(100*val_acc[i], 1), \"%\", sep=\"\")\n",
        "  # round - округление\n",
        "  # sep=\"\" - убрать стандартный разделитель пробел при выводе строки"
      ],
      "metadata": {
        "colab": {
          "base_uri": "https://localhost:8080/"
        },
        "id": "IQomTY9Y_R9Z",
        "outputId": "71d3d7bb-88fd-425f-b0dc-545c857cb101"
      },
      "execution_count": null,
      "outputs": [
        {
          "output_type": "stream",
          "name": "stdout",
          "text": [
            "Эпоха: 0 точность: 37.6%\n",
            "Эпоха: 1 точность: 80.6%\n",
            "Эпоха: 2 точность: 82.9%\n",
            "Эпоха: 3 точность: 83.6%\n",
            "Эпоха: 4 точность: 84.6%\n",
            "Эпоха: 5 точность: 86.0%\n",
            "Эпоха: 6 точность: 87.7%\n",
            "Эпоха: 7 точность: 90.5%\n",
            "Эпоха: 8 точность: 94.3%\n",
            "Эпоха: 9 точность: 97.1%\n",
            "Эпоха: 10 точность: 97.7%\n",
            "Эпоха: 11 точность: 98.7%\n",
            "Эпоха: 12 точность: 99.1%\n",
            "Эпоха: 13 точность: 99.2%\n",
            "Эпоха: 14 точность: 99.3%\n"
          ]
        }
      ]
    },
    {
      "cell_type": "code",
      "source": [
        "# Выводим график точности на обучающей выборке\n",
        "# label - имя графика в легенде\n",
        "plt.plot(history.history['accuracy'],\n",
        "         label='Доля верных ответов на обучающем наборе')\n",
        "\n",
        "# Выводим график точности на проверочной выборке\n",
        "plt.plot(history.history['val_accuracy'],\n",
        "         label='Доля верных ответов на проверочном наборе')\n",
        "\n",
        "# Выводим подписи осей\n",
        "plt.xlabel('Эпоха обучения')\n",
        "plt.ylabel('Доля верных ответов')\n",
        "\n",
        "# Выводим легенду\n",
        "plt.legend()\n",
        "plt.show()"
      ],
      "metadata": {
        "colab": {
          "base_uri": "https://localhost:8080/",
          "height": 449
        },
        "id": "XUZyLpOt_et2",
        "outputId": "ce20807b-5010-4413-8709-69b73a3d0ef8"
      },
      "execution_count": null,
      "outputs": [
        {
          "output_type": "display_data",
          "data": {
            "text/plain": [
              "<Figure size 640x480 with 1 Axes>"
            ],
            "image/png": "[encoded data removed]"
          },
          "metadata": {}
        }
      ]
    },
    {
      "cell_type": "code",
      "source": [
        "# Графическое представление результатов работы нейросети\n",
        "#~~~~~~~~~~~~~~~~~~~~~~~~\n",
        "def printNNChart(history_n):\n",
        "  '''\n",
        "    Отображенние на графике результатов работы нейронной сети (Neural Network)\n",
        "    вход:\n",
        "        history_n: массив результатов работы нейросети\n",
        "  '''\n",
        "  # Создание полотна для рисунка\n",
        "  plt.figure(figsize=(18,5))\n",
        "\n",
        "  # Задание первой (левой) области для построения графиков\n",
        "  plt.subplot(1, 2, 1)\n",
        "  # Отрисовка графиков 'loss' и 'val_loss' из значений словаря history.history\n",
        "  plt.plot(history_n.history['loss'],\n",
        "           color='blue',\n",
        "           label = 'Значение ошибки на обучающем наборе')\n",
        "  plt.plot(history_n.history['val_loss'],\n",
        "           color='red',\n",
        "           label = 'Значение ошибки на проверочном наборе')\n",
        "  # Задание подписей осей\n",
        "  plt.xlabel('Эпоха обучения')\n",
        "  plt.ylabel('Значение ошибки')\n",
        "  plt.legend()\n",
        "  plt.grid(which = 'major', color = 'black', alpha = 0.3)\n",
        "  plt.minorticks_on()\n",
        "  plt.grid(which = 'minor', color = 'gray', linestyle = '--', alpha = 0.3)\n",
        "\n",
        "  # Задание второй (правой) области для построения графиков\n",
        "  plt.subplot(1, 2, 2)\n",
        "  # Отрисовка графиков 'accuracy' и 'val_accuracy' из значений словаря history.history\n",
        "  plt.plot(history_n.history['accuracy'],\n",
        "           color='blue',\n",
        "           label = 'Доля верных ответов на обучающем наборе')\n",
        "  plt.plot(history_n.history['val_accuracy'],\n",
        "           color='red',\n",
        "           label = 'Доля верных ответов на проверочном наборе')\n",
        "  # Задание подписей осей\n",
        "  plt.xlabel('Эпоха обучения')\n",
        "  plt.ylabel('Доля верных ответов')\n",
        "  plt.legend()\n",
        "  plt.grid(which = 'major', color = 'black', alpha = 0.3)\n",
        "  plt.minorticks_on()\n",
        "  plt.grid(which = 'minor', color = 'gray', linestyle = '--', alpha = 0.3)\n",
        "\n",
        "  # Фиксация графиков и рисование всей картинки\n",
        "  plt.show()"
      ],
      "metadata": {
        "id": "kA4SL1DiF-5l"
      },
      "execution_count": null,
      "outputs": []
    },
    {
      "cell_type": "code",
      "source": [
        "# Отобразим результаты на графике\n",
        "printNNChart(history)"
      ],
      "metadata": {
        "colab": {
          "base_uri": "https://localhost:8080/",
          "height": 465
        },
        "id": "GlVEGYHgGeOM",
        "outputId": "b1fc8c9a-9eec-4c32-a9d9-adbd3475f15c"
      },
      "execution_count": null,
      "outputs": [
        {
          "output_type": "display_data",
          "data": {
            "text/plain": [
              "<Figure size 1800x500 with 2 Axes>"
            ],
            "image/png": "[encoded data removed]"
          },
          "metadata": {}
        }
      ]
    },
    {
      "cell_type": "code",
      "source": [
        "# Запишем модель на локальный disk\n",
        "model_den.save('/content/drive/MyDrive/Stag_2/model_den.keras')\n"
      ],
      "metadata": {
        "id": "SfaAzpwzGfBi"
      },
      "execution_count": null,
      "outputs": []
    },
    {
      "cell_type": "code",
      "source": [
        "# Читаем обученую по заключениям эксперта Ден модель (model_den) с локального diskа в NB\n",
        "model_den = keras.models.load_model('/content/drive/MyDrive/Stag_2/model_den.keras')"
      ],
      "metadata": {
        "id": "rR-FHRHkFEbG"
      },
      "execution_count": null,
      "outputs": []
    },
    {
      "cell_type": "markdown",
      "metadata": {
        "id": "iEzGDbr2fuMP"
      },
      "source": [
        "## Проверяем качество обучения на тестовом наборе данных"
      ]
    },
    {
      "cell_type": "code",
      "metadata": {
        "colab": {
          "base_uri": "https://localhost:8080/"
        },
        "outputId": "6301e58b-aa59-42af-81ce-d198ba474c78",
        "id": "LsrJENIhfuMR"
      },
      "source": [
        "# Вычисляем результаты сети на тестовом наборе\n",
        "scores = model_den.evaluate(x_test, y_test, verbose=1)\n",
        "\n",
        "# scores состоит из двух знанчений\n",
        "# scores[0] - loss сети на тестовой выборке\n",
        "# scores[1] - процент правильно распознанных примеров на тестовой выборке\n",
        "print(scores)\n",
        "print(\"Доля верных ответов на тестовых данных, в процентах: \", round(scores[1] * 100, 4), \"%\", sep=\"\")"
      ],
      "execution_count": null,
      "outputs": [
        {
          "output_type": "stream",
          "name": "stdout",
          "text": [
            "922/922 [==============================] - 2s 2ms/step - loss: 0.0526 - accuracy: 0.9926\n",
            "[0.05255947634577751, 0.9925742745399475]\n",
            "Доля верных ответов на тестовых данных, в процентах: 99.2574%\n"
          ]
        }
      ]
    },
    {
      "cell_type": "markdown",
      "source": [
        "## Проверка единичных вариантов запроса"
      ],
      "metadata": {
        "id": "7iF51ReqfuMT"
      }
    },
    {
      "cell_type": "markdown",
      "source": [
        "### Сравним y_pred_n и y_test_n"
      ],
      "metadata": {
        "id": "4SLl4soQKFXE"
      }
    },
    {
      "cell_type": "code",
      "source": [
        "q = 1230\n",
        "x = x_test[q,:]             # читаем элемент из x_test\n",
        "print('Размерость переменной из xlt_test', x.shape)                 # размерость переменной из x_test\n",
        "x = np.expand_dims (x, axis=0) # приводим размерность в соответствие с форматом input_dim (n,79)\n",
        "print('Новая размерость переменной',x.shape)\n",
        "print('Подаем вектор на вход сети')\n",
        "n_test_den = model_den.predict (x, verbose=0)  # Распознаём наш пример\n",
        "print('Размерность полученного ответа',n_test_den.shape)\n",
        "print('Выходной вектор:')\n",
        "print(n_test_den, '\\n')\n",
        "\n",
        "# Подадим полученный на выходе сети вектор на дополнительную функцию активации \"порог\"\n",
        "#print('Выходной вектор после функции активации \"порог', '\\n')\n",
        "#y_pred = []\n",
        "y_true = n_test_den\n",
        "w_4567 = np.argmax(y_true)\n",
        "#w_4567 = porog (y_true)\n",
        "#w_4567 = np.reshape (w_4567, (17,))\n",
        "#print('\\n','Размерность вектора y_pred_n', w_4567.shape)\n",
        "print('Предсказанный сеткой ответ y_pred_n -', w_4567)\n",
        "\n",
        "print('Правильный ответ на запрос с номером n из y_test', y_test[q,:])\n",
        "\n",
        "#print('Результат сравнения y_pred_n и  y_test_n', '\\n')\n",
        "#print(np.greater_equal(w_4567, y_test[q,:]))"
      ],
      "metadata": {
        "colab": {
          "base_uri": "https://localhost:8080/"
        },
        "outputId": "7b6b0d1b-88f0-4a4a-bce9-267ebc1ccfec",
        "id": "QB8db73vfuMV"
      },
      "execution_count": null,
      "outputs": [
        {
          "output_type": "stream",
          "name": "stdout",
          "text": [
            "Размерость переменной из xlt_test (40,)\n",
            "Новая размерость переменной (1, 40)\n",
            "Подаем вектор на вход сети\n",
            "Размерность полученного ответа (1, 26)\n",
            "Выходной вектор:\n",
            "[[7.8468705e-03 8.0666740e-07 1.1854123e-01 2.0537188e-07 8.9834129e-10\n",
            "  9.8441517e-01 9.3597502e-01 4.5061268e-02 5.4922937e-05 9.5582206e-04\n",
            "  8.3075017e-03 1.9130898e-08 3.9791044e-02 1.3810238e-01 5.6706168e-02\n",
            "  8.4764373e-09 7.8798639e-06 2.4504227e-20 9.6277354e-08 1.7493070e-04\n",
            "  1.3835297e-12 2.2193879e-08 4.3307046e-12 1.3655340e-07 5.2711759e-05\n",
            "  1.1339939e-11]] \n",
            "\n",
            "Предсказанный сеткой ответ y_pred_n - 5\n",
            "Правильный ответ на запрос с номером n из y_test [0. 0. 0. 0. 0. 1. 0. 0. 0. 0. 0. 0. 0. 0. 0. 0. 0. 0. 0. 0. 0. 0. 0. 0.\n",
            " 0. 0.]\n"
          ]
        }
      ]
    },
    {
      "cell_type": "markdown",
      "source": [
        "### Расшифруем y_pred"
      ],
      "metadata": {
        "id": "nUypS1sNbOAb"
      }
    },
    {
      "cell_type": "markdown",
      "source": [
        "#### Подготовим необходимые переменные для расшифровки"
      ],
      "metadata": {
        "id": "PW8yok9WM0du"
      }
    },
    {
      "cell_type": "code",
      "source": [
        "just_row_den = [0,3,8,12,14,16,18,22,31]                                        # обозначим позицыи с которых начинается новый столбец в выходном векторе\n",
        "y_list_dist_den = list_dist[-8:]  # list_dist формируется функцией perevod          # из списка словарей возьмем 8-мь последних относящихся к Y\n",
        "y_list_dist_den"
      ],
      "metadata": {
        "id": "y8V5w5sxbd9i",
        "colab": {
          "base_uri": "https://localhost:8080/"
        },
        "outputId": "caa30e80-9d23-4c0e-ce18-05d801c6a1ca"
      },
      "execution_count": null,
      "outputs": [
        {
          "output_type": "execute_result",
          "data": {
            "text/plain": [
              "[{'одномоментная ХЛТ': 1,\n",
              "  'последовательная ХЛТ': 2,\n",
              "  'Симптоматическая терапия': 0},\n",
              " {'Этопозид цисплатин/карбоплатин Дурвалумаб': 2,\n",
              "  'Этопозид цисплатин': 1,\n",
              "  'пеметрексед+цисплатин': 3,\n",
              "  'этопозид+цисплатин': 4,\n",
              "  0: 0},\n",
              " {'паклитаксел+карбоплатин': 2,\n",
              "  'этопозид карбоплатин': 3,\n",
              "  'еженедельный паклитаксел+ карбоплатин': 1,\n",
              "  0: 0},\n",
              " {True: 1, False: 0},\n",
              " {False: 0, True: 1},\n",
              " {False: 0, True: 1},\n",
              " {0: 0,\n",
              "  'последовательная ХЛТ': 3,\n",
              "  'Лучевая терапия в монорежиме': 1,\n",
              "  'Симпоматическая терапия': 2},\n",
              " {'Необходима консультация хирурга на предмет возможного удаления паренхиматозного очага распада. Если невозможно - тщательная оценка риска кровотечения перед началом лучевой терапии': 6,\n",
              "  0: 0,\n",
              "  'Необходима более детальная оценка сопутствующей патологии и чем именно обусловлен статус по шкале ECOG 2. Если основным заболеванием, то предпочтение отдаем одновременной ХЛТ, если все-таки тяжесть состояния обусловлена сопутсвующей патологией, то возможно выбрать последовательный вариант ХЛТ. При выборе одновременной ХЛТ, лучше рассмотреть вариант еженедельного введения химиотерапии': 3,\n",
              "  'Необходима детальная оценка статуса по шкале ECOG. При мелкоклеточном раке чаще всего статус определяет основное заболевание, следовательно возможно начало одновременной ХЛТ, если все таки статус ECOG обусловлен сопуствующей патологией, то возможно отдать предпочтение последовательному варианту ХЛТ': 4,\n",
              "  'Необходима консультация хирурга для решения вопроса о возможной санации, в случае улучшения общего состояния пациента, возможно рассмотреть вариант проведения последовательной ХЛТ': 5,\n",
              "  'Наиболее часто при мелкоклеточном раке статус по шкале ECOG3 связан с основным заболеванием. И требует скорейшего начала химиотерапии.': 2,\n",
              "  'Большая вероятность инкурабельности больного.Детально оценить общесоматический статус для решения вопроса о возможности проведения монохимиотерапии или проведение ЛТ в монорежиме': 1,\n",
              "  'требуется дополнительная оценка статуса пациента, консультация хирурга для решения вопроса о возможной санации с последующим решением вопроса о химиотерапии. При невозможности коррекции общего состояния, рассмотреть вопрос о симптоматической терапии': 8,\n",
              "  'возможно рассмотреть вопрос ЛТ в монорежиме': 7}]"
            ]
          },
          "metadata": {},
          "execution_count": 72
        }
      ]
    },
    {
      "cell_type": "code",
      "source": [
        "y_list_den = nmic_xlt_list[11:]   # из списка названий столбцов, возьмем с 11-го до последнего, относящихся к Y\n",
        "y_list_den"
      ],
      "metadata": {
        "colab": {
          "base_uri": "https://localhost:8080/"
        },
        "id": "ICkXSSiaL-Z_",
        "outputId": "27f3a2a7-019c-4958-92d6-1a61d9a65c2f"
      },
      "execution_count": null,
      "outputs": [
        {
          "output_type": "execute_result",
          "data": {
            "text/plain": [
              "['Ответ эксперта (Ден)',\n",
              " 'Вариант ХТ',\n",
              " 'Альтернативный выбор ХТ (как компонента ХЛТ)',\n",
              " 'Поставьте галочку, если уверены на 100%',\n",
              " 'Если 75%',\n",
              " 'Если 50%',\n",
              " 'Альтернатива, если 50% - обязательно',\n",
              " 'Комментарий']"
            ]
          },
          "metadata": {},
          "execution_count": 73
        }
      ]
    },
    {
      "cell_type": "markdown",
      "source": [
        "#### Функция расшифровки выходного вектора"
      ],
      "metadata": {
        "id": "z9UVB2Z8M_V4"
      }
    },
    {
      "cell_type": "code",
      "source": [
        "def dekoder_den (q, dist_y_den, w_4567, y_list_dist_den, y_list_den, just_row_den ):\n",
        "  #str_map = dist_y[np.argmax(w_4567)]\n",
        "  print('w_4567', w_4567)\n",
        "  str_map = dist_y_den[w_4567]\n",
        "  sir = []\n",
        "  o = 0\n",
        "  kop = {}\n",
        "  w = []\n",
        "\n",
        "  for a in range (len(just_row_den)-1):    # цыкл разбора выходного вектора по столбцам\n",
        "    st = just_row_den[a]\n",
        "    sp = just_row_den[a+1]\n",
        "    sir.append(str_map[st:sp])\n",
        "  print('sir', sir)\n",
        "  print('q', q, '\\n')\n",
        "  #print('len', len(sir))\n",
        "\n",
        "  for i in range(len(sir)):     # цыкл перевода содержимого столбца в виде one_hot в цыфровой вид\n",
        "  #print(len(sir[i]))\n",
        "    sir_i = sir[i]\n",
        "    #print(sir_i)\n",
        "\n",
        "    ch = len(sir[i])-1\n",
        "    #print(len(sir[i]))\n",
        "\n",
        "    for k in range(len(sir[i])):\n",
        "      #print('ch', ch)\n",
        "      #print(sir[i][k])\n",
        "      if int(sir [i][k]) == 1:\n",
        "      #print('wwwwwwwwwwwwww',w)\n",
        "        w.append(ch)\n",
        "        #print('w',w)\n",
        "      ch = ch - 1\n",
        "#print('Выходной вектор n_test в цыфровом формате по всем столбцам', w)\n",
        "\n",
        "  for o in range(len(w)):\n",
        "    #y_list_dist[o]                                    # из списка словарей вытаскиваем очередной словарь\n",
        "    kop = {v:k for k, v in y_list_dist_den[o].items()}   # инвертируем словарь ключ\\значение значение /ключ\n",
        "    #print(kop)\n",
        "\n",
        "    print(y_list_den[o], ':', kop[w[o]])\n",
        "\n",
        "  return\n"
      ],
      "metadata": {
        "id": "rolMUteTNH84"
      },
      "execution_count": null,
      "outputs": []
    },
    {
      "cell_type": "code",
      "source": [
        "dekoder_den (q, dist_y_den, w_4567, y_list_dist_den, y_list_den, just_row_den )"
      ],
      "metadata": {
        "colab": {
          "base_uri": "https://localhost:8080/"
        },
        "id": "AVY49v9WdEkx",
        "outputId": "d4282c06-06b1-4055-a3f2-8b51926fd602"
      },
      "execution_count": null,
      "outputs": [
        {
          "output_type": "stream",
          "name": "stdout",
          "text": [
            "w_4567 5\n",
            "sir ['001', '00001', '0010', '01', '10', '10', '1000', '100000000']\n",
            "q 1230 \n",
            "\n",
            "Ответ эксперта (Ден) : Симптоматическая терапия\n",
            "Вариант ХТ : 0\n",
            "Альтернативный выбор ХТ (как компонента ХЛТ) : еженедельный паклитаксел+ карбоплатин\n",
            "Поставьте галочку, если уверены на 100% : False\n",
            "Если 75% : True\n",
            "Если 50% : True\n",
            "Альтернатива, если 50% - обязательно : последовательная ХЛТ\n",
            "Комментарий : требуется дополнительная оценка статуса пациента, консультация хирурга для решения вопроса о возможной санации с последующим решением вопроса о химиотерапии. При невозможности коррекции общего состояния, рассмотреть вопрос о симптоматической терапии\n"
          ]
        }
      ]
    }
  ],
  "metadata": {
    "colab": {
      "provenance": [],
      "toc_visible": true,
      "collapsed_sections": [
        "bha4g_pb9wfM"
      ],
      "include_colab_link": true
    },
    "kernelspec": {
      "display_name": "Python 3",
      "name": "python3"
    },
    "language_info": {
      "name": "python"
    }
  },
  "nbformat": 4,
  "nbformat_minor": 0
}